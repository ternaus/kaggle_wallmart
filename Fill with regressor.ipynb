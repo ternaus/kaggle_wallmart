{
 "metadata": {
  "name": "",
  "signature": "sha256:deae2ab7f40312e577da96882bfb06db4560f2455be3b860f176c7df3391460c"
 },
 "nbformat": 3,
 "nbformat_minor": 0,
 "worksheets": [
  {
   "cells": [
    {
     "cell_type": "markdown",
     "metadata": {},
     "source": [
      "Data has many nan values. Normally people will fill it with most common value for a classification variable or mean of some subclass for a continuous variable, but I will try to fill missed values using machine learning, treating them as target."
     ]
    },
    {
     "cell_type": "code",
     "collapsed": false,
     "input": [
      "#import fillna \n",
      "import sys\n",
      "sys.path += [\"src\"]"
     ],
     "language": "python",
     "metadata": {},
     "outputs": [],
     "prompt_number": 13
    },
    {
     "cell_type": "code",
     "collapsed": false,
     "input": [
      "import fill_na"
     ],
     "language": "python",
     "metadata": {},
     "outputs": [],
     "prompt_number": 22
    },
    {
     "cell_type": "code",
     "collapsed": false,
     "input": [
      "#import dataframe to fill"
     ],
     "language": "python",
     "metadata": {},
     "outputs": [],
     "prompt_number": 15
    },
    {
     "cell_type": "code",
     "collapsed": false,
     "input": [
      "import os\n",
      "import pandas as pd\n",
      "import numpy as np\n",
      "from sklearn.ensemble import RandomForestRegressor"
     ],
     "language": "python",
     "metadata": {},
     "outputs": [],
     "prompt_number": 16
    },
    {
     "cell_type": "code",
     "collapsed": false,
     "input": [
      "#clf = RandomForestRegressor(n_estimators=100, n_jobs=3)"
     ],
     "language": "python",
     "metadata": {},
     "outputs": [],
     "prompt_number": 17
    },
    {
     "cell_type": "code",
     "collapsed": false,
     "input": [
      "weather = pd.read_csv(os.path.join(\"data\", \"weather_modified.csv\"))"
     ],
     "language": "python",
     "metadata": {},
     "outputs": [],
     "prompt_number": 18
    },
    {
     "cell_type": "code",
     "collapsed": false,
     "input": [
      "weather_temp = weather.drop([\"station_nbr\", \"date\",], 1)"
     ],
     "language": "python",
     "metadata": {},
     "outputs": [],
     "prompt_number": 19
    },
    {
     "cell_type": "code",
     "collapsed": false,
     "input": [
      "weather_result = fill_na.fill_missed_all(weather_temp, RandomForestRegressor)"
     ],
     "language": "python",
     "metadata": {},
     "outputs": [
      {
       "output_type": "stream",
       "stream": "stdout",
       "text": [
        "filling resultdir\n",
        "filling resultspeed"
       ]
      },
      {
       "output_type": "stream",
       "stream": "stdout",
       "text": [
        "\n",
        "filling dewpoint"
       ]
      },
      {
       "output_type": "stream",
       "stream": "stdout",
       "text": [
        "\n",
        "filling preciptotal"
       ]
      },
      {
       "output_type": "stream",
       "stream": "stdout",
       "text": [
        "\n",
        "filling avgspeed"
       ]
      },
      {
       "output_type": "stream",
       "stream": "stdout",
       "text": [
        "\n",
        "filling tmax"
       ]
      },
      {
       "output_type": "stream",
       "stream": "stdout",
       "text": [
        "\n",
        "filling tmin"
       ]
      },
      {
       "output_type": "stream",
       "stream": "stdout",
       "text": [
        "\n",
        "filling stnpressure"
       ]
      },
      {
       "output_type": "stream",
       "stream": "stdout",
       "text": [
        "\n",
        "filling wetbulb"
       ]
      },
      {
       "output_type": "stream",
       "stream": "stdout",
       "text": [
        "\n",
        "filling cool"
       ]
      },
      {
       "output_type": "stream",
       "stream": "stdout",
       "text": [
        "\n",
        "filling heat"
       ]
      },
      {
       "output_type": "stream",
       "stream": "stdout",
       "text": [
        "\n",
        "filling tavg"
       ]
      },
      {
       "output_type": "stream",
       "stream": "stdout",
       "text": [
        "\n",
        "filling sealevel"
       ]
      },
      {
       "output_type": "stream",
       "stream": "stdout",
       "text": [
        "\n",
        "filling snowfall"
       ]
      },
      {
       "output_type": "stream",
       "stream": "stdout",
       "text": [
        "\n",
        "filling day_length"
       ]
      },
      {
       "output_type": "stream",
       "stream": "stdout",
       "text": [
        "\n",
        "filling depart"
       ]
      },
      {
       "output_type": "stream",
       "stream": "stdout",
       "text": [
        "\n"
       ]
      }
     ],
     "prompt_number": 24
    },
    {
     "cell_type": "code",
     "collapsed": false,
     "input": [
      "weather_temp.info()"
     ],
     "language": "python",
     "metadata": {},
     "outputs": [
      {
       "output_type": "stream",
       "stream": "stdout",
       "text": [
        "<class 'pandas.core.frame.DataFrame'>\n",
        "Int64Index: 20517 entries, 0 to 20516\n",
        "Data columns (total 46 columns):\n",
        "tmax           19611 non-null float64\n",
        "tmin           19609 non-null float64\n",
        "tavg           19048 non-null float64\n",
        "depart         9006 non-null float64\n",
        "dewpoint       19851 non-null float64\n",
        "wetbulb        19265 non-null float64\n",
        "heat           19048 non-null float64\n",
        "cool           19048 non-null float64\n",
        "snowfall       13293 non-null float64\n",
        "preciptotal    19657 non-null float64\n",
        "stnpressure    19588 non-null float64\n",
        "sealevel       18793 non-null float64\n",
        "resultspeed    19928 non-null float64\n",
        "resultdir      19928 non-null float64\n",
        "avgspeed       19642 non-null float64\n",
        "HZ             20517 non-null int64\n",
        "FU             20517 non-null int64\n",
        "UP             20517 non-null int64\n",
        "TSSN           20517 non-null int64\n",
        "VCTS           20517 non-null int64\n",
        "DZ             20517 non-null int64\n",
        "BR             20517 non-null int64\n",
        "FG             20517 non-null int64\n",
        "BCFG           20517 non-null int64\n",
        "DU             20517 non-null int64\n",
        "FZRA           20517 non-null int64\n",
        "TS             20517 non-null int64\n",
        "RA             20517 non-null int64\n",
        "PL             20517 non-null int64\n",
        "GS             20517 non-null int64\n",
        "GR             20517 non-null int64\n",
        "FZDZ           20517 non-null int64\n",
        "VCFG           20517 non-null int64\n",
        "PRFG           20517 non-null int64\n",
        "FG+            20517 non-null int64\n",
        "TSRA           20517 non-null int64\n",
        "FZFG           20517 non-null int64\n",
        "BLDU           20517 non-null int64\n",
        "MIFG           20517 non-null int64\n",
        "SQ             20517 non-null int64\n",
        "BLSN           20517 non-null int64\n",
        "SN             20517 non-null int64\n",
        "SG             20517 non-null int64\n",
        "month          20517 non-null int64\n",
        "day            20517 non-null int64\n",
        "day_length     10861 non-null float64\n",
        "dtypes: float64(16), int64(30)"
       ]
      }
     ],
     "prompt_number": 20
    },
    {
     "cell_type": "code",
     "collapsed": false,
     "input": [
      "weather_result[\"station_nbr\"] = weather[\"station_nbr\"]"
     ],
     "language": "python",
     "metadata": {},
     "outputs": [],
     "prompt_number": 29
    },
    {
     "cell_type": "code",
     "collapsed": false,
     "input": [
      "weather_result[\"date\"] = weather[\"date\"]"
     ],
     "language": "python",
     "metadata": {},
     "outputs": [],
     "prompt_number": 30
    },
    {
     "cell_type": "code",
     "collapsed": false,
     "input": [
      "#save to file\n",
      "weather_result.to_csv(os.path.join(\"data\", \"weather_filled_rf.csv\"), index=False)"
     ],
     "language": "python",
     "metadata": {},
     "outputs": [],
     "prompt_number": 33
    },
    {
     "cell_type": "code",
     "collapsed": false,
     "input": [],
     "language": "python",
     "metadata": {},
     "outputs": []
    }
   ],
   "metadata": {}
  }
 ]
}