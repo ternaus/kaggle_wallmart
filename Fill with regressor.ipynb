{
 "metadata": {
  "name": "",
  "signature": "sha256:a06ddbf399b33d3974e26e43a5bd12788065968fcfdfdbc0957a0e014f4f7869"
 },
 "nbformat": 3,
 "nbformat_minor": 0,
 "worksheets": [
  {
   "cells": [
    {
     "cell_type": "markdown",
     "metadata": {},
     "source": [
      "Data has many nan values. Normally people will fill it with most common value for a classification variable or mean of some subclass for a continuous variable, but I will try to fill missed values using machine learning, treating them as target."
     ]
    },
    {
     "cell_type": "code",
     "collapsed": false,
     "input": [
      "#import fillna \n",
      "import sys\n",
      "sys.path += [\"src\"]\n",
      "import graphlab as gl"
     ],
     "language": "python",
     "metadata": {},
     "outputs": [],
     "prompt_number": 20
    },
    {
     "cell_type": "code",
     "collapsed": false,
     "input": [
      "import fill_na_graphlab"
     ],
     "language": "python",
     "metadata": {},
     "outputs": [],
     "prompt_number": 2
    },
    {
     "cell_type": "code",
     "collapsed": false,
     "input": [
      "#import dataframe to fill"
     ],
     "language": "python",
     "metadata": {},
     "outputs": [],
     "prompt_number": 25
    },
    {
     "cell_type": "code",
     "collapsed": false,
     "input": [
      "import os\n",
      "import pandas as pd\n",
      "import numpy as np\n",
      "# from sklearn.ensemble import RandomForestRegressor"
     ],
     "language": "python",
     "metadata": {},
     "outputs": [],
     "prompt_number": 3
    },
    {
     "cell_type": "code",
     "collapsed": false,
     "input": [
      "#clf = RandomForestRegressor(n_estimators=100, n_jobs=3)"
     ],
     "language": "python",
     "metadata": {},
     "outputs": [],
     "prompt_number": 4
    },
    {
     "cell_type": "code",
     "collapsed": false,
     "input": [
      "weather = pd.read_csv(os.path.join(\"data\", \"weather_modified_2.csv\"))"
     ],
     "language": "python",
     "metadata": {},
     "outputs": [],
     "prompt_number": 5
    },
    {
     "cell_type": "code",
     "collapsed": false,
     "input": [
      "weather_temp = weather.drop([\"date\", \"TSSN\"], 1)"
     ],
     "language": "python",
     "metadata": {},
     "outputs": [],
     "prompt_number": 6
    },
    {
     "cell_type": "code",
     "collapsed": false,
     "input": [
      "weather_temp.head()"
     ],
     "language": "python",
     "metadata": {},
     "outputs": [
      {
       "html": [
        "<div style=\"max-height:1000px;max-width:1500px;overflow:auto;\">\n",
        "<table border=\"1\" class=\"dataframe\">\n",
        "  <thead>\n",
        "    <tr style=\"text-align: right;\">\n",
        "      <th></th>\n",
        "      <th>station_nbr</th>\n",
        "      <th>tmax</th>\n",
        "      <th>tmin</th>\n",
        "      <th>tavg</th>\n",
        "      <th>depart</th>\n",
        "      <th>dewpoint</th>\n",
        "      <th>wetbulb</th>\n",
        "      <th>heat</th>\n",
        "      <th>cool</th>\n",
        "      <th>snowfall</th>\n",
        "      <th>...</th>\n",
        "      <th>BLSN</th>\n",
        "      <th>SN</th>\n",
        "      <th>SG</th>\n",
        "      <th>month</th>\n",
        "      <th>day</th>\n",
        "      <th>day_length</th>\n",
        "      <th>sunset_hour</th>\n",
        "      <th>sunset_minute</th>\n",
        "      <th>sunrise_hour</th>\n",
        "      <th>sunrise_minute</th>\n",
        "    </tr>\n",
        "  </thead>\n",
        "  <tbody>\n",
        "    <tr>\n",
        "      <th>0</th>\n",
        "      <td> 1</td>\n",
        "      <td> 52</td>\n",
        "      <td> 31</td>\n",
        "      <td> 42</td>\n",
        "      <td>NaN</td>\n",
        "      <td> 36</td>\n",
        "      <td> 40</td>\n",
        "      <td> 23</td>\n",
        "      <td> 0</td>\n",
        "      <td>NaN</td>\n",
        "      <td>...</td>\n",
        "      <td> 0</td>\n",
        "      <td> 0</td>\n",
        "      <td> 0</td>\n",
        "      <td> 1</td>\n",
        "      <td> 1</td>\n",
        "      <td> NaN</td>\n",
        "      <td>NaN</td>\n",
        "      <td>NaN</td>\n",
        "      <td>NaN</td>\n",
        "      <td>NaN</td>\n",
        "    </tr>\n",
        "    <tr>\n",
        "      <th>1</th>\n",
        "      <td> 2</td>\n",
        "      <td> 48</td>\n",
        "      <td> 33</td>\n",
        "      <td> 41</td>\n",
        "      <td> 16</td>\n",
        "      <td> 37</td>\n",
        "      <td> 39</td>\n",
        "      <td> 24</td>\n",
        "      <td> 0</td>\n",
        "      <td>  0</td>\n",
        "      <td>...</td>\n",
        "      <td> 0</td>\n",
        "      <td> 0</td>\n",
        "      <td> 0</td>\n",
        "      <td> 1</td>\n",
        "      <td> 1</td>\n",
        "      <td> 550</td>\n",
        "      <td> 16</td>\n",
        "      <td> 26</td>\n",
        "      <td>  7</td>\n",
        "      <td> 16</td>\n",
        "    </tr>\n",
        "    <tr>\n",
        "      <th>2</th>\n",
        "      <td> 3</td>\n",
        "      <td> 55</td>\n",
        "      <td> 34</td>\n",
        "      <td> 45</td>\n",
        "      <td>  9</td>\n",
        "      <td> 24</td>\n",
        "      <td> 36</td>\n",
        "      <td> 20</td>\n",
        "      <td> 0</td>\n",
        "      <td>  0</td>\n",
        "      <td>...</td>\n",
        "      <td> 0</td>\n",
        "      <td> 0</td>\n",
        "      <td> 0</td>\n",
        "      <td> 1</td>\n",
        "      <td> 1</td>\n",
        "      <td> 585</td>\n",
        "      <td> 17</td>\n",
        "      <td> 20</td>\n",
        "      <td>  7</td>\n",
        "      <td> 35</td>\n",
        "    </tr>\n",
        "    <tr>\n",
        "      <th>3</th>\n",
        "      <td> 4</td>\n",
        "      <td> 63</td>\n",
        "      <td> 47</td>\n",
        "      <td> 55</td>\n",
        "      <td>  4</td>\n",
        "      <td> 28</td>\n",
        "      <td> 43</td>\n",
        "      <td> 10</td>\n",
        "      <td> 0</td>\n",
        "      <td>  0</td>\n",
        "      <td>...</td>\n",
        "      <td> 0</td>\n",
        "      <td> 0</td>\n",
        "      <td> 0</td>\n",
        "      <td> 1</td>\n",
        "      <td> 1</td>\n",
        "      <td> 614</td>\n",
        "      <td> 17</td>\n",
        "      <td> 42</td>\n",
        "      <td>  7</td>\n",
        "      <td> 28</td>\n",
        "    </tr>\n",
        "    <tr>\n",
        "      <th>4</th>\n",
        "      <td> 6</td>\n",
        "      <td> 63</td>\n",
        "      <td> 34</td>\n",
        "      <td> 49</td>\n",
        "      <td>  0</td>\n",
        "      <td> 31</td>\n",
        "      <td> 43</td>\n",
        "      <td> 16</td>\n",
        "      <td> 0</td>\n",
        "      <td>  0</td>\n",
        "      <td>...</td>\n",
        "      <td> 0</td>\n",
        "      <td> 0</td>\n",
        "      <td> 0</td>\n",
        "      <td> 1</td>\n",
        "      <td> 1</td>\n",
        "      <td> 615</td>\n",
        "      <td> 17</td>\n",
        "      <td> 42</td>\n",
        "      <td>  7</td>\n",
        "      <td> 27</td>\n",
        "    </tr>\n",
        "  </tbody>\n",
        "</table>\n",
        "<p>5 rows \u00d7 50 columns</p>\n",
        "</div>"
       ],
       "metadata": {},
       "output_type": "pyout",
       "prompt_number": 7,
       "text": [
        "   station_nbr  tmax  tmin  tavg  depart  dewpoint  wetbulb  heat  cool  \\\n",
        "0            1    52    31    42     NaN        36       40    23     0   \n",
        "1            2    48    33    41      16        37       39    24     0   \n",
        "2            3    55    34    45       9        24       36    20     0   \n",
        "3            4    63    47    55       4        28       43    10     0   \n",
        "4            6    63    34    49       0        31       43    16     0   \n",
        "\n",
        "   snowfall    ...     BLSN  SN  SG  month  day  day_length  sunset_hour  \\\n",
        "0       NaN    ...        0   0   0      1    1         NaN          NaN   \n",
        "1         0    ...        0   0   0      1    1         550           16   \n",
        "2         0    ...        0   0   0      1    1         585           17   \n",
        "3         0    ...        0   0   0      1    1         614           17   \n",
        "4         0    ...        0   0   0      1    1         615           17   \n",
        "\n",
        "   sunset_minute  sunrise_hour  sunrise_minute  \n",
        "0            NaN           NaN             NaN  \n",
        "1             26             7              16  \n",
        "2             20             7              35  \n",
        "3             42             7              28  \n",
        "4             42             7              27  \n",
        "\n",
        "[5 rows x 50 columns]"
       ]
      }
     ],
     "prompt_number": 7
    },
    {
     "cell_type": "code",
     "collapsed": false,
     "input": [
      "weather.var()"
     ],
     "language": "python",
     "metadata": {},
     "outputs": [
      {
       "metadata": {},
       "output_type": "pyout",
       "prompt_number": 8,
       "text": [
        "station_nbr          33.275974\n",
        "tmax                393.921316\n",
        "tmin                366.303442\n",
        "tavg                368.423355\n",
        "depart               58.472925\n",
        "dewpoint            376.379194\n",
        "wetbulb             289.604567\n",
        "heat                191.652813\n",
        "cool                 61.384033\n",
        "snowfall              0.249653\n",
        "preciptotal           0.118138\n",
        "stnpressure           1.551055\n",
        "sealevel              0.036532\n",
        "resultspeed          17.577701\n",
        "resultdir            93.618431\n",
        "avgspeed             15.472094\n",
        "HZ                    0.067018\n",
        "FU                    0.001606\n",
        "UP                    0.011085\n",
        "TSSN                  0.000438\n",
        "VCTS                  0.026919\n",
        "DZ                    0.023638\n",
        "BR                    0.213887\n",
        "FG                    0.059648\n",
        "BCFG                  0.005381\n",
        "DU                    0.001363\n",
        "FZRA                  0.006056\n",
        "TS                    0.083557\n",
        "RA                    0.192189\n",
        "PL                    0.000974\n",
        "GS                    0.000244\n",
        "GR                    0.000146\n",
        "FZDZ                  0.001606\n",
        "VCFG                  0.000146\n",
        "PRFG                  0.000049\n",
        "FG+                   0.039133\n",
        "TSRA                  0.049958\n",
        "FZFG                  0.010131\n",
        "BLDU                  0.000682\n",
        "MIFG                  0.002528\n",
        "SQ                    0.000682\n",
        "BLSN                  0.002237\n",
        "SN                    0.046719\n",
        "SG                    0.000049\n",
        "month                11.032014\n",
        "day                  77.459691\n",
        "day_length        10120.342104\n",
        "sunset_hour           0.900232\n",
        "sunset_minute       243.186374\n",
        "sunrise_hour          0.880479\n",
        "sunrise_minute      259.019909\n",
        "Length: 51, dtype: float64"
       ]
      }
     ],
     "prompt_number": 8
    },
    {
     "cell_type": "code",
     "collapsed": false,
     "input": [
      "for column in weather.columns:\n",
      "    if sum(weather[column].isnull()) > 0:\n",
      "        print column"
     ],
     "language": "python",
     "metadata": {},
     "outputs": [
      {
       "output_type": "stream",
       "stream": "stdout",
       "text": [
        "tmax\n",
        "tmin"
       ]
      },
      {
       "output_type": "stream",
       "stream": "stdout",
       "text": [
        "\n",
        "tavg"
       ]
      },
      {
       "output_type": "stream",
       "stream": "stdout",
       "text": [
        "\n",
        "depart"
       ]
      },
      {
       "output_type": "stream",
       "stream": "stdout",
       "text": [
        "\n",
        "dewpoint"
       ]
      },
      {
       "output_type": "stream",
       "stream": "stdout",
       "text": [
        "\n",
        "wetbulb"
       ]
      },
      {
       "output_type": "stream",
       "stream": "stdout",
       "text": [
        "\n",
        "heat"
       ]
      },
      {
       "output_type": "stream",
       "stream": "stdout",
       "text": [
        "\n",
        "cool"
       ]
      },
      {
       "output_type": "stream",
       "stream": "stdout",
       "text": [
        "\n",
        "snowfall"
       ]
      },
      {
       "output_type": "stream",
       "stream": "stdout",
       "text": [
        "\n",
        "preciptotal"
       ]
      },
      {
       "output_type": "stream",
       "stream": "stdout",
       "text": [
        "\n",
        "stnpressure"
       ]
      },
      {
       "output_type": "stream",
       "stream": "stdout",
       "text": [
        "\n",
        "sealevel"
       ]
      },
      {
       "output_type": "stream",
       "stream": "stdout",
       "text": [
        "\n",
        "resultspeed"
       ]
      },
      {
       "output_type": "stream",
       "stream": "stdout",
       "text": [
        "\n",
        "resultdir"
       ]
      },
      {
       "output_type": "stream",
       "stream": "stdout",
       "text": [
        "\n",
        "avgspeed"
       ]
      },
      {
       "output_type": "stream",
       "stream": "stdout",
       "text": [
        "\n",
        "day_length"
       ]
      },
      {
       "output_type": "stream",
       "stream": "stdout",
       "text": [
        "\n"
       ]
      }
     ],
     "prompt_number": 12
    },
    {
     "cell_type": "code",
     "collapsed": false,
     "input": [
      "weather = weather.drop([\"sunset_hour\", \"sunrise_hour\", \"sunset_minute\", \"sunrise_minute\"], 1)"
     ],
     "language": "python",
     "metadata": {},
     "outputs": [],
     "prompt_number": 11
    },
    {
     "cell_type": "code",
     "collapsed": false,
     "input": [
      "temp = pd.DataFrame()\n",
      "for column in weather.columns:\n",
      "    a = weather[column].isnull().astype(int)\n",
      "    if sum(a) > 0:\n",
      "        temp[column + 'NaN'] = a"
     ],
     "language": "python",
     "metadata": {},
     "outputs": [],
     "prompt_number": 15
    },
    {
     "cell_type": "code",
     "collapsed": false,
     "input": [
      "list(weather.columns)"
     ],
     "language": "python",
     "metadata": {},
     "outputs": [
      {
       "metadata": {},
       "output_type": "pyout",
       "prompt_number": 22,
       "text": [
        "['station_nbr',\n",
        " 'date',\n",
        " 'tmax',\n",
        " 'tmin',\n",
        " 'tavg',\n",
        " 'depart',\n",
        " 'dewpoint',\n",
        " 'wetbulb',\n",
        " 'heat',\n",
        " 'cool',\n",
        " 'snowfall',\n",
        " 'preciptotal',\n",
        " 'stnpressure',\n",
        " 'sealevel',\n",
        " 'resultspeed',\n",
        " 'resultdir',\n",
        " 'avgspeed',\n",
        " 'HZ',\n",
        " 'FU',\n",
        " 'UP',\n",
        " 'TSSN',\n",
        " 'VCTS',\n",
        " 'DZ',\n",
        " 'BR',\n",
        " 'FG',\n",
        " 'BCFG',\n",
        " 'DU',\n",
        " 'FZRA',\n",
        " 'TS',\n",
        " 'RA',\n",
        " 'PL',\n",
        " 'GS',\n",
        " 'GR',\n",
        " 'FZDZ',\n",
        " 'VCFG',\n",
        " 'PRFG',\n",
        " 'FG+',\n",
        " 'TSRA',\n",
        " 'FZFG',\n",
        " 'BLDU',\n",
        " 'MIFG',\n",
        " 'SQ',\n",
        " 'BLSN',\n",
        " 'SN',\n",
        " 'SG',\n",
        " 'month',\n",
        " 'day',\n",
        " 'day_length']"
       ]
      }
     ],
     "prompt_number": 22
    },
    {
     "cell_type": "code",
     "collapsed": false,
     "input": [
      "features = ['tmax',\n",
      " 'tmin',\n",
      " 'tavg',\n",
      " 'depart',\n",
      " 'dewpoint',\n",
      " 'wetbulb',\n",
      " 'heat',\n",
      " 'cool',\n",
      " 'snowfall',\n",
      " 'preciptotal',\n",
      " 'stnpressure',\n",
      " 'sealevel',\n",
      " 'resultspeed',\n",
      " 'resultdir',\n",
      " 'avgspeed',\n",
      " 'HZ',\n",
      " 'FU',\n",
      " 'UP',\n",
      "#  'TSSN',\n",
      " 'VCTS',\n",
      " 'DZ',\n",
      " 'BR',\n",
      " 'FG',\n",
      " 'BCFG',\n",
      " 'DU',\n",
      " 'FZRA',\n",
      " 'TS',\n",
      " 'RA',\n",
      " 'PL',\n",
      " 'GS',\n",
      " 'GR',\n",
      " 'FZDZ',\n",
      " 'VCFG',\n",
      " 'PRFG',\n",
      " 'FG+',\n",
      " 'TSRA',\n",
      " 'FZFG',\n",
      " 'BLDU',\n",
      " 'MIFG',\n",
      " 'SQ',\n",
      " 'BLSN',\n",
      " 'SN',\n",
      " 'SG',\n",
      " 'month',\n",
      " 'day',\n",
      " 'day_length']"
     ],
     "language": "python",
     "metadata": {},
     "outputs": [],
     "prompt_number": 32
    },
    {
     "cell_type": "code",
     "collapsed": false,
     "input": [
      "a = gl.SFrame(weather_temp)\n",
      "for column in a.column_names():\n",
      "    a[column] = a[column].fillna(np.nan)"
     ],
     "language": "python",
     "metadata": {},
     "outputs": [],
     "prompt_number": 33
    },
    {
     "cell_type": "code",
     "collapsed": false,
     "input": [
      "reload(fill_na_graphlab)\n",
      "\n",
      "weather_result = fill_na_graphlab.fill_missed_all(a, features, verbose=True)"
     ],
     "language": "python",
     "metadata": {},
     "outputs": [
      {
       "output_type": "stream",
       "stream": "stdout",
       "text": [
        "tmax 906\n",
        "tmin"
       ]
      },
      {
       "output_type": "stream",
       "stream": "stdout",
       "text": [
        " 908\n",
        "tavg"
       ]
      },
      {
       "output_type": "stream",
       "stream": "stdout",
       "text": [
        " 1469\n",
        "depart"
       ]
      },
      {
       "output_type": "stream",
       "stream": "stdout",
       "text": [
        " 11511\n",
        "dewpoint"
       ]
      },
      {
       "output_type": "stream",
       "stream": "stdout",
       "text": [
        " 666\n",
        "wetbulb"
       ]
      },
      {
       "output_type": "stream",
       "stream": "stdout",
       "text": [
        " 1252\n",
        "heat"
       ]
      },
      {
       "output_type": "stream",
       "stream": "stdout",
       "text": [
        " 1469\n",
        "cool"
       ]
      },
      {
       "output_type": "stream",
       "stream": "stdout",
       "text": [
        " 1469\n",
        "snowfall"
       ]
      },
      {
       "output_type": "stream",
       "stream": "stdout",
       "text": [
        " 7224\n",
        "preciptotal"
       ]
      },
      {
       "output_type": "stream",
       "stream": "stdout",
       "text": [
        " 860\n",
        "stnpressure"
       ]
      },
      {
       "output_type": "stream",
       "stream": "stdout",
       "text": [
        " 929\n",
        "sealevel"
       ]
      },
      {
       "output_type": "stream",
       "stream": "stdout",
       "text": [
        " 1724\n",
        "resultspeed"
       ]
      },
      {
       "output_type": "stream",
       "stream": "stdout",
       "text": [
        " 589\n",
        "resultdir"
       ]
      },
      {
       "output_type": "stream",
       "stream": "stdout",
       "text": [
        " 589\n",
        "avgspeed"
       ]
      },
      {
       "output_type": "stream",
       "stream": "stdout",
       "text": [
        " 875\n",
        "HZ"
       ]
      },
      {
       "output_type": "stream",
       "stream": "stdout",
       "text": [
        " 0\n",
        "FU"
       ]
      },
      {
       "output_type": "stream",
       "stream": "stdout",
       "text": [
        " 0\n",
        "UP"
       ]
      },
      {
       "output_type": "stream",
       "stream": "stdout",
       "text": [
        " 0\n",
        "VCTS"
       ]
      },
      {
       "output_type": "stream",
       "stream": "stdout",
       "text": [
        " 0\n",
        "DZ"
       ]
      },
      {
       "output_type": "stream",
       "stream": "stdout",
       "text": [
        " 0\n",
        "BR"
       ]
      },
      {
       "output_type": "stream",
       "stream": "stdout",
       "text": [
        " 0\n",
        "FG"
       ]
      },
      {
       "output_type": "stream",
       "stream": "stdout",
       "text": [
        " 0\n",
        "BCFG"
       ]
      },
      {
       "output_type": "stream",
       "stream": "stdout",
       "text": [
        " 0\n",
        "DU"
       ]
      },
      {
       "output_type": "stream",
       "stream": "stdout",
       "text": [
        " 0\n",
        "FZRA"
       ]
      },
      {
       "output_type": "stream",
       "stream": "stdout",
       "text": [
        " 0\n",
        "TS"
       ]
      },
      {
       "output_type": "stream",
       "stream": "stdout",
       "text": [
        " 0\n",
        "RA"
       ]
      },
      {
       "output_type": "stream",
       "stream": "stdout",
       "text": [
        " 0\n",
        "PL"
       ]
      },
      {
       "output_type": "stream",
       "stream": "stdout",
       "text": [
        " 0\n",
        "GS"
       ]
      },
      {
       "output_type": "stream",
       "stream": "stdout",
       "text": [
        " 0\n",
        "GR"
       ]
      },
      {
       "output_type": "stream",
       "stream": "stdout",
       "text": [
        " 0\n",
        "FZDZ"
       ]
      },
      {
       "output_type": "stream",
       "stream": "stdout",
       "text": [
        " 0\n",
        "VCFG"
       ]
      },
      {
       "output_type": "stream",
       "stream": "stdout",
       "text": [
        " 0\n",
        "PRFG"
       ]
      },
      {
       "output_type": "stream",
       "stream": "stdout",
       "text": [
        " 0\n",
        "FG+"
       ]
      },
      {
       "output_type": "stream",
       "stream": "stdout",
       "text": [
        " 0\n",
        "TSRA"
       ]
      },
      {
       "output_type": "stream",
       "stream": "stdout",
       "text": [
        " 0\n",
        "FZFG"
       ]
      },
      {
       "output_type": "stream",
       "stream": "stdout",
       "text": [
        " 0\n",
        "BLDU"
       ]
      },
      {
       "output_type": "stream",
       "stream": "stdout",
       "text": [
        " 0\n",
        "MIFG"
       ]
      },
      {
       "output_type": "stream",
       "stream": "stdout",
       "text": [
        " 0\n",
        "SQ"
       ]
      },
      {
       "output_type": "stream",
       "stream": "stdout",
       "text": [
        " 0\n",
        "BLSN"
       ]
      },
      {
       "output_type": "stream",
       "stream": "stdout",
       "text": [
        " 0\n",
        "SN"
       ]
      },
      {
       "output_type": "stream",
       "stream": "stdout",
       "text": [
        " 0\n",
        "SG"
       ]
      },
      {
       "output_type": "stream",
       "stream": "stdout",
       "text": [
        " 0\n",
        "month"
       ]
      },
      {
       "output_type": "stream",
       "stream": "stdout",
       "text": [
        " 0\n",
        "day"
       ]
      },
      {
       "output_type": "stream",
       "stream": "stdout",
       "text": [
        " 0\n",
        "day_length"
       ]
      },
      {
       "html": [
        "<pre>PROGRESS: Boosted trees regression:</pre>"
       ],
       "metadata": {},
       "output_type": "display_data",
       "text": [
        "PROGRESS: Boosted trees regression:"
       ]
      },
      {
       "html": [
        "<pre>PROGRESS: --------------------------------------------------------</pre>"
       ],
       "metadata": {},
       "output_type": "display_data",
       "text": [
        "PROGRESS: --------------------------------------------------------"
       ]
      },
      {
       "html": [
        "<pre>PROGRESS: Number of examples          : 19928</pre>"
       ],
       "metadata": {},
       "output_type": "display_data",
       "text": [
        "PROGRESS: Number of examples          : 19928"
       ]
      },
      {
       "html": [
        "<pre>PROGRESS: Number of features          : 29</pre>"
       ],
       "metadata": {},
       "output_type": "display_data",
       "text": [
        "PROGRESS: Number of features          : 29"
       ]
      },
      {
       "html": [
        "<pre>PROGRESS: Number of unpacked features : 29</pre>"
       ],
       "metadata": {},
       "output_type": "display_data",
       "text": [
        "PROGRESS: Number of unpacked features : 29"
       ]
      },
      {
       "html": [
        "<pre>PROGRESS: Starting Boosted Trees</pre>"
       ],
       "metadata": {},
       "output_type": "display_data",
       "text": [
        "PROGRESS: Starting Boosted Trees"
       ]
      },
      {
       "html": [
        "<pre>PROGRESS: --------------------------------------------------------</pre>"
       ],
       "metadata": {},
       "output_type": "display_data",
       "text": [
        "PROGRESS: --------------------------------------------------------"
       ]
      },
      {
       "html": [
        "<pre>PROGRESS:   Iter        RMSE Elapsed time</pre>"
       ],
       "metadata": {},
       "output_type": "display_data",
       "text": [
        "PROGRESS:   Iter        RMSE Elapsed time"
       ]
      },
      {
       "html": [
        "<pre>PROGRESS:      0   1.593e+01        0.38s</pre>"
       ],
       "metadata": {},
       "output_type": "display_data",
       "text": [
        "PROGRESS:      0   1.593e+01        0.38s"
       ]
      },
      {
       "html": [
        "<pre>PROGRESS:      1   1.299e+01        0.57s</pre>"
       ],
       "metadata": {},
       "output_type": "display_data",
       "text": [
        "PROGRESS:      1   1.299e+01        0.57s"
       ]
      },
      {
       "html": [
        "<pre>PROGRESS:      2   1.126e+01        0.87s</pre>"
       ],
       "metadata": {},
       "output_type": "display_data",
       "text": [
        "PROGRESS:      2   1.126e+01        0.87s"
       ]
      },
      {
       "html": [
        "<pre>PROGRESS:      3   1.029e+01        1.17s</pre>"
       ],
       "metadata": {},
       "output_type": "display_data",
       "text": [
        "PROGRESS:      3   1.029e+01        1.17s"
       ]
      },
      {
       "html": [
        "<pre>PROGRESS:      4   9.770e+00        1.49s</pre>"
       ],
       "metadata": {},
       "output_type": "display_data",
       "text": [
        "PROGRESS:      4   9.770e+00        1.49s"
       ]
      },
      {
       "html": [
        "<pre>PROGRESS:      5   9.484e+00        1.76s</pre>"
       ],
       "metadata": {},
       "output_type": "display_data",
       "text": [
        "PROGRESS:      5   9.484e+00        1.76s"
       ]
      },
      {
       "html": [
        "<pre>PROGRESS:      6   9.336e+00        2.05s</pre>"
       ],
       "metadata": {},
       "output_type": "display_data",
       "text": [
        "PROGRESS:      6   9.336e+00        2.05s"
       ]
      },
      {
       "html": [
        "<pre>PROGRESS:      7   9.255e+00        2.28s</pre>"
       ],
       "metadata": {},
       "output_type": "display_data",
       "text": [
        "PROGRESS:      7   9.255e+00        2.28s"
       ]
      },
      {
       "html": [
        "<pre>PROGRESS:      8   9.212e+00        2.53s</pre>"
       ],
       "metadata": {},
       "output_type": "display_data",
       "text": [
        "PROGRESS:      8   9.212e+00        2.53s"
       ]
      },
      {
       "html": [
        "<pre>PROGRESS:      9   9.174e+00        2.78s</pre>"
       ],
       "metadata": {},
       "output_type": "display_data",
       "text": [
        "PROGRESS:      9   9.174e+00        2.78s"
       ]
      },
      {
       "output_type": "stream",
       "stream": "stdout",
       "text": [
        " 9656\n",
        "['HZ', 'FU', 'UP', 'VCTS', 'DZ', 'BR', 'FG', 'BCFG', 'DU', 'FZRA', 'TS', 'RA', 'PL', 'GS', 'GR', 'FZDZ', 'VCFG', 'PRFG', 'FG+', 'TSRA', 'FZFG', 'BLDU', 'MIFG', 'SQ', 'BLSN', 'SN', 'SG', 'month', 'day']\n",
        "filling resultdir na = 589\n"
       ]
      },
      {
       "html": [
        "<pre>PROGRESS: Boosted trees regression:</pre>"
       ],
       "metadata": {},
       "output_type": "display_data",
       "text": [
        "PROGRESS: Boosted trees regression:"
       ]
      },
      {
       "html": [
        "<pre>PROGRESS: --------------------------------------------------------</pre>"
       ],
       "metadata": {},
       "output_type": "display_data",
       "text": [
        "PROGRESS: --------------------------------------------------------"
       ]
      },
      {
       "html": [
        "<pre>PROGRESS: Number of examples          : 19928</pre>"
       ],
       "metadata": {},
       "output_type": "display_data",
       "text": [
        "PROGRESS: Number of examples          : 19928"
       ]
      },
      {
       "html": [
        "<pre>PROGRESS: Number of features          : 31</pre>"
       ],
       "metadata": {},
       "output_type": "display_data",
       "text": [
        "PROGRESS: Number of features          : 31"
       ]
      },
      {
       "html": [
        "<pre>PROGRESS: Number of unpacked features : 31</pre>"
       ],
       "metadata": {},
       "output_type": "display_data",
       "text": [
        "PROGRESS: Number of unpacked features : 31"
       ]
      },
      {
       "html": [
        "<pre>PROGRESS: Starting Boosted Trees</pre>"
       ],
       "metadata": {},
       "output_type": "display_data",
       "text": [
        "PROGRESS: Starting Boosted Trees"
       ]
      },
      {
       "html": [
        "<pre>PROGRESS: --------------------------------------------------------</pre>"
       ],
       "metadata": {},
       "output_type": "display_data",
       "text": [
        "PROGRESS: --------------------------------------------------------"
       ]
      },
      {
       "html": [
        "<pre>PROGRESS:   Iter        RMSE Elapsed time</pre>"
       ],
       "metadata": {},
       "output_type": "display_data",
       "text": [
        "PROGRESS:   Iter        RMSE Elapsed time"
       ]
      },
      {
       "html": [
        "<pre>PROGRESS:      0   5.796e+00        0.38s</pre>"
       ],
       "metadata": {},
       "output_type": "display_data",
       "text": [
        "PROGRESS:      0   5.796e+00        0.38s"
       ]
      },
      {
       "html": [
        "<pre>PROGRESS:      1   4.885e+00        0.68s</pre>"
       ],
       "metadata": {},
       "output_type": "display_data",
       "text": [
        "PROGRESS:      1   4.885e+00        0.68s"
       ]
      },
      {
       "html": [
        "<pre>PROGRESS:      2   4.357e+00        0.96s</pre>"
       ],
       "metadata": {},
       "output_type": "display_data",
       "text": [
        "PROGRESS:      2   4.357e+00        0.96s"
       ]
      },
      {
       "html": [
        "<pre>PROGRESS:      3   4.064e+00        1.21s</pre>"
       ],
       "metadata": {},
       "output_type": "display_data",
       "text": [
        "PROGRESS:      3   4.064e+00        1.21s"
       ]
      },
      {
       "html": [
        "<pre>PROGRESS:      4   3.898e+00        1.53s</pre>"
       ],
       "metadata": {},
       "output_type": "display_data",
       "text": [
        "PROGRESS:      4   3.898e+00        1.53s"
       ]
      },
      {
       "html": [
        "<pre>PROGRESS:      5   3.800e+00        1.86s</pre>"
       ],
       "metadata": {},
       "output_type": "display_data",
       "text": [
        "PROGRESS:      5   3.800e+00        1.86s"
       ]
      },
      {
       "html": [
        "<pre>PROGRESS:      6   3.749e+00        2.13s</pre>"
       ],
       "metadata": {},
       "output_type": "display_data",
       "text": [
        "PROGRESS:      6   3.749e+00        2.13s"
       ]
      },
      {
       "html": [
        "<pre>PROGRESS:      7   3.714e+00        2.41s</pre>"
       ],
       "metadata": {},
       "output_type": "display_data",
       "text": [
        "PROGRESS:      7   3.714e+00        2.41s"
       ]
      },
      {
       "html": [
        "<pre>PROGRESS:      8   3.699e+00        2.70s</pre>"
       ],
       "metadata": {},
       "output_type": "display_data",
       "text": [
        "PROGRESS:      8   3.699e+00        2.70s"
       ]
      },
      {
       "html": [
        "<pre>PROGRESS:      9   3.686e+00        3.07s</pre>"
       ],
       "metadata": {},
       "output_type": "display_data",
       "text": [
        "PROGRESS:      9   3.686e+00        3.07s"
       ]
      },
      {
       "output_type": "stream",
       "stream": "stdout",
       "text": [
        "\n",
        "                    Model summary                       \n",
        "--------------------------------------------------------\n",
        "Class                         : BoostedTreesRegression\n",
        "\n",
        "Number of examples            : 19928\n",
        "Number of feature columns     : 29\n",
        "Number of unpacked features   : 29\n",
        "\n",
        "Number of trees               : 10\n",
        "Max tree depth                : 6\n",
        "Train RMSE                    : 9.1744\n",
        "Validation RMSE               : None\n",
        "Training time (sec)           : 2.8141\n",
        "\n",
        "None\n",
        "filling resultspeed na = 589\n"
       ]
      },
      {
       "output_type": "stream",
       "stream": "stdout",
       "text": [
        "\n",
        "                    Model summary                       \n",
        "--------------------------------------------------------\n",
        "Class                         : BoostedTreesRegression\n",
        "\n",
        "Number of examples            : 19928\n",
        "Number of feature columns     : 31\n",
        "Number of unpacked features   : 31\n",
        "\n",
        "Number of trees               : 10\n",
        "Max tree depth                : 6\n",
        "Train RMSE                    : 3.6864\n",
        "Validation RMSE               : None\n",
        "Training time (sec)           : 3.1361\n",
        "\n",
        "None\n",
        "filling dewpoint na = 666"
       ]
      },
      {
       "html": [
        "<pre>PROGRESS: Boosted trees regression:</pre>"
       ],
       "metadata": {},
       "output_type": "display_data",
       "text": [
        "PROGRESS: Boosted trees regression:"
       ]
      },
      {
       "html": [
        "<pre>PROGRESS: --------------------------------------------------------</pre>"
       ],
       "metadata": {},
       "output_type": "display_data",
       "text": [
        "PROGRESS: --------------------------------------------------------"
       ]
      },
      {
       "html": [
        "<pre>PROGRESS: Number of examples          : 19851</pre>"
       ],
       "metadata": {},
       "output_type": "display_data",
       "text": [
        "PROGRESS: Number of examples          : 19851"
       ]
      },
      {
       "html": [
        "<pre>PROGRESS: Number of features          : 33</pre>"
       ],
       "metadata": {},
       "output_type": "display_data",
       "text": [
        "PROGRESS: Number of features          : 33"
       ]
      },
      {
       "html": [
        "<pre>PROGRESS: Number of unpacked features : 33</pre>"
       ],
       "metadata": {},
       "output_type": "display_data",
       "text": [
        "PROGRESS: Number of unpacked features : 33"
       ]
      },
      {
       "html": [
        "<pre>PROGRESS: Starting Boosted Trees</pre>"
       ],
       "metadata": {},
       "output_type": "display_data",
       "text": [
        "PROGRESS: Starting Boosted Trees"
       ]
      },
      {
       "html": [
        "<pre>PROGRESS: --------------------------------------------------------</pre>"
       ],
       "metadata": {},
       "output_type": "display_data",
       "text": [
        "PROGRESS: --------------------------------------------------------"
       ]
      },
      {
       "html": [
        "<pre>PROGRESS:   Iter        RMSE Elapsed time</pre>"
       ],
       "metadata": {},
       "output_type": "display_data",
       "text": [
        "PROGRESS:   Iter        RMSE Elapsed time"
       ]
      },
      {
       "html": [
        "<pre>PROGRESS:      0   3.640e+01        0.58s</pre>"
       ],
       "metadata": {},
       "output_type": "display_data",
       "text": [
        "PROGRESS:      0   3.640e+01        0.58s"
       ]
      },
      {
       "html": [
        "<pre>PROGRESS:      1   2.674e+01        1.10s</pre>"
       ],
       "metadata": {},
       "output_type": "display_data",
       "text": [
        "PROGRESS:      1   2.674e+01        1.10s"
       ]
      },
      {
       "html": [
        "<pre>PROGRESS:      2   2.032e+01        1.60s</pre>"
       ],
       "metadata": {},
       "output_type": "display_data",
       "text": [
        "PROGRESS:      2   2.032e+01        1.60s"
       ]
      },
      {
       "html": [
        "<pre>PROGRESS:      3   1.622e+01        2.10s</pre>"
       ],
       "metadata": {},
       "output_type": "display_data",
       "text": [
        "PROGRESS:      3   1.622e+01        2.10s"
       ]
      },
      {
       "html": [
        "<pre>PROGRESS:      4   1.363e+01        2.53s</pre>"
       ],
       "metadata": {},
       "output_type": "display_data",
       "text": [
        "PROGRESS:      4   1.363e+01        2.53s"
       ]
      },
      {
       "html": [
        "<pre>PROGRESS:      5   1.213e+01        2.90s</pre>"
       ],
       "metadata": {},
       "output_type": "display_data",
       "text": [
        "PROGRESS:      5   1.213e+01        2.90s"
       ]
      },
      {
       "html": [
        "<pre>PROGRESS:      6   1.126e+01        3.23s</pre>"
       ],
       "metadata": {},
       "output_type": "display_data",
       "text": [
        "PROGRESS:      6   1.126e+01        3.23s"
       ]
      },
      {
       "html": [
        "<pre>PROGRESS:      7   1.077e+01        3.55s</pre>"
       ],
       "metadata": {},
       "output_type": "display_data",
       "text": [
        "PROGRESS:      7   1.077e+01        3.55s"
       ]
      },
      {
       "html": [
        "<pre>PROGRESS:      8   1.047e+01        3.80s</pre>"
       ],
       "metadata": {},
       "output_type": "display_data",
       "text": [
        "PROGRESS:      8   1.047e+01        3.80s"
       ]
      },
      {
       "html": [
        "<pre>PROGRESS:      9   1.027e+01        4.11s</pre>"
       ],
       "metadata": {},
       "output_type": "display_data",
       "text": [
        "PROGRESS:      9   1.027e+01        4.11s"
       ]
      },
      {
       "output_type": "stream",
       "stream": "stdout",
       "text": [
        "\n"
       ]
      },
      {
       "html": [
        "<pre>PROGRESS: Boosted trees regression:</pre>"
       ],
       "metadata": {},
       "output_type": "display_data",
       "text": [
        "PROGRESS: Boosted trees regression:"
       ]
      },
      {
       "html": [
        "<pre>PROGRESS: --------------------------------------------------------</pre>"
       ],
       "metadata": {},
       "output_type": "display_data",
       "text": [
        "PROGRESS: --------------------------------------------------------"
       ]
      },
      {
       "html": [
        "<pre>PROGRESS: Number of examples          : 19657</pre>"
       ],
       "metadata": {},
       "output_type": "display_data",
       "text": [
        "PROGRESS: Number of examples          : 19657"
       ]
      },
      {
       "html": [
        "<pre>PROGRESS: Number of features          : 35</pre>"
       ],
       "metadata": {},
       "output_type": "display_data",
       "text": [
        "PROGRESS: Number of features          : 35"
       ]
      },
      {
       "html": [
        "<pre>PROGRESS: Number of unpacked features : 35</pre>"
       ],
       "metadata": {},
       "output_type": "display_data",
       "text": [
        "PROGRESS: Number of unpacked features : 35"
       ]
      },
      {
       "html": [
        "<pre>PROGRESS: Starting Boosted Trees</pre>"
       ],
       "metadata": {},
       "output_type": "display_data",
       "text": [
        "PROGRESS: Starting Boosted Trees"
       ]
      },
      {
       "html": [
        "<pre>PROGRESS: --------------------------------------------------------</pre>"
       ],
       "metadata": {},
       "output_type": "display_data",
       "text": [
        "PROGRESS: --------------------------------------------------------"
       ]
      },
      {
       "html": [
        "<pre>PROGRESS:   Iter        RMSE Elapsed time</pre>"
       ],
       "metadata": {},
       "output_type": "display_data",
       "text": [
        "PROGRESS:   Iter        RMSE Elapsed time"
       ]
      },
      {
       "html": [
        "<pre>PROGRESS:      0   4.121e-01        0.40s</pre>"
       ],
       "metadata": {},
       "output_type": "display_data",
       "text": [
        "PROGRESS:      0   4.121e-01        0.40s"
       ]
      },
      {
       "html": [
        "<pre>PROGRESS:      1   3.405e-01        0.73s</pre>"
       ],
       "metadata": {},
       "output_type": "display_data",
       "text": [
        "PROGRESS:      1   3.405e-01        0.73s"
       ]
      },
      {
       "html": [
        "<pre>PROGRESS:      2   2.974e-01        1.05s</pre>"
       ],
       "metadata": {},
       "output_type": "display_data",
       "text": [
        "PROGRESS:      2   2.974e-01        1.05s"
       ]
      },
      {
       "html": [
        "<pre>PROGRESS:      3   2.728e-01        1.48s</pre>"
       ],
       "metadata": {},
       "output_type": "display_data",
       "text": [
        "PROGRESS:      3   2.728e-01        1.48s"
       ]
      },
      {
       "html": [
        "<pre>PROGRESS:      4   2.575e-01        1.90s</pre>"
       ],
       "metadata": {},
       "output_type": "display_data",
       "text": [
        "PROGRESS:      4   2.575e-01        1.90s"
       ]
      },
      {
       "html": [
        "<pre>PROGRESS:      5   2.479e-01        2.12s</pre>"
       ],
       "metadata": {},
       "output_type": "display_data",
       "text": [
        "PROGRESS:      5   2.479e-01        2.12s"
       ]
      },
      {
       "html": [
        "<pre>PROGRESS:      6   2.428e-01        2.38s</pre>"
       ],
       "metadata": {},
       "output_type": "display_data",
       "text": [
        "PROGRESS:      6   2.428e-01        2.38s"
       ]
      },
      {
       "html": [
        "<pre>PROGRESS:      7   2.378e-01        2.75s</pre>"
       ],
       "metadata": {},
       "output_type": "display_data",
       "text": [
        "PROGRESS:      7   2.378e-01        2.75s"
       ]
      },
      {
       "html": [
        "<pre>PROGRESS:      8   2.346e-01        2.99s</pre>"
       ],
       "metadata": {},
       "output_type": "display_data",
       "text": [
        "PROGRESS:      8   2.346e-01        2.99s"
       ]
      },
      {
       "html": [
        "<pre>PROGRESS:      9   2.323e-01        3.25s</pre>"
       ],
       "metadata": {},
       "output_type": "display_data",
       "text": [
        "PROGRESS:      9   2.323e-01        3.25s"
       ]
      },
      {
       "output_type": "stream",
       "stream": "stdout",
       "text": [
        "\n",
        "                    Model summary                       \n",
        "--------------------------------------------------------\n",
        "Class                         : BoostedTreesRegression\n",
        "\n",
        "Number of examples            : 19851\n",
        "Number of feature columns     : 33\n",
        "Number of unpacked features   : 33\n",
        "\n",
        "Number of trees               : 10\n",
        "Max tree depth                : 6\n",
        "Train RMSE                    : 10.269\n",
        "Validation RMSE               : None\n",
        "Training time (sec)           : 4.1757\n",
        "\n",
        "None\n",
        "filling preciptotal na = 860\n"
       ]
      },
      {
       "html": [
        "<pre>PROGRESS: Boosted trees regression:</pre>"
       ],
       "metadata": {},
       "output_type": "display_data",
       "text": [
        "PROGRESS: Boosted trees regression:"
       ]
      },
      {
       "html": [
        "<pre>PROGRESS: --------------------------------------------------------</pre>"
       ],
       "metadata": {},
       "output_type": "display_data",
       "text": [
        "PROGRESS: --------------------------------------------------------"
       ]
      },
      {
       "html": [
        "<pre>PROGRESS: Number of examples          : 19642</pre>"
       ],
       "metadata": {},
       "output_type": "display_data",
       "text": [
        "PROGRESS: Number of examples          : 19642"
       ]
      },
      {
       "html": [
        "<pre>PROGRESS: Number of features          : 37</pre>"
       ],
       "metadata": {},
       "output_type": "display_data",
       "text": [
        "PROGRESS: Number of features          : 37"
       ]
      },
      {
       "html": [
        "<pre>PROGRESS: Number of unpacked features : 37</pre>"
       ],
       "metadata": {},
       "output_type": "display_data",
       "text": [
        "PROGRESS: Number of unpacked features : 37"
       ]
      },
      {
       "html": [
        "<pre>PROGRESS: Starting Boosted Trees</pre>"
       ],
       "metadata": {},
       "output_type": "display_data",
       "text": [
        "PROGRESS: Starting Boosted Trees"
       ]
      },
      {
       "html": [
        "<pre>PROGRESS: --------------------------------------------------------</pre>"
       ],
       "metadata": {},
       "output_type": "display_data",
       "text": [
        "PROGRESS: --------------------------------------------------------"
       ]
      },
      {
       "html": [
        "<pre>PROGRESS:   Iter        RMSE Elapsed time</pre>"
       ],
       "metadata": {},
       "output_type": "display_data",
       "text": [
        "PROGRESS:   Iter        RMSE Elapsed time"
       ]
      },
      {
       "html": [
        "<pre>PROGRESS:      0   5.981e+00        0.57s</pre>"
       ],
       "metadata": {},
       "output_type": "display_data",
       "text": [
        "PROGRESS:      0   5.981e+00        0.57s"
       ]
      },
      {
       "html": [
        "<pre>PROGRESS:      1   4.325e+00        0.89s</pre>"
       ],
       "metadata": {},
       "output_type": "display_data",
       "text": [
        "PROGRESS:      1   4.325e+00        0.89s"
       ]
      },
      {
       "html": [
        "<pre>PROGRESS:      2   3.209e+00        1.29s</pre>"
       ],
       "metadata": {},
       "output_type": "display_data",
       "text": [
        "PROGRESS:      2   3.209e+00        1.29s"
       ]
      },
      {
       "html": [
        "<pre>PROGRESS:      3   2.477e+00        1.66s</pre>"
       ],
       "metadata": {},
       "output_type": "display_data",
       "text": [
        "PROGRESS:      3   2.477e+00        1.66s"
       ]
      },
      {
       "html": [
        "<pre>PROGRESS:      4   2.016e+00        1.94s</pre>"
       ],
       "metadata": {},
       "output_type": "display_data",
       "text": [
        "PROGRESS:      4   2.016e+00        1.94s"
       ]
      },
      {
       "html": [
        "<pre>PROGRESS:      5   1.742e+00        2.22s</pre>"
       ],
       "metadata": {},
       "output_type": "display_data",
       "text": [
        "PROGRESS:      5   1.742e+00        2.22s"
       ]
      },
      {
       "html": [
        "<pre>PROGRESS:      6   1.582e+00        2.50s</pre>"
       ],
       "metadata": {},
       "output_type": "display_data",
       "text": [
        "PROGRESS:      6   1.582e+00        2.50s"
       ]
      },
      {
       "html": [
        "<pre>PROGRESS:      7   1.494e+00        2.79s</pre>"
       ],
       "metadata": {},
       "output_type": "display_data",
       "text": [
        "PROGRESS:      7   1.494e+00        2.79s"
       ]
      },
      {
       "html": [
        "<pre>PROGRESS:      8   1.444e+00        3.10s</pre>"
       ],
       "metadata": {},
       "output_type": "display_data",
       "text": [
        "PROGRESS:      8   1.444e+00        3.10s"
       ]
      },
      {
       "html": [
        "<pre>PROGRESS:      9   1.412e+00        3.32s</pre>"
       ],
       "metadata": {},
       "output_type": "display_data",
       "text": [
        "PROGRESS:      9   1.412e+00        3.32s"
       ]
      },
      {
       "output_type": "stream",
       "stream": "stdout",
       "text": [
        "\n",
        "                    Model summary                       \n",
        "--------------------------------------------------------\n",
        "Class                         : BoostedTreesRegression\n",
        "\n",
        "Number of examples            : 19657\n",
        "Number of feature columns     : 35\n",
        "Number of unpacked features   : 35\n",
        "\n",
        "Number of trees               : 10\n",
        "Max tree depth                : 6\n",
        "Train RMSE                    : 0.2323\n",
        "Validation RMSE               : None\n",
        "Training time (sec)           : 3.2954\n",
        "\n",
        "None\n",
        "filling avgspeed na = 875\n"
       ]
      },
      {
       "html": [
        "<pre>PROGRESS: Boosted trees regression:</pre>"
       ],
       "metadata": {},
       "output_type": "display_data",
       "text": [
        "PROGRESS: Boosted trees regression:"
       ]
      },
      {
       "html": [
        "<pre>PROGRESS: --------------------------------------------------------</pre>"
       ],
       "metadata": {},
       "output_type": "display_data",
       "text": [
        "PROGRESS: --------------------------------------------------------"
       ]
      },
      {
       "html": [
        "<pre>PROGRESS: Number of examples          : 19611</pre>"
       ],
       "metadata": {},
       "output_type": "display_data",
       "text": [
        "PROGRESS: Number of examples          : 19611"
       ]
      },
      {
       "html": [
        "<pre>PROGRESS: Number of features          : 39</pre>"
       ],
       "metadata": {},
       "output_type": "display_data",
       "text": [
        "PROGRESS: Number of features          : 39"
       ]
      },
      {
       "html": [
        "<pre>PROGRESS: Number of unpacked features : 39</pre>"
       ],
       "metadata": {},
       "output_type": "display_data",
       "text": [
        "PROGRESS: Number of unpacked features : 39"
       ]
      },
      {
       "html": [
        "<pre>PROGRESS: Starting Boosted Trees</pre>"
       ],
       "metadata": {},
       "output_type": "display_data",
       "text": [
        "PROGRESS: Starting Boosted Trees"
       ]
      },
      {
       "html": [
        "<pre>PROGRESS: --------------------------------------------------------</pre>"
       ],
       "metadata": {},
       "output_type": "display_data",
       "text": [
        "PROGRESS: --------------------------------------------------------"
       ]
      },
      {
       "html": [
        "<pre>PROGRESS:   Iter        RMSE Elapsed time</pre>"
       ],
       "metadata": {},
       "output_type": "display_data",
       "text": [
        "PROGRESS:   Iter        RMSE Elapsed time"
       ]
      },
      {
       "html": [
        "<pre>PROGRESS:      0   5.201e+01        0.40s</pre>"
       ],
       "metadata": {},
       "output_type": "display_data",
       "text": [
        "PROGRESS:      0   5.201e+01        0.40s"
       ]
      },
      {
       "html": [
        "<pre>PROGRESS:      1   3.682e+01        0.66s</pre>"
       ],
       "metadata": {},
       "output_type": "display_data",
       "text": [
        "PROGRESS:      1   3.682e+01        0.66s"
       ]
      },
      {
       "html": [
        "<pre>PROGRESS:      2   2.630e+01        0.91s</pre>"
       ],
       "metadata": {},
       "output_type": "display_data",
       "text": [
        "PROGRESS:      2   2.630e+01        0.91s"
       ]
      },
      {
       "html": [
        "<pre>PROGRESS:      3   1.909e+01        1.20s</pre>"
       ],
       "metadata": {},
       "output_type": "display_data",
       "text": [
        "PROGRESS:      3   1.909e+01        1.20s"
       ]
      },
      {
       "html": [
        "<pre>PROGRESS:      4   1.423e+01        1.46s</pre>"
       ],
       "metadata": {},
       "output_type": "display_data",
       "text": [
        "PROGRESS:      4   1.423e+01        1.46s"
       ]
      },
      {
       "html": [
        "<pre>PROGRESS:      5   1.103e+01        1.76s</pre>"
       ],
       "metadata": {},
       "output_type": "display_data",
       "text": [
        "PROGRESS:      5   1.103e+01        1.76s"
       ]
      },
      {
       "html": [
        "<pre>PROGRESS:      6   9.010e+00        2.04s</pre>"
       ],
       "metadata": {},
       "output_type": "display_data",
       "text": [
        "PROGRESS:      6   9.010e+00        2.04s"
       ]
      },
      {
       "html": [
        "<pre>PROGRESS:      7   7.780e+00        2.33s</pre>"
       ],
       "metadata": {},
       "output_type": "display_data",
       "text": [
        "PROGRESS:      7   7.780e+00        2.33s"
       ]
      },
      {
       "html": [
        "<pre>PROGRESS:      8   7.036e+00        2.68s</pre>"
       ],
       "metadata": {},
       "output_type": "display_data",
       "text": [
        "PROGRESS:      8   7.036e+00        2.68s"
       ]
      },
      {
       "html": [
        "<pre>PROGRESS:      9   6.610e+00        3.10s</pre>"
       ],
       "metadata": {},
       "output_type": "display_data",
       "text": [
        "PROGRESS:      9   6.610e+00        3.10s"
       ]
      },
      {
       "output_type": "stream",
       "stream": "stdout",
       "text": [
        "\n",
        "                    Model summary                       \n",
        "--------------------------------------------------------\n",
        "Class                         : BoostedTreesRegression\n",
        "\n",
        "Number of examples            : 19642\n",
        "Number of feature columns     : 37\n",
        "Number of unpacked features   : 37\n",
        "\n",
        "Number of trees               : 10\n",
        "Max tree depth                : 6\n",
        "Train RMSE                    : 1.4118\n",
        "Validation RMSE               : None\n",
        "Training time (sec)           : 3.358\n",
        "\n",
        "None\n",
        "filling tmax na = 906\n"
       ]
      },
      {
       "output_type": "stream",
       "stream": "stdout",
       "text": [
        "\n",
        "                    Model summary                       \n",
        "--------------------------------------------------------\n",
        "Class                         : BoostedTreesRegression\n",
        "\n",
        "Number of examples            : 19611\n",
        "Number of feature columns     : 39\n",
        "Number of unpacked features   : 39\n",
        "\n",
        "Number of trees               : 10\n",
        "Max tree depth                : 6\n",
        "Train RMSE                    : 6.6096\n",
        "Validation RMSE               : None\n",
        "Training time (sec)           : 3.161\n",
        "\n",
        "None\n",
        "filling tmin na = 908"
       ]
      },
      {
       "html": [
        "<pre>PROGRESS: Boosted trees regression:</pre>"
       ],
       "metadata": {},
       "output_type": "display_data",
       "text": [
        "PROGRESS: Boosted trees regression:"
       ]
      },
      {
       "html": [
        "<pre>PROGRESS: --------------------------------------------------------</pre>"
       ],
       "metadata": {},
       "output_type": "display_data",
       "text": [
        "PROGRESS: --------------------------------------------------------"
       ]
      },
      {
       "html": [
        "<pre>PROGRESS: Number of examples          : 19609</pre>"
       ],
       "metadata": {},
       "output_type": "display_data",
       "text": [
        "PROGRESS: Number of examples          : 19609"
       ]
      },
      {
       "html": [
        "<pre>PROGRESS: Number of features          : 41</pre>"
       ],
       "metadata": {},
       "output_type": "display_data",
       "text": [
        "PROGRESS: Number of features          : 41"
       ]
      },
      {
       "html": [
        "<pre>PROGRESS: Number of unpacked features : 41</pre>"
       ],
       "metadata": {},
       "output_type": "display_data",
       "text": [
        "PROGRESS: Number of unpacked features : 41"
       ]
      },
      {
       "html": [
        "<pre>PROGRESS: Starting Boosted Trees</pre>"
       ],
       "metadata": {},
       "output_type": "display_data",
       "text": [
        "PROGRESS: Starting Boosted Trees"
       ]
      },
      {
       "html": [
        "<pre>PROGRESS: --------------------------------------------------------</pre>"
       ],
       "metadata": {},
       "output_type": "display_data",
       "text": [
        "PROGRESS: --------------------------------------------------------"
       ]
      },
      {
       "html": [
        "<pre>PROGRESS:   Iter        RMSE Elapsed time</pre>"
       ],
       "metadata": {},
       "output_type": "display_data",
       "text": [
        "PROGRESS:   Iter        RMSE Elapsed time"
       ]
      },
      {
       "html": [
        "<pre>PROGRESS:      0   3.776e+01        0.57s</pre>"
       ],
       "metadata": {},
       "output_type": "display_data",
       "text": [
        "PROGRESS:      0   3.776e+01        0.57s"
       ]
      },
      {
       "html": [
        "<pre>PROGRESS:      1   2.665e+01        1.01s</pre>"
       ],
       "metadata": {},
       "output_type": "display_data",
       "text": [
        "PROGRESS:      1   2.665e+01        1.01s"
       ]
      },
      {
       "html": [
        "<pre>PROGRESS:      2   1.893e+01        1.41s</pre>"
       ],
       "metadata": {},
       "output_type": "display_data",
       "text": [
        "PROGRESS:      2   1.893e+01        1.41s"
       ]
      },
      {
       "html": [
        "<pre>PROGRESS:      3   1.360e+01        1.79s</pre>"
       ],
       "metadata": {},
       "output_type": "display_data",
       "text": [
        "PROGRESS:      3   1.360e+01        1.79s"
       ]
      },
      {
       "html": [
        "<pre>PROGRESS:      4   9.969e+00        2.23s</pre>"
       ],
       "metadata": {},
       "output_type": "display_data",
       "text": [
        "PROGRESS:      4   9.969e+00        2.23s"
       ]
      },
      {
       "html": [
        "<pre>PROGRESS:      5   7.552e+00        2.61s</pre>"
       ],
       "metadata": {},
       "output_type": "display_data",
       "text": [
        "PROGRESS:      5   7.552e+00        2.61s"
       ]
      },
      {
       "html": [
        "<pre>PROGRESS:      6   5.995e+00        2.96s</pre>"
       ],
       "metadata": {},
       "output_type": "display_data",
       "text": [
        "PROGRESS:      6   5.995e+00        2.96s"
       ]
      },
      {
       "html": [
        "<pre>PROGRESS:      7   5.024e+00        3.32s</pre>"
       ],
       "metadata": {},
       "output_type": "display_data",
       "text": [
        "PROGRESS:      7   5.024e+00        3.32s"
       ]
      },
      {
       "html": [
        "<pre>PROGRESS:      8   4.445e+00        3.62s</pre>"
       ],
       "metadata": {},
       "output_type": "display_data",
       "text": [
        "PROGRESS:      8   4.445e+00        3.62s"
       ]
      },
      {
       "html": [
        "<pre>PROGRESS:      9   4.101e+00        3.90s</pre>"
       ],
       "metadata": {},
       "output_type": "display_data",
       "text": [
        "PROGRESS:      9   4.101e+00        3.90s"
       ]
      },
      {
       "output_type": "stream",
       "stream": "stdout",
       "text": [
        "\n"
       ]
      },
      {
       "output_type": "stream",
       "stream": "stdout",
       "text": [
        "\n",
        "                    Model summary                       \n",
        "--------------------------------------------------------\n",
        "Class                         : BoostedTreesRegression\n",
        "\n",
        "Number of examples            : 19609\n",
        "Number of feature columns     : 41\n",
        "Number of unpacked features   : 41\n",
        "\n",
        "Number of trees               : 10\n",
        "Max tree depth                : 6\n",
        "Train RMSE                    : 4.1007\n",
        "Validation RMSE               : None\n",
        "Training time (sec)           : 3.944\n",
        "\n",
        "None\n",
        "filling stnpressure na = 929"
       ]
      },
      {
       "html": [
        "<pre>PROGRESS: Boosted trees regression:</pre>"
       ],
       "metadata": {},
       "output_type": "display_data",
       "text": [
        "PROGRESS: Boosted trees regression:"
       ]
      },
      {
       "html": [
        "<pre>PROGRESS: --------------------------------------------------------</pre>"
       ],
       "metadata": {},
       "output_type": "display_data",
       "text": [
        "PROGRESS: --------------------------------------------------------"
       ]
      },
      {
       "html": [
        "<pre>PROGRESS: Number of examples          : 19588</pre>"
       ],
       "metadata": {},
       "output_type": "display_data",
       "text": [
        "PROGRESS: Number of examples          : 19588"
       ]
      },
      {
       "html": [
        "<pre>PROGRESS: Number of features          : 43</pre>"
       ],
       "metadata": {},
       "output_type": "display_data",
       "text": [
        "PROGRESS: Number of features          : 43"
       ]
      },
      {
       "html": [
        "<pre>PROGRESS: Number of unpacked features : 43</pre>"
       ],
       "metadata": {},
       "output_type": "display_data",
       "text": [
        "PROGRESS: Number of unpacked features : 43"
       ]
      },
      {
       "html": [
        "<pre>PROGRESS: Starting Boosted Trees</pre>"
       ],
       "metadata": {},
       "output_type": "display_data",
       "text": [
        "PROGRESS: Starting Boosted Trees"
       ]
      },
      {
       "html": [
        "<pre>PROGRESS: --------------------------------------------------------</pre>"
       ],
       "metadata": {},
       "output_type": "display_data",
       "text": [
        "PROGRESS: --------------------------------------------------------"
       ]
      },
      {
       "html": [
        "<pre>PROGRESS:   Iter        RMSE Elapsed time</pre>"
       ],
       "metadata": {},
       "output_type": "display_data",
       "text": [
        "PROGRESS:   Iter        RMSE Elapsed time"
       ]
      },
      {
       "html": [
        "<pre>PROGRESS:      0   2.010e+01        0.25s</pre>"
       ],
       "metadata": {},
       "output_type": "display_data",
       "text": [
        "PROGRESS:      0   2.010e+01        0.25s"
       ]
      },
      {
       "html": [
        "<pre>PROGRESS:      1   1.410e+01        0.45s</pre>"
       ],
       "metadata": {},
       "output_type": "display_data",
       "text": [
        "PROGRESS:      1   1.410e+01        0.45s"
       ]
      },
      {
       "html": [
        "<pre>PROGRESS:      2   9.897e+00        0.68s</pre>"
       ],
       "metadata": {},
       "output_type": "display_data",
       "text": [
        "PROGRESS:      2   9.897e+00        0.68s"
       ]
      },
      {
       "html": [
        "<pre>PROGRESS:      3   6.968e+00        1.01s</pre>"
       ],
       "metadata": {},
       "output_type": "display_data",
       "text": [
        "PROGRESS:      3   6.968e+00        1.01s"
       ]
      },
      {
       "html": [
        "<pre>PROGRESS:      4   4.924e+00        1.20s</pre>"
       ],
       "metadata": {},
       "output_type": "display_data",
       "text": [
        "PROGRESS:      4   4.924e+00        1.20s"
       ]
      },
      {
       "html": [
        "<pre>PROGRESS:      5   3.510e+00        1.50s</pre>"
       ],
       "metadata": {},
       "output_type": "display_data",
       "text": [
        "PROGRESS:      5   3.510e+00        1.50s"
       ]
      },
      {
       "html": [
        "<pre>PROGRESS:      6   2.536e+00        1.85s</pre>"
       ],
       "metadata": {},
       "output_type": "display_data",
       "text": [
        "PROGRESS:      6   2.536e+00        1.85s"
       ]
      },
      {
       "html": [
        "<pre>PROGRESS:      7   1.877e+00        2.20s</pre>"
       ],
       "metadata": {},
       "output_type": "display_data",
       "text": [
        "PROGRESS:      7   1.877e+00        2.20s"
       ]
      },
      {
       "html": [
        "<pre>PROGRESS:      8   1.441e+00        2.44s</pre>"
       ],
       "metadata": {},
       "output_type": "display_data",
       "text": [
        "PROGRESS:      8   1.441e+00        2.44s"
       ]
      },
      {
       "html": [
        "<pre>PROGRESS:      9   1.166e+00        2.82s</pre>"
       ],
       "metadata": {},
       "output_type": "display_data",
       "text": [
        "PROGRESS:      9   1.166e+00        2.82s"
       ]
      },
      {
       "output_type": "stream",
       "stream": "stdout",
       "text": [
        "\n"
       ]
      },
      {
       "html": [
        "<pre>PROGRESS: Boosted trees regression:</pre>"
       ],
       "metadata": {},
       "output_type": "display_data",
       "text": [
        "PROGRESS: Boosted trees regression:"
       ]
      },
      {
       "html": [
        "<pre>PROGRESS: --------------------------------------------------------</pre>"
       ],
       "metadata": {},
       "output_type": "display_data",
       "text": [
        "PROGRESS: --------------------------------------------------------"
       ]
      },
      {
       "html": [
        "<pre>PROGRESS: Number of examples          : 19265</pre>"
       ],
       "metadata": {},
       "output_type": "display_data",
       "text": [
        "PROGRESS: Number of examples          : 19265"
       ]
      },
      {
       "html": [
        "<pre>PROGRESS: Number of features          : 45</pre>"
       ],
       "metadata": {},
       "output_type": "display_data",
       "text": [
        "PROGRESS: Number of features          : 45"
       ]
      },
      {
       "html": [
        "<pre>PROGRESS: Number of unpacked features : 45</pre>"
       ],
       "metadata": {},
       "output_type": "display_data",
       "text": [
        "PROGRESS: Number of unpacked features : 45"
       ]
      },
      {
       "html": [
        "<pre>PROGRESS: Starting Boosted Trees</pre>"
       ],
       "metadata": {},
       "output_type": "display_data",
       "text": [
        "PROGRESS: Starting Boosted Trees"
       ]
      },
      {
       "html": [
        "<pre>PROGRESS: --------------------------------------------------------</pre>"
       ],
       "metadata": {},
       "output_type": "display_data",
       "text": [
        "PROGRESS: --------------------------------------------------------"
       ]
      },
      {
       "html": [
        "<pre>PROGRESS:   Iter        RMSE Elapsed time</pre>"
       ],
       "metadata": {},
       "output_type": "display_data",
       "text": [
        "PROGRESS:   Iter        RMSE Elapsed time"
       ]
      },
      {
       "html": [
        "<pre>PROGRESS:      0   3.927e+01        0.36s</pre>"
       ],
       "metadata": {},
       "output_type": "display_data",
       "text": [
        "PROGRESS:      0   3.927e+01        0.36s"
       ]
      },
      {
       "html": [
        "<pre>PROGRESS:      1   2.753e+01        0.60s</pre>"
       ],
       "metadata": {},
       "output_type": "display_data",
       "text": [
        "PROGRESS:      1   2.753e+01        0.60s"
       ]
      },
      {
       "html": [
        "<pre>PROGRESS:      2   1.931e+01        0.84s</pre>"
       ],
       "metadata": {},
       "output_type": "display_data",
       "text": [
        "PROGRESS:      2   1.931e+01        0.84s"
       ]
      },
      {
       "html": [
        "<pre>PROGRESS:      3   1.355e+01        1.16s</pre>"
       ],
       "metadata": {},
       "output_type": "display_data",
       "text": [
        "PROGRESS:      3   1.355e+01        1.16s"
       ]
      },
      {
       "html": [
        "<pre>PROGRESS:      4   9.522e+00        1.43s</pre>"
       ],
       "metadata": {},
       "output_type": "display_data",
       "text": [
        "PROGRESS:      4   9.522e+00        1.43s"
       ]
      },
      {
       "html": [
        "<pre>PROGRESS:      5   6.708e+00        1.76s</pre>"
       ],
       "metadata": {},
       "output_type": "display_data",
       "text": [
        "PROGRESS:      5   6.708e+00        1.76s"
       ]
      },
      {
       "html": [
        "<pre>PROGRESS:      6   4.748e+00        2.02s</pre>"
       ],
       "metadata": {},
       "output_type": "display_data",
       "text": [
        "PROGRESS:      6   4.748e+00        2.02s"
       ]
      },
      {
       "html": [
        "<pre>PROGRESS:      7   3.391e+00        2.37s</pre>"
       ],
       "metadata": {},
       "output_type": "display_data",
       "text": [
        "PROGRESS:      7   3.391e+00        2.37s"
       ]
      },
      {
       "html": [
        "<pre>PROGRESS:      8   2.460e+00        2.98s</pre>"
       ],
       "metadata": {},
       "output_type": "display_data",
       "text": [
        "PROGRESS:      8   2.460e+00        2.98s"
       ]
      },
      {
       "html": [
        "<pre>PROGRESS:      9   1.833e+00        3.50s</pre>"
       ],
       "metadata": {},
       "output_type": "display_data",
       "text": [
        "PROGRESS:      9   1.833e+00        3.50s"
       ]
      },
      {
       "output_type": "stream",
       "stream": "stdout",
       "text": [
        "\n",
        "                    Model summary                       \n",
        "--------------------------------------------------------\n",
        "Class                         : BoostedTreesRegression\n",
        "\n",
        "Number of examples            : 19588\n",
        "Number of feature columns     : 43\n",
        "Number of unpacked features   : 43\n",
        "\n",
        "Number of trees               : 10\n",
        "Max tree depth                : 6\n",
        "Train RMSE                    : 1.1659\n",
        "Validation RMSE               : None\n",
        "Training time (sec)           : 2.8679\n",
        "\n",
        "None\n",
        "filling wetbulb na = 1252\n"
       ]
      },
      {
       "output_type": "stream",
       "stream": "stdout",
       "text": [
        "\n",
        "                    Model summary                       \n",
        "--------------------------------------------------------\n",
        "Class                         : BoostedTreesRegression\n",
        "\n",
        "Number of examples            : 19265\n",
        "Number of feature columns     : 45\n",
        "Number of unpacked features   : 45\n",
        "\n",
        "Number of trees               : 10\n",
        "Max tree depth                : 6\n",
        "Train RMSE                    : 1.8327\n",
        "Validation RMSE               : None\n",
        "Training time (sec)           : 3.571\n",
        "\n",
        "None\n",
        "filling cool na = 1469"
       ]
      },
      {
       "html": [
        "<pre>PROGRESS: Boosted trees regression:</pre>"
       ],
       "metadata": {},
       "output_type": "display_data",
       "text": [
        "PROGRESS: Boosted trees regression:"
       ]
      },
      {
       "html": [
        "<pre>PROGRESS: --------------------------------------------------------</pre>"
       ],
       "metadata": {},
       "output_type": "display_data",
       "text": [
        "PROGRESS: --------------------------------------------------------"
       ]
      },
      {
       "html": [
        "<pre>PROGRESS: Number of examples          : 19048</pre>"
       ],
       "metadata": {},
       "output_type": "display_data",
       "text": [
        "PROGRESS: Number of examples          : 19048"
       ]
      },
      {
       "html": [
        "<pre>PROGRESS: Number of features          : 47</pre>"
       ],
       "metadata": {},
       "output_type": "display_data",
       "text": [
        "PROGRESS: Number of features          : 47"
       ]
      },
      {
       "html": [
        "<pre>PROGRESS: Number of unpacked features : 47</pre>"
       ],
       "metadata": {},
       "output_type": "display_data",
       "text": [
        "PROGRESS: Number of unpacked features : 47"
       ]
      },
      {
       "html": [
        "<pre>PROGRESS: Starting Boosted Trees</pre>"
       ],
       "metadata": {},
       "output_type": "display_data",
       "text": [
        "PROGRESS: Starting Boosted Trees"
       ]
      },
      {
       "html": [
        "<pre>PROGRESS: --------------------------------------------------------</pre>"
       ],
       "metadata": {},
       "output_type": "display_data",
       "text": [
        "PROGRESS: --------------------------------------------------------"
       ]
      },
      {
       "html": [
        "<pre>PROGRESS:   Iter        RMSE Elapsed time</pre>"
       ],
       "metadata": {},
       "output_type": "display_data",
       "text": [
        "PROGRESS:   Iter        RMSE Elapsed time"
       ]
      },
      {
       "html": [
        "<pre>PROGRESS:      0   6.705e+00        0.58s</pre>"
       ],
       "metadata": {},
       "output_type": "display_data",
       "text": [
        "PROGRESS:      0   6.705e+00        0.58s"
       ]
      },
      {
       "html": [
        "<pre>PROGRESS:      1   4.715e+00        0.95s</pre>"
       ],
       "metadata": {},
       "output_type": "display_data",
       "text": [
        "PROGRESS:      1   4.715e+00        0.95s"
       ]
      },
      {
       "html": [
        "<pre>PROGRESS:      2   3.318e+00        1.33s</pre>"
       ],
       "metadata": {},
       "output_type": "display_data",
       "text": [
        "PROGRESS:      2   3.318e+00        1.33s"
       ]
      },
      {
       "html": [
        "<pre>PROGRESS:      3   2.338e+00        1.70s</pre>"
       ],
       "metadata": {},
       "output_type": "display_data",
       "text": [
        "PROGRESS:      3   2.338e+00        1.70s"
       ]
      },
      {
       "html": [
        "<pre>PROGRESS:      4   1.651e+00        1.96s</pre>"
       ],
       "metadata": {},
       "output_type": "display_data",
       "text": [
        "PROGRESS:      4   1.651e+00        1.96s"
       ]
      },
      {
       "html": [
        "<pre>PROGRESS:      5   1.171e+00        2.27s</pre>"
       ],
       "metadata": {},
       "output_type": "display_data",
       "text": [
        "PROGRESS:      5   1.171e+00        2.27s"
       ]
      },
      {
       "html": [
        "<pre>PROGRESS:      6   8.366e-01        2.68s</pre>"
       ],
       "metadata": {},
       "output_type": "display_data",
       "text": [
        "PROGRESS:      6   8.366e-01        2.68s"
       ]
      },
      {
       "html": [
        "<pre>PROGRESS:      7   6.073e-01        3.07s</pre>"
       ],
       "metadata": {},
       "output_type": "display_data",
       "text": [
        "PROGRESS:      7   6.073e-01        3.07s"
       ]
      },
      {
       "html": [
        "<pre>PROGRESS:      8   4.504e-01        3.45s</pre>"
       ],
       "metadata": {},
       "output_type": "display_data",
       "text": [
        "PROGRESS:      8   4.504e-01        3.45s"
       ]
      },
      {
       "html": [
        "<pre>PROGRESS:      9   3.465e-01        3.83s</pre>"
       ],
       "metadata": {},
       "output_type": "display_data",
       "text": [
        "PROGRESS:      9   3.465e-01        3.83s"
       ]
      },
      {
       "output_type": "stream",
       "stream": "stdout",
       "text": [
        "\n"
       ]
      },
      {
       "output_type": "stream",
       "stream": "stdout",
       "text": [
        "\n",
        "                    Model summary                       \n",
        "--------------------------------------------------------\n",
        "Class                         : BoostedTreesRegression\n",
        "\n",
        "Number of examples            : 19048\n",
        "Number of feature columns     : 47\n",
        "Number of unpacked features   : 47\n",
        "\n",
        "Number of trees               : 10\n",
        "Max tree depth                : 6\n",
        "Train RMSE                    : 0.3465\n",
        "Validation RMSE               : None\n",
        "Training time (sec)           : 3.8813\n",
        "\n",
        "None\n",
        "filling heat na = 1469"
       ]
      },
      {
       "html": [
        "<pre>PROGRESS: Boosted trees regression:</pre>"
       ],
       "metadata": {},
       "output_type": "display_data",
       "text": [
        "PROGRESS: Boosted trees regression:"
       ]
      },
      {
       "html": [
        "<pre>PROGRESS: --------------------------------------------------------</pre>"
       ],
       "metadata": {},
       "output_type": "display_data",
       "text": [
        "PROGRESS: --------------------------------------------------------"
       ]
      },
      {
       "html": [
        "<pre>PROGRESS: Number of examples          : 19048</pre>"
       ],
       "metadata": {},
       "output_type": "display_data",
       "text": [
        "PROGRESS: Number of examples          : 19048"
       ]
      },
      {
       "html": [
        "<pre>PROGRESS: Number of features          : 49</pre>"
       ],
       "metadata": {},
       "output_type": "display_data",
       "text": [
        "PROGRESS: Number of features          : 49"
       ]
      },
      {
       "html": [
        "<pre>PROGRESS: Number of unpacked features : 49</pre>"
       ],
       "metadata": {},
       "output_type": "display_data",
       "text": [
        "PROGRESS: Number of unpacked features : 49"
       ]
      },
      {
       "html": [
        "<pre>PROGRESS: Starting Boosted Trees</pre>"
       ],
       "metadata": {},
       "output_type": "display_data",
       "text": [
        "PROGRESS: Starting Boosted Trees"
       ]
      },
      {
       "html": [
        "<pre>PROGRESS: --------------------------------------------------------</pre>"
       ],
       "metadata": {},
       "output_type": "display_data",
       "text": [
        "PROGRESS: --------------------------------------------------------"
       ]
      },
      {
       "html": [
        "<pre>PROGRESS:   Iter        RMSE Elapsed time</pre>"
       ],
       "metadata": {},
       "output_type": "display_data",
       "text": [
        "PROGRESS:   Iter        RMSE Elapsed time"
       ]
      },
      {
       "html": [
        "<pre>PROGRESS:      0   1.170e+01        0.57s</pre>"
       ],
       "metadata": {},
       "output_type": "display_data",
       "text": [
        "PROGRESS:      0   1.170e+01        0.57s"
       ]
      },
      {
       "html": [
        "<pre>PROGRESS:      1   8.246e+00        0.91s</pre>"
       ],
       "metadata": {},
       "output_type": "display_data",
       "text": [
        "PROGRESS:      1   8.246e+00        0.91s"
       ]
      },
      {
       "html": [
        "<pre>PROGRESS:      2   5.823e+00        1.23s</pre>"
       ],
       "metadata": {},
       "output_type": "display_data",
       "text": [
        "PROGRESS:      2   5.823e+00        1.23s"
       ]
      },
      {
       "html": [
        "<pre>PROGRESS:      3   4.116e+00        1.51s</pre>"
       ],
       "metadata": {},
       "output_type": "display_data",
       "text": [
        "PROGRESS:      3   4.116e+00        1.51s"
       ]
      },
      {
       "html": [
        "<pre>PROGRESS:      4   2.922e+00        1.95s</pre>"
       ],
       "metadata": {},
       "output_type": "display_data",
       "text": [
        "PROGRESS:      4   2.922e+00        1.95s"
       ]
      },
      {
       "html": [
        "<pre>PROGRESS:      5   2.091e+00        2.36s</pre>"
       ],
       "metadata": {},
       "output_type": "display_data",
       "text": [
        "PROGRESS:      5   2.091e+00        2.36s"
       ]
      },
      {
       "html": [
        "<pre>PROGRESS:      6   1.517e+00        2.83s</pre>"
       ],
       "metadata": {},
       "output_type": "display_data",
       "text": [
        "PROGRESS:      6   1.517e+00        2.83s"
       ]
      },
      {
       "html": [
        "<pre>PROGRESS:      7   1.123e+00        3.17s</pre>"
       ],
       "metadata": {},
       "output_type": "display_data",
       "text": [
        "PROGRESS:      7   1.123e+00        3.17s"
       ]
      },
      {
       "html": [
        "<pre>PROGRESS:      8   8.519e-01        3.46s</pre>"
       ],
       "metadata": {},
       "output_type": "display_data",
       "text": [
        "PROGRESS:      8   8.519e-01        3.46s"
       ]
      },
      {
       "html": [
        "<pre>PROGRESS:      9   6.732e-01        3.75s</pre>"
       ],
       "metadata": {},
       "output_type": "display_data",
       "text": [
        "PROGRESS:      9   6.732e-01        3.75s"
       ]
      },
      {
       "output_type": "stream",
       "stream": "stdout",
       "text": [
        "\n"
       ]
      },
      {
       "html": [
        "<pre>PROGRESS: WARNING: Detected extremely low variance for feature(s) 'heatNAN' because all entries are nearly the same.\n",
        "Proceeding with model training using all features. If the model does not provide results of adequate quality, exclude the above mentioned feature(s) from the input dataset.</pre>"
       ],
       "metadata": {},
       "output_type": "display_data",
       "text": [
        "PROGRESS: WARNING: Detected extremely low variance for feature(s) 'heatNAN' because all entries are nearly the same.\n",
        "Proceeding with model training using all features. If the model does not provide results of adequate quality, exclude the above mentioned feature(s) from the input dataset."
       ]
      },
      {
       "html": [
        "<pre>PROGRESS: Boosted trees regression:</pre>"
       ],
       "metadata": {},
       "output_type": "display_data",
       "text": [
        "PROGRESS: Boosted trees regression:"
       ]
      },
      {
       "html": [
        "<pre>PROGRESS: --------------------------------------------------------</pre>"
       ],
       "metadata": {},
       "output_type": "display_data",
       "text": [
        "PROGRESS: --------------------------------------------------------"
       ]
      },
      {
       "html": [
        "<pre>PROGRESS: Number of examples          : 19048</pre>"
       ],
       "metadata": {},
       "output_type": "display_data",
       "text": [
        "PROGRESS: Number of examples          : 19048"
       ]
      },
      {
       "html": [
        "<pre>PROGRESS: Number of features          : 51</pre>"
       ],
       "metadata": {},
       "output_type": "display_data",
       "text": [
        "PROGRESS: Number of features          : 51"
       ]
      },
      {
       "html": [
        "<pre>PROGRESS: Number of unpacked features : 51</pre>"
       ],
       "metadata": {},
       "output_type": "display_data",
       "text": [
        "PROGRESS: Number of unpacked features : 51"
       ]
      },
      {
       "html": [
        "<pre>PROGRESS: Starting Boosted Trees</pre>"
       ],
       "metadata": {},
       "output_type": "display_data",
       "text": [
        "PROGRESS: Starting Boosted Trees"
       ]
      },
      {
       "html": [
        "<pre>PROGRESS: --------------------------------------------------------</pre>"
       ],
       "metadata": {},
       "output_type": "display_data",
       "text": [
        "PROGRESS: --------------------------------------------------------"
       ]
      },
      {
       "html": [
        "<pre>PROGRESS:   Iter        RMSE Elapsed time</pre>"
       ],
       "metadata": {},
       "output_type": "display_data",
       "text": [
        "PROGRESS:   Iter        RMSE Elapsed time"
       ]
      },
      {
       "html": [
        "<pre>PROGRESS:      0   4.461e+01        0.37s</pre>"
       ],
       "metadata": {},
       "output_type": "display_data",
       "text": [
        "PROGRESS:      0   4.461e+01        0.37s"
       ]
      },
      {
       "html": [
        "<pre>PROGRESS:      1   3.125e+01        0.62s</pre>"
       ],
       "metadata": {},
       "output_type": "display_data",
       "text": [
        "PROGRESS:      1   3.125e+01        0.62s"
       ]
      },
      {
       "html": [
        "<pre>PROGRESS:      2   2.188e+01        0.86s</pre>"
       ],
       "metadata": {},
       "output_type": "display_data",
       "text": [
        "PROGRESS:      2   2.188e+01        0.86s"
       ]
      },
      {
       "html": [
        "<pre>PROGRESS:      3   1.533e+01        1.12s</pre>"
       ],
       "metadata": {},
       "output_type": "display_data",
       "text": [
        "PROGRESS:      3   1.533e+01        1.12s"
       ]
      },
      {
       "html": [
        "<pre>PROGRESS:      4   1.073e+01        1.43s</pre>"
       ],
       "metadata": {},
       "output_type": "display_data",
       "text": [
        "PROGRESS:      4   1.073e+01        1.43s"
       ]
      },
      {
       "html": [
        "<pre>PROGRESS:      5   7.519e+00        1.74s</pre>"
       ],
       "metadata": {},
       "output_type": "display_data",
       "text": [
        "PROGRESS:      5   7.519e+00        1.74s"
       ]
      },
      {
       "html": [
        "<pre>PROGRESS:      6   5.267e+00        2.07s</pre>"
       ],
       "metadata": {},
       "output_type": "display_data",
       "text": [
        "PROGRESS:      6   5.267e+00        2.07s"
       ]
      },
      {
       "html": [
        "<pre>PROGRESS:      7   3.690e+00        2.34s</pre>"
       ],
       "metadata": {},
       "output_type": "display_data",
       "text": [
        "PROGRESS:      7   3.690e+00        2.34s"
       ]
      },
      {
       "html": [
        "<pre>PROGRESS:      8   2.586e+00        2.58s</pre>"
       ],
       "metadata": {},
       "output_type": "display_data",
       "text": [
        "PROGRESS:      8   2.586e+00        2.58s"
       ]
      },
      {
       "html": [
        "<pre>PROGRESS:      9   1.813e+00        2.87s</pre>"
       ],
       "metadata": {},
       "output_type": "display_data",
       "text": [
        "PROGRESS:      9   1.813e+00        2.87s"
       ]
      },
      {
       "output_type": "stream",
       "stream": "stdout",
       "text": [
        "\n",
        "                    Model summary                       \n",
        "--------------------------------------------------------\n",
        "Class                         : BoostedTreesRegression\n",
        "\n",
        "Number of examples            : 19048\n",
        "Number of feature columns     : 49\n",
        "Number of unpacked features   : 49\n",
        "\n",
        "Number of trees               : 10\n",
        "Max tree depth                : 6\n",
        "Train RMSE                    : 0.6732\n",
        "Validation RMSE               : None\n",
        "Training time (sec)           : 3.7935\n",
        "\n",
        "None\n",
        "filling tavg na = 1469\n"
       ]
      },
      {
       "output_type": "stream",
       "stream": "stdout",
       "text": [
        "\n",
        "                    Model summary                       \n",
        "--------------------------------------------------------\n",
        "Class                         : BoostedTreesRegression\n",
        "\n",
        "Number of examples            : 19048\n",
        "Number of feature columns     : 51\n",
        "Number of unpacked features   : 51\n",
        "\n",
        "Number of trees               : 10\n",
        "Max tree depth                : 6\n",
        "Train RMSE                    : 1.8126\n",
        "Validation RMSE               : None\n",
        "Training time (sec)           : 2.9332\n",
        "\n",
        "None\n",
        "filling sealevel na = 1724"
       ]
      },
      {
       "html": [
        "<pre>PROGRESS: Boosted trees regression:</pre>"
       ],
       "metadata": {},
       "output_type": "display_data",
       "text": [
        "PROGRESS: Boosted trees regression:"
       ]
      },
      {
       "html": [
        "<pre>PROGRESS: --------------------------------------------------------</pre>"
       ],
       "metadata": {},
       "output_type": "display_data",
       "text": [
        "PROGRESS: --------------------------------------------------------"
       ]
      },
      {
       "html": [
        "<pre>PROGRESS: Number of examples          : 18793</pre>"
       ],
       "metadata": {},
       "output_type": "display_data",
       "text": [
        "PROGRESS: Number of examples          : 18793"
       ]
      },
      {
       "html": [
        "<pre>PROGRESS: Number of features          : 53</pre>"
       ],
       "metadata": {},
       "output_type": "display_data",
       "text": [
        "PROGRESS: Number of features          : 53"
       ]
      },
      {
       "html": [
        "<pre>PROGRESS: Number of unpacked features : 53</pre>"
       ],
       "metadata": {},
       "output_type": "display_data",
       "text": [
        "PROGRESS: Number of unpacked features : 53"
       ]
      },
      {
       "html": [
        "<pre>PROGRESS: Starting Boosted Trees</pre>"
       ],
       "metadata": {},
       "output_type": "display_data",
       "text": [
        "PROGRESS: Starting Boosted Trees"
       ]
      },
      {
       "html": [
        "<pre>PROGRESS: --------------------------------------------------------</pre>"
       ],
       "metadata": {},
       "output_type": "display_data",
       "text": [
        "PROGRESS: --------------------------------------------------------"
       ]
      },
      {
       "html": [
        "<pre>PROGRESS:   Iter        RMSE Elapsed time</pre>"
       ],
       "metadata": {},
       "output_type": "display_data",
       "text": [
        "PROGRESS:   Iter        RMSE Elapsed time"
       ]
      },
      {
       "html": [
        "<pre>PROGRESS:      0   2.066e+01        0.25s</pre>"
       ],
       "metadata": {},
       "output_type": "display_data",
       "text": [
        "PROGRESS:      0   2.066e+01        0.25s"
       ]
      },
      {
       "html": [
        "<pre>PROGRESS:      1   1.446e+01        0.37s</pre>"
       ],
       "metadata": {},
       "output_type": "display_data",
       "text": [
        "PROGRESS:      1   1.446e+01        0.37s"
       ]
      },
      {
       "html": [
        "<pre>PROGRESS:      2   1.012e+01        0.48s</pre>"
       ],
       "metadata": {},
       "output_type": "display_data",
       "text": [
        "PROGRESS:      2   1.012e+01        0.48s"
       ]
      },
      {
       "html": [
        "<pre>PROGRESS:      3   7.088e+00        0.60s</pre>"
       ],
       "metadata": {},
       "output_type": "display_data",
       "text": [
        "PROGRESS:      3   7.088e+00        0.60s"
       ]
      },
      {
       "html": [
        "<pre>PROGRESS:      4   4.964e+00        0.74s</pre>"
       ],
       "metadata": {},
       "output_type": "display_data",
       "text": [
        "PROGRESS:      4   4.964e+00        0.74s"
       ]
      },
      {
       "html": [
        "<pre>PROGRESS:      5   3.477e+00        0.90s</pre>"
       ],
       "metadata": {},
       "output_type": "display_data",
       "text": [
        "PROGRESS:      5   3.477e+00        0.90s"
       ]
      },
      {
       "html": [
        "<pre>PROGRESS:      6   2.437e+00        1.07s</pre>"
       ],
       "metadata": {},
       "output_type": "display_data",
       "text": [
        "PROGRESS:      6   2.437e+00        1.07s"
       ]
      },
      {
       "html": [
        "<pre>PROGRESS:      7   1.709e+00        1.51s</pre>"
       ],
       "metadata": {},
       "output_type": "display_data",
       "text": [
        "PROGRESS:      7   1.709e+00        1.51s"
       ]
      },
      {
       "html": [
        "<pre>PROGRESS:      8   1.201e+00        1.92s</pre>"
       ],
       "metadata": {},
       "output_type": "display_data",
       "text": [
        "PROGRESS:      8   1.201e+00        1.92s"
       ]
      },
      {
       "html": [
        "<pre>PROGRESS:      9   8.468e-01        2.41s</pre>"
       ],
       "metadata": {},
       "output_type": "display_data",
       "text": [
        "PROGRESS:      9   8.468e-01        2.41s"
       ]
      },
      {
       "output_type": "stream",
       "stream": "stdout",
       "text": [
        "\n"
       ]
      },
      {
       "output_type": "stream",
       "stream": "stdout",
       "text": [
        "\n",
        "                    Model summary                       \n",
        "--------------------------------------------------------\n",
        "Class                         : BoostedTreesRegression\n",
        "\n",
        "Number of examples            : 18793\n",
        "Number of feature columns     : 53\n",
        "Number of unpacked features   : 53\n",
        "\n",
        "Number of trees               : 10\n",
        "Max tree depth                : 6\n",
        "Train RMSE                    : 0.8468\n",
        "Validation RMSE               : None\n",
        "Training time (sec)           : 2.4866\n",
        "\n",
        "None\n",
        "filling snowfall na = 7224"
       ]
      },
      {
       "html": [
        "<pre>PROGRESS: Boosted trees regression:</pre>"
       ],
       "metadata": {},
       "output_type": "display_data",
       "text": [
        "PROGRESS: Boosted trees regression:"
       ]
      },
      {
       "html": [
        "<pre>PROGRESS: --------------------------------------------------------</pre>"
       ],
       "metadata": {},
       "output_type": "display_data",
       "text": [
        "PROGRESS: --------------------------------------------------------"
       ]
      },
      {
       "html": [
        "<pre>PROGRESS: Number of examples          : 13293</pre>"
       ],
       "metadata": {},
       "output_type": "display_data",
       "text": [
        "PROGRESS: Number of examples          : 13293"
       ]
      },
      {
       "html": [
        "<pre>PROGRESS: Number of features          : 55</pre>"
       ],
       "metadata": {},
       "output_type": "display_data",
       "text": [
        "PROGRESS: Number of features          : 55"
       ]
      },
      {
       "html": [
        "<pre>PROGRESS: Number of unpacked features : 55</pre>"
       ],
       "metadata": {},
       "output_type": "display_data",
       "text": [
        "PROGRESS: Number of unpacked features : 55"
       ]
      },
      {
       "html": [
        "<pre>PROGRESS: Starting Boosted Trees</pre>"
       ],
       "metadata": {},
       "output_type": "display_data",
       "text": [
        "PROGRESS: Starting Boosted Trees"
       ]
      },
      {
       "html": [
        "<pre>PROGRESS: --------------------------------------------------------</pre>"
       ],
       "metadata": {},
       "output_type": "display_data",
       "text": [
        "PROGRESS: --------------------------------------------------------"
       ]
      },
      {
       "html": [
        "<pre>PROGRESS:   Iter        RMSE Elapsed time</pre>"
       ],
       "metadata": {},
       "output_type": "display_data",
       "text": [
        "PROGRESS:   Iter        RMSE Elapsed time"
       ]
      },
      {
       "html": [
        "<pre>PROGRESS:      0   4.949e-01        0.70s</pre>"
       ],
       "metadata": {},
       "output_type": "display_data",
       "text": [
        "PROGRESS:      0   4.949e-01        0.70s"
       ]
      },
      {
       "html": [
        "<pre>PROGRESS:      1   3.666e-01        1.37s</pre>"
       ],
       "metadata": {},
       "output_type": "display_data",
       "text": [
        "PROGRESS:      1   3.666e-01        1.37s"
       ]
      },
      {
       "html": [
        "<pre>PROGRESS:      2   2.766e-01        1.96s</pre>"
       ],
       "metadata": {},
       "output_type": "display_data",
       "text": [
        "PROGRESS:      2   2.766e-01        1.96s"
       ]
      },
      {
       "html": [
        "<pre>PROGRESS:      3   2.121e-01        2.43s</pre>"
       ],
       "metadata": {},
       "output_type": "display_data",
       "text": [
        "PROGRESS:      3   2.121e-01        2.43s"
       ]
      },
      {
       "html": [
        "<pre>PROGRESS:      4   1.666e-01        2.99s</pre>"
       ],
       "metadata": {},
       "output_type": "display_data",
       "text": [
        "PROGRESS:      4   1.666e-01        2.99s"
       ]
      },
      {
       "html": [
        "<pre>PROGRESS:      5   1.335e-01        3.43s</pre>"
       ],
       "metadata": {},
       "output_type": "display_data",
       "text": [
        "PROGRESS:      5   1.335e-01        3.43s"
       ]
      },
      {
       "html": [
        "<pre>PROGRESS:      6   1.098e-01        3.86s</pre>"
       ],
       "metadata": {},
       "output_type": "display_data",
       "text": [
        "PROGRESS:      6   1.098e-01        3.86s"
       ]
      },
      {
       "html": [
        "<pre>PROGRESS:      7   9.371e-02        4.19s</pre>"
       ],
       "metadata": {},
       "output_type": "display_data",
       "text": [
        "PROGRESS:      7   9.371e-02        4.19s"
       ]
      },
      {
       "html": [
        "<pre>PROGRESS:      8   8.113e-02        4.50s</pre>"
       ],
       "metadata": {},
       "output_type": "display_data",
       "text": [
        "PROGRESS:      8   8.113e-02        4.50s"
       ]
      },
      {
       "html": [
        "<pre>PROGRESS:      9   7.239e-02        4.93s</pre>"
       ],
       "metadata": {},
       "output_type": "display_data",
       "text": [
        "PROGRESS:      9   7.239e-02        4.93s"
       ]
      },
      {
       "output_type": "stream",
       "stream": "stdout",
       "text": [
        "\n"
       ]
      },
      {
       "output_type": "stream",
       "stream": "stdout",
       "text": [
        "\n",
        "                    Model summary                       \n",
        "--------------------------------------------------------\n",
        "Class                         : BoostedTreesRegression\n",
        "\n",
        "Number of examples            : 13293\n",
        "Number of feature columns     : 55\n",
        "Number of unpacked features   : 55\n",
        "\n",
        "Number of trees               : 10\n",
        "Max tree depth                : 6\n",
        "Train RMSE                    : 0.0724\n",
        "Validation RMSE               : None\n",
        "Training time (sec)           : 4.9776\n",
        "\n",
        "None\n",
        "filling day_length na = 9656"
       ]
      },
      {
       "html": [
        "<pre>PROGRESS: Boosted trees regression:</pre>"
       ],
       "metadata": {},
       "output_type": "display_data",
       "text": [
        "PROGRESS: Boosted trees regression:"
       ]
      },
      {
       "html": [
        "<pre>PROGRESS: --------------------------------------------------------</pre>"
       ],
       "metadata": {},
       "output_type": "display_data",
       "text": [
        "PROGRESS: --------------------------------------------------------"
       ]
      },
      {
       "html": [
        "<pre>PROGRESS: Number of examples          : 10861</pre>"
       ],
       "metadata": {},
       "output_type": "display_data",
       "text": [
        "PROGRESS: Number of examples          : 10861"
       ]
      },
      {
       "html": [
        "<pre>PROGRESS: Number of features          : 57</pre>"
       ],
       "metadata": {},
       "output_type": "display_data",
       "text": [
        "PROGRESS: Number of features          : 57"
       ]
      },
      {
       "html": [
        "<pre>PROGRESS: Number of unpacked features : 57</pre>"
       ],
       "metadata": {},
       "output_type": "display_data",
       "text": [
        "PROGRESS: Number of unpacked features : 57"
       ]
      },
      {
       "html": [
        "<pre>PROGRESS: Starting Boosted Trees</pre>"
       ],
       "metadata": {},
       "output_type": "display_data",
       "text": [
        "PROGRESS: Starting Boosted Trees"
       ]
      },
      {
       "html": [
        "<pre>PROGRESS: --------------------------------------------------------</pre>"
       ],
       "metadata": {},
       "output_type": "display_data",
       "text": [
        "PROGRESS: --------------------------------------------------------"
       ]
      },
      {
       "html": [
        "<pre>PROGRESS:   Iter        RMSE Elapsed time</pre>"
       ],
       "metadata": {},
       "output_type": "display_data",
       "text": [
        "PROGRESS:   Iter        RMSE Elapsed time"
       ]
      },
      {
       "html": [
        "<pre>PROGRESS:      0   5.254e+02        0.25s</pre>"
       ],
       "metadata": {},
       "output_type": "display_data",
       "text": [
        "PROGRESS:      0   5.254e+02        0.25s"
       ]
      },
      {
       "html": [
        "<pre>PROGRESS:      1   3.683e+02        0.33s</pre>"
       ],
       "metadata": {},
       "output_type": "display_data",
       "text": [
        "PROGRESS:      1   3.683e+02        0.33s"
       ]
      },
      {
       "html": [
        "<pre>PROGRESS:      2   2.584e+02        0.56s</pre>"
       ],
       "metadata": {},
       "output_type": "display_data",
       "text": [
        "PROGRESS:      2   2.584e+02        0.56s"
       ]
      },
      {
       "html": [
        "<pre>PROGRESS:      3   1.815e+02        0.78s</pre>"
       ],
       "metadata": {},
       "output_type": "display_data",
       "text": [
        "PROGRESS:      3   1.815e+02        0.78s"
       ]
      },
      {
       "html": [
        "<pre>PROGRESS:      4   1.277e+02        1.00s</pre>"
       ],
       "metadata": {},
       "output_type": "display_data",
       "text": [
        "PROGRESS:      4   1.277e+02        1.00s"
       ]
      },
      {
       "html": [
        "<pre>PROGRESS:      5   9.015e+01        1.25s</pre>"
       ],
       "metadata": {},
       "output_type": "display_data",
       "text": [
        "PROGRESS:      5   9.015e+01        1.25s"
       ]
      },
      {
       "html": [
        "<pre>PROGRESS:      6   6.392e+01        1.54s</pre>"
       ],
       "metadata": {},
       "output_type": "display_data",
       "text": [
        "PROGRESS:      6   6.392e+01        1.54s"
       ]
      },
      {
       "html": [
        "<pre>PROGRESS:      7   4.565e+01        1.81s</pre>"
       ],
       "metadata": {},
       "output_type": "display_data",
       "text": [
        "PROGRESS:      7   4.565e+01        1.81s"
       ]
      },
      {
       "html": [
        "<pre>PROGRESS:      8   3.314e+01        2.13s</pre>"
       ],
       "metadata": {},
       "output_type": "display_data",
       "text": [
        "PROGRESS:      8   3.314e+01        2.13s"
       ]
      },
      {
       "html": [
        "<pre>PROGRESS:      9   2.460e+01        2.46s</pre>"
       ],
       "metadata": {},
       "output_type": "display_data",
       "text": [
        "PROGRESS:      9   2.460e+01        2.46s"
       ]
      },
      {
       "output_type": "stream",
       "stream": "stdout",
       "text": [
        "\n"
       ]
      },
      {
       "output_type": "stream",
       "stream": "stdout",
       "text": [
        "\n",
        "                    Model summary                       \n",
        "--------------------------------------------------------\n",
        "Class                         : BoostedTreesRegression\n",
        "\n",
        "Number of examples            : 10861\n",
        "Number of feature columns     : 57\n",
        "Number of unpacked features   : 57\n",
        "\n",
        "Number of trees               : 10\n",
        "Max tree depth                : 6\n",
        "Train RMSE                    : 24.6023\n",
        "Validation RMSE               : None\n",
        "Training time (sec)           : 2.5114\n",
        "\n",
        "None\n",
        "filling depart na = 11511"
       ]
      },
      {
       "html": [
        "<pre>PROGRESS: WARNING: Detected extremely low variance for feature(s) 'heatNAN', 'tavgNAN' because all entries are nearly the same.\n",
        "Proceeding with model training using all features. If the model does not provide results of adequate quality, exclude the above mentioned feature(s) from the input dataset.</pre>"
       ],
       "metadata": {},
       "output_type": "display_data",
       "text": [
        "PROGRESS: WARNING: Detected extremely low variance for feature(s) 'heatNAN', 'tavgNAN' because all entries are nearly the same.\n",
        "Proceeding with model training using all features. If the model does not provide results of adequate quality, exclude the above mentioned feature(s) from the input dataset."
       ]
      },
      {
       "html": [
        "<pre>PROGRESS: Boosted trees regression:</pre>"
       ],
       "metadata": {},
       "output_type": "display_data",
       "text": [
        "PROGRESS: Boosted trees regression:"
       ]
      },
      {
       "html": [
        "<pre>PROGRESS: --------------------------------------------------------</pre>"
       ],
       "metadata": {},
       "output_type": "display_data",
       "text": [
        "PROGRESS: --------------------------------------------------------"
       ]
      },
      {
       "html": [
        "<pre>PROGRESS: Number of examples          : 9006</pre>"
       ],
       "metadata": {},
       "output_type": "display_data",
       "text": [
        "PROGRESS: Number of examples          : 9006"
       ]
      },
      {
       "html": [
        "<pre>PROGRESS: Number of features          : 59</pre>"
       ],
       "metadata": {},
       "output_type": "display_data",
       "text": [
        "PROGRESS: Number of features          : 59"
       ]
      },
      {
       "html": [
        "<pre>PROGRESS: Number of unpacked features : 59</pre>"
       ],
       "metadata": {},
       "output_type": "display_data",
       "text": [
        "PROGRESS: Number of unpacked features : 59"
       ]
      },
      {
       "html": [
        "<pre>PROGRESS: Starting Boosted Trees</pre>"
       ],
       "metadata": {},
       "output_type": "display_data",
       "text": [
        "PROGRESS: Starting Boosted Trees"
       ]
      },
      {
       "html": [
        "<pre>PROGRESS: --------------------------------------------------------</pre>"
       ],
       "metadata": {},
       "output_type": "display_data",
       "text": [
        "PROGRESS: --------------------------------------------------------"
       ]
      },
      {
       "html": [
        "<pre>PROGRESS:   Iter        RMSE Elapsed time</pre>"
       ],
       "metadata": {},
       "output_type": "display_data",
       "text": [
        "PROGRESS:   Iter        RMSE Elapsed time"
       ]
      },
      {
       "html": [
        "<pre>PROGRESS:      0   6.587e+00        0.49s</pre>"
       ],
       "metadata": {},
       "output_type": "display_data",
       "text": [
        "PROGRESS:      0   6.587e+00        0.49s"
       ]
      },
      {
       "html": [
        "<pre>PROGRESS:      1   5.855e+00        0.80s</pre>"
       ],
       "metadata": {},
       "output_type": "display_data",
       "text": [
        "PROGRESS:      1   5.855e+00        0.80s"
       ]
      },
      {
       "html": [
        "<pre>PROGRESS:      2   5.246e+00        1.13s</pre>"
       ],
       "metadata": {},
       "output_type": "display_data",
       "text": [
        "PROGRESS:      2   5.246e+00        1.13s"
       ]
      },
      {
       "html": [
        "<pre>PROGRESS:      3   4.838e+00        1.43s</pre>"
       ],
       "metadata": {},
       "output_type": "display_data",
       "text": [
        "PROGRESS:      3   4.838e+00        1.43s"
       ]
      },
      {
       "html": [
        "<pre>PROGRESS:      4   4.546e+00        1.74s</pre>"
       ],
       "metadata": {},
       "output_type": "display_data",
       "text": [
        "PROGRESS:      4   4.546e+00        1.74s"
       ]
      },
      {
       "html": [
        "<pre>PROGRESS:      5   4.259e+00        2.04s</pre>"
       ],
       "metadata": {},
       "output_type": "display_data",
       "text": [
        "PROGRESS:      5   4.259e+00        2.04s"
       ]
      },
      {
       "html": [
        "<pre>PROGRESS:      6   4.116e+00        2.35s</pre>"
       ],
       "metadata": {},
       "output_type": "display_data",
       "text": [
        "PROGRESS:      6   4.116e+00        2.35s"
       ]
      },
      {
       "html": [
        "<pre>PROGRESS:      7   3.926e+00        2.65s</pre>"
       ],
       "metadata": {},
       "output_type": "display_data",
       "text": [
        "PROGRESS:      7   3.926e+00        2.65s"
       ]
      },
      {
       "html": [
        "<pre>PROGRESS:      8   3.785e+00        2.93s</pre>"
       ],
       "metadata": {},
       "output_type": "display_data",
       "text": [
        "PROGRESS:      8   3.785e+00        2.93s"
       ]
      },
      {
       "html": [
        "<pre>PROGRESS:      9   3.669e+00        3.27s</pre>"
       ],
       "metadata": {},
       "output_type": "display_data",
       "text": [
        "PROGRESS:      9   3.669e+00        3.27s"
       ]
      },
      {
       "output_type": "stream",
       "stream": "stdout",
       "text": [
        "\n"
       ]
      },
      {
       "output_type": "stream",
       "stream": "stdout",
       "text": [
        "\n",
        "                    Model summary                       \n",
        "--------------------------------------------------------\n",
        "Class                         : BoostedTreesRegression\n",
        "\n",
        "Number of examples            : 9006\n",
        "Number of feature columns     : 59\n",
        "Number of unpacked features   : 59\n",
        "\n",
        "Number of trees               : 10\n",
        "Max tree depth                : 6\n",
        "Train RMSE                    : 3.6689\n",
        "Validation RMSE               : None\n",
        "Training time (sec)           : 3.3023\n",
        "\n",
        "None\n"
       ]
      }
     ],
     "prompt_number": 37
    },
    {
     "cell_type": "code",
     "collapsed": false,
     "input": [
      "weather_result.head()"
     ],
     "language": "python",
     "metadata": {},
     "outputs": [
      {
       "html": [
        "<div style=\"max-height:1000px;max-width:1500px;overflow:auto;\"><table frame=\"box\" rules=\"cols\">\n",
        "    <tr>\n",
        "        <th style=\"padding-left: 1em; padding-right: 1em; text-align: center\">station_nbr</th>\n",
        "        <th style=\"padding-left: 1em; padding-right: 1em; text-align: center\">tmax</th>\n",
        "        <th style=\"padding-left: 1em; padding-right: 1em; text-align: center\">tmin</th>\n",
        "        <th style=\"padding-left: 1em; padding-right: 1em; text-align: center\">tavg</th>\n",
        "        <th style=\"padding-left: 1em; padding-right: 1em; text-align: center\">depart</th>\n",
        "        <th style=\"padding-left: 1em; padding-right: 1em; text-align: center\">dewpoint</th>\n",
        "        <th style=\"padding-left: 1em; padding-right: 1em; text-align: center\">wetbulb</th>\n",
        "        <th style=\"padding-left: 1em; padding-right: 1em; text-align: center\">heat</th>\n",
        "        <th style=\"padding-left: 1em; padding-right: 1em; text-align: center\">cool</th>\n",
        "        <th style=\"padding-left: 1em; padding-right: 1em; text-align: center\">snowfall</th>\n",
        "        <th style=\"padding-left: 1em; padding-right: 1em; text-align: center\">preciptotal</th>\n",
        "        <th style=\"padding-left: 1em; padding-right: 1em; text-align: center\">stnpressure</th>\n",
        "    </tr>\n",
        "    <tr>\n",
        "        <td style=\"padding-left: 1em; padding-right: 1em; text-align: center; vertical-align: top\">2</td>\n",
        "        <td style=\"padding-left: 1em; padding-right: 1em; text-align: center; vertical-align: top\">48.0</td>\n",
        "        <td style=\"padding-left: 1em; padding-right: 1em; text-align: center; vertical-align: top\">33.0</td>\n",
        "        <td style=\"padding-left: 1em; padding-right: 1em; text-align: center; vertical-align: top\">41.0</td>\n",
        "        <td style=\"padding-left: 1em; padding-right: 1em; text-align: center; vertical-align: top\">16.0</td>\n",
        "        <td style=\"padding-left: 1em; padding-right: 1em; text-align: center; vertical-align: top\">37.0</td>\n",
        "        <td style=\"padding-left: 1em; padding-right: 1em; text-align: center; vertical-align: top\">39.0</td>\n",
        "        <td style=\"padding-left: 1em; padding-right: 1em; text-align: center; vertical-align: top\">24.0</td>\n",
        "        <td style=\"padding-left: 1em; padding-right: 1em; text-align: center; vertical-align: top\">0.0</td>\n",
        "        <td style=\"padding-left: 1em; padding-right: 1em; text-align: center; vertical-align: top\">0.0</td>\n",
        "        <td style=\"padding-left: 1em; padding-right: 1em; text-align: center; vertical-align: top\">0.07</td>\n",
        "        <td style=\"padding-left: 1em; padding-right: 1em; text-align: center; vertical-align: top\">28.82</td>\n",
        "    </tr>\n",
        "    <tr>\n",
        "        <td style=\"padding-left: 1em; padding-right: 1em; text-align: center; vertical-align: top\">3</td>\n",
        "        <td style=\"padding-left: 1em; padding-right: 1em; text-align: center; vertical-align: top\">55.0</td>\n",
        "        <td style=\"padding-left: 1em; padding-right: 1em; text-align: center; vertical-align: top\">34.0</td>\n",
        "        <td style=\"padding-left: 1em; padding-right: 1em; text-align: center; vertical-align: top\">45.0</td>\n",
        "        <td style=\"padding-left: 1em; padding-right: 1em; text-align: center; vertical-align: top\">9.0</td>\n",
        "        <td style=\"padding-left: 1em; padding-right: 1em; text-align: center; vertical-align: top\">24.0</td>\n",
        "        <td style=\"padding-left: 1em; padding-right: 1em; text-align: center; vertical-align: top\">36.0</td>\n",
        "        <td style=\"padding-left: 1em; padding-right: 1em; text-align: center; vertical-align: top\">20.0</td>\n",
        "        <td style=\"padding-left: 1em; padding-right: 1em; text-align: center; vertical-align: top\">0.0</td>\n",
        "        <td style=\"padding-left: 1em; padding-right: 1em; text-align: center; vertical-align: top\">0.0</td>\n",
        "        <td style=\"padding-left: 1em; padding-right: 1em; text-align: center; vertical-align: top\">0.0</td>\n",
        "        <td style=\"padding-left: 1em; padding-right: 1em; text-align: center; vertical-align: top\">29.77</td>\n",
        "    </tr>\n",
        "    <tr>\n",
        "        <td style=\"padding-left: 1em; padding-right: 1em; text-align: center; vertical-align: top\">4</td>\n",
        "        <td style=\"padding-left: 1em; padding-right: 1em; text-align: center; vertical-align: top\">63.0</td>\n",
        "        <td style=\"padding-left: 1em; padding-right: 1em; text-align: center; vertical-align: top\">47.0</td>\n",
        "        <td style=\"padding-left: 1em; padding-right: 1em; text-align: center; vertical-align: top\">55.0</td>\n",
        "        <td style=\"padding-left: 1em; padding-right: 1em; text-align: center; vertical-align: top\">4.0</td>\n",
        "        <td style=\"padding-left: 1em; padding-right: 1em; text-align: center; vertical-align: top\">28.0</td>\n",
        "        <td style=\"padding-left: 1em; padding-right: 1em; text-align: center; vertical-align: top\">43.0</td>\n",
        "        <td style=\"padding-left: 1em; padding-right: 1em; text-align: center; vertical-align: top\">10.0</td>\n",
        "        <td style=\"padding-left: 1em; padding-right: 1em; text-align: center; vertical-align: top\">0.0</td>\n",
        "        <td style=\"padding-left: 1em; padding-right: 1em; text-align: center; vertical-align: top\">0.0</td>\n",
        "        <td style=\"padding-left: 1em; padding-right: 1em; text-align: center; vertical-align: top\">0.0</td>\n",
        "        <td style=\"padding-left: 1em; padding-right: 1em; text-align: center; vertical-align: top\">29.79</td>\n",
        "    </tr>\n",
        "    <tr>\n",
        "        <td style=\"padding-left: 1em; padding-right: 1em; text-align: center; vertical-align: top\">6</td>\n",
        "        <td style=\"padding-left: 1em; padding-right: 1em; text-align: center; vertical-align: top\">63.0</td>\n",
        "        <td style=\"padding-left: 1em; padding-right: 1em; text-align: center; vertical-align: top\">34.0</td>\n",
        "        <td style=\"padding-left: 1em; padding-right: 1em; text-align: center; vertical-align: top\">49.0</td>\n",
        "        <td style=\"padding-left: 1em; padding-right: 1em; text-align: center; vertical-align: top\">0.0</td>\n",
        "        <td style=\"padding-left: 1em; padding-right: 1em; text-align: center; vertical-align: top\">31.0</td>\n",
        "        <td style=\"padding-left: 1em; padding-right: 1em; text-align: center; vertical-align: top\">43.0</td>\n",
        "        <td style=\"padding-left: 1em; padding-right: 1em; text-align: center; vertical-align: top\">16.0</td>\n",
        "        <td style=\"padding-left: 1em; padding-right: 1em; text-align: center; vertical-align: top\">0.0</td>\n",
        "        <td style=\"padding-left: 1em; padding-right: 1em; text-align: center; vertical-align: top\">0.0</td>\n",
        "        <td style=\"padding-left: 1em; padding-right: 1em; text-align: center; vertical-align: top\">0.0</td>\n",
        "        <td style=\"padding-left: 1em; padding-right: 1em; text-align: center; vertical-align: top\">29.95</td>\n",
        "    </tr>\n",
        "    <tr>\n",
        "        <td style=\"padding-left: 1em; padding-right: 1em; text-align: center; vertical-align: top\">11</td>\n",
        "        <td style=\"padding-left: 1em; padding-right: 1em; text-align: center; vertical-align: top\">72.0</td>\n",
        "        <td style=\"padding-left: 1em; padding-right: 1em; text-align: center; vertical-align: top\">48.0</td>\n",
        "        <td style=\"padding-left: 1em; padding-right: 1em; text-align: center; vertical-align: top\">60.0</td>\n",
        "        <td style=\"padding-left: 1em; padding-right: 1em; text-align: center; vertical-align: top\">7.0</td>\n",
        "        <td style=\"padding-left: 1em; padding-right: 1em; text-align: center; vertical-align: top\">54.0</td>\n",
        "        <td style=\"padding-left: 1em; padding-right: 1em; text-align: center; vertical-align: top\">56.0</td>\n",
        "        <td style=\"padding-left: 1em; padding-right: 1em; text-align: center; vertical-align: top\">5.0</td>\n",
        "        <td style=\"padding-left: 1em; padding-right: 1em; text-align: center; vertical-align: top\">0.0</td>\n",
        "        <td style=\"padding-left: 1em; padding-right: 1em; text-align: center; vertical-align: top\">0.0</td>\n",
        "        <td style=\"padding-left: 1em; padding-right: 1em; text-align: center; vertical-align: top\">0.0</td>\n",
        "        <td style=\"padding-left: 1em; padding-right: 1em; text-align: center; vertical-align: top\">30.15</td>\n",
        "    </tr>\n",
        "    <tr>\n",
        "        <td style=\"padding-left: 1em; padding-right: 1em; text-align: center; vertical-align: top\">14</td>\n",
        "        <td style=\"padding-left: 1em; padding-right: 1em; text-align: center; vertical-align: top\">50.0</td>\n",
        "        <td style=\"padding-left: 1em; padding-right: 1em; text-align: center; vertical-align: top\">34.0</td>\n",
        "        <td style=\"padding-left: 1em; padding-right: 1em; text-align: center; vertical-align: top\">42.0</td>\n",
        "        <td style=\"padding-left: 1em; padding-right: 1em; text-align: center; vertical-align: top\">5.0</td>\n",
        "        <td style=\"padding-left: 1em; padding-right: 1em; text-align: center; vertical-align: top\">25.0</td>\n",
        "        <td style=\"padding-left: 1em; padding-right: 1em; text-align: center; vertical-align: top\">35.0</td>\n",
        "        <td style=\"padding-left: 1em; padding-right: 1em; text-align: center; vertical-align: top\">23.0</td>\n",
        "        <td style=\"padding-left: 1em; padding-right: 1em; text-align: center; vertical-align: top\">0.0</td>\n",
        "        <td style=\"padding-left: 1em; padding-right: 1em; text-align: center; vertical-align: top\">0.0</td>\n",
        "        <td style=\"padding-left: 1em; padding-right: 1em; text-align: center; vertical-align: top\">0.0</td>\n",
        "        <td style=\"padding-left: 1em; padding-right: 1em; text-align: center; vertical-align: top\">29.13</td>\n",
        "    </tr>\n",
        "    <tr>\n",
        "        <td style=\"padding-left: 1em; padding-right: 1em; text-align: center; vertical-align: top\">15</td>\n",
        "        <td style=\"padding-left: 1em; padding-right: 1em; text-align: center; vertical-align: top\">48.0</td>\n",
        "        <td style=\"padding-left: 1em; padding-right: 1em; text-align: center; vertical-align: top\">26.0</td>\n",
        "        <td style=\"padding-left: 1em; padding-right: 1em; text-align: center; vertical-align: top\">37.0</td>\n",
        "        <td style=\"padding-left: 1em; padding-right: 1em; text-align: center; vertical-align: top\">16.0</td>\n",
        "        <td style=\"padding-left: 1em; padding-right: 1em; text-align: center; vertical-align: top\">35.0</td>\n",
        "        <td style=\"padding-left: 1em; padding-right: 1em; text-align: center; vertical-align: top\">38.0</td>\n",
        "        <td style=\"padding-left: 1em; padding-right: 1em; text-align: center; vertical-align: top\">28.0</td>\n",
        "        <td style=\"padding-left: 1em; padding-right: 1em; text-align: center; vertical-align: top\">0.0</td>\n",
        "        <td style=\"padding-left: 1em; padding-right: 1em; text-align: center; vertical-align: top\">0.0</td>\n",
        "        <td style=\"padding-left: 1em; padding-right: 1em; text-align: center; vertical-align: top\">0.09</td>\n",
        "        <td style=\"padding-left: 1em; padding-right: 1em; text-align: center; vertical-align: top\">29.53</td>\n",
        "    </tr>\n",
        "    <tr>\n",
        "        <td style=\"padding-left: 1em; padding-right: 1em; text-align: center; vertical-align: top\">18</td>\n",
        "        <td style=\"padding-left: 1em; padding-right: 1em; text-align: center; vertical-align: top\">59.0</td>\n",
        "        <td style=\"padding-left: 1em; padding-right: 1em; text-align: center; vertical-align: top\">40.0</td>\n",
        "        <td style=\"padding-left: 1em; padding-right: 1em; text-align: center; vertical-align: top\">50.0</td>\n",
        "        <td style=\"padding-left: 1em; padding-right: 1em; text-align: center; vertical-align: top\">4.0</td>\n",
        "        <td style=\"padding-left: 1em; padding-right: 1em; text-align: center; vertical-align: top\">28.0</td>\n",
        "        <td style=\"padding-left: 1em; padding-right: 1em; text-align: center; vertical-align: top\">40.0</td>\n",
        "        <td style=\"padding-left: 1em; padding-right: 1em; text-align: center; vertical-align: top\">15.0</td>\n",
        "        <td style=\"padding-left: 1em; padding-right: 1em; text-align: center; vertical-align: top\">0.0</td>\n",
        "        <td style=\"padding-left: 1em; padding-right: 1em; text-align: center; vertical-align: top\">0.0</td>\n",
        "        <td style=\"padding-left: 1em; padding-right: 1em; text-align: center; vertical-align: top\">0.0</td>\n",
        "        <td style=\"padding-left: 1em; padding-right: 1em; text-align: center; vertical-align: top\">29.98</td>\n",
        "    </tr>\n",
        "    <tr>\n",
        "        <td style=\"padding-left: 1em; padding-right: 1em; text-align: center; vertical-align: top\">19</td>\n",
        "        <td style=\"padding-left: 1em; padding-right: 1em; text-align: center; vertical-align: top\">38.0</td>\n",
        "        <td style=\"padding-left: 1em; padding-right: 1em; text-align: center; vertical-align: top\">25.0</td>\n",
        "        <td style=\"padding-left: 1em; padding-right: 1em; text-align: center; vertical-align: top\">32.0</td>\n",
        "        <td style=\"padding-left: 1em; padding-right: 1em; text-align: center; vertical-align: top\">10.0</td>\n",
        "        <td style=\"padding-left: 1em; padding-right: 1em; text-align: center; vertical-align: top\">26.0</td>\n",
        "        <td style=\"padding-left: 1em; padding-right: 1em; text-align: center; vertical-align: top\">30.0</td>\n",
        "        <td style=\"padding-left: 1em; padding-right: 1em; text-align: center; vertical-align: top\">33.0</td>\n",
        "        <td style=\"padding-left: 1em; padding-right: 1em; text-align: center; vertical-align: top\">0.0</td>\n",
        "        <td style=\"padding-left: 1em; padding-right: 1em; text-align: center; vertical-align: top\">0.5</td>\n",
        "        <td style=\"padding-left: 1em; padding-right: 1em; text-align: center; vertical-align: top\">0.12</td>\n",
        "        <td style=\"padding-left: 1em; padding-right: 1em; text-align: center; vertical-align: top\">29.06</td>\n",
        "    </tr>\n",
        "    <tr>\n",
        "        <td style=\"padding-left: 1em; padding-right: 1em; text-align: center; vertical-align: top\">2</td>\n",
        "        <td style=\"padding-left: 1em; padding-right: 1em; text-align: center; vertical-align: top\">46.0</td>\n",
        "        <td style=\"padding-left: 1em; padding-right: 1em; text-align: center; vertical-align: top\">28.0</td>\n",
        "        <td style=\"padding-left: 1em; padding-right: 1em; text-align: center; vertical-align: top\">37.0</td>\n",
        "        <td style=\"padding-left: 1em; padding-right: 1em; text-align: center; vertical-align: top\">12.0</td>\n",
        "        <td style=\"padding-left: 1em; padding-right: 1em; text-align: center; vertical-align: top\">24.0</td>\n",
        "        <td style=\"padding-left: 1em; padding-right: 1em; text-align: center; vertical-align: top\">32.0</td>\n",
        "        <td style=\"padding-left: 1em; padding-right: 1em; text-align: center; vertical-align: top\">28.0</td>\n",
        "        <td style=\"padding-left: 1em; padding-right: 1em; text-align: center; vertical-align: top\">0.0</td>\n",
        "        <td style=\"padding-left: 1em; padding-right: 1em; text-align: center; vertical-align: top\">0.01</td>\n",
        "        <td style=\"padding-left: 1em; padding-right: 1em; text-align: center; vertical-align: top\">0.01</td>\n",
        "        <td style=\"padding-left: 1em; padding-right: 1em; text-align: center; vertical-align: top\">28.51</td>\n",
        "    </tr>\n",
        "</table>\n",
        "<table frame=\"box\" rules=\"cols\">\n",
        "    <tr>\n",
        "        <th style=\"padding-left: 1em; padding-right: 1em; text-align: center\">sealevel</th>\n",
        "        <th style=\"padding-left: 1em; padding-right: 1em; text-align: center\">resultspeed</th>\n",
        "        <th style=\"padding-left: 1em; padding-right: 1em; text-align: center\">resultdir</th>\n",
        "        <th style=\"padding-left: 1em; padding-right: 1em; text-align: center\">avgspeed</th>\n",
        "        <th style=\"padding-left: 1em; padding-right: 1em; text-align: center\">HZ</th>\n",
        "        <th style=\"padding-left: 1em; padding-right: 1em; text-align: center\">FU</th>\n",
        "        <th style=\"padding-left: 1em; padding-right: 1em; text-align: center\">UP</th>\n",
        "        <th style=\"padding-left: 1em; padding-right: 1em; text-align: center\">VCTS</th>\n",
        "        <th style=\"padding-left: 1em; padding-right: 1em; text-align: center\">DZ</th>\n",
        "        <th style=\"padding-left: 1em; padding-right: 1em; text-align: center\">BR</th>\n",
        "        <th style=\"padding-left: 1em; padding-right: 1em; text-align: center\">FG</th>\n",
        "        <th style=\"padding-left: 1em; padding-right: 1em; text-align: center\">BCFG</th>\n",
        "        <th style=\"padding-left: 1em; padding-right: 1em; text-align: center\">DU</th>\n",
        "        <th style=\"padding-left: 1em; padding-right: 1em; text-align: center\">FZRA</th>\n",
        "        <th style=\"padding-left: 1em; padding-right: 1em; text-align: center\">TS</th>\n",
        "        <th style=\"padding-left: 1em; padding-right: 1em; text-align: center\">RA</th>\n",
        "        <th style=\"padding-left: 1em; padding-right: 1em; text-align: center\">PL</th>\n",
        "    </tr>\n",
        "    <tr>\n",
        "        <td style=\"padding-left: 1em; padding-right: 1em; text-align: center; vertical-align: top\">29.91</td>\n",
        "        <td style=\"padding-left: 1em; padding-right: 1em; text-align: center; vertical-align: top\">9.1</td>\n",
        "        <td style=\"padding-left: 1em; padding-right: 1em; text-align: center; vertical-align: top\">23.0</td>\n",
        "        <td style=\"padding-left: 1em; padding-right: 1em; text-align: center; vertical-align: top\">11.3</td>\n",
        "        <td style=\"padding-left: 1em; padding-right: 1em; text-align: center; vertical-align: top\">0</td>\n",
        "        <td style=\"padding-left: 1em; padding-right: 1em; text-align: center; vertical-align: top\">0</td>\n",
        "        <td style=\"padding-left: 1em; padding-right: 1em; text-align: center; vertical-align: top\">0</td>\n",
        "        <td style=\"padding-left: 1em; padding-right: 1em; text-align: center; vertical-align: top\">0</td>\n",
        "        <td style=\"padding-left: 1em; padding-right: 1em; text-align: center; vertical-align: top\">0</td>\n",
        "        <td style=\"padding-left: 1em; padding-right: 1em; text-align: center; vertical-align: top\">0</td>\n",
        "        <td style=\"padding-left: 1em; padding-right: 1em; text-align: center; vertical-align: top\">0</td>\n",
        "        <td style=\"padding-left: 1em; padding-right: 1em; text-align: center; vertical-align: top\">0</td>\n",
        "        <td style=\"padding-left: 1em; padding-right: 1em; text-align: center; vertical-align: top\">0</td>\n",
        "        <td style=\"padding-left: 1em; padding-right: 1em; text-align: center; vertical-align: top\">0</td>\n",
        "        <td style=\"padding-left: 1em; padding-right: 1em; text-align: center; vertical-align: top\">0</td>\n",
        "        <td style=\"padding-left: 1em; padding-right: 1em; text-align: center; vertical-align: top\">1</td>\n",
        "        <td style=\"padding-left: 1em; padding-right: 1em; text-align: center; vertical-align: top\">0</td>\n",
        "    </tr>\n",
        "    <tr>\n",
        "        <td style=\"padding-left: 1em; padding-right: 1em; text-align: center; vertical-align: top\">30.47</td>\n",
        "        <td style=\"padding-left: 1em; padding-right: 1em; text-align: center; vertical-align: top\">9.9</td>\n",
        "        <td style=\"padding-left: 1em; padding-right: 1em; text-align: center; vertical-align: top\">31.0</td>\n",
        "        <td style=\"padding-left: 1em; padding-right: 1em; text-align: center; vertical-align: top\">10.0</td>\n",
        "        <td style=\"padding-left: 1em; padding-right: 1em; text-align: center; vertical-align: top\">0</td>\n",
        "        <td style=\"padding-left: 1em; padding-right: 1em; text-align: center; vertical-align: top\">0</td>\n",
        "        <td style=\"padding-left: 1em; padding-right: 1em; text-align: center; vertical-align: top\">0</td>\n",
        "        <td style=\"padding-left: 1em; padding-right: 1em; text-align: center; vertical-align: top\">0</td>\n",
        "        <td style=\"padding-left: 1em; padding-right: 1em; text-align: center; vertical-align: top\">0</td>\n",
        "        <td style=\"padding-left: 1em; padding-right: 1em; text-align: center; vertical-align: top\">0</td>\n",
        "        <td style=\"padding-left: 1em; padding-right: 1em; text-align: center; vertical-align: top\">0</td>\n",
        "        <td style=\"padding-left: 1em; padding-right: 1em; text-align: center; vertical-align: top\">0</td>\n",
        "        <td style=\"padding-left: 1em; padding-right: 1em; text-align: center; vertical-align: top\">0</td>\n",
        "        <td style=\"padding-left: 1em; padding-right: 1em; text-align: center; vertical-align: top\">0</td>\n",
        "        <td style=\"padding-left: 1em; padding-right: 1em; text-align: center; vertical-align: top\">0</td>\n",
        "        <td style=\"padding-left: 1em; padding-right: 1em; text-align: center; vertical-align: top\">0</td>\n",
        "        <td style=\"padding-left: 1em; padding-right: 1em; text-align: center; vertical-align: top\">0</td>\n",
        "    </tr>\n",
        "    <tr>\n",
        "        <td style=\"padding-left: 1em; padding-right: 1em; text-align: center; vertical-align: top\">30.48</td>\n",
        "        <td style=\"padding-left: 1em; padding-right: 1em; text-align: center; vertical-align: top\">8.0</td>\n",
        "        <td style=\"padding-left: 1em; padding-right: 1em; text-align: center; vertical-align: top\">35.0</td>\n",
        "        <td style=\"padding-left: 1em; padding-right: 1em; text-align: center; vertical-align: top\">8.2</td>\n",
        "        <td style=\"padding-left: 1em; padding-right: 1em; text-align: center; vertical-align: top\">0</td>\n",
        "        <td style=\"padding-left: 1em; padding-right: 1em; text-align: center; vertical-align: top\">0</td>\n",
        "        <td style=\"padding-left: 1em; padding-right: 1em; text-align: center; vertical-align: top\">0</td>\n",
        "        <td style=\"padding-left: 1em; padding-right: 1em; text-align: center; vertical-align: top\">0</td>\n",
        "        <td style=\"padding-left: 1em; padding-right: 1em; text-align: center; vertical-align: top\">0</td>\n",
        "        <td style=\"padding-left: 1em; padding-right: 1em; text-align: center; vertical-align: top\">0</td>\n",
        "        <td style=\"padding-left: 1em; padding-right: 1em; text-align: center; vertical-align: top\">0</td>\n",
        "        <td style=\"padding-left: 1em; padding-right: 1em; text-align: center; vertical-align: top\">0</td>\n",
        "        <td style=\"padding-left: 1em; padding-right: 1em; text-align: center; vertical-align: top\">0</td>\n",
        "        <td style=\"padding-left: 1em; padding-right: 1em; text-align: center; vertical-align: top\">0</td>\n",
        "        <td style=\"padding-left: 1em; padding-right: 1em; text-align: center; vertical-align: top\">0</td>\n",
        "        <td style=\"padding-left: 1em; padding-right: 1em; text-align: center; vertical-align: top\">0</td>\n",
        "        <td style=\"padding-left: 1em; padding-right: 1em; text-align: center; vertical-align: top\">0</td>\n",
        "    </tr>\n",
        "    <tr>\n",
        "        <td style=\"padding-left: 1em; padding-right: 1em; text-align: center; vertical-align: top\">30.47</td>\n",
        "        <td style=\"padding-left: 1em; padding-right: 1em; text-align: center; vertical-align: top\">14.0</td>\n",
        "        <td style=\"padding-left: 1em; padding-right: 1em; text-align: center; vertical-align: top\">36.0</td>\n",
        "        <td style=\"padding-left: 1em; padding-right: 1em; text-align: center; vertical-align: top\">13.8</td>\n",
        "        <td style=\"padding-left: 1em; padding-right: 1em; text-align: center; vertical-align: top\">0</td>\n",
        "        <td style=\"padding-left: 1em; padding-right: 1em; text-align: center; vertical-align: top\">0</td>\n",
        "        <td style=\"padding-left: 1em; padding-right: 1em; text-align: center; vertical-align: top\">0</td>\n",
        "        <td style=\"padding-left: 1em; padding-right: 1em; text-align: center; vertical-align: top\">0</td>\n",
        "        <td style=\"padding-left: 1em; padding-right: 1em; text-align: center; vertical-align: top\">0</td>\n",
        "        <td style=\"padding-left: 1em; padding-right: 1em; text-align: center; vertical-align: top\">0</td>\n",
        "        <td style=\"padding-left: 1em; padding-right: 1em; text-align: center; vertical-align: top\">0</td>\n",
        "        <td style=\"padding-left: 1em; padding-right: 1em; text-align: center; vertical-align: top\">0</td>\n",
        "        <td style=\"padding-left: 1em; padding-right: 1em; text-align: center; vertical-align: top\">0</td>\n",
        "        <td style=\"padding-left: 1em; padding-right: 1em; text-align: center; vertical-align: top\">0</td>\n",
        "        <td style=\"padding-left: 1em; padding-right: 1em; text-align: center; vertical-align: top\">0</td>\n",
        "        <td style=\"padding-left: 1em; padding-right: 1em; text-align: center; vertical-align: top\">0</td>\n",
        "        <td style=\"padding-left: 1em; padding-right: 1em; text-align: center; vertical-align: top\">0</td>\n",
        "    </tr>\n",
        "    <tr>\n",
        "        <td style=\"padding-left: 1em; padding-right: 1em; text-align: center; vertical-align: top\">30.18</td>\n",
        "        <td style=\"padding-left: 1em; padding-right: 1em; text-align: center; vertical-align: top\">4.6</td>\n",
        "        <td style=\"padding-left: 1em; padding-right: 1em; text-align: center; vertical-align: top\">23.0</td>\n",
        "        <td style=\"padding-left: 1em; padding-right: 1em; text-align: center; vertical-align: top\">4.8</td>\n",
        "        <td style=\"padding-left: 1em; padding-right: 1em; text-align: center; vertical-align: top\">0</td>\n",
        "        <td style=\"padding-left: 1em; padding-right: 1em; text-align: center; vertical-align: top\">0</td>\n",
        "        <td style=\"padding-left: 1em; padding-right: 1em; text-align: center; vertical-align: top\">0</td>\n",
        "        <td style=\"padding-left: 1em; padding-right: 1em; text-align: center; vertical-align: top\">0</td>\n",
        "        <td style=\"padding-left: 1em; padding-right: 1em; text-align: center; vertical-align: top\">0</td>\n",
        "        <td style=\"padding-left: 1em; padding-right: 1em; text-align: center; vertical-align: top\">1</td>\n",
        "        <td style=\"padding-left: 1em; padding-right: 1em; text-align: center; vertical-align: top\">1</td>\n",
        "        <td style=\"padding-left: 1em; padding-right: 1em; text-align: center; vertical-align: top\">0</td>\n",
        "        <td style=\"padding-left: 1em; padding-right: 1em; text-align: center; vertical-align: top\">0</td>\n",
        "        <td style=\"padding-left: 1em; padding-right: 1em; text-align: center; vertical-align: top\">0</td>\n",
        "        <td style=\"padding-left: 1em; padding-right: 1em; text-align: center; vertical-align: top\">0</td>\n",
        "        <td style=\"padding-left: 1em; padding-right: 1em; text-align: center; vertical-align: top\">0</td>\n",
        "        <td style=\"padding-left: 1em; padding-right: 1em; text-align: center; vertical-align: top\">0</td>\n",
        "    </tr>\n",
        "    <tr>\n",
        "        <td style=\"padding-left: 1em; padding-right: 1em; text-align: center; vertical-align: top\">30.52</td>\n",
        "        <td style=\"padding-left: 1em; padding-right: 1em; text-align: center; vertical-align: top\">11.4</td>\n",
        "        <td style=\"padding-left: 1em; padding-right: 1em; text-align: center; vertical-align: top\">32.0</td>\n",
        "        <td style=\"padding-left: 1em; padding-right: 1em; text-align: center; vertical-align: top\">11.3</td>\n",
        "        <td style=\"padding-left: 1em; padding-right: 1em; text-align: center; vertical-align: top\">0</td>\n",
        "        <td style=\"padding-left: 1em; padding-right: 1em; text-align: center; vertical-align: top\">0</td>\n",
        "        <td style=\"padding-left: 1em; padding-right: 1em; text-align: center; vertical-align: top\">0</td>\n",
        "        <td style=\"padding-left: 1em; padding-right: 1em; text-align: center; vertical-align: top\">0</td>\n",
        "        <td style=\"padding-left: 1em; padding-right: 1em; text-align: center; vertical-align: top\">0</td>\n",
        "        <td style=\"padding-left: 1em; padding-right: 1em; text-align: center; vertical-align: top\">0</td>\n",
        "        <td style=\"padding-left: 1em; padding-right: 1em; text-align: center; vertical-align: top\">0</td>\n",
        "        <td style=\"padding-left: 1em; padding-right: 1em; text-align: center; vertical-align: top\">0</td>\n",
        "        <td style=\"padding-left: 1em; padding-right: 1em; text-align: center; vertical-align: top\">0</td>\n",
        "        <td style=\"padding-left: 1em; padding-right: 1em; text-align: center; vertical-align: top\">0</td>\n",
        "        <td style=\"padding-left: 1em; padding-right: 1em; text-align: center; vertical-align: top\">0</td>\n",
        "        <td style=\"padding-left: 1em; padding-right: 1em; text-align: center; vertical-align: top\">0</td>\n",
        "        <td style=\"padding-left: 1em; padding-right: 1em; text-align: center; vertical-align: top\">0</td>\n",
        "    </tr>\n",
        "    <tr>\n",
        "        <td style=\"padding-left: 1em; padding-right: 1em; text-align: center; vertical-align: top\">29.89</td>\n",
        "        <td style=\"padding-left: 1em; padding-right: 1em; text-align: center; vertical-align: top\">2.5</td>\n",
        "        <td style=\"padding-left: 1em; padding-right: 1em; text-align: center; vertical-align: top\">17.0</td>\n",
        "        <td style=\"padding-left: 1em; padding-right: 1em; text-align: center; vertical-align: top\">3.8</td>\n",
        "        <td style=\"padding-left: 1em; padding-right: 1em; text-align: center; vertical-align: top\">0</td>\n",
        "        <td style=\"padding-left: 1em; padding-right: 1em; text-align: center; vertical-align: top\">0</td>\n",
        "        <td style=\"padding-left: 1em; padding-right: 1em; text-align: center; vertical-align: top\">0</td>\n",
        "        <td style=\"padding-left: 1em; padding-right: 1em; text-align: center; vertical-align: top\">0</td>\n",
        "        <td style=\"padding-left: 1em; padding-right: 1em; text-align: center; vertical-align: top\">0</td>\n",
        "        <td style=\"padding-left: 1em; padding-right: 1em; text-align: center; vertical-align: top\">1</td>\n",
        "        <td style=\"padding-left: 1em; padding-right: 1em; text-align: center; vertical-align: top\">1</td>\n",
        "        <td style=\"padding-left: 1em; padding-right: 1em; text-align: center; vertical-align: top\">0</td>\n",
        "        <td style=\"padding-left: 1em; padding-right: 1em; text-align: center; vertical-align: top\">0</td>\n",
        "        <td style=\"padding-left: 1em; padding-right: 1em; text-align: center; vertical-align: top\">0</td>\n",
        "        <td style=\"padding-left: 1em; padding-right: 1em; text-align: center; vertical-align: top\">0</td>\n",
        "        <td style=\"padding-left: 1em; padding-right: 1em; text-align: center; vertical-align: top\">1</td>\n",
        "        <td style=\"padding-left: 1em; padding-right: 1em; text-align: center; vertical-align: top\">0</td>\n",
        "    </tr>\n",
        "    <tr>\n",
        "        <td style=\"padding-left: 1em; padding-right: 1em; text-align: center; vertical-align: top\">30.49</td>\n",
        "        <td style=\"padding-left: 1em; padding-right: 1em; text-align: center; vertical-align: top\">9.0</td>\n",
        "        <td style=\"padding-left: 1em; padding-right: 1em; text-align: center; vertical-align: top\">33.0</td>\n",
        "        <td style=\"padding-left: 1em; padding-right: 1em; text-align: center; vertical-align: top\">8.9</td>\n",
        "        <td style=\"padding-left: 1em; padding-right: 1em; text-align: center; vertical-align: top\">0</td>\n",
        "        <td style=\"padding-left: 1em; padding-right: 1em; text-align: center; vertical-align: top\">0</td>\n",
        "        <td style=\"padding-left: 1em; padding-right: 1em; text-align: center; vertical-align: top\">0</td>\n",
        "        <td style=\"padding-left: 1em; padding-right: 1em; text-align: center; vertical-align: top\">0</td>\n",
        "        <td style=\"padding-left: 1em; padding-right: 1em; text-align: center; vertical-align: top\">0</td>\n",
        "        <td style=\"padding-left: 1em; padding-right: 1em; text-align: center; vertical-align: top\">0</td>\n",
        "        <td style=\"padding-left: 1em; padding-right: 1em; text-align: center; vertical-align: top\">0</td>\n",
        "        <td style=\"padding-left: 1em; padding-right: 1em; text-align: center; vertical-align: top\">0</td>\n",
        "        <td style=\"padding-left: 1em; padding-right: 1em; text-align: center; vertical-align: top\">0</td>\n",
        "        <td style=\"padding-left: 1em; padding-right: 1em; text-align: center; vertical-align: top\">0</td>\n",
        "        <td style=\"padding-left: 1em; padding-right: 1em; text-align: center; vertical-align: top\">0</td>\n",
        "        <td style=\"padding-left: 1em; padding-right: 1em; text-align: center; vertical-align: top\">0</td>\n",
        "        <td style=\"padding-left: 1em; padding-right: 1em; text-align: center; vertical-align: top\">0</td>\n",
        "    </tr>\n",
        "    <tr>\n",
        "        <td style=\"padding-left: 1em; padding-right: 1em; text-align: center; vertical-align: top\">29.79</td>\n",
        "        <td style=\"padding-left: 1em; padding-right: 1em; text-align: center; vertical-align: top\">14.6</td>\n",
        "        <td style=\"padding-left: 1em; padding-right: 1em; text-align: center; vertical-align: top\">29.0</td>\n",
        "        <td style=\"padding-left: 1em; padding-right: 1em; text-align: center; vertical-align: top\">15.6</td>\n",
        "        <td style=\"padding-left: 1em; padding-right: 1em; text-align: center; vertical-align: top\">0</td>\n",
        "        <td style=\"padding-left: 1em; padding-right: 1em; text-align: center; vertical-align: top\">0</td>\n",
        "        <td style=\"padding-left: 1em; padding-right: 1em; text-align: center; vertical-align: top\">0</td>\n",
        "        <td style=\"padding-left: 1em; padding-right: 1em; text-align: center; vertical-align: top\">0</td>\n",
        "        <td style=\"padding-left: 1em; padding-right: 1em; text-align: center; vertical-align: top\">0</td>\n",
        "        <td style=\"padding-left: 1em; padding-right: 1em; text-align: center; vertical-align: top\">1</td>\n",
        "        <td style=\"padding-left: 1em; padding-right: 1em; text-align: center; vertical-align: top\">0</td>\n",
        "        <td style=\"padding-left: 1em; padding-right: 1em; text-align: center; vertical-align: top\">0</td>\n",
        "        <td style=\"padding-left: 1em; padding-right: 1em; text-align: center; vertical-align: top\">0</td>\n",
        "        <td style=\"padding-left: 1em; padding-right: 1em; text-align: center; vertical-align: top\">0</td>\n",
        "        <td style=\"padding-left: 1em; padding-right: 1em; text-align: center; vertical-align: top\">0</td>\n",
        "        <td style=\"padding-left: 1em; padding-right: 1em; text-align: center; vertical-align: top\">1</td>\n",
        "        <td style=\"padding-left: 1em; padding-right: 1em; text-align: center; vertical-align: top\">0</td>\n",
        "    </tr>\n",
        "    <tr>\n",
        "        <td style=\"padding-left: 1em; padding-right: 1em; text-align: center; vertical-align: top\">29.62</td>\n",
        "        <td style=\"padding-left: 1em; padding-right: 1em; text-align: center; vertical-align: top\">12.7</td>\n",
        "        <td style=\"padding-left: 1em; padding-right: 1em; text-align: center; vertical-align: top\">26.0</td>\n",
        "        <td style=\"padding-left: 1em; padding-right: 1em; text-align: center; vertical-align: top\">13.3</td>\n",
        "        <td style=\"padding-left: 1em; padding-right: 1em; text-align: center; vertical-align: top\">0</td>\n",
        "        <td style=\"padding-left: 1em; padding-right: 1em; text-align: center; vertical-align: top\">0</td>\n",
        "        <td style=\"padding-left: 1em; padding-right: 1em; text-align: center; vertical-align: top\">0</td>\n",
        "        <td style=\"padding-left: 1em; padding-right: 1em; text-align: center; vertical-align: top\">0</td>\n",
        "        <td style=\"padding-left: 1em; padding-right: 1em; text-align: center; vertical-align: top\">0</td>\n",
        "        <td style=\"padding-left: 1em; padding-right: 1em; text-align: center; vertical-align: top\">0</td>\n",
        "        <td style=\"padding-left: 1em; padding-right: 1em; text-align: center; vertical-align: top\">0</td>\n",
        "        <td style=\"padding-left: 1em; padding-right: 1em; text-align: center; vertical-align: top\">0</td>\n",
        "        <td style=\"padding-left: 1em; padding-right: 1em; text-align: center; vertical-align: top\">0</td>\n",
        "        <td style=\"padding-left: 1em; padding-right: 1em; text-align: center; vertical-align: top\">0</td>\n",
        "        <td style=\"padding-left: 1em; padding-right: 1em; text-align: center; vertical-align: top\">0</td>\n",
        "        <td style=\"padding-left: 1em; padding-right: 1em; text-align: center; vertical-align: top\">0</td>\n",
        "        <td style=\"padding-left: 1em; padding-right: 1em; text-align: center; vertical-align: top\">0</td>\n",
        "    </tr>\n",
        "</table>\n",
        "<table frame=\"box\" rules=\"cols\">\n",
        "    <tr>\n",
        "        <th style=\"padding-left: 1em; padding-right: 1em; text-align: center\">GS</th>\n",
        "        <th style=\"padding-left: 1em; padding-right: 1em; text-align: center\">GR</th>\n",
        "        <th style=\"padding-left: 1em; padding-right: 1em; text-align: center\">FZDZ</th>\n",
        "        <th style=\"padding-left: 1em; padding-right: 1em; text-align: center\">VCFG</th>\n",
        "        <th style=\"padding-left: 1em; padding-right: 1em; text-align: center\">PRFG</th>\n",
        "        <th style=\"padding-left: 1em; padding-right: 1em; text-align: center\">FG+</th>\n",
        "        <th style=\"padding-left: 1em; padding-right: 1em; text-align: center\">TSRA</th>\n",
        "        <th style=\"padding-left: 1em; padding-right: 1em; text-align: center\">FZFG</th>\n",
        "        <th style=\"padding-left: 1em; padding-right: 1em; text-align: center\">BLDU</th>\n",
        "        <th style=\"padding-left: 1em; padding-right: 1em; text-align: center\">MIFG</th>\n",
        "        <th style=\"padding-left: 1em; padding-right: 1em; text-align: center\">SQ</th>\n",
        "        <th style=\"padding-left: 1em; padding-right: 1em; text-align: center\">...</th>\n",
        "    </tr>\n",
        "    <tr>\n",
        "        <td style=\"padding-left: 1em; padding-right: 1em; text-align: center; vertical-align: top\">0</td>\n",
        "        <td style=\"padding-left: 1em; padding-right: 1em; text-align: center; vertical-align: top\">0</td>\n",
        "        <td style=\"padding-left: 1em; padding-right: 1em; text-align: center; vertical-align: top\">0</td>\n",
        "        <td style=\"padding-left: 1em; padding-right: 1em; text-align: center; vertical-align: top\">0</td>\n",
        "        <td style=\"padding-left: 1em; padding-right: 1em; text-align: center; vertical-align: top\">0</td>\n",
        "        <td style=\"padding-left: 1em; padding-right: 1em; text-align: center; vertical-align: top\">0</td>\n",
        "        <td style=\"padding-left: 1em; padding-right: 1em; text-align: center; vertical-align: top\">0</td>\n",
        "        <td style=\"padding-left: 1em; padding-right: 1em; text-align: center; vertical-align: top\">0</td>\n",
        "        <td style=\"padding-left: 1em; padding-right: 1em; text-align: center; vertical-align: top\">0</td>\n",
        "        <td style=\"padding-left: 1em; padding-right: 1em; text-align: center; vertical-align: top\">0</td>\n",
        "        <td style=\"padding-left: 1em; padding-right: 1em; text-align: center; vertical-align: top\">0</td>\n",
        "        <td style=\"padding-left: 1em; padding-right: 1em; text-align: center; vertical-align: top\">...</td>\n",
        "    </tr>\n",
        "    <tr>\n",
        "        <td style=\"padding-left: 1em; padding-right: 1em; text-align: center; vertical-align: top\">0</td>\n",
        "        <td style=\"padding-left: 1em; padding-right: 1em; text-align: center; vertical-align: top\">0</td>\n",
        "        <td style=\"padding-left: 1em; padding-right: 1em; text-align: center; vertical-align: top\">0</td>\n",
        "        <td style=\"padding-left: 1em; padding-right: 1em; text-align: center; vertical-align: top\">0</td>\n",
        "        <td style=\"padding-left: 1em; padding-right: 1em; text-align: center; vertical-align: top\">0</td>\n",
        "        <td style=\"padding-left: 1em; padding-right: 1em; text-align: center; vertical-align: top\">0</td>\n",
        "        <td style=\"padding-left: 1em; padding-right: 1em; text-align: center; vertical-align: top\">0</td>\n",
        "        <td style=\"padding-left: 1em; padding-right: 1em; text-align: center; vertical-align: top\">0</td>\n",
        "        <td style=\"padding-left: 1em; padding-right: 1em; text-align: center; vertical-align: top\">0</td>\n",
        "        <td style=\"padding-left: 1em; padding-right: 1em; text-align: center; vertical-align: top\">0</td>\n",
        "        <td style=\"padding-left: 1em; padding-right: 1em; text-align: center; vertical-align: top\">0</td>\n",
        "        <td style=\"padding-left: 1em; padding-right: 1em; text-align: center; vertical-align: top\">...</td>\n",
        "    </tr>\n",
        "    <tr>\n",
        "        <td style=\"padding-left: 1em; padding-right: 1em; text-align: center; vertical-align: top\">0</td>\n",
        "        <td style=\"padding-left: 1em; padding-right: 1em; text-align: center; vertical-align: top\">0</td>\n",
        "        <td style=\"padding-left: 1em; padding-right: 1em; text-align: center; vertical-align: top\">0</td>\n",
        "        <td style=\"padding-left: 1em; padding-right: 1em; text-align: center; vertical-align: top\">0</td>\n",
        "        <td style=\"padding-left: 1em; padding-right: 1em; text-align: center; vertical-align: top\">0</td>\n",
        "        <td style=\"padding-left: 1em; padding-right: 1em; text-align: center; vertical-align: top\">0</td>\n",
        "        <td style=\"padding-left: 1em; padding-right: 1em; text-align: center; vertical-align: top\">0</td>\n",
        "        <td style=\"padding-left: 1em; padding-right: 1em; text-align: center; vertical-align: top\">0</td>\n",
        "        <td style=\"padding-left: 1em; padding-right: 1em; text-align: center; vertical-align: top\">0</td>\n",
        "        <td style=\"padding-left: 1em; padding-right: 1em; text-align: center; vertical-align: top\">0</td>\n",
        "        <td style=\"padding-left: 1em; padding-right: 1em; text-align: center; vertical-align: top\">0</td>\n",
        "        <td style=\"padding-left: 1em; padding-right: 1em; text-align: center; vertical-align: top\">...</td>\n",
        "    </tr>\n",
        "    <tr>\n",
        "        <td style=\"padding-left: 1em; padding-right: 1em; text-align: center; vertical-align: top\">0</td>\n",
        "        <td style=\"padding-left: 1em; padding-right: 1em; text-align: center; vertical-align: top\">0</td>\n",
        "        <td style=\"padding-left: 1em; padding-right: 1em; text-align: center; vertical-align: top\">0</td>\n",
        "        <td style=\"padding-left: 1em; padding-right: 1em; text-align: center; vertical-align: top\">0</td>\n",
        "        <td style=\"padding-left: 1em; padding-right: 1em; text-align: center; vertical-align: top\">0</td>\n",
        "        <td style=\"padding-left: 1em; padding-right: 1em; text-align: center; vertical-align: top\">0</td>\n",
        "        <td style=\"padding-left: 1em; padding-right: 1em; text-align: center; vertical-align: top\">0</td>\n",
        "        <td style=\"padding-left: 1em; padding-right: 1em; text-align: center; vertical-align: top\">0</td>\n",
        "        <td style=\"padding-left: 1em; padding-right: 1em; text-align: center; vertical-align: top\">0</td>\n",
        "        <td style=\"padding-left: 1em; padding-right: 1em; text-align: center; vertical-align: top\">0</td>\n",
        "        <td style=\"padding-left: 1em; padding-right: 1em; text-align: center; vertical-align: top\">0</td>\n",
        "        <td style=\"padding-left: 1em; padding-right: 1em; text-align: center; vertical-align: top\">...</td>\n",
        "    </tr>\n",
        "    <tr>\n",
        "        <td style=\"padding-left: 1em; padding-right: 1em; text-align: center; vertical-align: top\">0</td>\n",
        "        <td style=\"padding-left: 1em; padding-right: 1em; text-align: center; vertical-align: top\">0</td>\n",
        "        <td style=\"padding-left: 1em; padding-right: 1em; text-align: center; vertical-align: top\">0</td>\n",
        "        <td style=\"padding-left: 1em; padding-right: 1em; text-align: center; vertical-align: top\">0</td>\n",
        "        <td style=\"padding-left: 1em; padding-right: 1em; text-align: center; vertical-align: top\">0</td>\n",
        "        <td style=\"padding-left: 1em; padding-right: 1em; text-align: center; vertical-align: top\">1</td>\n",
        "        <td style=\"padding-left: 1em; padding-right: 1em; text-align: center; vertical-align: top\">0</td>\n",
        "        <td style=\"padding-left: 1em; padding-right: 1em; text-align: center; vertical-align: top\">0</td>\n",
        "        <td style=\"padding-left: 1em; padding-right: 1em; text-align: center; vertical-align: top\">0</td>\n",
        "        <td style=\"padding-left: 1em; padding-right: 1em; text-align: center; vertical-align: top\">0</td>\n",
        "        <td style=\"padding-left: 1em; padding-right: 1em; text-align: center; vertical-align: top\">0</td>\n",
        "        <td style=\"padding-left: 1em; padding-right: 1em; text-align: center; vertical-align: top\">...</td>\n",
        "    </tr>\n",
        "    <tr>\n",
        "        <td style=\"padding-left: 1em; padding-right: 1em; text-align: center; vertical-align: top\">0</td>\n",
        "        <td style=\"padding-left: 1em; padding-right: 1em; text-align: center; vertical-align: top\">0</td>\n",
        "        <td style=\"padding-left: 1em; padding-right: 1em; text-align: center; vertical-align: top\">0</td>\n",
        "        <td style=\"padding-left: 1em; padding-right: 1em; text-align: center; vertical-align: top\">0</td>\n",
        "        <td style=\"padding-left: 1em; padding-right: 1em; text-align: center; vertical-align: top\">0</td>\n",
        "        <td style=\"padding-left: 1em; padding-right: 1em; text-align: center; vertical-align: top\">0</td>\n",
        "        <td style=\"padding-left: 1em; padding-right: 1em; text-align: center; vertical-align: top\">0</td>\n",
        "        <td style=\"padding-left: 1em; padding-right: 1em; text-align: center; vertical-align: top\">0</td>\n",
        "        <td style=\"padding-left: 1em; padding-right: 1em; text-align: center; vertical-align: top\">0</td>\n",
        "        <td style=\"padding-left: 1em; padding-right: 1em; text-align: center; vertical-align: top\">0</td>\n",
        "        <td style=\"padding-left: 1em; padding-right: 1em; text-align: center; vertical-align: top\">0</td>\n",
        "        <td style=\"padding-left: 1em; padding-right: 1em; text-align: center; vertical-align: top\">...</td>\n",
        "    </tr>\n",
        "    <tr>\n",
        "        <td style=\"padding-left: 1em; padding-right: 1em; text-align: center; vertical-align: top\">0</td>\n",
        "        <td style=\"padding-left: 1em; padding-right: 1em; text-align: center; vertical-align: top\">0</td>\n",
        "        <td style=\"padding-left: 1em; padding-right: 1em; text-align: center; vertical-align: top\">0</td>\n",
        "        <td style=\"padding-left: 1em; padding-right: 1em; text-align: center; vertical-align: top\">0</td>\n",
        "        <td style=\"padding-left: 1em; padding-right: 1em; text-align: center; vertical-align: top\">0</td>\n",
        "        <td style=\"padding-left: 1em; padding-right: 1em; text-align: center; vertical-align: top\">1</td>\n",
        "        <td style=\"padding-left: 1em; padding-right: 1em; text-align: center; vertical-align: top\">0</td>\n",
        "        <td style=\"padding-left: 1em; padding-right: 1em; text-align: center; vertical-align: top\">1</td>\n",
        "        <td style=\"padding-left: 1em; padding-right: 1em; text-align: center; vertical-align: top\">0</td>\n",
        "        <td style=\"padding-left: 1em; padding-right: 1em; text-align: center; vertical-align: top\">0</td>\n",
        "        <td style=\"padding-left: 1em; padding-right: 1em; text-align: center; vertical-align: top\">0</td>\n",
        "        <td style=\"padding-left: 1em; padding-right: 1em; text-align: center; vertical-align: top\">...</td>\n",
        "    </tr>\n",
        "    <tr>\n",
        "        <td style=\"padding-left: 1em; padding-right: 1em; text-align: center; vertical-align: top\">0</td>\n",
        "        <td style=\"padding-left: 1em; padding-right: 1em; text-align: center; vertical-align: top\">0</td>\n",
        "        <td style=\"padding-left: 1em; padding-right: 1em; text-align: center; vertical-align: top\">0</td>\n",
        "        <td style=\"padding-left: 1em; padding-right: 1em; text-align: center; vertical-align: top\">0</td>\n",
        "        <td style=\"padding-left: 1em; padding-right: 1em; text-align: center; vertical-align: top\">0</td>\n",
        "        <td style=\"padding-left: 1em; padding-right: 1em; text-align: center; vertical-align: top\">0</td>\n",
        "        <td style=\"padding-left: 1em; padding-right: 1em; text-align: center; vertical-align: top\">0</td>\n",
        "        <td style=\"padding-left: 1em; padding-right: 1em; text-align: center; vertical-align: top\">0</td>\n",
        "        <td style=\"padding-left: 1em; padding-right: 1em; text-align: center; vertical-align: top\">0</td>\n",
        "        <td style=\"padding-left: 1em; padding-right: 1em; text-align: center; vertical-align: top\">0</td>\n",
        "        <td style=\"padding-left: 1em; padding-right: 1em; text-align: center; vertical-align: top\">0</td>\n",
        "        <td style=\"padding-left: 1em; padding-right: 1em; text-align: center; vertical-align: top\">...</td>\n",
        "    </tr>\n",
        "    <tr>\n",
        "        <td style=\"padding-left: 1em; padding-right: 1em; text-align: center; vertical-align: top\">0</td>\n",
        "        <td style=\"padding-left: 1em; padding-right: 1em; text-align: center; vertical-align: top\">0</td>\n",
        "        <td style=\"padding-left: 1em; padding-right: 1em; text-align: center; vertical-align: top\">0</td>\n",
        "        <td style=\"padding-left: 1em; padding-right: 1em; text-align: center; vertical-align: top\">0</td>\n",
        "        <td style=\"padding-left: 1em; padding-right: 1em; text-align: center; vertical-align: top\">0</td>\n",
        "        <td style=\"padding-left: 1em; padding-right: 1em; text-align: center; vertical-align: top\">0</td>\n",
        "        <td style=\"padding-left: 1em; padding-right: 1em; text-align: center; vertical-align: top\">0</td>\n",
        "        <td style=\"padding-left: 1em; padding-right: 1em; text-align: center; vertical-align: top\">0</td>\n",
        "        <td style=\"padding-left: 1em; padding-right: 1em; text-align: center; vertical-align: top\">0</td>\n",
        "        <td style=\"padding-left: 1em; padding-right: 1em; text-align: center; vertical-align: top\">0</td>\n",
        "        <td style=\"padding-left: 1em; padding-right: 1em; text-align: center; vertical-align: top\">0</td>\n",
        "        <td style=\"padding-left: 1em; padding-right: 1em; text-align: center; vertical-align: top\">...</td>\n",
        "    </tr>\n",
        "    <tr>\n",
        "        <td style=\"padding-left: 1em; padding-right: 1em; text-align: center; vertical-align: top\">0</td>\n",
        "        <td style=\"padding-left: 1em; padding-right: 1em; text-align: center; vertical-align: top\">0</td>\n",
        "        <td style=\"padding-left: 1em; padding-right: 1em; text-align: center; vertical-align: top\">0</td>\n",
        "        <td style=\"padding-left: 1em; padding-right: 1em; text-align: center; vertical-align: top\">0</td>\n",
        "        <td style=\"padding-left: 1em; padding-right: 1em; text-align: center; vertical-align: top\">0</td>\n",
        "        <td style=\"padding-left: 1em; padding-right: 1em; text-align: center; vertical-align: top\">0</td>\n",
        "        <td style=\"padding-left: 1em; padding-right: 1em; text-align: center; vertical-align: top\">0</td>\n",
        "        <td style=\"padding-left: 1em; padding-right: 1em; text-align: center; vertical-align: top\">0</td>\n",
        "        <td style=\"padding-left: 1em; padding-right: 1em; text-align: center; vertical-align: top\">0</td>\n",
        "        <td style=\"padding-left: 1em; padding-right: 1em; text-align: center; vertical-align: top\">0</td>\n",
        "        <td style=\"padding-left: 1em; padding-right: 1em; text-align: center; vertical-align: top\">0</td>\n",
        "        <td style=\"padding-left: 1em; padding-right: 1em; text-align: center; vertical-align: top\">...</td>\n",
        "    </tr>\n",
        "</table>\n",
        "[10 rows x 66 columns]<br/>\n",
        "</div>"
       ],
       "metadata": {},
       "output_type": "pyout",
       "prompt_number": 39,
       "text": [
        "Columns:\n",
        "\tstation_nbr\tint\n",
        "\ttmax\tfloat\n",
        "\ttmin\tfloat\n",
        "\ttavg\tfloat\n",
        "\tdepart\tfloat\n",
        "\tdewpoint\tfloat\n",
        "\twetbulb\tfloat\n",
        "\theat\tfloat\n",
        "\tcool\tfloat\n",
        "\tsnowfall\tfloat\n",
        "\tpreciptotal\tfloat\n",
        "\tstnpressure\tfloat\n",
        "\tsealevel\tfloat\n",
        "\tresultspeed\tfloat\n",
        "\tresultdir\tfloat\n",
        "\tavgspeed\tfloat\n",
        "\tHZ\tint\n",
        "\tFU\tint\n",
        "\tUP\tint\n",
        "\tVCTS\tint\n",
        "\tDZ\tint\n",
        "\tBR\tint\n",
        "\tFG\tint\n",
        "\tBCFG\tint\n",
        "\tDU\tint\n",
        "\tFZRA\tint\n",
        "\tTS\tint\n",
        "\tRA\tint\n",
        "\tPL\tint\n",
        "\tGS\tint\n",
        "\tGR\tint\n",
        "\tFZDZ\tint\n",
        "\tVCFG\tint\n",
        "\tPRFG\tint\n",
        "\tFG+\tint\n",
        "\tTSRA\tint\n",
        "\tFZFG\tint\n",
        "\tBLDU\tint\n",
        "\tMIFG\tint\n",
        "\tSQ\tint\n",
        "\tBLSN\tint\n",
        "\tSN\tint\n",
        "\tSG\tint\n",
        "\tmonth\tint\n",
        "\tday\tint\n",
        "\tday_length\tfloat\n",
        "\tsunset_hour\tfloat\n",
        "\tsunset_minute\tfloat\n",
        "\tsunrise_hour\tfloat\n",
        "\tsunrise_minute\tfloat\n",
        "\tresultdirNAN\tint\n",
        "\tresultspeedNAN\tint\n",
        "\tdewpointNAN\tint\n",
        "\tpreciptotalNAN\tint\n",
        "\tavgspeedNAN\tint\n",
        "\ttmaxNAN\tint\n",
        "\ttminNAN\tint\n",
        "\tstnpressureNAN\tint\n",
        "\twetbulbNAN\tint\n",
        "\tcoolNAN\tint\n",
        "\theatNAN\tint\n",
        "\ttavgNAN\tint\n",
        "\tsealevelNAN\tint\n",
        "\tsnowfallNAN\tint\n",
        "\tday_lengthNAN\tint\n",
        "\tdepartNAN\tint\n",
        "\n",
        "Rows: 10\n",
        "\n",
        "Data:\n",
        "+-------------+------+------+------+--------+----------+---------+------+------+\n",
        "| station_nbr | tmax | tmin | tavg | depart | dewpoint | wetbulb | heat | cool |\n",
        "+-------------+------+------+------+--------+----------+---------+------+------+\n",
        "|      2      | 48.0 | 33.0 | 41.0 |  16.0  |   37.0   |   39.0  | 24.0 | 0.0  |\n",
        "|      3      | 55.0 | 34.0 | 45.0 |  9.0   |   24.0   |   36.0  | 20.0 | 0.0  |\n",
        "|      4      | 63.0 | 47.0 | 55.0 |  4.0   |   28.0   |   43.0  | 10.0 | 0.0  |\n",
        "|      6      | 63.0 | 34.0 | 49.0 |  0.0   |   31.0   |   43.0  | 16.0 | 0.0  |\n",
        "|      11     | 72.0 | 48.0 | 60.0 |  7.0   |   54.0   |   56.0  | 5.0  | 0.0  |\n",
        "|      14     | 50.0 | 34.0 | 42.0 |  5.0   |   25.0   |   35.0  | 23.0 | 0.0  |\n",
        "|      15     | 48.0 | 26.0 | 37.0 |  16.0  |   35.0   |   38.0  | 28.0 | 0.0  |\n",
        "|      18     | 59.0 | 40.0 | 50.0 |  4.0   |   28.0   |   40.0  | 15.0 | 0.0  |\n",
        "|      19     | 38.0 | 25.0 | 32.0 |  10.0  |   26.0   |   30.0  | 33.0 | 0.0  |\n",
        "|      2      | 46.0 | 28.0 | 37.0 |  12.0  |   24.0   |   32.0  | 28.0 | 0.0  |\n",
        "+-------------+------+------+------+--------+----------+---------+------+------+\n",
        "+----------+-------------+-------------+----------+-------------+-----------+\n",
        "| snowfall | preciptotal | stnpressure | sealevel | resultspeed | resultdir |\n",
        "+----------+-------------+-------------+----------+-------------+-----------+\n",
        "|   0.0    |     0.07    |    28.82    |  29.91   |     9.1     |    23.0   |\n",
        "|   0.0    |     0.0     |    29.77    |  30.47   |     9.9     |    31.0   |\n",
        "|   0.0    |     0.0     |    29.79    |  30.48   |     8.0     |    35.0   |\n",
        "|   0.0    |     0.0     |    29.95    |  30.47   |     14.0    |    36.0   |\n",
        "|   0.0    |     0.0     |    30.15    |  30.18   |     4.6     |    23.0   |\n",
        "|   0.0    |     0.0     |    29.13    |  30.52   |     11.4    |    32.0   |\n",
        "|   0.0    |     0.09    |    29.53    |  29.89   |     2.5     |    17.0   |\n",
        "|   0.0    |     0.0     |    29.98    |  30.49   |     9.0     |    33.0   |\n",
        "|   0.5    |     0.12    |    29.06    |  29.79   |     14.6    |    29.0   |\n",
        "|   0.01   |     0.01    |    28.51    |  29.62   |     12.7    |    26.0   |\n",
        "+----------+-------------+-------------+----------+-------------+-----------+\n",
        "+----------+----+----+----+------+-----+\n",
        "| avgspeed | HZ | FU | UP | VCTS | ... |\n",
        "+----------+----+----+----+------+-----+\n",
        "|   11.3   | 0  | 0  | 0  |  0   | ... |\n",
        "|   10.0   | 0  | 0  | 0  |  0   | ... |\n",
        "|   8.2    | 0  | 0  | 0  |  0   | ... |\n",
        "|   13.8   | 0  | 0  | 0  |  0   | ... |\n",
        "|   4.8    | 0  | 0  | 0  |  0   | ... |\n",
        "|   11.3   | 0  | 0  | 0  |  0   | ... |\n",
        "|   3.8    | 0  | 0  | 0  |  0   | ... |\n",
        "|   8.9    | 0  | 0  | 0  |  0   | ... |\n",
        "|   15.6   | 0  | 0  | 0  |  0   | ... |\n",
        "|   13.3   | 0  | 0  | 0  |  0   | ... |\n",
        "+----------+----+----+----+------+-----+\n",
        "[10 rows x 66 columns]"
       ]
      }
     ],
     "prompt_number": 39
    },
    {
     "cell_type": "code",
     "collapsed": false,
     "input": [
      "weather_result[\"date\"] = weather[\"date\"]"
     ],
     "language": "python",
     "metadata": {},
     "outputs": [],
     "prompt_number": 40
    },
    {
     "cell_type": "code",
     "collapsed": false,
     "input": [
      "weather_result = weather_result.to_dataframe()"
     ],
     "language": "python",
     "metadata": {},
     "outputs": [],
     "prompt_number": 46
    },
    {
     "cell_type": "heading",
     "level": 2,
     "metadata": {},
     "source": [
      "Constraints:"
     ]
    },
    {
     "cell_type": "markdown",
     "metadata": {},
     "source": [
      "* 23 >= sunset[\"hour\"] >= sunrise[\"hour\"] >= 0\n",
      "* 0 <= sunset[\"minutes\"] <= 59\n",
      "* 0 <= sunrise[\"minutes\"] <= 59\n",
      "* 24* 60 >= day_length >= 0\n",
      "* stnpressure >= 0\n",
      "* preciptotal >= 0\n",
      "* dewpoint >= 0\n",
      "* sealevel >= 0\n",
      "* resultspeed >= 0\n",
      "* 359 >= resultdir >=0 \n",
      "* avgspeed >= 0"
     ]
    },
    {
     "cell_type": "code",
     "collapsed": false,
     "input": [
      "weather_result[weather_result[\"sunset_hour\"] < 0 ]"
     ],
     "language": "python",
     "metadata": {},
     "outputs": [
      {
       "html": [
        "<div style=\"max-height:1000px;max-width:1500px;overflow:auto;\">\n",
        "<table border=\"1\" class=\"dataframe\">\n",
        "  <thead>\n",
        "    <tr style=\"text-align: right;\">\n",
        "      <th></th>\n",
        "      <th>station_nbr</th>\n",
        "      <th>HZ</th>\n",
        "      <th>FU</th>\n",
        "      <th>UP</th>\n",
        "      <th>VCTS</th>\n",
        "      <th>DZ</th>\n",
        "      <th>BR</th>\n",
        "      <th>FG</th>\n",
        "      <th>BCFG</th>\n",
        "      <th>DU</th>\n",
        "      <th>...</th>\n",
        "      <th>tavg</th>\n",
        "      <th>sealevel</th>\n",
        "      <th>snowfall</th>\n",
        "      <th>day_length</th>\n",
        "      <th>sunrise_hour</th>\n",
        "      <th>sunrise_minute</th>\n",
        "      <th>sunset_hour</th>\n",
        "      <th>sunset_minute</th>\n",
        "      <th>depart</th>\n",
        "      <th>date</th>\n",
        "    </tr>\n",
        "  </thead>\n",
        "  <tbody>\n",
        "  </tbody>\n",
        "</table>\n",
        "<p>0 rows \u00d7 51 columns</p>\n",
        "</div>"
       ],
       "metadata": {},
       "output_type": "pyout",
       "prompt_number": 45,
       "text": [
        "Empty DataFrame\n",
        "Columns: [station_nbr, HZ, FU, UP, VCTS, DZ, BR, FG, BCFG, DU, FZRA, TS, RA, PL, GS, GR, FZDZ, VCFG, PRFG, FG+, TSRA, FZFG, BLDU, MIFG, SQ, BLSN, SN, SG, month, day, resultdir, resultspeed, dewpoint, preciptotal, avgspeed, tmax, tmin, stnpressure, wetbulb, cool, heat, tavg, sealevel, snowfall, day_length, sunrise_hour, sunrise_minute, sunset_hour, sunset_minute, depart, date]\n",
        "Index: []\n",
        "\n",
        "[0 rows x 51 columns]"
       ]
      }
     ],
     "prompt_number": 45
    },
    {
     "cell_type": "code",
     "collapsed": false,
     "input": [
      "weather_result[weather_result[\"sunset_hour\"] > 23]"
     ],
     "language": "python",
     "metadata": {},
     "outputs": [
      {
       "html": [
        "<div style=\"max-height:1000px;max-width:1500px;overflow:auto;\">\n",
        "<table border=\"1\" class=\"dataframe\">\n",
        "  <thead>\n",
        "    <tr style=\"text-align: right;\">\n",
        "      <th></th>\n",
        "      <th>station_nbr</th>\n",
        "      <th>HZ</th>\n",
        "      <th>FU</th>\n",
        "      <th>UP</th>\n",
        "      <th>VCTS</th>\n",
        "      <th>DZ</th>\n",
        "      <th>BR</th>\n",
        "      <th>FG</th>\n",
        "      <th>BCFG</th>\n",
        "      <th>DU</th>\n",
        "      <th>...</th>\n",
        "      <th>tavg</th>\n",
        "      <th>sealevel</th>\n",
        "      <th>snowfall</th>\n",
        "      <th>day_length</th>\n",
        "      <th>sunrise_hour</th>\n",
        "      <th>sunrise_minute</th>\n",
        "      <th>sunset_hour</th>\n",
        "      <th>sunset_minute</th>\n",
        "      <th>depart</th>\n",
        "      <th>date</th>\n",
        "    </tr>\n",
        "  </thead>\n",
        "  <tbody>\n",
        "  </tbody>\n",
        "</table>\n",
        "<p>0 rows \u00d7 51 columns</p>\n",
        "</div>"
       ],
       "metadata": {},
       "output_type": "pyout",
       "prompt_number": 46,
       "text": [
        "Empty DataFrame\n",
        "Columns: [station_nbr, HZ, FU, UP, VCTS, DZ, BR, FG, BCFG, DU, FZRA, TS, RA, PL, GS, GR, FZDZ, VCFG, PRFG, FG+, TSRA, FZFG, BLDU, MIFG, SQ, BLSN, SN, SG, month, day, resultdir, resultspeed, dewpoint, preciptotal, avgspeed, tmax, tmin, stnpressure, wetbulb, cool, heat, tavg, sealevel, snowfall, day_length, sunrise_hour, sunrise_minute, sunset_hour, sunset_minute, depart, date]\n",
        "Index: []\n",
        "\n",
        "[0 rows x 51 columns]"
       ]
      }
     ],
     "prompt_number": 46
    },
    {
     "cell_type": "code",
     "collapsed": false,
     "input": [
      "weather_result[weather_result[\"sunset_hour\"] < weather_result[\"sunrise_hour\"]]"
     ],
     "language": "python",
     "metadata": {},
     "outputs": [
      {
       "html": [
        "<div style=\"max-height:1000px;max-width:1500px;overflow:auto;\">\n",
        "<table border=\"1\" class=\"dataframe\">\n",
        "  <thead>\n",
        "    <tr style=\"text-align: right;\">\n",
        "      <th></th>\n",
        "      <th>station_nbr</th>\n",
        "      <th>HZ</th>\n",
        "      <th>FU</th>\n",
        "      <th>UP</th>\n",
        "      <th>VCTS</th>\n",
        "      <th>DZ</th>\n",
        "      <th>BR</th>\n",
        "      <th>FG</th>\n",
        "      <th>BCFG</th>\n",
        "      <th>DU</th>\n",
        "      <th>...</th>\n",
        "      <th>tavg</th>\n",
        "      <th>sealevel</th>\n",
        "      <th>snowfall</th>\n",
        "      <th>day_length</th>\n",
        "      <th>sunrise_hour</th>\n",
        "      <th>sunrise_minute</th>\n",
        "      <th>sunset_hour</th>\n",
        "      <th>sunset_minute</th>\n",
        "      <th>depart</th>\n",
        "      <th>date</th>\n",
        "    </tr>\n",
        "  </thead>\n",
        "  <tbody>\n",
        "  </tbody>\n",
        "</table>\n",
        "<p>0 rows \u00d7 51 columns</p>\n",
        "</div>"
       ],
       "metadata": {},
       "output_type": "pyout",
       "prompt_number": 47,
       "text": [
        "Empty DataFrame\n",
        "Columns: [station_nbr, HZ, FU, UP, VCTS, DZ, BR, FG, BCFG, DU, FZRA, TS, RA, PL, GS, GR, FZDZ, VCFG, PRFG, FG+, TSRA, FZFG, BLDU, MIFG, SQ, BLSN, SN, SG, month, day, resultdir, resultspeed, dewpoint, preciptotal, avgspeed, tmax, tmin, stnpressure, wetbulb, cool, heat, tavg, sealevel, snowfall, day_length, sunrise_hour, sunrise_minute, sunset_hour, sunset_minute, depart, date]\n",
        "Index: []\n",
        "\n",
        "[0 rows x 51 columns]"
       ]
      }
     ],
     "prompt_number": 47
    },
    {
     "cell_type": "code",
     "collapsed": false,
     "input": [
      "weather_result[\"sunset_minute\"][weather_result[\"sunset_minute\"] < 0 ]"
     ],
     "language": "python",
     "metadata": {},
     "outputs": [
      {
       "metadata": {},
       "output_type": "pyout",
       "prompt_number": 49,
       "text": [
        "1553    -0.683154\n",
        "1558    -0.351302\n",
        "7788    -0.790381\n",
        "15055   -0.070507\n",
        "16017   -0.050679\n",
        "16037   -0.501580\n",
        "16052   -0.766174\n",
        "Name: sunset_minute, dtype: float64"
       ]
      }
     ],
     "prompt_number": 49
    },
    {
     "cell_type": "code",
     "collapsed": false,
     "input": [
      "weather_result[\"sunset_minute\"][weather_result[\"sunset_minute\"] < 0 ] = 0"
     ],
     "language": "python",
     "metadata": {},
     "outputs": [],
     "prompt_number": 50
    },
    {
     "cell_type": "code",
     "collapsed": false,
     "input": [
      "weather_result[weather_result[\"sunset_minute\"] > 60 ]"
     ],
     "language": "python",
     "metadata": {},
     "outputs": [
      {
       "html": [
        "<div style=\"max-height:1000px;max-width:1500px;overflow:auto;\">\n",
        "<table border=\"1\" class=\"dataframe\">\n",
        "  <thead>\n",
        "    <tr style=\"text-align: right;\">\n",
        "      <th></th>\n",
        "      <th>station_nbr</th>\n",
        "      <th>HZ</th>\n",
        "      <th>FU</th>\n",
        "      <th>UP</th>\n",
        "      <th>VCTS</th>\n",
        "      <th>DZ</th>\n",
        "      <th>BR</th>\n",
        "      <th>FG</th>\n",
        "      <th>BCFG</th>\n",
        "      <th>DU</th>\n",
        "      <th>...</th>\n",
        "      <th>tavg</th>\n",
        "      <th>sealevel</th>\n",
        "      <th>snowfall</th>\n",
        "      <th>day_length</th>\n",
        "      <th>sunrise_hour</th>\n",
        "      <th>sunrise_minute</th>\n",
        "      <th>sunset_hour</th>\n",
        "      <th>sunset_minute</th>\n",
        "      <th>depart</th>\n",
        "      <th>date</th>\n",
        "    </tr>\n",
        "  </thead>\n",
        "  <tbody>\n",
        "  </tbody>\n",
        "</table>\n",
        "<p>0 rows \u00d7 51 columns</p>\n",
        "</div>"
       ],
       "metadata": {},
       "output_type": "pyout",
       "prompt_number": 52,
       "text": [
        "Empty DataFrame\n",
        "Columns: [station_nbr, HZ, FU, UP, VCTS, DZ, BR, FG, BCFG, DU, FZRA, TS, RA, PL, GS, GR, FZDZ, VCFG, PRFG, FG+, TSRA, FZFG, BLDU, MIFG, SQ, BLSN, SN, SG, month, day, resultdir, resultspeed, dewpoint, preciptotal, avgspeed, tmax, tmin, stnpressure, wetbulb, cool, heat, tavg, sealevel, snowfall, day_length, sunrise_hour, sunrise_minute, sunset_hour, sunset_minute, depart, date]\n",
        "Index: []\n",
        "\n",
        "[0 rows x 51 columns]"
       ]
      }
     ],
     "prompt_number": 52
    },
    {
     "cell_type": "code",
     "collapsed": false,
     "input": [
      "weather_result[weather_result[\"day_length\"] < 0] "
     ],
     "language": "python",
     "metadata": {},
     "outputs": [
      {
       "html": [
        "<div style=\"max-height:1000px;max-width:1500px;overflow:auto;\">\n",
        "<table border=\"1\" class=\"dataframe\">\n",
        "  <thead>\n",
        "    <tr style=\"text-align: right;\">\n",
        "      <th></th>\n",
        "      <th>station_nbr</th>\n",
        "      <th>tmax</th>\n",
        "      <th>tmin</th>\n",
        "      <th>tavg</th>\n",
        "      <th>depart</th>\n",
        "      <th>dewpoint</th>\n",
        "      <th>wetbulb</th>\n",
        "      <th>heat</th>\n",
        "      <th>cool</th>\n",
        "      <th>snowfall</th>\n",
        "      <th>...</th>\n",
        "      <th>stnpressureNAN</th>\n",
        "      <th>wetbulbNAN</th>\n",
        "      <th>coolNAN</th>\n",
        "      <th>heatNAN</th>\n",
        "      <th>tavgNAN</th>\n",
        "      <th>sealevelNAN</th>\n",
        "      <th>snowfallNAN</th>\n",
        "      <th>day_lengthNAN</th>\n",
        "      <th>departNAN</th>\n",
        "      <th>date</th>\n",
        "    </tr>\n",
        "  </thead>\n",
        "  <tbody>\n",
        "  </tbody>\n",
        "</table>\n",
        "<p>0 rows \u00d7 67 columns</p>\n",
        "</div>"
       ],
       "metadata": {},
       "output_type": "pyout",
       "prompt_number": 47,
       "text": [
        "Empty DataFrame\n",
        "Columns: [station_nbr, tmax, tmin, tavg, depart, dewpoint, wetbulb, heat, cool, snowfall, preciptotal, stnpressure, sealevel, resultspeed, resultdir, avgspeed, HZ, FU, UP, VCTS, DZ, BR, FG, BCFG, DU, FZRA, TS, RA, PL, GS, GR, FZDZ, VCFG, PRFG, FG+, TSRA, FZFG, BLDU, MIFG, SQ, BLSN, SN, SG, month, day, day_length, sunset_hour, sunset_minute, sunrise_hour, sunrise_minute, resultdirNAN, resultspeedNAN, dewpointNAN, preciptotalNAN, avgspeedNAN, tmaxNAN, tminNAN, stnpressureNAN, wetbulbNAN, coolNAN, heatNAN, tavgNAN, sealevelNAN, snowfallNAN, day_lengthNAN, departNAN, date]\n",
        "Index: []\n",
        "\n",
        "[0 rows x 67 columns]"
       ]
      }
     ],
     "prompt_number": 47
    },
    {
     "cell_type": "code",
     "collapsed": false,
     "input": [
      "weather_result[weather_result[\"day_length\"] > 24 * 60]"
     ],
     "language": "python",
     "metadata": {},
     "outputs": [
      {
       "html": [
        "<div style=\"max-height:1000px;max-width:1500px;overflow:auto;\">\n",
        "<table border=\"1\" class=\"dataframe\">\n",
        "  <thead>\n",
        "    <tr style=\"text-align: right;\">\n",
        "      <th></th>\n",
        "      <th>station_nbr</th>\n",
        "      <th>tmax</th>\n",
        "      <th>tmin</th>\n",
        "      <th>tavg</th>\n",
        "      <th>depart</th>\n",
        "      <th>dewpoint</th>\n",
        "      <th>wetbulb</th>\n",
        "      <th>heat</th>\n",
        "      <th>cool</th>\n",
        "      <th>snowfall</th>\n",
        "      <th>...</th>\n",
        "      <th>stnpressureNAN</th>\n",
        "      <th>wetbulbNAN</th>\n",
        "      <th>coolNAN</th>\n",
        "      <th>heatNAN</th>\n",
        "      <th>tavgNAN</th>\n",
        "      <th>sealevelNAN</th>\n",
        "      <th>snowfallNAN</th>\n",
        "      <th>day_lengthNAN</th>\n",
        "      <th>departNAN</th>\n",
        "      <th>date</th>\n",
        "    </tr>\n",
        "  </thead>\n",
        "  <tbody>\n",
        "  </tbody>\n",
        "</table>\n",
        "<p>0 rows \u00d7 67 columns</p>\n",
        "</div>"
       ],
       "metadata": {},
       "output_type": "pyout",
       "prompt_number": 48,
       "text": [
        "Empty DataFrame\n",
        "Columns: [station_nbr, tmax, tmin, tavg, depart, dewpoint, wetbulb, heat, cool, snowfall, preciptotal, stnpressure, sealevel, resultspeed, resultdir, avgspeed, HZ, FU, UP, VCTS, DZ, BR, FG, BCFG, DU, FZRA, TS, RA, PL, GS, GR, FZDZ, VCFG, PRFG, FG+, TSRA, FZFG, BLDU, MIFG, SQ, BLSN, SN, SG, month, day, day_length, sunset_hour, sunset_minute, sunrise_hour, sunrise_minute, resultdirNAN, resultspeedNAN, dewpointNAN, preciptotalNAN, avgspeedNAN, tmaxNAN, tminNAN, stnpressureNAN, wetbulbNAN, coolNAN, heatNAN, tavgNAN, sealevelNAN, snowfallNAN, day_lengthNAN, departNAN, date]\n",
        "Index: []\n",
        "\n",
        "[0 rows x 67 columns]"
       ]
      }
     ],
     "prompt_number": 48
    },
    {
     "cell_type": "code",
     "collapsed": false,
     "input": [
      "weather_result[weather_result[\"stnpressure\"] < 0 ]"
     ],
     "language": "python",
     "metadata": {},
     "outputs": [
      {
       "html": [
        "<div style=\"max-height:1000px;max-width:1500px;overflow:auto;\"><table frame=\"box\" rules=\"cols\">\n",
        "    <tr>\n",
        "        <th style=\"padding-left: 1em; padding-right: 1em; text-align: center\">station_nbr</th>\n",
        "        <th style=\"padding-left: 1em; padding-right: 1em; text-align: center\">tmax</th>\n",
        "        <th style=\"padding-left: 1em; padding-right: 1em; text-align: center\">tmin</th>\n",
        "        <th style=\"padding-left: 1em; padding-right: 1em; text-align: center\">tavg</th>\n",
        "        <th style=\"padding-left: 1em; padding-right: 1em; text-align: center\">depart</th>\n",
        "        <th style=\"padding-left: 1em; padding-right: 1em; text-align: center\">dewpoint</th>\n",
        "        <th style=\"padding-left: 1em; padding-right: 1em; text-align: center\">wetbulb</th>\n",
        "        <th style=\"padding-left: 1em; padding-right: 1em; text-align: center\">heat</th>\n",
        "        <th style=\"padding-left: 1em; padding-right: 1em; text-align: center\">cool</th>\n",
        "        <th style=\"padding-left: 1em; padding-right: 1em; text-align: center\">snowfall</th>\n",
        "        <th style=\"padding-left: 1em; padding-right: 1em; text-align: center\">preciptotal</th>\n",
        "    </tr>\n",
        "</table>\n",
        "<table frame=\"box\" rules=\"cols\">\n",
        "    <tr>\n",
        "        <th style=\"padding-left: 1em; padding-right: 1em; text-align: center\">stnpressure</th>\n",
        "        <th style=\"padding-left: 1em; padding-right: 1em; text-align: center\">sealevel</th>\n",
        "        <th style=\"padding-left: 1em; padding-right: 1em; text-align: center\">resultspeed</th>\n",
        "        <th style=\"padding-left: 1em; padding-right: 1em; text-align: center\">resultdir</th>\n",
        "        <th style=\"padding-left: 1em; padding-right: 1em; text-align: center\">avgspeed</th>\n",
        "        <th style=\"padding-left: 1em; padding-right: 1em; text-align: center\">HZ</th>\n",
        "        <th style=\"padding-left: 1em; padding-right: 1em; text-align: center\">FU</th>\n",
        "        <th style=\"padding-left: 1em; padding-right: 1em; text-align: center\">UP</th>\n",
        "        <th style=\"padding-left: 1em; padding-right: 1em; text-align: center\">VCTS</th>\n",
        "        <th style=\"padding-left: 1em; padding-right: 1em; text-align: center\">DZ</th>\n",
        "        <th style=\"padding-left: 1em; padding-right: 1em; text-align: center\">BR</th>\n",
        "    </tr>\n",
        "</table>\n",
        "<table frame=\"box\" rules=\"cols\">\n",
        "    <tr>\n",
        "        <th style=\"padding-left: 1em; padding-right: 1em; text-align: center\">FG</th>\n",
        "        <th style=\"padding-left: 1em; padding-right: 1em; text-align: center\">BCFG</th>\n",
        "        <th style=\"padding-left: 1em; padding-right: 1em; text-align: center\">DU</th>\n",
        "        <th style=\"padding-left: 1em; padding-right: 1em; text-align: center\">FZRA</th>\n",
        "        <th style=\"padding-left: 1em; padding-right: 1em; text-align: center\">TS</th>\n",
        "        <th style=\"padding-left: 1em; padding-right: 1em; text-align: center\">RA</th>\n",
        "        <th style=\"padding-left: 1em; padding-right: 1em; text-align: center\">PL</th>\n",
        "        <th style=\"padding-left: 1em; padding-right: 1em; text-align: center\">GS</th>\n",
        "        <th style=\"padding-left: 1em; padding-right: 1em; text-align: center\">GR</th>\n",
        "        <th style=\"padding-left: 1em; padding-right: 1em; text-align: center\">FZDZ</th>\n",
        "        <th style=\"padding-left: 1em; padding-right: 1em; text-align: center\">VCFG</th>\n",
        "        <th style=\"padding-left: 1em; padding-right: 1em; text-align: center\">PRFG</th>\n",
        "        <th style=\"padding-left: 1em; padding-right: 1em; text-align: center\">FG+</th>\n",
        "        <th style=\"padding-left: 1em; padding-right: 1em; text-align: center\">TSRA</th>\n",
        "        <th style=\"padding-left: 1em; padding-right: 1em; text-align: center\">FZFG</th>\n",
        "        <th style=\"padding-left: 1em; padding-right: 1em; text-align: center\">BLDU</th>\n",
        "    </tr>\n",
        "</table>\n",
        "<table frame=\"box\" rules=\"cols\">\n",
        "    <tr>\n",
        "        <th style=\"padding-left: 1em; padding-right: 1em; text-align: center\">MIFG</th>\n",
        "        <th style=\"padding-left: 1em; padding-right: 1em; text-align: center\">SQ</th>\n",
        "        <th style=\"padding-left: 1em; padding-right: 1em; text-align: center\">...</th>\n",
        "    </tr>\n",
        "</table>\n",
        "[? rows x 67 columns]<br/>Note: Only the head of the SFrame is printed. This SFrame is lazily evaluated.<br/>You can use len(sf) to force materialization.\n",
        "</div>"
       ],
       "metadata": {},
       "output_type": "pyout",
       "prompt_number": 43,
       "text": [
        "Columns:\n",
        "\tstation_nbr\tint\n",
        "\ttmax\tfloat\n",
        "\ttmin\tfloat\n",
        "\ttavg\tfloat\n",
        "\tdepart\tfloat\n",
        "\tdewpoint\tfloat\n",
        "\twetbulb\tfloat\n",
        "\theat\tfloat\n",
        "\tcool\tfloat\n",
        "\tsnowfall\tfloat\n",
        "\tpreciptotal\tfloat\n",
        "\tstnpressure\tfloat\n",
        "\tsealevel\tfloat\n",
        "\tresultspeed\tfloat\n",
        "\tresultdir\tfloat\n",
        "\tavgspeed\tfloat\n",
        "\tHZ\tint\n",
        "\tFU\tint\n",
        "\tUP\tint\n",
        "\tVCTS\tint\n",
        "\tDZ\tint\n",
        "\tBR\tint\n",
        "\tFG\tint\n",
        "\tBCFG\tint\n",
        "\tDU\tint\n",
        "\tFZRA\tint\n",
        "\tTS\tint\n",
        "\tRA\tint\n",
        "\tPL\tint\n",
        "\tGS\tint\n",
        "\tGR\tint\n",
        "\tFZDZ\tint\n",
        "\tVCFG\tint\n",
        "\tPRFG\tint\n",
        "\tFG+\tint\n",
        "\tTSRA\tint\n",
        "\tFZFG\tint\n",
        "\tBLDU\tint\n",
        "\tMIFG\tint\n",
        "\tSQ\tint\n",
        "\tBLSN\tint\n",
        "\tSN\tint\n",
        "\tSG\tint\n",
        "\tmonth\tint\n",
        "\tday\tint\n",
        "\tday_length\tfloat\n",
        "\tsunset_hour\tfloat\n",
        "\tsunset_minute\tfloat\n",
        "\tsunrise_hour\tfloat\n",
        "\tsunrise_minute\tfloat\n",
        "\tresultdirNAN\tint\n",
        "\tresultspeedNAN\tint\n",
        "\tdewpointNAN\tint\n",
        "\tpreciptotalNAN\tint\n",
        "\tavgspeedNAN\tint\n",
        "\ttmaxNAN\tint\n",
        "\ttminNAN\tint\n",
        "\tstnpressureNAN\tint\n",
        "\twetbulbNAN\tint\n",
        "\tcoolNAN\tint\n",
        "\theatNAN\tint\n",
        "\ttavgNAN\tint\n",
        "\tsealevelNAN\tint\n",
        "\tsnowfallNAN\tint\n",
        "\tday_lengthNAN\tint\n",
        "\tdepartNAN\tint\n",
        "\tdate\tstr\n",
        "\n",
        "Rows: Unknown\n",
        "\n",
        "Data:\n",
        "\t[]"
       ]
      }
     ],
     "prompt_number": 43
    },
    {
     "cell_type": "code",
     "collapsed": false,
     "input": [
      "weather_result[weather_result[\"snowfall\"] < 0 ]"
     ],
     "language": "python",
     "metadata": {},
     "outputs": [
      {
       "html": [
        "<div style=\"max-height:1000px;max-width:1500px;overflow:auto;\">\n",
        "<table border=\"1\" class=\"dataframe\">\n",
        "  <thead>\n",
        "    <tr style=\"text-align: right;\">\n",
        "      <th></th>\n",
        "      <th>station_nbr</th>\n",
        "      <th>tmax</th>\n",
        "      <th>tmin</th>\n",
        "      <th>tavg</th>\n",
        "      <th>depart</th>\n",
        "      <th>dewpoint</th>\n",
        "      <th>wetbulb</th>\n",
        "      <th>heat</th>\n",
        "      <th>cool</th>\n",
        "      <th>snowfall</th>\n",
        "      <th>...</th>\n",
        "      <th>stnpressureNAN</th>\n",
        "      <th>wetbulbNAN</th>\n",
        "      <th>coolNAN</th>\n",
        "      <th>heatNAN</th>\n",
        "      <th>tavgNAN</th>\n",
        "      <th>sealevelNAN</th>\n",
        "      <th>snowfallNAN</th>\n",
        "      <th>day_lengthNAN</th>\n",
        "      <th>departNAN</th>\n",
        "      <th>date</th>\n",
        "    </tr>\n",
        "  </thead>\n",
        "  <tbody>\n",
        "    <tr>\n",
        "      <th>16711</th>\n",
        "      <td>  9</td>\n",
        "      <td> 10</td>\n",
        "      <td> -6</td>\n",
        "      <td>  2</td>\n",
        "      <td>-13.994639</td>\n",
        "      <td> -5</td>\n",
        "      <td>  2</td>\n",
        "      <td> 63</td>\n",
        "      <td> 0</td>\n",
        "      <td>-0.038727</td>\n",
        "      <td>...</td>\n",
        "      <td> 0</td>\n",
        "      <td> 0</td>\n",
        "      <td> 0</td>\n",
        "      <td> 0</td>\n",
        "      <td> 0</td>\n",
        "      <td> 0</td>\n",
        "      <td> 1</td>\n",
        "      <td> 1</td>\n",
        "      <td> 1</td>\n",
        "      <td> 2014-04-24</td>\n",
        "    </tr>\n",
        "    <tr>\n",
        "      <th>16787</th>\n",
        "      <td>  9</td>\n",
        "      <td> 11</td>\n",
        "      <td>  2</td>\n",
        "      <td>  7</td>\n",
        "      <td>-14.082035</td>\n",
        "      <td> -3</td>\n",
        "      <td>  5</td>\n",
        "      <td> 58</td>\n",
        "      <td> 0</td>\n",
        "      <td>-0.038727</td>\n",
        "      <td>...</td>\n",
        "      <td> 0</td>\n",
        "      <td> 0</td>\n",
        "      <td> 0</td>\n",
        "      <td> 0</td>\n",
        "      <td> 0</td>\n",
        "      <td> 0</td>\n",
        "      <td> 0</td>\n",
        "      <td> 1</td>\n",
        "      <td> 1</td>\n",
        "      <td> 2014-04-28</td>\n",
        "    </tr>\n",
        "    <tr>\n",
        "      <th>18184</th>\n",
        "      <td>  9</td>\n",
        "      <td>  8</td>\n",
        "      <td> -7</td>\n",
        "      <td>  1</td>\n",
        "      <td>-14.764138</td>\n",
        "      <td> -7</td>\n",
        "      <td>  0</td>\n",
        "      <td> 64</td>\n",
        "      <td> 0</td>\n",
        "      <td>-0.038727</td>\n",
        "      <td>...</td>\n",
        "      <td> 0</td>\n",
        "      <td> 0</td>\n",
        "      <td> 0</td>\n",
        "      <td> 0</td>\n",
        "      <td> 0</td>\n",
        "      <td> 0</td>\n",
        "      <td> 0</td>\n",
        "      <td> 0</td>\n",
        "      <td> 1</td>\n",
        "      <td> 2014-07-07</td>\n",
        "    </tr>\n",
        "    <tr>\n",
        "      <th>18322</th>\n",
        "      <td> 13</td>\n",
        "      <td> 51</td>\n",
        "      <td> 19</td>\n",
        "      <td> 35</td>\n",
        "      <td> -1.531664</td>\n",
        "      <td> 23</td>\n",
        "      <td> 28</td>\n",
        "      <td> 30</td>\n",
        "      <td> 0</td>\n",
        "      <td>-0.028028</td>\n",
        "      <td>...</td>\n",
        "      <td> 0</td>\n",
        "      <td> 0</td>\n",
        "      <td> 0</td>\n",
        "      <td> 0</td>\n",
        "      <td> 0</td>\n",
        "      <td> 1</td>\n",
        "      <td> 0</td>\n",
        "      <td> 0</td>\n",
        "      <td> 1</td>\n",
        "      <td> 2014-07-14</td>\n",
        "    </tr>\n",
        "    <tr>\n",
        "      <th>19637</th>\n",
        "      <td>  8</td>\n",
        "      <td> 74</td>\n",
        "      <td> 64</td>\n",
        "      <td> 69</td>\n",
        "      <td>  8.498392</td>\n",
        "      <td> 64</td>\n",
        "      <td> 66</td>\n",
        "      <td>  0</td>\n",
        "      <td> 4</td>\n",
        "      <td>-0.024997</td>\n",
        "      <td>...</td>\n",
        "      <td> 0</td>\n",
        "      <td> 0</td>\n",
        "      <td> 0</td>\n",
        "      <td> 0</td>\n",
        "      <td> 0</td>\n",
        "      <td> 0</td>\n",
        "      <td> 1</td>\n",
        "      <td> 1</td>\n",
        "      <td> 1</td>\n",
        "      <td> 2014-09-18</td>\n",
        "    </tr>\n",
        "  </tbody>\n",
        "</table>\n",
        "<p>5 rows \u00d7 67 columns</p>\n",
        "</div>"
       ],
       "metadata": {},
       "output_type": "pyout",
       "prompt_number": 49,
       "text": [
        "       station_nbr  tmax  tmin  tavg     depart  dewpoint  wetbulb  heat  \\\n",
        "16711            9    10    -6     2 -13.994639        -5        2    63   \n",
        "16787            9    11     2     7 -14.082035        -3        5    58   \n",
        "18184            9     8    -7     1 -14.764138        -7        0    64   \n",
        "18322           13    51    19    35  -1.531664        23       28    30   \n",
        "19637            8    74    64    69   8.498392        64       66     0   \n",
        "\n",
        "       cool  snowfall    ...     stnpressureNAN  wetbulbNAN  coolNAN  heatNAN  \\\n",
        "16711     0 -0.038727    ...                  0           0        0        0   \n",
        "16787     0 -0.038727    ...                  0           0        0        0   \n",
        "18184     0 -0.038727    ...                  0           0        0        0   \n",
        "18322     0 -0.028028    ...                  0           0        0        0   \n",
        "19637     4 -0.024997    ...                  0           0        0        0   \n",
        "\n",
        "       tavgNAN  sealevelNAN  snowfallNAN  day_lengthNAN  departNAN        date  \n",
        "16711        0            0            1              1          1  2014-04-24  \n",
        "16787        0            0            0              1          1  2014-04-28  \n",
        "18184        0            0            0              0          1  2014-07-07  \n",
        "18322        0            1            0              0          1  2014-07-14  \n",
        "19637        0            0            1              1          1  2014-09-18  \n",
        "\n",
        "[5 rows x 67 columns]"
       ]
      }
     ],
     "prompt_number": 49
    },
    {
     "cell_type": "code",
     "collapsed": false,
     "input": [
      "weather_result[\"snowfall\"][weather_result[\"snowfall\"] < 0 ] = 0"
     ],
     "language": "python",
     "metadata": {},
     "outputs": [],
     "prompt_number": 50
    },
    {
     "cell_type": "code",
     "collapsed": false,
     "input": [
      "weather_result[weather_result[\"preciptotal\"] < 0 ]"
     ],
     "language": "python",
     "metadata": {},
     "outputs": [
      {
       "html": [
        "<div style=\"max-height:1000px;max-width:1500px;overflow:auto;\">\n",
        "<table border=\"1\" class=\"dataframe\">\n",
        "  <thead>\n",
        "    <tr style=\"text-align: right;\">\n",
        "      <th></th>\n",
        "      <th>station_nbr</th>\n",
        "      <th>tmax</th>\n",
        "      <th>tmin</th>\n",
        "      <th>tavg</th>\n",
        "      <th>depart</th>\n",
        "      <th>dewpoint</th>\n",
        "      <th>wetbulb</th>\n",
        "      <th>heat</th>\n",
        "      <th>cool</th>\n",
        "      <th>snowfall</th>\n",
        "      <th>...</th>\n",
        "      <th>stnpressureNAN</th>\n",
        "      <th>wetbulbNAN</th>\n",
        "      <th>coolNAN</th>\n",
        "      <th>heatNAN</th>\n",
        "      <th>tavgNAN</th>\n",
        "      <th>sealevelNAN</th>\n",
        "      <th>snowfallNAN</th>\n",
        "      <th>day_lengthNAN</th>\n",
        "      <th>departNAN</th>\n",
        "      <th>date</th>\n",
        "    </tr>\n",
        "  </thead>\n",
        "  <tbody>\n",
        "  </tbody>\n",
        "</table>\n",
        "<p>0 rows \u00d7 67 columns</p>\n",
        "</div>"
       ],
       "metadata": {},
       "output_type": "pyout",
       "prompt_number": 51,
       "text": [
        "Empty DataFrame\n",
        "Columns: [station_nbr, tmax, tmin, tavg, depart, dewpoint, wetbulb, heat, cool, snowfall, preciptotal, stnpressure, sealevel, resultspeed, resultdir, avgspeed, HZ, FU, UP, VCTS, DZ, BR, FG, BCFG, DU, FZRA, TS, RA, PL, GS, GR, FZDZ, VCFG, PRFG, FG+, TSRA, FZFG, BLDU, MIFG, SQ, BLSN, SN, SG, month, day, day_length, sunset_hour, sunset_minute, sunrise_hour, sunrise_minute, resultdirNAN, resultspeedNAN, dewpointNAN, preciptotalNAN, avgspeedNAN, tmaxNAN, tminNAN, stnpressureNAN, wetbulbNAN, coolNAN, heatNAN, tavgNAN, sealevelNAN, snowfallNAN, day_lengthNAN, departNAN, date]\n",
        "Index: []\n",
        "\n",
        "[0 rows x 67 columns]"
       ]
      }
     ],
     "prompt_number": 51
    },
    {
     "cell_type": "code",
     "collapsed": false,
     "input": [
      "weather_result[\"snowfall\"][weather_result[\"snowfall\"] < 0 ] = 0"
     ],
     "language": "python",
     "metadata": {},
     "outputs": [],
     "prompt_number": 59
    },
    {
     "cell_type": "code",
     "collapsed": false,
     "input": [
      "# weather_result[\"resultdir\"][weather_result[\"resultdir\"] < 0]\n",
      "weather_result[\"resultdir\"][weather_result[\"resultdir\"] < 0]"
     ],
     "language": "python",
     "metadata": {},
     "outputs": [
      {
       "metadata": {},
       "output_type": "pyout",
       "prompt_number": 52,
       "text": [
        "Series([], name: resultdir, dtype: float64)"
       ]
      }
     ],
     "prompt_number": 52
    },
    {
     "cell_type": "code",
     "collapsed": false,
     "input": [
      "weather_result[\"resultdir\"][weather_result[\"resultdir\"] > 355]"
     ],
     "language": "python",
     "metadata": {},
     "outputs": [
      {
       "metadata": {},
       "output_type": "pyout",
       "prompt_number": 54,
       "text": [
        "Series([], name: resultdir, dtype: float64)"
       ]
      }
     ],
     "prompt_number": 54
    },
    {
     "cell_type": "code",
     "collapsed": false,
     "input": [
      "weather_result[\"resultspeed\"][weather_result[\"resultspeed\"] < 0]"
     ],
     "language": "python",
     "metadata": {},
     "outputs": [
      {
       "metadata": {},
       "output_type": "pyout",
       "prompt_number": 55,
       "text": [
        "Series([], name: resultspeed, dtype: float64)"
       ]
      }
     ],
     "prompt_number": 55
    },
    {
     "cell_type": "code",
     "collapsed": false,
     "input": [
      "weather_result[\"sealevel\"][weather_result[\"sealevel\"] < 0]"
     ],
     "language": "python",
     "metadata": {},
     "outputs": [
      {
       "metadata": {},
       "output_type": "pyout",
       "prompt_number": 56,
       "text": [
        "Series([], name: sealevel, dtype: float64)"
       ]
      }
     ],
     "prompt_number": 56
    },
    {
     "cell_type": "code",
     "collapsed": false,
     "input": [
      "weather_result[\"avgspeed\"][weather_result[\"avgspeed\"] < 0]"
     ],
     "language": "python",
     "metadata": {},
     "outputs": [
      {
       "metadata": {},
       "output_type": "pyout",
       "prompt_number": 57,
       "text": [
        "Series([], name: avgspeed, dtype: float64)"
       ]
      }
     ],
     "prompt_number": 57
    },
    {
     "cell_type": "code",
     "collapsed": false,
     "input": [
      "weather_result[weather_result[\"log_resultspeed\"] < 0]"
     ],
     "language": "python",
     "metadata": {},
     "outputs": [
      {
       "html": [
        "<div style=\"max-height:1000px;max-width:1500px;overflow:auto;\">\n",
        "<table border=\"1\" class=\"dataframe\">\n",
        "  <thead>\n",
        "    <tr style=\"text-align: right;\">\n",
        "      <th></th>\n",
        "      <th>station_nbr</th>\n",
        "      <th>HZ</th>\n",
        "      <th>FU</th>\n",
        "      <th>UP</th>\n",
        "      <th>VCTS</th>\n",
        "      <th>DZ</th>\n",
        "      <th>BR</th>\n",
        "      <th>FG</th>\n",
        "      <th>BCFG</th>\n",
        "      <th>DU</th>\n",
        "      <th>...</th>\n",
        "      <th>stnpressure</th>\n",
        "      <th>wetbulb</th>\n",
        "      <th>cool</th>\n",
        "      <th>heat</th>\n",
        "      <th>tavg</th>\n",
        "      <th>sealevel</th>\n",
        "      <th>log_snowfall</th>\n",
        "      <th>day_length</th>\n",
        "      <th>depart</th>\n",
        "      <th>date</th>\n",
        "    </tr>\n",
        "  </thead>\n",
        "  <tbody>\n",
        "  </tbody>\n",
        "</table>\n",
        "<p>0 rows \u00d7 47 columns</p>\n",
        "</div>"
       ],
       "metadata": {},
       "output_type": "pyout",
       "prompt_number": 21,
       "text": [
        "Empty DataFrame\n",
        "Columns: [station_nbr, HZ, FU, UP, VCTS, DZ, BR, FG, BCFG, DU, FZRA, TS, RA, PL, GS, GR, FZDZ, VCFG, PRFG, FG+, TSRA, FZFG, BLDU, MIFG, SQ, BLSN, SN, SG, month, day, log_resultspeed, resultdir, dewpoint, log_preciptotal, log_avgspeed, tmax, tmin, stnpressure, wetbulb, cool, heat, tavg, sealevel, log_snowfall, day_length, depart, date]\n",
        "Index: []\n",
        "\n",
        "[0 rows x 47 columns]"
       ]
      }
     ],
     "prompt_number": 21
    },
    {
     "cell_type": "code",
     "collapsed": false,
     "input": [
      "#save to file\n",
      "weather_result.to_csv(os.path.join(\"data\", \"weather_filled_gl_default_3.csv\"), index=False)"
     ],
     "language": "python",
     "metadata": {},
     "outputs": [],
     "prompt_number": 58
    },
    {
     "cell_type": "code",
     "collapsed": false,
     "input": [],
     "language": "python",
     "metadata": {},
     "outputs": []
    }
   ],
   "metadata": {}
  }
 ]
}