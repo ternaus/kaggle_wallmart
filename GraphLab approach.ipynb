{
 "metadata": {
  "name": "",
  "signature": "sha256:b32ddef241236bef7c6bd6f5370a2de20e69e77e16e3ee5782a2a7400af5db30"
 },
 "nbformat": 3,
 "nbformat_minor": 0,
 "worksheets": [
  {
   "cells": [
    {
     "cell_type": "code",
     "collapsed": false,
     "input": [
      "# import pandas as pd\n",
      "import numpy as np\n",
      "import os\n",
      "import graphlab as gl\n",
      "from graphlab import SFrame\n",
      "import pandas as pd\n"
     ],
     "language": "python",
     "metadata": {},
     "outputs": [],
     "prompt_number": 1
    },
    {
     "cell_type": "code",
     "collapsed": false,
     "input": [
      "weather = SFrame.read_csv(os.path.join(\"data\", \"weather_filled_gl_default_3.csv\"))\n",
      "train = SFrame.read_csv(os.path.join(\"data\", \"train.csv\"))\n",
      "key = SFrame.read_csv(os.path.join(\"data\", \"key.csv\"))\n",
      "test = SFrame.read_csv(os.path.join(\"data\", \"test.csv\"))\n",
      "\n",
      "training = train.join(key).join(weather)\n",
      "testing = test.join(key).join(weather)\n",
      "\n"
     ],
     "language": "python",
     "metadata": {},
     "outputs": [
      {
       "output_type": "stream",
       "stream": "stderr",
       "text": [
        "[INFO] Start server at: ipc:///tmp/graphlab_server-9492 - Server binary: /usr/local/lib/python2.7/dist-packages/graphlab/unity_server - Server log: /tmp/graphlab_server_1429562179.log\n"
       ]
      },
      {
       "output_type": "stream",
       "stream": "stderr",
       "text": [
        "[INFO] GraphLab Server Version: 1.3.0\n"
       ]
      },
      {
       "html": [
        "<pre>PROGRESS: Finished parsing file /media/vladimir/1ab2d5e6-a134-47e7-ba27-b2d70ac5ffc5/workspace/kaggle_wallmart/data/weather_filled_gl_default_3.csv</pre>"
       ],
       "metadata": {},
       "output_type": "display_data",
       "text": [
        "PROGRESS: Finished parsing file /media/vladimir/1ab2d5e6-a134-47e7-ba27-b2d70ac5ffc5/workspace/kaggle_wallmart/data/weather_filled_gl_default_3.csv"
       ]
      },
      {
       "html": [
        "<pre>PROGRESS: Parsing completed. Parsed 100 lines in 0.14399 secs.</pre>"
       ],
       "metadata": {},
       "output_type": "display_data",
       "text": [
        "PROGRESS: Parsing completed. Parsed 100 lines in 0.14399 secs."
       ]
      },
      {
       "html": [
        "<pre>PROGRESS: Finished parsing file /media/vladimir/1ab2d5e6-a134-47e7-ba27-b2d70ac5ffc5/workspace/kaggle_wallmart/data/weather_filled_gl_default_3.csv</pre>"
       ],
       "metadata": {},
       "output_type": "display_data",
       "text": [
        "PROGRESS: Finished parsing file /media/vladimir/1ab2d5e6-a134-47e7-ba27-b2d70ac5ffc5/workspace/kaggle_wallmart/data/weather_filled_gl_default_3.csv"
       ]
      },
      {
       "html": [
        "<pre>PROGRESS: Parsing completed. Parsed 20517 lines in 0.149153 secs.</pre>"
       ],
       "metadata": {},
       "output_type": "display_data",
       "text": [
        "PROGRESS: Parsing completed. Parsed 20517 lines in 0.149153 secs."
       ]
      },
      {
       "html": [
        "<pre>PROGRESS: Finished parsing file /media/vladimir/1ab2d5e6-a134-47e7-ba27-b2d70ac5ffc5/workspace/kaggle_wallmart/data/train.csv</pre>"
       ],
       "metadata": {},
       "output_type": "display_data",
       "text": [
        "PROGRESS: Finished parsing file /media/vladimir/1ab2d5e6-a134-47e7-ba27-b2d70ac5ffc5/workspace/kaggle_wallmart/data/train.csv"
       ]
      },
      {
       "html": [
        "<pre>PROGRESS: Parsing completed. Parsed 100 lines in 9.06196 secs.</pre>"
       ],
       "metadata": {},
       "output_type": "display_data",
       "text": [
        "PROGRESS: Parsing completed. Parsed 100 lines in 9.06196 secs."
       ]
      },
      {
       "output_type": "stream",
       "stream": "stdout",
       "text": [
        "------------------------------------------------------\n",
        "Inferred types from first line of file as \n",
        "column_type_hints=[int,float,float,float,float,float,float,float,float,float,float,float,float,float,float,float,int,int,int,int,int,int,int,int,int,int,int,int,int,int,int,int,int,int,int,int,int,int,int,int,int,int,int,int,int,float,float,float,float,float,int,int,int,int,int,int,int,int,int,int,int,int,int,int,int,int,str]\n",
        "If parsing fails due to incorrect types, you can correct\n",
        "the inferred type list above and pass it to read_csv in\n",
        "the column_type_hints argument\n",
        "------------------------------------------------------\n",
        "------------------------------------------------------"
       ]
      },
      {
       "html": [
        "<pre>PROGRESS: Read 2781498 lines. Lines per second: 662125</pre>"
       ],
       "metadata": {},
       "output_type": "display_data",
       "text": [
        "PROGRESS: Read 2781498 lines. Lines per second: 662125"
       ]
      },
      {
       "html": [
        "<pre>PROGRESS: Finished parsing file /media/vladimir/1ab2d5e6-a134-47e7-ba27-b2d70ac5ffc5/workspace/kaggle_wallmart/data/train.csv</pre>"
       ],
       "metadata": {},
       "output_type": "display_data",
       "text": [
        "PROGRESS: Finished parsing file /media/vladimir/1ab2d5e6-a134-47e7-ba27-b2d70ac5ffc5/workspace/kaggle_wallmart/data/train.csv"
       ]
      },
      {
       "html": [
        "<pre>PROGRESS: Parsing completed. Parsed 4617600 lines in 4.72819 secs.</pre>"
       ],
       "metadata": {},
       "output_type": "display_data",
       "text": [
        "PROGRESS: Parsing completed. Parsed 4617600 lines in 4.72819 secs."
       ]
      },
      {
       "html": [
        "<pre>PROGRESS: Finished parsing file /media/vladimir/1ab2d5e6-a134-47e7-ba27-b2d70ac5ffc5/workspace/kaggle_wallmart/data/key.csv</pre>"
       ],
       "metadata": {},
       "output_type": "display_data",
       "text": [
        "PROGRESS: Finished parsing file /media/vladimir/1ab2d5e6-a134-47e7-ba27-b2d70ac5ffc5/workspace/kaggle_wallmart/data/key.csv"
       ]
      },
      {
       "html": [
        "<pre>PROGRESS: Parsing completed. Parsed 45 lines in 0.013663 secs.</pre>"
       ],
       "metadata": {},
       "output_type": "display_data",
       "text": [
        "PROGRESS: Parsing completed. Parsed 45 lines in 0.013663 secs."
       ]
      },
      {
       "output_type": "stream",
       "stream": "stdout",
       "text": [
        "\n",
        "Inferred types from first line of file as \n",
        "column_type_hints=[str,int,int,int]\n",
        "If parsing fails due to incorrect types, you can correct\n",
        "the inferred type list above and pass it to read_csv in\n",
        "the column_type_hints argument\n",
        "------------------------------------------------------\n",
        "------------------------------------------------------"
       ]
      },
      {
       "html": [
        "<pre>PROGRESS: Finished parsing file /media/vladimir/1ab2d5e6-a134-47e7-ba27-b2d70ac5ffc5/workspace/kaggle_wallmart/data/key.csv</pre>"
       ],
       "metadata": {},
       "output_type": "display_data",
       "text": [
        "PROGRESS: Finished parsing file /media/vladimir/1ab2d5e6-a134-47e7-ba27-b2d70ac5ffc5/workspace/kaggle_wallmart/data/key.csv"
       ]
      },
      {
       "html": [
        "<pre>PROGRESS: Parsing completed. Parsed 45 lines in 0.018257 secs.</pre>"
       ],
       "metadata": {},
       "output_type": "display_data",
       "text": [
        "PROGRESS: Parsing completed. Parsed 45 lines in 0.018257 secs."
       ]
      },
      {
       "html": [
        "<pre>PROGRESS: Finished parsing file /media/vladimir/1ab2d5e6-a134-47e7-ba27-b2d70ac5ffc5/workspace/kaggle_wallmart/data/test.csv</pre>"
       ],
       "metadata": {},
       "output_type": "display_data",
       "text": [
        "PROGRESS: Finished parsing file /media/vladimir/1ab2d5e6-a134-47e7-ba27-b2d70ac5ffc5/workspace/kaggle_wallmart/data/test.csv"
       ]
      },
      {
       "html": [
        "<pre>PROGRESS: Parsing completed. Parsed 100 lines in 2.44576 secs.</pre>"
       ],
       "metadata": {},
       "output_type": "display_data",
       "text": [
        "PROGRESS: Parsing completed. Parsed 100 lines in 2.44576 secs."
       ]
      },
      {
       "output_type": "stream",
       "stream": "stdout",
       "text": [
        "\n",
        "Inferred types from first line of file as \n",
        "column_type_hints=[int,int]\n",
        "If parsing fails due to incorrect types, you can correct\n",
        "the inferred type list above and pass it to read_csv in\n",
        "the column_type_hints argument\n",
        "------------------------------------------------------\n",
        "------------------------------------------------------"
       ]
      },
      {
       "html": [
        "<pre>PROGRESS: Finished parsing file /media/vladimir/1ab2d5e6-a134-47e7-ba27-b2d70ac5ffc5/workspace/kaggle_wallmart/data/test.csv</pre>"
       ],
       "metadata": {},
       "output_type": "display_data",
       "text": [
        "PROGRESS: Finished parsing file /media/vladimir/1ab2d5e6-a134-47e7-ba27-b2d70ac5ffc5/workspace/kaggle_wallmart/data/test.csv"
       ]
      },
      {
       "html": [
        "<pre>PROGRESS: Parsing completed. Parsed 526917 lines in 0.748168 secs.</pre>"
       ],
       "metadata": {},
       "output_type": "display_data",
       "text": [
        "PROGRESS: Parsing completed. Parsed 526917 lines in 0.748168 secs."
       ]
      },
      {
       "output_type": "stream",
       "stream": "stdout",
       "text": [
        "\n",
        "Inferred types from first line of file as \n",
        "column_type_hints=[str,int,int]\n",
        "If parsing fails due to incorrect types, you can correct\n",
        "the inferred type list above and pass it to read_csv in\n",
        "the column_type_hints argument\n",
        "------------------------------------------------------\n"
       ]
      }
     ],
     "prompt_number": 2
    },
    {
     "cell_type": "markdown",
     "metadata": {},
     "source": [
      "Is says that training is 4617600 lines and testing is 526917"
     ]
    },
    {
     "cell_type": "code",
     "collapsed": false,
     "input": [
      "training.head()"
     ],
     "language": "python",
     "metadata": {},
     "outputs": [
      {
       "html": [
        "<div style=\"max-height:1000px;max-width:1500px;overflow:auto;\"><table frame=\"box\" rules=\"cols\">\n",
        "    <tr>\n",
        "        <th style=\"padding-left: 1em; padding-right: 1em; text-align: center\">date</th>\n",
        "        <th style=\"padding-left: 1em; padding-right: 1em; text-align: center\">store_nbr</th>\n",
        "        <th style=\"padding-left: 1em; padding-right: 1em; text-align: center\">item_nbr</th>\n",
        "        <th style=\"padding-left: 1em; padding-right: 1em; text-align: center\">units</th>\n",
        "        <th style=\"padding-left: 1em; padding-right: 1em; text-align: center\">station_nbr</th>\n",
        "        <th style=\"padding-left: 1em; padding-right: 1em; text-align: center\">HZ</th>\n",
        "        <th style=\"padding-left: 1em; padding-right: 1em; text-align: center\">FU</th>\n",
        "        <th style=\"padding-left: 1em; padding-right: 1em; text-align: center\">UP</th>\n",
        "        <th style=\"padding-left: 1em; padding-right: 1em; text-align: center\">VCTS</th>\n",
        "        <th style=\"padding-left: 1em; padding-right: 1em; text-align: center\">DZ</th>\n",
        "        <th style=\"padding-left: 1em; padding-right: 1em; text-align: center\">BR</th>\n",
        "        <th style=\"padding-left: 1em; padding-right: 1em; text-align: center\">FG</th>\n",
        "        <th style=\"padding-left: 1em; padding-right: 1em; text-align: center\">BCFG</th>\n",
        "        <th style=\"padding-left: 1em; padding-right: 1em; text-align: center\">DU</th>\n",
        "        <th style=\"padding-left: 1em; padding-right: 1em; text-align: center\">FZRA</th>\n",
        "        <th style=\"padding-left: 1em; padding-right: 1em; text-align: center\">TS</th>\n",
        "    </tr>\n",
        "    <tr>\n",
        "        <td style=\"padding-left: 1em; padding-right: 1em; text-align: center; vertical-align: top\">2012-01-01</td>\n",
        "        <td style=\"padding-left: 1em; padding-right: 1em; text-align: center; vertical-align: top\">1</td>\n",
        "        <td style=\"padding-left: 1em; padding-right: 1em; text-align: center; vertical-align: top\">1</td>\n",
        "        <td style=\"padding-left: 1em; padding-right: 1em; text-align: center; vertical-align: top\">0</td>\n",
        "        <td style=\"padding-left: 1em; padding-right: 1em; text-align: center; vertical-align: top\">1</td>\n",
        "        <td style=\"padding-left: 1em; padding-right: 1em; text-align: center; vertical-align: top\">0</td>\n",
        "        <td style=\"padding-left: 1em; padding-right: 1em; text-align: center; vertical-align: top\">0</td>\n",
        "        <td style=\"padding-left: 1em; padding-right: 1em; text-align: center; vertical-align: top\">0</td>\n",
        "        <td style=\"padding-left: 1em; padding-right: 1em; text-align: center; vertical-align: top\">0</td>\n",
        "        <td style=\"padding-left: 1em; padding-right: 1em; text-align: center; vertical-align: top\">0</td>\n",
        "        <td style=\"padding-left: 1em; padding-right: 1em; text-align: center; vertical-align: top\">1</td>\n",
        "        <td style=\"padding-left: 1em; padding-right: 1em; text-align: center; vertical-align: top\">1</td>\n",
        "        <td style=\"padding-left: 1em; padding-right: 1em; text-align: center; vertical-align: top\">0</td>\n",
        "        <td style=\"padding-left: 1em; padding-right: 1em; text-align: center; vertical-align: top\">0</td>\n",
        "        <td style=\"padding-left: 1em; padding-right: 1em; text-align: center; vertical-align: top\">0</td>\n",
        "        <td style=\"padding-left: 1em; padding-right: 1em; text-align: center; vertical-align: top\">0</td>\n",
        "    </tr>\n",
        "    <tr>\n",
        "        <td style=\"padding-left: 1em; padding-right: 1em; text-align: center; vertical-align: top\">2012-01-01</td>\n",
        "        <td style=\"padding-left: 1em; padding-right: 1em; text-align: center; vertical-align: top\">1</td>\n",
        "        <td style=\"padding-left: 1em; padding-right: 1em; text-align: center; vertical-align: top\">2</td>\n",
        "        <td style=\"padding-left: 1em; padding-right: 1em; text-align: center; vertical-align: top\">0</td>\n",
        "        <td style=\"padding-left: 1em; padding-right: 1em; text-align: center; vertical-align: top\">1</td>\n",
        "        <td style=\"padding-left: 1em; padding-right: 1em; text-align: center; vertical-align: top\">0</td>\n",
        "        <td style=\"padding-left: 1em; padding-right: 1em; text-align: center; vertical-align: top\">0</td>\n",
        "        <td style=\"padding-left: 1em; padding-right: 1em; text-align: center; vertical-align: top\">0</td>\n",
        "        <td style=\"padding-left: 1em; padding-right: 1em; text-align: center; vertical-align: top\">0</td>\n",
        "        <td style=\"padding-left: 1em; padding-right: 1em; text-align: center; vertical-align: top\">0</td>\n",
        "        <td style=\"padding-left: 1em; padding-right: 1em; text-align: center; vertical-align: top\">1</td>\n",
        "        <td style=\"padding-left: 1em; padding-right: 1em; text-align: center; vertical-align: top\">1</td>\n",
        "        <td style=\"padding-left: 1em; padding-right: 1em; text-align: center; vertical-align: top\">0</td>\n",
        "        <td style=\"padding-left: 1em; padding-right: 1em; text-align: center; vertical-align: top\">0</td>\n",
        "        <td style=\"padding-left: 1em; padding-right: 1em; text-align: center; vertical-align: top\">0</td>\n",
        "        <td style=\"padding-left: 1em; padding-right: 1em; text-align: center; vertical-align: top\">0</td>\n",
        "    </tr>\n",
        "    <tr>\n",
        "        <td style=\"padding-left: 1em; padding-right: 1em; text-align: center; vertical-align: top\">2012-01-01</td>\n",
        "        <td style=\"padding-left: 1em; padding-right: 1em; text-align: center; vertical-align: top\">1</td>\n",
        "        <td style=\"padding-left: 1em; padding-right: 1em; text-align: center; vertical-align: top\">3</td>\n",
        "        <td style=\"padding-left: 1em; padding-right: 1em; text-align: center; vertical-align: top\">0</td>\n",
        "        <td style=\"padding-left: 1em; padding-right: 1em; text-align: center; vertical-align: top\">1</td>\n",
        "        <td style=\"padding-left: 1em; padding-right: 1em; text-align: center; vertical-align: top\">0</td>\n",
        "        <td style=\"padding-left: 1em; padding-right: 1em; text-align: center; vertical-align: top\">0</td>\n",
        "        <td style=\"padding-left: 1em; padding-right: 1em; text-align: center; vertical-align: top\">0</td>\n",
        "        <td style=\"padding-left: 1em; padding-right: 1em; text-align: center; vertical-align: top\">0</td>\n",
        "        <td style=\"padding-left: 1em; padding-right: 1em; text-align: center; vertical-align: top\">0</td>\n",
        "        <td style=\"padding-left: 1em; padding-right: 1em; text-align: center; vertical-align: top\">1</td>\n",
        "        <td style=\"padding-left: 1em; padding-right: 1em; text-align: center; vertical-align: top\">1</td>\n",
        "        <td style=\"padding-left: 1em; padding-right: 1em; text-align: center; vertical-align: top\">0</td>\n",
        "        <td style=\"padding-left: 1em; padding-right: 1em; text-align: center; vertical-align: top\">0</td>\n",
        "        <td style=\"padding-left: 1em; padding-right: 1em; text-align: center; vertical-align: top\">0</td>\n",
        "        <td style=\"padding-left: 1em; padding-right: 1em; text-align: center; vertical-align: top\">0</td>\n",
        "    </tr>\n",
        "    <tr>\n",
        "        <td style=\"padding-left: 1em; padding-right: 1em; text-align: center; vertical-align: top\">2012-01-01</td>\n",
        "        <td style=\"padding-left: 1em; padding-right: 1em; text-align: center; vertical-align: top\">1</td>\n",
        "        <td style=\"padding-left: 1em; padding-right: 1em; text-align: center; vertical-align: top\">4</td>\n",
        "        <td style=\"padding-left: 1em; padding-right: 1em; text-align: center; vertical-align: top\">0</td>\n",
        "        <td style=\"padding-left: 1em; padding-right: 1em; text-align: center; vertical-align: top\">1</td>\n",
        "        <td style=\"padding-left: 1em; padding-right: 1em; text-align: center; vertical-align: top\">0</td>\n",
        "        <td style=\"padding-left: 1em; padding-right: 1em; text-align: center; vertical-align: top\">0</td>\n",
        "        <td style=\"padding-left: 1em; padding-right: 1em; text-align: center; vertical-align: top\">0</td>\n",
        "        <td style=\"padding-left: 1em; padding-right: 1em; text-align: center; vertical-align: top\">0</td>\n",
        "        <td style=\"padding-left: 1em; padding-right: 1em; text-align: center; vertical-align: top\">0</td>\n",
        "        <td style=\"padding-left: 1em; padding-right: 1em; text-align: center; vertical-align: top\">1</td>\n",
        "        <td style=\"padding-left: 1em; padding-right: 1em; text-align: center; vertical-align: top\">1</td>\n",
        "        <td style=\"padding-left: 1em; padding-right: 1em; text-align: center; vertical-align: top\">0</td>\n",
        "        <td style=\"padding-left: 1em; padding-right: 1em; text-align: center; vertical-align: top\">0</td>\n",
        "        <td style=\"padding-left: 1em; padding-right: 1em; text-align: center; vertical-align: top\">0</td>\n",
        "        <td style=\"padding-left: 1em; padding-right: 1em; text-align: center; vertical-align: top\">0</td>\n",
        "    </tr>\n",
        "    <tr>\n",
        "        <td style=\"padding-left: 1em; padding-right: 1em; text-align: center; vertical-align: top\">2012-01-01</td>\n",
        "        <td style=\"padding-left: 1em; padding-right: 1em; text-align: center; vertical-align: top\">1</td>\n",
        "        <td style=\"padding-left: 1em; padding-right: 1em; text-align: center; vertical-align: top\">5</td>\n",
        "        <td style=\"padding-left: 1em; padding-right: 1em; text-align: center; vertical-align: top\">0</td>\n",
        "        <td style=\"padding-left: 1em; padding-right: 1em; text-align: center; vertical-align: top\">1</td>\n",
        "        <td style=\"padding-left: 1em; padding-right: 1em; text-align: center; vertical-align: top\">0</td>\n",
        "        <td style=\"padding-left: 1em; padding-right: 1em; text-align: center; vertical-align: top\">0</td>\n",
        "        <td style=\"padding-left: 1em; padding-right: 1em; text-align: center; vertical-align: top\">0</td>\n",
        "        <td style=\"padding-left: 1em; padding-right: 1em; text-align: center; vertical-align: top\">0</td>\n",
        "        <td style=\"padding-left: 1em; padding-right: 1em; text-align: center; vertical-align: top\">0</td>\n",
        "        <td style=\"padding-left: 1em; padding-right: 1em; text-align: center; vertical-align: top\">1</td>\n",
        "        <td style=\"padding-left: 1em; padding-right: 1em; text-align: center; vertical-align: top\">1</td>\n",
        "        <td style=\"padding-left: 1em; padding-right: 1em; text-align: center; vertical-align: top\">0</td>\n",
        "        <td style=\"padding-left: 1em; padding-right: 1em; text-align: center; vertical-align: top\">0</td>\n",
        "        <td style=\"padding-left: 1em; padding-right: 1em; text-align: center; vertical-align: top\">0</td>\n",
        "        <td style=\"padding-left: 1em; padding-right: 1em; text-align: center; vertical-align: top\">0</td>\n",
        "    </tr>\n",
        "    <tr>\n",
        "        <td style=\"padding-left: 1em; padding-right: 1em; text-align: center; vertical-align: top\">2012-01-01</td>\n",
        "        <td style=\"padding-left: 1em; padding-right: 1em; text-align: center; vertical-align: top\">1</td>\n",
        "        <td style=\"padding-left: 1em; padding-right: 1em; text-align: center; vertical-align: top\">6</td>\n",
        "        <td style=\"padding-left: 1em; padding-right: 1em; text-align: center; vertical-align: top\">0</td>\n",
        "        <td style=\"padding-left: 1em; padding-right: 1em; text-align: center; vertical-align: top\">1</td>\n",
        "        <td style=\"padding-left: 1em; padding-right: 1em; text-align: center; vertical-align: top\">0</td>\n",
        "        <td style=\"padding-left: 1em; padding-right: 1em; text-align: center; vertical-align: top\">0</td>\n",
        "        <td style=\"padding-left: 1em; padding-right: 1em; text-align: center; vertical-align: top\">0</td>\n",
        "        <td style=\"padding-left: 1em; padding-right: 1em; text-align: center; vertical-align: top\">0</td>\n",
        "        <td style=\"padding-left: 1em; padding-right: 1em; text-align: center; vertical-align: top\">0</td>\n",
        "        <td style=\"padding-left: 1em; padding-right: 1em; text-align: center; vertical-align: top\">1</td>\n",
        "        <td style=\"padding-left: 1em; padding-right: 1em; text-align: center; vertical-align: top\">1</td>\n",
        "        <td style=\"padding-left: 1em; padding-right: 1em; text-align: center; vertical-align: top\">0</td>\n",
        "        <td style=\"padding-left: 1em; padding-right: 1em; text-align: center; vertical-align: top\">0</td>\n",
        "        <td style=\"padding-left: 1em; padding-right: 1em; text-align: center; vertical-align: top\">0</td>\n",
        "        <td style=\"padding-left: 1em; padding-right: 1em; text-align: center; vertical-align: top\">0</td>\n",
        "    </tr>\n",
        "    <tr>\n",
        "        <td style=\"padding-left: 1em; padding-right: 1em; text-align: center; vertical-align: top\">2012-01-01</td>\n",
        "        <td style=\"padding-left: 1em; padding-right: 1em; text-align: center; vertical-align: top\">1</td>\n",
        "        <td style=\"padding-left: 1em; padding-right: 1em; text-align: center; vertical-align: top\">7</td>\n",
        "        <td style=\"padding-left: 1em; padding-right: 1em; text-align: center; vertical-align: top\">0</td>\n",
        "        <td style=\"padding-left: 1em; padding-right: 1em; text-align: center; vertical-align: top\">1</td>\n",
        "        <td style=\"padding-left: 1em; padding-right: 1em; text-align: center; vertical-align: top\">0</td>\n",
        "        <td style=\"padding-left: 1em; padding-right: 1em; text-align: center; vertical-align: top\">0</td>\n",
        "        <td style=\"padding-left: 1em; padding-right: 1em; text-align: center; vertical-align: top\">0</td>\n",
        "        <td style=\"padding-left: 1em; padding-right: 1em; text-align: center; vertical-align: top\">0</td>\n",
        "        <td style=\"padding-left: 1em; padding-right: 1em; text-align: center; vertical-align: top\">0</td>\n",
        "        <td style=\"padding-left: 1em; padding-right: 1em; text-align: center; vertical-align: top\">1</td>\n",
        "        <td style=\"padding-left: 1em; padding-right: 1em; text-align: center; vertical-align: top\">1</td>\n",
        "        <td style=\"padding-left: 1em; padding-right: 1em; text-align: center; vertical-align: top\">0</td>\n",
        "        <td style=\"padding-left: 1em; padding-right: 1em; text-align: center; vertical-align: top\">0</td>\n",
        "        <td style=\"padding-left: 1em; padding-right: 1em; text-align: center; vertical-align: top\">0</td>\n",
        "        <td style=\"padding-left: 1em; padding-right: 1em; text-align: center; vertical-align: top\">0</td>\n",
        "    </tr>\n",
        "    <tr>\n",
        "        <td style=\"padding-left: 1em; padding-right: 1em; text-align: center; vertical-align: top\">2012-01-01</td>\n",
        "        <td style=\"padding-left: 1em; padding-right: 1em; text-align: center; vertical-align: top\">1</td>\n",
        "        <td style=\"padding-left: 1em; padding-right: 1em; text-align: center; vertical-align: top\">8</td>\n",
        "        <td style=\"padding-left: 1em; padding-right: 1em; text-align: center; vertical-align: top\">0</td>\n",
        "        <td style=\"padding-left: 1em; padding-right: 1em; text-align: center; vertical-align: top\">1</td>\n",
        "        <td style=\"padding-left: 1em; padding-right: 1em; text-align: center; vertical-align: top\">0</td>\n",
        "        <td style=\"padding-left: 1em; padding-right: 1em; text-align: center; vertical-align: top\">0</td>\n",
        "        <td style=\"padding-left: 1em; padding-right: 1em; text-align: center; vertical-align: top\">0</td>\n",
        "        <td style=\"padding-left: 1em; padding-right: 1em; text-align: center; vertical-align: top\">0</td>\n",
        "        <td style=\"padding-left: 1em; padding-right: 1em; text-align: center; vertical-align: top\">0</td>\n",
        "        <td style=\"padding-left: 1em; padding-right: 1em; text-align: center; vertical-align: top\">1</td>\n",
        "        <td style=\"padding-left: 1em; padding-right: 1em; text-align: center; vertical-align: top\">1</td>\n",
        "        <td style=\"padding-left: 1em; padding-right: 1em; text-align: center; vertical-align: top\">0</td>\n",
        "        <td style=\"padding-left: 1em; padding-right: 1em; text-align: center; vertical-align: top\">0</td>\n",
        "        <td style=\"padding-left: 1em; padding-right: 1em; text-align: center; vertical-align: top\">0</td>\n",
        "        <td style=\"padding-left: 1em; padding-right: 1em; text-align: center; vertical-align: top\">0</td>\n",
        "    </tr>\n",
        "    <tr>\n",
        "        <td style=\"padding-left: 1em; padding-right: 1em; text-align: center; vertical-align: top\">2012-01-01</td>\n",
        "        <td style=\"padding-left: 1em; padding-right: 1em; text-align: center; vertical-align: top\">1</td>\n",
        "        <td style=\"padding-left: 1em; padding-right: 1em; text-align: center; vertical-align: top\">9</td>\n",
        "        <td style=\"padding-left: 1em; padding-right: 1em; text-align: center; vertical-align: top\">29</td>\n",
        "        <td style=\"padding-left: 1em; padding-right: 1em; text-align: center; vertical-align: top\">1</td>\n",
        "        <td style=\"padding-left: 1em; padding-right: 1em; text-align: center; vertical-align: top\">0</td>\n",
        "        <td style=\"padding-left: 1em; padding-right: 1em; text-align: center; vertical-align: top\">0</td>\n",
        "        <td style=\"padding-left: 1em; padding-right: 1em; text-align: center; vertical-align: top\">0</td>\n",
        "        <td style=\"padding-left: 1em; padding-right: 1em; text-align: center; vertical-align: top\">0</td>\n",
        "        <td style=\"padding-left: 1em; padding-right: 1em; text-align: center; vertical-align: top\">0</td>\n",
        "        <td style=\"padding-left: 1em; padding-right: 1em; text-align: center; vertical-align: top\">1</td>\n",
        "        <td style=\"padding-left: 1em; padding-right: 1em; text-align: center; vertical-align: top\">1</td>\n",
        "        <td style=\"padding-left: 1em; padding-right: 1em; text-align: center; vertical-align: top\">0</td>\n",
        "        <td style=\"padding-left: 1em; padding-right: 1em; text-align: center; vertical-align: top\">0</td>\n",
        "        <td style=\"padding-left: 1em; padding-right: 1em; text-align: center; vertical-align: top\">0</td>\n",
        "        <td style=\"padding-left: 1em; padding-right: 1em; text-align: center; vertical-align: top\">0</td>\n",
        "    </tr>\n",
        "    <tr>\n",
        "        <td style=\"padding-left: 1em; padding-right: 1em; text-align: center; vertical-align: top\">2012-01-01</td>\n",
        "        <td style=\"padding-left: 1em; padding-right: 1em; text-align: center; vertical-align: top\">1</td>\n",
        "        <td style=\"padding-left: 1em; padding-right: 1em; text-align: center; vertical-align: top\">10</td>\n",
        "        <td style=\"padding-left: 1em; padding-right: 1em; text-align: center; vertical-align: top\">0</td>\n",
        "        <td style=\"padding-left: 1em; padding-right: 1em; text-align: center; vertical-align: top\">1</td>\n",
        "        <td style=\"padding-left: 1em; padding-right: 1em; text-align: center; vertical-align: top\">0</td>\n",
        "        <td style=\"padding-left: 1em; padding-right: 1em; text-align: center; vertical-align: top\">0</td>\n",
        "        <td style=\"padding-left: 1em; padding-right: 1em; text-align: center; vertical-align: top\">0</td>\n",
        "        <td style=\"padding-left: 1em; padding-right: 1em; text-align: center; vertical-align: top\">0</td>\n",
        "        <td style=\"padding-left: 1em; padding-right: 1em; text-align: center; vertical-align: top\">0</td>\n",
        "        <td style=\"padding-left: 1em; padding-right: 1em; text-align: center; vertical-align: top\">1</td>\n",
        "        <td style=\"padding-left: 1em; padding-right: 1em; text-align: center; vertical-align: top\">1</td>\n",
        "        <td style=\"padding-left: 1em; padding-right: 1em; text-align: center; vertical-align: top\">0</td>\n",
        "        <td style=\"padding-left: 1em; padding-right: 1em; text-align: center; vertical-align: top\">0</td>\n",
        "        <td style=\"padding-left: 1em; padding-right: 1em; text-align: center; vertical-align: top\">0</td>\n",
        "        <td style=\"padding-left: 1em; padding-right: 1em; text-align: center; vertical-align: top\">0</td>\n",
        "    </tr>\n",
        "</table>\n",
        "<table frame=\"box\" rules=\"cols\">\n",
        "    <tr>\n",
        "        <th style=\"padding-left: 1em; padding-right: 1em; text-align: center\">RA</th>\n",
        "        <th style=\"padding-left: 1em; padding-right: 1em; text-align: center\">PL</th>\n",
        "        <th style=\"padding-left: 1em; padding-right: 1em; text-align: center\">GS</th>\n",
        "        <th style=\"padding-left: 1em; padding-right: 1em; text-align: center\">GR</th>\n",
        "        <th style=\"padding-left: 1em; padding-right: 1em; text-align: center\">FZDZ</th>\n",
        "        <th style=\"padding-left: 1em; padding-right: 1em; text-align: center\">VCFG</th>\n",
        "        <th style=\"padding-left: 1em; padding-right: 1em; text-align: center\">PRFG</th>\n",
        "        <th style=\"padding-left: 1em; padding-right: 1em; text-align: center\">FG+</th>\n",
        "        <th style=\"padding-left: 1em; padding-right: 1em; text-align: center\">TSRA</th>\n",
        "        <th style=\"padding-left: 1em; padding-right: 1em; text-align: center\">FZFG</th>\n",
        "        <th style=\"padding-left: 1em; padding-right: 1em; text-align: center\">BLDU</th>\n",
        "        <th style=\"padding-left: 1em; padding-right: 1em; text-align: center\">MIFG</th>\n",
        "        <th style=\"padding-left: 1em; padding-right: 1em; text-align: center\">SQ</th>\n",
        "        <th style=\"padding-left: 1em; padding-right: 1em; text-align: center\">BLSN</th>\n",
        "        <th style=\"padding-left: 1em; padding-right: 1em; text-align: center\">SN</th>\n",
        "        <th style=\"padding-left: 1em; padding-right: 1em; text-align: center\">SG</th>\n",
        "        <th style=\"padding-left: 1em; padding-right: 1em; text-align: center\">month</th>\n",
        "        <th style=\"padding-left: 1em; padding-right: 1em; text-align: center\">day</th>\n",
        "    </tr>\n",
        "    <tr>\n",
        "        <td style=\"padding-left: 1em; padding-right: 1em; text-align: center; vertical-align: top\">1</td>\n",
        "        <td style=\"padding-left: 1em; padding-right: 1em; text-align: center; vertical-align: top\">0</td>\n",
        "        <td style=\"padding-left: 1em; padding-right: 1em; text-align: center; vertical-align: top\">0</td>\n",
        "        <td style=\"padding-left: 1em; padding-right: 1em; text-align: center; vertical-align: top\">0</td>\n",
        "        <td style=\"padding-left: 1em; padding-right: 1em; text-align: center; vertical-align: top\">0</td>\n",
        "        <td style=\"padding-left: 1em; padding-right: 1em; text-align: center; vertical-align: top\">0</td>\n",
        "        <td style=\"padding-left: 1em; padding-right: 1em; text-align: center; vertical-align: top\">0</td>\n",
        "        <td style=\"padding-left: 1em; padding-right: 1em; text-align: center; vertical-align: top\">0</td>\n",
        "        <td style=\"padding-left: 1em; padding-right: 1em; text-align: center; vertical-align: top\">0</td>\n",
        "        <td style=\"padding-left: 1em; padding-right: 1em; text-align: center; vertical-align: top\">1</td>\n",
        "        <td style=\"padding-left: 1em; padding-right: 1em; text-align: center; vertical-align: top\">0</td>\n",
        "        <td style=\"padding-left: 1em; padding-right: 1em; text-align: center; vertical-align: top\">0</td>\n",
        "        <td style=\"padding-left: 1em; padding-right: 1em; text-align: center; vertical-align: top\">0</td>\n",
        "        <td style=\"padding-left: 1em; padding-right: 1em; text-align: center; vertical-align: top\">0</td>\n",
        "        <td style=\"padding-left: 1em; padding-right: 1em; text-align: center; vertical-align: top\">0</td>\n",
        "        <td style=\"padding-left: 1em; padding-right: 1em; text-align: center; vertical-align: top\">0</td>\n",
        "        <td style=\"padding-left: 1em; padding-right: 1em; text-align: center; vertical-align: top\">1</td>\n",
        "        <td style=\"padding-left: 1em; padding-right: 1em; text-align: center; vertical-align: top\">1</td>\n",
        "    </tr>\n",
        "    <tr>\n",
        "        <td style=\"padding-left: 1em; padding-right: 1em; text-align: center; vertical-align: top\">1</td>\n",
        "        <td style=\"padding-left: 1em; padding-right: 1em; text-align: center; vertical-align: top\">0</td>\n",
        "        <td style=\"padding-left: 1em; padding-right: 1em; text-align: center; vertical-align: top\">0</td>\n",
        "        <td style=\"padding-left: 1em; padding-right: 1em; text-align: center; vertical-align: top\">0</td>\n",
        "        <td style=\"padding-left: 1em; padding-right: 1em; text-align: center; vertical-align: top\">0</td>\n",
        "        <td style=\"padding-left: 1em; padding-right: 1em; text-align: center; vertical-align: top\">0</td>\n",
        "        <td style=\"padding-left: 1em; padding-right: 1em; text-align: center; vertical-align: top\">0</td>\n",
        "        <td style=\"padding-left: 1em; padding-right: 1em; text-align: center; vertical-align: top\">0</td>\n",
        "        <td style=\"padding-left: 1em; padding-right: 1em; text-align: center; vertical-align: top\">0</td>\n",
        "        <td style=\"padding-left: 1em; padding-right: 1em; text-align: center; vertical-align: top\">1</td>\n",
        "        <td style=\"padding-left: 1em; padding-right: 1em; text-align: center; vertical-align: top\">0</td>\n",
        "        <td style=\"padding-left: 1em; padding-right: 1em; text-align: center; vertical-align: top\">0</td>\n",
        "        <td style=\"padding-left: 1em; padding-right: 1em; text-align: center; vertical-align: top\">0</td>\n",
        "        <td style=\"padding-left: 1em; padding-right: 1em; text-align: center; vertical-align: top\">0</td>\n",
        "        <td style=\"padding-left: 1em; padding-right: 1em; text-align: center; vertical-align: top\">0</td>\n",
        "        <td style=\"padding-left: 1em; padding-right: 1em; text-align: center; vertical-align: top\">0</td>\n",
        "        <td style=\"padding-left: 1em; padding-right: 1em; text-align: center; vertical-align: top\">1</td>\n",
        "        <td style=\"padding-left: 1em; padding-right: 1em; text-align: center; vertical-align: top\">1</td>\n",
        "    </tr>\n",
        "    <tr>\n",
        "        <td style=\"padding-left: 1em; padding-right: 1em; text-align: center; vertical-align: top\">1</td>\n",
        "        <td style=\"padding-left: 1em; padding-right: 1em; text-align: center; vertical-align: top\">0</td>\n",
        "        <td style=\"padding-left: 1em; padding-right: 1em; text-align: center; vertical-align: top\">0</td>\n",
        "        <td style=\"padding-left: 1em; padding-right: 1em; text-align: center; vertical-align: top\">0</td>\n",
        "        <td style=\"padding-left: 1em; padding-right: 1em; text-align: center; vertical-align: top\">0</td>\n",
        "        <td style=\"padding-left: 1em; padding-right: 1em; text-align: center; vertical-align: top\">0</td>\n",
        "        <td style=\"padding-left: 1em; padding-right: 1em; text-align: center; vertical-align: top\">0</td>\n",
        "        <td style=\"padding-left: 1em; padding-right: 1em; text-align: center; vertical-align: top\">0</td>\n",
        "        <td style=\"padding-left: 1em; padding-right: 1em; text-align: center; vertical-align: top\">0</td>\n",
        "        <td style=\"padding-left: 1em; padding-right: 1em; text-align: center; vertical-align: top\">1</td>\n",
        "        <td style=\"padding-left: 1em; padding-right: 1em; text-align: center; vertical-align: top\">0</td>\n",
        "        <td style=\"padding-left: 1em; padding-right: 1em; text-align: center; vertical-align: top\">0</td>\n",
        "        <td style=\"padding-left: 1em; padding-right: 1em; text-align: center; vertical-align: top\">0</td>\n",
        "        <td style=\"padding-left: 1em; padding-right: 1em; text-align: center; vertical-align: top\">0</td>\n",
        "        <td style=\"padding-left: 1em; padding-right: 1em; text-align: center; vertical-align: top\">0</td>\n",
        "        <td style=\"padding-left: 1em; padding-right: 1em; text-align: center; vertical-align: top\">0</td>\n",
        "        <td style=\"padding-left: 1em; padding-right: 1em; text-align: center; vertical-align: top\">1</td>\n",
        "        <td style=\"padding-left: 1em; padding-right: 1em; text-align: center; vertical-align: top\">1</td>\n",
        "    </tr>\n",
        "    <tr>\n",
        "        <td style=\"padding-left: 1em; padding-right: 1em; text-align: center; vertical-align: top\">1</td>\n",
        "        <td style=\"padding-left: 1em; padding-right: 1em; text-align: center; vertical-align: top\">0</td>\n",
        "        <td style=\"padding-left: 1em; padding-right: 1em; text-align: center; vertical-align: top\">0</td>\n",
        "        <td style=\"padding-left: 1em; padding-right: 1em; text-align: center; vertical-align: top\">0</td>\n",
        "        <td style=\"padding-left: 1em; padding-right: 1em; text-align: center; vertical-align: top\">0</td>\n",
        "        <td style=\"padding-left: 1em; padding-right: 1em; text-align: center; vertical-align: top\">0</td>\n",
        "        <td style=\"padding-left: 1em; padding-right: 1em; text-align: center; vertical-align: top\">0</td>\n",
        "        <td style=\"padding-left: 1em; padding-right: 1em; text-align: center; vertical-align: top\">0</td>\n",
        "        <td style=\"padding-left: 1em; padding-right: 1em; text-align: center; vertical-align: top\">0</td>\n",
        "        <td style=\"padding-left: 1em; padding-right: 1em; text-align: center; vertical-align: top\">1</td>\n",
        "        <td style=\"padding-left: 1em; padding-right: 1em; text-align: center; vertical-align: top\">0</td>\n",
        "        <td style=\"padding-left: 1em; padding-right: 1em; text-align: center; vertical-align: top\">0</td>\n",
        "        <td style=\"padding-left: 1em; padding-right: 1em; text-align: center; vertical-align: top\">0</td>\n",
        "        <td style=\"padding-left: 1em; padding-right: 1em; text-align: center; vertical-align: top\">0</td>\n",
        "        <td style=\"padding-left: 1em; padding-right: 1em; text-align: center; vertical-align: top\">0</td>\n",
        "        <td style=\"padding-left: 1em; padding-right: 1em; text-align: center; vertical-align: top\">0</td>\n",
        "        <td style=\"padding-left: 1em; padding-right: 1em; text-align: center; vertical-align: top\">1</td>\n",
        "        <td style=\"padding-left: 1em; padding-right: 1em; text-align: center; vertical-align: top\">1</td>\n",
        "    </tr>\n",
        "    <tr>\n",
        "        <td style=\"padding-left: 1em; padding-right: 1em; text-align: center; vertical-align: top\">1</td>\n",
        "        <td style=\"padding-left: 1em; padding-right: 1em; text-align: center; vertical-align: top\">0</td>\n",
        "        <td style=\"padding-left: 1em; padding-right: 1em; text-align: center; vertical-align: top\">0</td>\n",
        "        <td style=\"padding-left: 1em; padding-right: 1em; text-align: center; vertical-align: top\">0</td>\n",
        "        <td style=\"padding-left: 1em; padding-right: 1em; text-align: center; vertical-align: top\">0</td>\n",
        "        <td style=\"padding-left: 1em; padding-right: 1em; text-align: center; vertical-align: top\">0</td>\n",
        "        <td style=\"padding-left: 1em; padding-right: 1em; text-align: center; vertical-align: top\">0</td>\n",
        "        <td style=\"padding-left: 1em; padding-right: 1em; text-align: center; vertical-align: top\">0</td>\n",
        "        <td style=\"padding-left: 1em; padding-right: 1em; text-align: center; vertical-align: top\">0</td>\n",
        "        <td style=\"padding-left: 1em; padding-right: 1em; text-align: center; vertical-align: top\">1</td>\n",
        "        <td style=\"padding-left: 1em; padding-right: 1em; text-align: center; vertical-align: top\">0</td>\n",
        "        <td style=\"padding-left: 1em; padding-right: 1em; text-align: center; vertical-align: top\">0</td>\n",
        "        <td style=\"padding-left: 1em; padding-right: 1em; text-align: center; vertical-align: top\">0</td>\n",
        "        <td style=\"padding-left: 1em; padding-right: 1em; text-align: center; vertical-align: top\">0</td>\n",
        "        <td style=\"padding-left: 1em; padding-right: 1em; text-align: center; vertical-align: top\">0</td>\n",
        "        <td style=\"padding-left: 1em; padding-right: 1em; text-align: center; vertical-align: top\">0</td>\n",
        "        <td style=\"padding-left: 1em; padding-right: 1em; text-align: center; vertical-align: top\">1</td>\n",
        "        <td style=\"padding-left: 1em; padding-right: 1em; text-align: center; vertical-align: top\">1</td>\n",
        "    </tr>\n",
        "    <tr>\n",
        "        <td style=\"padding-left: 1em; padding-right: 1em; text-align: center; vertical-align: top\">1</td>\n",
        "        <td style=\"padding-left: 1em; padding-right: 1em; text-align: center; vertical-align: top\">0</td>\n",
        "        <td style=\"padding-left: 1em; padding-right: 1em; text-align: center; vertical-align: top\">0</td>\n",
        "        <td style=\"padding-left: 1em; padding-right: 1em; text-align: center; vertical-align: top\">0</td>\n",
        "        <td style=\"padding-left: 1em; padding-right: 1em; text-align: center; vertical-align: top\">0</td>\n",
        "        <td style=\"padding-left: 1em; padding-right: 1em; text-align: center; vertical-align: top\">0</td>\n",
        "        <td style=\"padding-left: 1em; padding-right: 1em; text-align: center; vertical-align: top\">0</td>\n",
        "        <td style=\"padding-left: 1em; padding-right: 1em; text-align: center; vertical-align: top\">0</td>\n",
        "        <td style=\"padding-left: 1em; padding-right: 1em; text-align: center; vertical-align: top\">0</td>\n",
        "        <td style=\"padding-left: 1em; padding-right: 1em; text-align: center; vertical-align: top\">1</td>\n",
        "        <td style=\"padding-left: 1em; padding-right: 1em; text-align: center; vertical-align: top\">0</td>\n",
        "        <td style=\"padding-left: 1em; padding-right: 1em; text-align: center; vertical-align: top\">0</td>\n",
        "        <td style=\"padding-left: 1em; padding-right: 1em; text-align: center; vertical-align: top\">0</td>\n",
        "        <td style=\"padding-left: 1em; padding-right: 1em; text-align: center; vertical-align: top\">0</td>\n",
        "        <td style=\"padding-left: 1em; padding-right: 1em; text-align: center; vertical-align: top\">0</td>\n",
        "        <td style=\"padding-left: 1em; padding-right: 1em; text-align: center; vertical-align: top\">0</td>\n",
        "        <td style=\"padding-left: 1em; padding-right: 1em; text-align: center; vertical-align: top\">1</td>\n",
        "        <td style=\"padding-left: 1em; padding-right: 1em; text-align: center; vertical-align: top\">1</td>\n",
        "    </tr>\n",
        "    <tr>\n",
        "        <td style=\"padding-left: 1em; padding-right: 1em; text-align: center; vertical-align: top\">1</td>\n",
        "        <td style=\"padding-left: 1em; padding-right: 1em; text-align: center; vertical-align: top\">0</td>\n",
        "        <td style=\"padding-left: 1em; padding-right: 1em; text-align: center; vertical-align: top\">0</td>\n",
        "        <td style=\"padding-left: 1em; padding-right: 1em; text-align: center; vertical-align: top\">0</td>\n",
        "        <td style=\"padding-left: 1em; padding-right: 1em; text-align: center; vertical-align: top\">0</td>\n",
        "        <td style=\"padding-left: 1em; padding-right: 1em; text-align: center; vertical-align: top\">0</td>\n",
        "        <td style=\"padding-left: 1em; padding-right: 1em; text-align: center; vertical-align: top\">0</td>\n",
        "        <td style=\"padding-left: 1em; padding-right: 1em; text-align: center; vertical-align: top\">0</td>\n",
        "        <td style=\"padding-left: 1em; padding-right: 1em; text-align: center; vertical-align: top\">0</td>\n",
        "        <td style=\"padding-left: 1em; padding-right: 1em; text-align: center; vertical-align: top\">1</td>\n",
        "        <td style=\"padding-left: 1em; padding-right: 1em; text-align: center; vertical-align: top\">0</td>\n",
        "        <td style=\"padding-left: 1em; padding-right: 1em; text-align: center; vertical-align: top\">0</td>\n",
        "        <td style=\"padding-left: 1em; padding-right: 1em; text-align: center; vertical-align: top\">0</td>\n",
        "        <td style=\"padding-left: 1em; padding-right: 1em; text-align: center; vertical-align: top\">0</td>\n",
        "        <td style=\"padding-left: 1em; padding-right: 1em; text-align: center; vertical-align: top\">0</td>\n",
        "        <td style=\"padding-left: 1em; padding-right: 1em; text-align: center; vertical-align: top\">0</td>\n",
        "        <td style=\"padding-left: 1em; padding-right: 1em; text-align: center; vertical-align: top\">1</td>\n",
        "        <td style=\"padding-left: 1em; padding-right: 1em; text-align: center; vertical-align: top\">1</td>\n",
        "    </tr>\n",
        "    <tr>\n",
        "        <td style=\"padding-left: 1em; padding-right: 1em; text-align: center; vertical-align: top\">1</td>\n",
        "        <td style=\"padding-left: 1em; padding-right: 1em; text-align: center; vertical-align: top\">0</td>\n",
        "        <td style=\"padding-left: 1em; padding-right: 1em; text-align: center; vertical-align: top\">0</td>\n",
        "        <td style=\"padding-left: 1em; padding-right: 1em; text-align: center; vertical-align: top\">0</td>\n",
        "        <td style=\"padding-left: 1em; padding-right: 1em; text-align: center; vertical-align: top\">0</td>\n",
        "        <td style=\"padding-left: 1em; padding-right: 1em; text-align: center; vertical-align: top\">0</td>\n",
        "        <td style=\"padding-left: 1em; padding-right: 1em; text-align: center; vertical-align: top\">0</td>\n",
        "        <td style=\"padding-left: 1em; padding-right: 1em; text-align: center; vertical-align: top\">0</td>\n",
        "        <td style=\"padding-left: 1em; padding-right: 1em; text-align: center; vertical-align: top\">0</td>\n",
        "        <td style=\"padding-left: 1em; padding-right: 1em; text-align: center; vertical-align: top\">1</td>\n",
        "        <td style=\"padding-left: 1em; padding-right: 1em; text-align: center; vertical-align: top\">0</td>\n",
        "        <td style=\"padding-left: 1em; padding-right: 1em; text-align: center; vertical-align: top\">0</td>\n",
        "        <td style=\"padding-left: 1em; padding-right: 1em; text-align: center; vertical-align: top\">0</td>\n",
        "        <td style=\"padding-left: 1em; padding-right: 1em; text-align: center; vertical-align: top\">0</td>\n",
        "        <td style=\"padding-left: 1em; padding-right: 1em; text-align: center; vertical-align: top\">0</td>\n",
        "        <td style=\"padding-left: 1em; padding-right: 1em; text-align: center; vertical-align: top\">0</td>\n",
        "        <td style=\"padding-left: 1em; padding-right: 1em; text-align: center; vertical-align: top\">1</td>\n",
        "        <td style=\"padding-left: 1em; padding-right: 1em; text-align: center; vertical-align: top\">1</td>\n",
        "    </tr>\n",
        "    <tr>\n",
        "        <td style=\"padding-left: 1em; padding-right: 1em; text-align: center; vertical-align: top\">1</td>\n",
        "        <td style=\"padding-left: 1em; padding-right: 1em; text-align: center; vertical-align: top\">0</td>\n",
        "        <td style=\"padding-left: 1em; padding-right: 1em; text-align: center; vertical-align: top\">0</td>\n",
        "        <td style=\"padding-left: 1em; padding-right: 1em; text-align: center; vertical-align: top\">0</td>\n",
        "        <td style=\"padding-left: 1em; padding-right: 1em; text-align: center; vertical-align: top\">0</td>\n",
        "        <td style=\"padding-left: 1em; padding-right: 1em; text-align: center; vertical-align: top\">0</td>\n",
        "        <td style=\"padding-left: 1em; padding-right: 1em; text-align: center; vertical-align: top\">0</td>\n",
        "        <td style=\"padding-left: 1em; padding-right: 1em; text-align: center; vertical-align: top\">0</td>\n",
        "        <td style=\"padding-left: 1em; padding-right: 1em; text-align: center; vertical-align: top\">0</td>\n",
        "        <td style=\"padding-left: 1em; padding-right: 1em; text-align: center; vertical-align: top\">1</td>\n",
        "        <td style=\"padding-left: 1em; padding-right: 1em; text-align: center; vertical-align: top\">0</td>\n",
        "        <td style=\"padding-left: 1em; padding-right: 1em; text-align: center; vertical-align: top\">0</td>\n",
        "        <td style=\"padding-left: 1em; padding-right: 1em; text-align: center; vertical-align: top\">0</td>\n",
        "        <td style=\"padding-left: 1em; padding-right: 1em; text-align: center; vertical-align: top\">0</td>\n",
        "        <td style=\"padding-left: 1em; padding-right: 1em; text-align: center; vertical-align: top\">0</td>\n",
        "        <td style=\"padding-left: 1em; padding-right: 1em; text-align: center; vertical-align: top\">0</td>\n",
        "        <td style=\"padding-left: 1em; padding-right: 1em; text-align: center; vertical-align: top\">1</td>\n",
        "        <td style=\"padding-left: 1em; padding-right: 1em; text-align: center; vertical-align: top\">1</td>\n",
        "    </tr>\n",
        "    <tr>\n",
        "        <td style=\"padding-left: 1em; padding-right: 1em; text-align: center; vertical-align: top\">1</td>\n",
        "        <td style=\"padding-left: 1em; padding-right: 1em; text-align: center; vertical-align: top\">0</td>\n",
        "        <td style=\"padding-left: 1em; padding-right: 1em; text-align: center; vertical-align: top\">0</td>\n",
        "        <td style=\"padding-left: 1em; padding-right: 1em; text-align: center; vertical-align: top\">0</td>\n",
        "        <td style=\"padding-left: 1em; padding-right: 1em; text-align: center; vertical-align: top\">0</td>\n",
        "        <td style=\"padding-left: 1em; padding-right: 1em; text-align: center; vertical-align: top\">0</td>\n",
        "        <td style=\"padding-left: 1em; padding-right: 1em; text-align: center; vertical-align: top\">0</td>\n",
        "        <td style=\"padding-left: 1em; padding-right: 1em; text-align: center; vertical-align: top\">0</td>\n",
        "        <td style=\"padding-left: 1em; padding-right: 1em; text-align: center; vertical-align: top\">0</td>\n",
        "        <td style=\"padding-left: 1em; padding-right: 1em; text-align: center; vertical-align: top\">1</td>\n",
        "        <td style=\"padding-left: 1em; padding-right: 1em; text-align: center; vertical-align: top\">0</td>\n",
        "        <td style=\"padding-left: 1em; padding-right: 1em; text-align: center; vertical-align: top\">0</td>\n",
        "        <td style=\"padding-left: 1em; padding-right: 1em; text-align: center; vertical-align: top\">0</td>\n",
        "        <td style=\"padding-left: 1em; padding-right: 1em; text-align: center; vertical-align: top\">0</td>\n",
        "        <td style=\"padding-left: 1em; padding-right: 1em; text-align: center; vertical-align: top\">0</td>\n",
        "        <td style=\"padding-left: 1em; padding-right: 1em; text-align: center; vertical-align: top\">0</td>\n",
        "        <td style=\"padding-left: 1em; padding-right: 1em; text-align: center; vertical-align: top\">1</td>\n",
        "        <td style=\"padding-left: 1em; padding-right: 1em; text-align: center; vertical-align: top\">1</td>\n",
        "    </tr>\n",
        "</table>\n",
        "<table frame=\"box\" rules=\"cols\">\n",
        "    <tr>\n",
        "        <th style=\"padding-left: 1em; padding-right: 1em; text-align: center\">log_resultspeed</th>\n",
        "        <th style=\"padding-left: 1em; padding-right: 1em; text-align: center\">resultdir</th>\n",
        "        <th style=\"padding-left: 1em; padding-right: 1em; text-align: center\">dewpoint</th>\n",
        "        <th style=\"padding-left: 1em; padding-right: 1em; text-align: center\">log_preciptotal</th>\n",
        "        <th style=\"padding-left: 1em; padding-right: 1em; text-align: center\">log_avgspeed</th>\n",
        "        <th style=\"padding-left: 1em; padding-right: 1em; text-align: center\">tmax</th>\n",
        "        <th style=\"padding-left: 1em; padding-right: 1em; text-align: center\">...</th>\n",
        "    </tr>\n",
        "    <tr>\n",
        "        <td style=\"padding-left: 1em; padding-right: 1em; text-align: center; vertical-align: top\">1.5260563035</td>\n",
        "        <td style=\"padding-left: 1em; padding-right: 1em; text-align: center; vertical-align: top\">20.0</td>\n",
        "        <td style=\"padding-left: 1em; padding-right: 1em; text-align: center; vertical-align: top\">36.0</td>\n",
        "        <td style=\"padding-left: 1em; padding-right: 1em; text-align: center; vertical-align: top\">0.0487901641694</td>\n",
        "        <td style=\"padding-left: 1em; padding-right: 1em; text-align: center; vertical-align: top\">1.72276659774</td>\n",
        "        <td style=\"padding-left: 1em; padding-right: 1em; text-align: center; vertical-align: top\">52.0</td>\n",
        "        <td style=\"padding-left: 1em; padding-right: 1em; text-align: center; vertical-align: top\">...</td>\n",
        "    </tr>\n",
        "    <tr>\n",
        "        <td style=\"padding-left: 1em; padding-right: 1em; text-align: center; vertical-align: top\">1.5260563035</td>\n",
        "        <td style=\"padding-left: 1em; padding-right: 1em; text-align: center; vertical-align: top\">20.0</td>\n",
        "        <td style=\"padding-left: 1em; padding-right: 1em; text-align: center; vertical-align: top\">36.0</td>\n",
        "        <td style=\"padding-left: 1em; padding-right: 1em; text-align: center; vertical-align: top\">0.0487901641694</td>\n",
        "        <td style=\"padding-left: 1em; padding-right: 1em; text-align: center; vertical-align: top\">1.72276659774</td>\n",
        "        <td style=\"padding-left: 1em; padding-right: 1em; text-align: center; vertical-align: top\">52.0</td>\n",
        "        <td style=\"padding-left: 1em; padding-right: 1em; text-align: center; vertical-align: top\">...</td>\n",
        "    </tr>\n",
        "    <tr>\n",
        "        <td style=\"padding-left: 1em; padding-right: 1em; text-align: center; vertical-align: top\">1.5260563035</td>\n",
        "        <td style=\"padding-left: 1em; padding-right: 1em; text-align: center; vertical-align: top\">20.0</td>\n",
        "        <td style=\"padding-left: 1em; padding-right: 1em; text-align: center; vertical-align: top\">36.0</td>\n",
        "        <td style=\"padding-left: 1em; padding-right: 1em; text-align: center; vertical-align: top\">0.0487901641694</td>\n",
        "        <td style=\"padding-left: 1em; padding-right: 1em; text-align: center; vertical-align: top\">1.72276659774</td>\n",
        "        <td style=\"padding-left: 1em; padding-right: 1em; text-align: center; vertical-align: top\">52.0</td>\n",
        "        <td style=\"padding-left: 1em; padding-right: 1em; text-align: center; vertical-align: top\">...</td>\n",
        "    </tr>\n",
        "    <tr>\n",
        "        <td style=\"padding-left: 1em; padding-right: 1em; text-align: center; vertical-align: top\">1.5260563035</td>\n",
        "        <td style=\"padding-left: 1em; padding-right: 1em; text-align: center; vertical-align: top\">20.0</td>\n",
        "        <td style=\"padding-left: 1em; padding-right: 1em; text-align: center; vertical-align: top\">36.0</td>\n",
        "        <td style=\"padding-left: 1em; padding-right: 1em; text-align: center; vertical-align: top\">0.0487901641694</td>\n",
        "        <td style=\"padding-left: 1em; padding-right: 1em; text-align: center; vertical-align: top\">1.72276659774</td>\n",
        "        <td style=\"padding-left: 1em; padding-right: 1em; text-align: center; vertical-align: top\">52.0</td>\n",
        "        <td style=\"padding-left: 1em; padding-right: 1em; text-align: center; vertical-align: top\">...</td>\n",
        "    </tr>\n",
        "    <tr>\n",
        "        <td style=\"padding-left: 1em; padding-right: 1em; text-align: center; vertical-align: top\">1.5260563035</td>\n",
        "        <td style=\"padding-left: 1em; padding-right: 1em; text-align: center; vertical-align: top\">20.0</td>\n",
        "        <td style=\"padding-left: 1em; padding-right: 1em; text-align: center; vertical-align: top\">36.0</td>\n",
        "        <td style=\"padding-left: 1em; padding-right: 1em; text-align: center; vertical-align: top\">0.0487901641694</td>\n",
        "        <td style=\"padding-left: 1em; padding-right: 1em; text-align: center; vertical-align: top\">1.72276659774</td>\n",
        "        <td style=\"padding-left: 1em; padding-right: 1em; text-align: center; vertical-align: top\">52.0</td>\n",
        "        <td style=\"padding-left: 1em; padding-right: 1em; text-align: center; vertical-align: top\">...</td>\n",
        "    </tr>\n",
        "    <tr>\n",
        "        <td style=\"padding-left: 1em; padding-right: 1em; text-align: center; vertical-align: top\">1.5260563035</td>\n",
        "        <td style=\"padding-left: 1em; padding-right: 1em; text-align: center; vertical-align: top\">20.0</td>\n",
        "        <td style=\"padding-left: 1em; padding-right: 1em; text-align: center; vertical-align: top\">36.0</td>\n",
        "        <td style=\"padding-left: 1em; padding-right: 1em; text-align: center; vertical-align: top\">0.0487901641694</td>\n",
        "        <td style=\"padding-left: 1em; padding-right: 1em; text-align: center; vertical-align: top\">1.72276659774</td>\n",
        "        <td style=\"padding-left: 1em; padding-right: 1em; text-align: center; vertical-align: top\">52.0</td>\n",
        "        <td style=\"padding-left: 1em; padding-right: 1em; text-align: center; vertical-align: top\">...</td>\n",
        "    </tr>\n",
        "    <tr>\n",
        "        <td style=\"padding-left: 1em; padding-right: 1em; text-align: center; vertical-align: top\">1.5260563035</td>\n",
        "        <td style=\"padding-left: 1em; padding-right: 1em; text-align: center; vertical-align: top\">20.0</td>\n",
        "        <td style=\"padding-left: 1em; padding-right: 1em; text-align: center; vertical-align: top\">36.0</td>\n",
        "        <td style=\"padding-left: 1em; padding-right: 1em; text-align: center; vertical-align: top\">0.0487901641694</td>\n",
        "        <td style=\"padding-left: 1em; padding-right: 1em; text-align: center; vertical-align: top\">1.72276659774</td>\n",
        "        <td style=\"padding-left: 1em; padding-right: 1em; text-align: center; vertical-align: top\">52.0</td>\n",
        "        <td style=\"padding-left: 1em; padding-right: 1em; text-align: center; vertical-align: top\">...</td>\n",
        "    </tr>\n",
        "    <tr>\n",
        "        <td style=\"padding-left: 1em; padding-right: 1em; text-align: center; vertical-align: top\">1.5260563035</td>\n",
        "        <td style=\"padding-left: 1em; padding-right: 1em; text-align: center; vertical-align: top\">20.0</td>\n",
        "        <td style=\"padding-left: 1em; padding-right: 1em; text-align: center; vertical-align: top\">36.0</td>\n",
        "        <td style=\"padding-left: 1em; padding-right: 1em; text-align: center; vertical-align: top\">0.0487901641694</td>\n",
        "        <td style=\"padding-left: 1em; padding-right: 1em; text-align: center; vertical-align: top\">1.72276659774</td>\n",
        "        <td style=\"padding-left: 1em; padding-right: 1em; text-align: center; vertical-align: top\">52.0</td>\n",
        "        <td style=\"padding-left: 1em; padding-right: 1em; text-align: center; vertical-align: top\">...</td>\n",
        "    </tr>\n",
        "    <tr>\n",
        "        <td style=\"padding-left: 1em; padding-right: 1em; text-align: center; vertical-align: top\">1.5260563035</td>\n",
        "        <td style=\"padding-left: 1em; padding-right: 1em; text-align: center; vertical-align: top\">20.0</td>\n",
        "        <td style=\"padding-left: 1em; padding-right: 1em; text-align: center; vertical-align: top\">36.0</td>\n",
        "        <td style=\"padding-left: 1em; padding-right: 1em; text-align: center; vertical-align: top\">0.0487901641694</td>\n",
        "        <td style=\"padding-left: 1em; padding-right: 1em; text-align: center; vertical-align: top\">1.72276659774</td>\n",
        "        <td style=\"padding-left: 1em; padding-right: 1em; text-align: center; vertical-align: top\">52.0</td>\n",
        "        <td style=\"padding-left: 1em; padding-right: 1em; text-align: center; vertical-align: top\">...</td>\n",
        "    </tr>\n",
        "    <tr>\n",
        "        <td style=\"padding-left: 1em; padding-right: 1em; text-align: center; vertical-align: top\">1.5260563035</td>\n",
        "        <td style=\"padding-left: 1em; padding-right: 1em; text-align: center; vertical-align: top\">20.0</td>\n",
        "        <td style=\"padding-left: 1em; padding-right: 1em; text-align: center; vertical-align: top\">36.0</td>\n",
        "        <td style=\"padding-left: 1em; padding-right: 1em; text-align: center; vertical-align: top\">0.0487901641694</td>\n",
        "        <td style=\"padding-left: 1em; padding-right: 1em; text-align: center; vertical-align: top\">1.72276659774</td>\n",
        "        <td style=\"padding-left: 1em; padding-right: 1em; text-align: center; vertical-align: top\">52.0</td>\n",
        "        <td style=\"padding-left: 1em; padding-right: 1em; text-align: center; vertical-align: top\">...</td>\n",
        "    </tr>\n",
        "</table>\n",
        "[10 rows x 50 columns]<br/>\n",
        "</div>"
       ],
       "metadata": {},
       "output_type": "pyout",
       "prompt_number": 4,
       "text": [
        "Columns:\n",
        "\tdate\tstr\n",
        "\tstore_nbr\tint\n",
        "\titem_nbr\tint\n",
        "\tunits\tint\n",
        "\tstation_nbr\tint\n",
        "\tHZ\tint\n",
        "\tFU\tint\n",
        "\tUP\tint\n",
        "\tVCTS\tint\n",
        "\tDZ\tint\n",
        "\tBR\tint\n",
        "\tFG\tint\n",
        "\tBCFG\tint\n",
        "\tDU\tint\n",
        "\tFZRA\tint\n",
        "\tTS\tint\n",
        "\tRA\tint\n",
        "\tPL\tint\n",
        "\tGS\tint\n",
        "\tGR\tint\n",
        "\tFZDZ\tint\n",
        "\tVCFG\tint\n",
        "\tPRFG\tint\n",
        "\tFG+\tint\n",
        "\tTSRA\tint\n",
        "\tFZFG\tint\n",
        "\tBLDU\tint\n",
        "\tMIFG\tint\n",
        "\tSQ\tint\n",
        "\tBLSN\tint\n",
        "\tSN\tint\n",
        "\tSG\tint\n",
        "\tmonth\tint\n",
        "\tday\tint\n",
        "\tlog_resultspeed\tfloat\n",
        "\tresultdir\tfloat\n",
        "\tdewpoint\tfloat\n",
        "\tlog_preciptotal\tfloat\n",
        "\tlog_avgspeed\tfloat\n",
        "\ttmax\tfloat\n",
        "\ttmin\tfloat\n",
        "\tstnpressure\tfloat\n",
        "\twetbulb\tfloat\n",
        "\tcool\tfloat\n",
        "\theat\tfloat\n",
        "\ttavg\tfloat\n",
        "\tsealevel\tfloat\n",
        "\tlog_snowfall\tfloat\n",
        "\tday_length\tfloat\n",
        "\tdepart\tfloat\n",
        "\n",
        "Rows: 10\n",
        "\n",
        "Data:\n",
        "+------------+-----------+----------+-------+-------------+----+----+----+------+\n",
        "|    date    | store_nbr | item_nbr | units | station_nbr | HZ | FU | UP | VCTS |\n",
        "+------------+-----------+----------+-------+-------------+----+----+----+------+\n",
        "| 2012-01-01 |     1     |    1     |   0   |      1      | 0  | 0  | 0  |  0   |\n",
        "| 2012-01-01 |     1     |    2     |   0   |      1      | 0  | 0  | 0  |  0   |\n",
        "| 2012-01-01 |     1     |    3     |   0   |      1      | 0  | 0  | 0  |  0   |\n",
        "| 2012-01-01 |     1     |    4     |   0   |      1      | 0  | 0  | 0  |  0   |\n",
        "| 2012-01-01 |     1     |    5     |   0   |      1      | 0  | 0  | 0  |  0   |\n",
        "| 2012-01-01 |     1     |    6     |   0   |      1      | 0  | 0  | 0  |  0   |\n",
        "| 2012-01-01 |     1     |    7     |   0   |      1      | 0  | 0  | 0  |  0   |\n",
        "| 2012-01-01 |     1     |    8     |   0   |      1      | 0  | 0  | 0  |  0   |\n",
        "| 2012-01-01 |     1     |    9     |   29  |      1      | 0  | 0  | 0  |  0   |\n",
        "| 2012-01-01 |     1     |    10    |   0   |      1      | 0  | 0  | 0  |  0   |\n",
        "+------------+-----------+----------+-------+-------------+----+----+----+------+\n",
        "+----+----+----+------+----+------+----+----+----+----+----+-----+\n",
        "| DZ | BR | FG | BCFG | DU | FZRA | TS | RA | PL | GS | GR | ... |\n",
        "+----+----+----+------+----+------+----+----+----+----+----+-----+\n",
        "| 0  | 1  | 1  |  0   | 0  |  0   | 0  | 1  | 0  | 0  | 0  | ... |\n",
        "| 0  | 1  | 1  |  0   | 0  |  0   | 0  | 1  | 0  | 0  | 0  | ... |\n",
        "| 0  | 1  | 1  |  0   | 0  |  0   | 0  | 1  | 0  | 0  | 0  | ... |\n",
        "| 0  | 1  | 1  |  0   | 0  |  0   | 0  | 1  | 0  | 0  | 0  | ... |\n",
        "| 0  | 1  | 1  |  0   | 0  |  0   | 0  | 1  | 0  | 0  | 0  | ... |\n",
        "| 0  | 1  | 1  |  0   | 0  |  0   | 0  | 1  | 0  | 0  | 0  | ... |\n",
        "| 0  | 1  | 1  |  0   | 0  |  0   | 0  | 1  | 0  | 0  | 0  | ... |\n",
        "| 0  | 1  | 1  |  0   | 0  |  0   | 0  | 1  | 0  | 0  | 0  | ... |\n",
        "| 0  | 1  | 1  |  0   | 0  |  0   | 0  | 1  | 0  | 0  | 0  | ... |\n",
        "| 0  | 1  | 1  |  0   | 0  |  0   | 0  | 1  | 0  | 0  | 0  | ... |\n",
        "+----+----+----+------+----+------+----+----+----+----+----+-----+\n",
        "[10 rows x 50 columns]"
       ]
      }
     ],
     "prompt_number": 4
    },
    {
     "cell_type": "code",
     "collapsed": false,
     "input": [
      "training.column_names()"
     ],
     "language": "python",
     "metadata": {},
     "outputs": [
      {
       "metadata": {},
       "output_type": "pyout",
       "prompt_number": 3,
       "text": [
        "['date',\n",
        " 'store_nbr',\n",
        " 'item_nbr',\n",
        " 'units',\n",
        " 'station_nbr',\n",
        " 'tmax',\n",
        " 'tmin',\n",
        " 'tavg',\n",
        " 'depart',\n",
        " 'dewpoint',\n",
        " 'wetbulb',\n",
        " 'heat',\n",
        " 'cool',\n",
        " 'snowfall',\n",
        " 'preciptotal',\n",
        " 'stnpressure',\n",
        " 'sealevel',\n",
        " 'resultspeed',\n",
        " 'resultdir',\n",
        " 'avgspeed',\n",
        " 'HZ',\n",
        " 'FU',\n",
        " 'UP',\n",
        " 'VCTS',\n",
        " 'DZ',\n",
        " 'BR',\n",
        " 'FG',\n",
        " 'BCFG',\n",
        " 'DU',\n",
        " 'FZRA',\n",
        " 'TS',\n",
        " 'RA',\n",
        " 'PL',\n",
        " 'GS',\n",
        " 'GR',\n",
        " 'FZDZ',\n",
        " 'VCFG',\n",
        " 'PRFG',\n",
        " 'FG+',\n",
        " 'TSRA',\n",
        " 'FZFG',\n",
        " 'BLDU',\n",
        " 'MIFG',\n",
        " 'SQ',\n",
        " 'BLSN',\n",
        " 'SN',\n",
        " 'SG',\n",
        " 'month',\n",
        " 'day',\n",
        " 'day_length',\n",
        " 'sunset_hour',\n",
        " 'sunset_minute',\n",
        " 'sunrise_hour',\n",
        " 'sunrise_minute',\n",
        " 'resultdirNAN',\n",
        " 'resultspeedNAN',\n",
        " 'dewpointNAN',\n",
        " 'preciptotalNAN',\n",
        " 'avgspeedNAN',\n",
        " 'tmaxNAN',\n",
        " 'tminNAN',\n",
        " 'stnpressureNAN',\n",
        " 'wetbulbNAN',\n",
        " 'coolNAN',\n",
        " 'heatNAN',\n",
        " 'tavgNAN',\n",
        " 'sealevelNAN',\n",
        " 'snowfallNAN',\n",
        " 'day_lengthNAN',\n",
        " 'departNAN']"
       ]
      }
     ],
     "prompt_number": 3
    },
    {
     "cell_type": "code",
     "collapsed": false,
     "input": [
      "features =['store_nbr',\n",
      " 'item_nbr',\n",
      "#  'units',\n",
      " 'station_nbr',\n",
      " 'tmax',\n",
      " 'tmin',\n",
      " 'tavg',\n",
      " 'depart',\n",
      " 'dewpoint',\n",
      " 'wetbulb',\n",
      " 'heat',\n",
      " 'cool',\n",
      " 'snowfall',\n",
      " 'preciptotal',\n",
      " 'stnpressure',\n",
      " 'sealevel',\n",
      " 'resultspeed',\n",
      " 'resultdir',\n",
      " 'avgspeed',\n",
      " 'HZ',\n",
      " 'FU',\n",
      " 'UP',\n",
      " 'VCTS',\n",
      " 'DZ',\n",
      " 'BR',\n",
      " 'FG',\n",
      " 'BCFG',\n",
      " 'DU',\n",
      " 'FZRA',\n",
      " 'TS',\n",
      " 'RA',\n",
      " 'PL',\n",
      " 'GS',\n",
      " 'GR',\n",
      " 'FZDZ',\n",
      " 'VCFG',\n",
      " 'PRFG',\n",
      " 'FG+',\n",
      " 'TSRA',\n",
      " 'FZFG',\n",
      " 'BLDU',\n",
      " 'MIFG',\n",
      " 'SQ',\n",
      " 'BLSN',\n",
      " 'SN',\n",
      " 'SG',\n",
      " 'month',\n",
      " 'day',\n",
      " 'day_length',\n",
      "#  'sunset_hour',\n",
      "#  'sunset_minute',\n",
      "#  'sunrise_hour',\n",
      "#  'sunrise_minute',\n",
      " 'resultdirNAN',\n",
      " 'resultspeedNAN',\n",
      " 'dewpointNAN',\n",
      " 'preciptotalNAN',\n",
      " 'avgspeedNAN',\n",
      " 'tmaxNAN',\n",
      " 'tminNAN',\n",
      " 'stnpressureNAN',\n",
      " 'wetbulbNAN',\n",
      " 'coolNAN',\n",
      " 'heatNAN',\n",
      " 'tavgNAN',\n",
      " 'sealevelNAN',\n",
      " 'snowfallNAN',\n",
      " 'day_lengthNAN',\n",
      " 'departNAN']"
     ],
     "language": "python",
     "metadata": {},
     "outputs": [],
     "prompt_number": 7
    },
    {
     "cell_type": "code",
     "collapsed": false,
     "input": [
      "sf_train, sf_test = training.random_split(0.8, seed=5)"
     ],
     "language": "python",
     "metadata": {},
     "outputs": [],
     "prompt_number": 5
    },
    {
     "cell_type": "code",
     "collapsed": false,
     "input": [
      "# from gl.boosted_trees_regression import BoostedTreesRegression\n",
      "\n",
      "model = gl.boosted_trees_regression.create(sf_train, \n",
      "                             target='units', \n",
      "                             features=features,\n",
      "                             max_depth=20,\n",
      "                             step_size=0.1,\n",
      "                             max_iterations=20,\n",
      "                             validation_set = sf_test)\n",
      "\n",
      "# model = gl.boosted_trees_regression.create(sf_train, target='units', \n",
      "#                                            features=features, \n",
      "#                                            max_iterations=50, \n",
      "#                                            max_depth=10,\n",
      "# #                                            row_subsample=0.8,\n",
      "#                                             step_size=0.1,\n",
      "#                                            validation_set=sf_test)"
     ],
     "language": "python",
     "metadata": {},
     "outputs": [
      {
       "html": [
        "<pre>PROGRESS: Boosted trees regression:</pre>"
       ],
       "metadata": {},
       "output_type": "display_data",
       "text": [
        "PROGRESS: Boosted trees regression:"
       ]
      },
      {
       "html": [
        "<pre>PROGRESS: --------------------------------------------------------</pre>"
       ],
       "metadata": {},
       "output_type": "display_data",
       "text": [
        "PROGRESS: --------------------------------------------------------"
       ]
      },
      {
       "html": [
        "<pre>PROGRESS: Number of examples          : 3710848</pre>"
       ],
       "metadata": {},
       "output_type": "display_data",
       "text": [
        "PROGRESS: Number of examples          : 3710848"
       ]
      },
      {
       "html": [
        "<pre>PROGRESS: Number of features          : 64</pre>"
       ],
       "metadata": {},
       "output_type": "display_data",
       "text": [
        "PROGRESS: Number of features          : 64"
       ]
      },
      {
       "html": [
        "<pre>PROGRESS: Number of unpacked features : 64</pre>"
       ],
       "metadata": {},
       "output_type": "display_data",
       "text": [
        "PROGRESS: Number of unpacked features : 64"
       ]
      },
      {
       "html": [
        "<pre>PROGRESS: Starting Boosted Trees</pre>"
       ],
       "metadata": {},
       "output_type": "display_data",
       "text": [
        "PROGRESS: Starting Boosted Trees"
       ]
      },
      {
       "html": [
        "<pre>PROGRESS: --------------------------------------------------------</pre>"
       ],
       "metadata": {},
       "output_type": "display_data",
       "text": [
        "PROGRESS: --------------------------------------------------------"
       ]
      },
      {
       "html": [
        "<pre>PROGRESS:   Iter          RMSE          Elapsed time</pre>"
       ],
       "metadata": {},
       "output_type": "display_data",
       "text": [
        "PROGRESS:   Iter          RMSE          Elapsed time"
       ]
      },
      {
       "html": [
        "<pre>PROGRESS:         (training) (validation)</pre>"
       ],
       "metadata": {},
       "output_type": "display_data",
       "text": [
        "PROGRESS:         (training) (validation)"
       ]
      },
      {
       "html": [
        "<pre>PROGRESS:      0   8.862e+00   8.993e+00       71.18s</pre>"
       ],
       "metadata": {},
       "output_type": "display_data",
       "text": [
        "PROGRESS:      0   8.862e+00   8.993e+00       71.18s"
       ]
      }
     ]
    },
    {
     "cell_type": "code",
     "collapsed": false,
     "input": [
      "prediction_testing = model.predict(testing)"
     ],
     "language": "python",
     "metadata": {},
     "outputs": [],
     "prompt_number": 45
    },
    {
     "cell_type": "code",
     "collapsed": false,
     "input": [
      "prediction_training = model.predict(training)"
     ],
     "language": "python",
     "metadata": {},
     "outputs": [],
     "prompt_number": 46
    },
    {
     "cell_type": "code",
     "collapsed": false,
     "input": [
      "prediction = prediction_testing"
     ],
     "language": "python",
     "metadata": {},
     "outputs": [],
     "prompt_number": 53
    },
    {
     "cell_type": "code",
     "collapsed": false,
     "input": [
      "pd_testing = pd.DataFrame()\n",
      "pd_testing[\"units\"] = prediction_testing\n",
      "\n",
      "pd_testing.to_csv(os.path.join(\"predictions\", \"xgbt_md20_ss01_mi100_testing.csv\"))"
     ],
     "language": "python",
     "metadata": {},
     "outputs": [],
     "prompt_number": 51
    },
    {
     "cell_type": "code",
     "collapsed": false,
     "input": [
      "pd_training = pd.DataFrame()\n",
      "pd_training[\"units\"] = prediction_training\n",
      "\n",
      "pd_training.to_csv(os.path.join(\"predictions\", \"xgbt_md20_ss01_mi100_training.csv\"))"
     ],
     "language": "python",
     "metadata": {},
     "outputs": [],
     "prompt_number": 52
    },
    {
     "cell_type": "code",
     "collapsed": false,
     "input": [
      "prediction_training.save(os.path.join(\"predictions\", \"xgbt_md20_ss01_mi100_training.csv\"), format='csv')"
     ],
     "language": "python",
     "metadata": {},
     "outputs": [],
     "prompt_number": 48
    },
    {
     "cell_type": "code",
     "collapsed": false,
     "input": [
      "submission = pd.DataFrame()"
     ],
     "language": "python",
     "metadata": {},
     "outputs": [],
     "prompt_number": 54
    },
    {
     "cell_type": "code",
     "collapsed": false,
     "input": [
      "def merge_data(df):\n",
      "    return ''.join([str(df[\"store_nbr\"]), \"_\", str(df[\"item_nbr\"]), \"_\", df[\"date\"]])"
     ],
     "language": "python",
     "metadata": {},
     "outputs": [],
     "prompt_number": 55
    },
    {
     "cell_type": "code",
     "collapsed": false,
     "input": [
      "submission[\"id\"] = testing[[\"store_nbr\", \"item_nbr\", \"date\"]].apply(merge_data)"
     ],
     "language": "python",
     "metadata": {},
     "outputs": [],
     "prompt_number": 56
    },
    {
     "cell_type": "code",
     "collapsed": false,
     "input": [
      "import pandas as pd\n",
      "result = submission"
     ],
     "language": "python",
     "metadata": {},
     "outputs": [],
     "prompt_number": 57
    },
    {
     "cell_type": "code",
     "collapsed": false,
     "input": [
      "result[\"units\"] = prediction\n",
      "# result[\"units\"] = result[\"units\"].apply(round).astype(int)\n",
      "result[\"units\"] = result[\"units\"].apply(int).astype(int)\n"
     ],
     "language": "python",
     "metadata": {},
     "outputs": [],
     "prompt_number": 64
    },
    {
     "cell_type": "code",
     "collapsed": false,
     "input": [
      "result[\"units\"][result[\"units\"] < 0] = 0"
     ],
     "language": "python",
     "metadata": {},
     "outputs": [],
     "prompt_number": 65
    },
    {
     "cell_type": "code",
     "collapsed": false,
     "input": [
      "#save submission\n",
      "result.to_csv(os.path.join(\"predictions\", \"Graphlab_temp.csv\"), index=False)"
     ],
     "language": "python",
     "metadata": {},
     "outputs": [],
     "prompt_number": 66
    },
    {
     "cell_type": "code",
     "collapsed": false,
     "input": [
      "import pandas as pd\n",
      "result = submission"
     ],
     "language": "python",
     "metadata": {},
     "outputs": [],
     "prompt_number": 42
    },
    {
     "cell_type": "code",
     "collapsed": false,
     "input": [
      "result[\"units\"][result[\"units\"] < 0] = 0\n",
      "result.to_csv(os.path.join(\"predictions\", \"Graphlab_default_rf.csv\"), index=False)"
     ],
     "language": "python",
     "metadata": {},
     "outputs": [],
     "prompt_number": 43
    },
    {
     "cell_type": "code",
     "collapsed": false,
     "input": [
      "features_1 = ['item_nbr', 'HZ', 'FU', 'UP', 'TSSN', 'VCTS', 'DZ', 'BR', 'FG',\n",
      " 'BCFG', 'DU', 'FZRA', 'TS', 'RA', 'PL', 'GS', 'GR', 'FZDZ', 'VCFG', 'PRFG', 'FG+', 'TSRA', 'FZFG', 'BLDU', 'MIFG', 'SQ',\n",
      " 'BLSN', 'SN', 'SG', 'month', 'day']"
     ],
     "language": "python",
     "metadata": {},
     "outputs": [],
     "prompt_number": 44
    },
    {
     "cell_type": "code",
     "collapsed": false,
     "input": [
      "model = gl.regression.create(training, target='units', features=features_1)"
     ],
     "language": "python",
     "metadata": {},
     "outputs": [
      {
       "html": [
        "<pre>PROGRESS: Boosted trees regression:</pre>"
       ],
       "metadata": {},
       "output_type": "display_data",
       "text": [
        "PROGRESS: Boosted trees regression:"
       ]
      },
      {
       "html": [
        "<pre>PROGRESS: --------------------------------------------------------</pre>"
       ],
       "metadata": {},
       "output_type": "display_data",
       "text": [
        "PROGRESS: --------------------------------------------------------"
       ]
      },
      {
       "html": [
        "<pre>PROGRESS: Number of examples          : 4617600</pre>"
       ],
       "metadata": {},
       "output_type": "display_data",
       "text": [
        "PROGRESS: Number of examples          : 4617600"
       ]
      },
      {
       "html": [
        "<pre>PROGRESS: Number of features          : 31</pre>"
       ],
       "metadata": {},
       "output_type": "display_data",
       "text": [
        "PROGRESS: Number of features          : 31"
       ]
      },
      {
       "html": [
        "<pre>PROGRESS: Number of unpacked features : 31</pre>"
       ],
       "metadata": {},
       "output_type": "display_data",
       "text": [
        "PROGRESS: Number of unpacked features : 31"
       ]
      },
      {
       "html": [
        "<pre>PROGRESS: Starting Boosted Trees</pre>"
       ],
       "metadata": {},
       "output_type": "display_data",
       "text": [
        "PROGRESS: Starting Boosted Trees"
       ]
      },
      {
       "html": [
        "<pre>PROGRESS: --------------------------------------------------------</pre>"
       ],
       "metadata": {},
       "output_type": "display_data",
       "text": [
        "PROGRESS: --------------------------------------------------------"
       ]
      },
      {
       "html": [
        "<pre>PROGRESS:   Iter        RMSE Elapsed time</pre>"
       ],
       "metadata": {},
       "output_type": "display_data",
       "text": [
        "PROGRESS:   Iter        RMSE Elapsed time"
       ]
      },
      {
       "html": [
        "<pre>PROGRESS:      0   9.480e+00       16.16s</pre>"
       ],
       "metadata": {},
       "output_type": "display_data",
       "text": [
        "PROGRESS:      0   9.480e+00       16.16s"
       ]
      },
      {
       "html": [
        "<pre>PROGRESS:      1   9.272e+00       24.93s</pre>"
       ],
       "metadata": {},
       "output_type": "display_data",
       "text": [
        "PROGRESS:      1   9.272e+00       24.93s"
       ]
      },
      {
       "html": [
        "<pre>PROGRESS:      2   9.166e+00       32.83s</pre>"
       ],
       "metadata": {},
       "output_type": "display_data",
       "text": [
        "PROGRESS:      2   9.166e+00       32.83s"
       ]
      },
      {
       "html": [
        "<pre>PROGRESS:      3   9.110e+00       40.49s</pre>"
       ],
       "metadata": {},
       "output_type": "display_data",
       "text": [
        "PROGRESS:      3   9.110e+00       40.49s"
       ]
      },
      {
       "html": [
        "<pre>PROGRESS:      4   9.082e+00       48.70s</pre>"
       ],
       "metadata": {},
       "output_type": "display_data",
       "text": [
        "PROGRESS:      4   9.082e+00       48.70s"
       ]
      },
      {
       "html": [
        "<pre>PROGRESS:      5   9.062e+00       58.98s</pre>"
       ],
       "metadata": {},
       "output_type": "display_data",
       "text": [
        "PROGRESS:      5   9.062e+00       58.98s"
       ]
      },
      {
       "html": [
        "<pre>PROGRESS:      6   9.053e+00       67.51s</pre>"
       ],
       "metadata": {},
       "output_type": "display_data",
       "text": [
        "PROGRESS:      6   9.053e+00       67.51s"
       ]
      },
      {
       "html": [
        "<pre>PROGRESS:      7   9.045e+00       78.32s</pre>"
       ],
       "metadata": {},
       "output_type": "display_data",
       "text": [
        "PROGRESS:      7   9.045e+00       78.32s"
       ]
      },
      {
       "html": [
        "<pre>PROGRESS:      8   9.042e+00       86.39s</pre>"
       ],
       "metadata": {},
       "output_type": "display_data",
       "text": [
        "PROGRESS:      8   9.042e+00       86.39s"
       ]
      },
      {
       "html": [
        "<pre>PROGRESS:      9   9.038e+00       94.20s</pre>"
       ],
       "metadata": {},
       "output_type": "display_data",
       "text": [
        "PROGRESS:      9   9.038e+00       94.20s"
       ]
      }
     ],
     "prompt_number": 45
    },
    {
     "cell_type": "code",
     "collapsed": false,
     "input": [
      "features_2 = ['item_nbr', 'tmax', 'tmin', 'tavg', 'depart', 'dewpoint', 'wetbulb', 'heat', 'cool', 'snowfall', 'preciptotal',\n",
      " 'stnpressure', 'sealevel', 'resultspeed', 'resultdir', 'avgspeed', 'month', 'day', 'day_length']"
     ],
     "language": "python",
     "metadata": {},
     "outputs": [],
     "prompt_number": 46
    },
    {
     "cell_type": "code",
     "collapsed": false,
     "input": [
      "model = gl.regression.create(training, target='units', features=features_2)"
     ],
     "language": "python",
     "metadata": {},
     "outputs": [
      {
       "html": [
        "<pre>PROGRESS: Boosted trees regression:</pre>"
       ],
       "metadata": {},
       "output_type": "display_data",
       "text": [
        "PROGRESS: Boosted trees regression:"
       ]
      },
      {
       "html": [
        "<pre>PROGRESS: --------------------------------------------------------</pre>"
       ],
       "metadata": {},
       "output_type": "display_data",
       "text": [
        "PROGRESS: --------------------------------------------------------"
       ]
      },
      {
       "html": [
        "<pre>PROGRESS: Number of examples          : 4617600</pre>"
       ],
       "metadata": {},
       "output_type": "display_data",
       "text": [
        "PROGRESS: Number of examples          : 4617600"
       ]
      },
      {
       "html": [
        "<pre>PROGRESS: Number of features          : 19</pre>"
       ],
       "metadata": {},
       "output_type": "display_data",
       "text": [
        "PROGRESS: Number of features          : 19"
       ]
      },
      {
       "html": [
        "<pre>PROGRESS: Number of unpacked features : 19</pre>"
       ],
       "metadata": {},
       "output_type": "display_data",
       "text": [
        "PROGRESS: Number of unpacked features : 19"
       ]
      },
      {
       "html": [
        "<pre>PROGRESS: Starting Boosted Trees</pre>"
       ],
       "metadata": {},
       "output_type": "display_data",
       "text": [
        "PROGRESS: Starting Boosted Trees"
       ]
      },
      {
       "html": [
        "<pre>PROGRESS: --------------------------------------------------------</pre>"
       ],
       "metadata": {},
       "output_type": "display_data",
       "text": [
        "PROGRESS: --------------------------------------------------------"
       ]
      },
      {
       "html": [
        "<pre>PROGRESS:   Iter        RMSE Elapsed time</pre>"
       ],
       "metadata": {},
       "output_type": "display_data",
       "text": [
        "PROGRESS:   Iter        RMSE Elapsed time"
       ]
      },
      {
       "html": [
        "<pre>PROGRESS:      0   9.305e+00       11.55s</pre>"
       ],
       "metadata": {},
       "output_type": "display_data",
       "text": [
        "PROGRESS:      0   9.305e+00       11.55s"
       ]
      },
      {
       "html": [
        "<pre>PROGRESS:      1   8.997e+00       17.71s</pre>"
       ],
       "metadata": {},
       "output_type": "display_data",
       "text": [
        "PROGRESS:      1   8.997e+00       17.71s"
       ]
      },
      {
       "html": [
        "<pre>PROGRESS:      2   8.825e+00       23.84s</pre>"
       ],
       "metadata": {},
       "output_type": "display_data",
       "text": [
        "PROGRESS:      2   8.825e+00       23.84s"
       ]
      },
      {
       "html": [
        "<pre>PROGRESS:      3   8.733e+00       30.45s</pre>"
       ],
       "metadata": {},
       "output_type": "display_data",
       "text": [
        "PROGRESS:      3   8.733e+00       30.45s"
       ]
      },
      {
       "html": [
        "<pre>PROGRESS:      4   8.677e+00       37.75s</pre>"
       ],
       "metadata": {},
       "output_type": "display_data",
       "text": [
        "PROGRESS:      4   8.677e+00       37.75s"
       ]
      },
      {
       "html": [
        "<pre>PROGRESS:      5   8.646e+00       43.96s</pre>"
       ],
       "metadata": {},
       "output_type": "display_data",
       "text": [
        "PROGRESS:      5   8.646e+00       43.96s"
       ]
      },
      {
       "html": [
        "<pre>PROGRESS:      6   8.621e+00       50.11s</pre>"
       ],
       "metadata": {},
       "output_type": "display_data",
       "text": [
        "PROGRESS:      6   8.621e+00       50.11s"
       ]
      },
      {
       "html": [
        "<pre>PROGRESS:      7   8.599e+00       58.21s</pre>"
       ],
       "metadata": {},
       "output_type": "display_data",
       "text": [
        "PROGRESS:      7   8.599e+00       58.21s"
       ]
      },
      {
       "html": [
        "<pre>PROGRESS:      8   8.582e+00       64.91s</pre>"
       ],
       "metadata": {},
       "output_type": "display_data",
       "text": [
        "PROGRESS:      8   8.582e+00       64.91s"
       ]
      },
      {
       "html": [
        "<pre>PROGRESS:      9   8.572e+00       71.64s</pre>"
       ],
       "metadata": {},
       "output_type": "display_data",
       "text": [
        "PROGRESS:      9   8.572e+00       71.64s"
       ]
      }
     ],
     "prompt_number": 47
    },
    {
     "cell_type": "code",
     "collapsed": false,
     "input": [
      "features_3 = ['item_nbr', 'tmax', 'tmin', 'tavg', 'depart', 'dewpoint', 'wetbulb', 'heat', 'cool', 'snowfall', 'preciptotal',\n",
      " 'stnpressure', 'sealevel', 'resultspeed', 'resultdir', 'avgspeed', 'HZ', 'FU', 'TSSN', 'VCTS', 'DZ', 'BR', 'FG',\n",
      " 'BCFG', 'DU', 'FZRA', 'TS', 'RA', 'PL', 'GS', 'GR', 'FZDZ', 'VCFG', 'PRFG', 'FG+', 'TSRA', 'FZFG', 'BLDU', 'MIFG', 'SQ',\n",
      " 'BLSN', 'SN', 'SG', 'day_length']"
     ],
     "language": "python",
     "metadata": {},
     "outputs": [],
     "prompt_number": 49
    },
    {
     "cell_type": "code",
     "collapsed": false,
     "input": [
      "model = gl.regression.create(training, target='units', features=features_3)"
     ],
     "language": "python",
     "metadata": {},
     "outputs": [
      {
       "html": [
        "<pre>PROGRESS: Boosted trees regression:</pre>"
       ],
       "metadata": {},
       "output_type": "display_data",
       "text": [
        "PROGRESS: Boosted trees regression:"
       ]
      },
      {
       "html": [
        "<pre>PROGRESS: --------------------------------------------------------</pre>"
       ],
       "metadata": {},
       "output_type": "display_data",
       "text": [
        "PROGRESS: --------------------------------------------------------"
       ]
      },
      {
       "html": [
        "<pre>PROGRESS: Number of examples          : 4617600</pre>"
       ],
       "metadata": {},
       "output_type": "display_data",
       "text": [
        "PROGRESS: Number of examples          : 4617600"
       ]
      },
      {
       "html": [
        "<pre>PROGRESS: Number of features          : 44</pre>"
       ],
       "metadata": {},
       "output_type": "display_data",
       "text": [
        "PROGRESS: Number of features          : 44"
       ]
      },
      {
       "html": [
        "<pre>PROGRESS: Number of unpacked features : 44</pre>"
       ],
       "metadata": {},
       "output_type": "display_data",
       "text": [
        "PROGRESS: Number of unpacked features : 44"
       ]
      },
      {
       "html": [
        "<pre>PROGRESS: Starting Boosted Trees</pre>"
       ],
       "metadata": {},
       "output_type": "display_data",
       "text": [
        "PROGRESS: Starting Boosted Trees"
       ]
      },
      {
       "html": [
        "<pre>PROGRESS: --------------------------------------------------------</pre>"
       ],
       "metadata": {},
       "output_type": "display_data",
       "text": [
        "PROGRESS: --------------------------------------------------------"
       ]
      },
      {
       "html": [
        "<pre>PROGRESS:   Iter        RMSE Elapsed time</pre>"
       ],
       "metadata": {},
       "output_type": "display_data",
       "text": [
        "PROGRESS:   Iter        RMSE Elapsed time"
       ]
      },
      {
       "html": [
        "<pre>PROGRESS:      0   9.301e+00       20.56s</pre>"
       ],
       "metadata": {},
       "output_type": "display_data",
       "text": [
        "PROGRESS:      0   9.301e+00       20.56s"
       ]
      },
      {
       "html": [
        "<pre>PROGRESS:      1   8.998e+00       30.46s</pre>"
       ],
       "metadata": {},
       "output_type": "display_data",
       "text": [
        "PROGRESS:      1   8.998e+00       30.46s"
       ]
      },
      {
       "html": [
        "<pre>PROGRESS:      2   8.825e+00       41.36s</pre>"
       ],
       "metadata": {},
       "output_type": "display_data",
       "text": [
        "PROGRESS:      2   8.825e+00       41.36s"
       ]
      },
      {
       "html": [
        "<pre>PROGRESS:      3   8.733e+00       53.05s</pre>"
       ],
       "metadata": {},
       "output_type": "display_data",
       "text": [
        "PROGRESS:      3   8.733e+00       53.05s"
       ]
      },
      {
       "html": [
        "<pre>PROGRESS:      4   8.675e+00       65.89s</pre>"
       ],
       "metadata": {},
       "output_type": "display_data",
       "text": [
        "PROGRESS:      4   8.675e+00       65.89s"
       ]
      },
      {
       "html": [
        "<pre>PROGRESS:      5   8.643e+00       76.39s</pre>"
       ],
       "metadata": {},
       "output_type": "display_data",
       "text": [
        "PROGRESS:      5   8.643e+00       76.39s"
       ]
      },
      {
       "html": [
        "<pre>PROGRESS:      6   8.621e+00       89.42s</pre>"
       ],
       "metadata": {},
       "output_type": "display_data",
       "text": [
        "PROGRESS:      6   8.621e+00       89.42s"
       ]
      },
      {
       "html": [
        "<pre>PROGRESS:      7   8.597e+00      103.31s</pre>"
       ],
       "metadata": {},
       "output_type": "display_data",
       "text": [
        "PROGRESS:      7   8.597e+00      103.31s"
       ]
      },
      {
       "html": [
        "<pre>PROGRESS:      8   8.587e+00      117.16s</pre>"
       ],
       "metadata": {},
       "output_type": "display_data",
       "text": [
        "PROGRESS:      8   8.587e+00      117.16s"
       ]
      },
      {
       "html": [
        "<pre>PROGRESS:      9   8.559e+00      132.75s</pre>"
       ],
       "metadata": {},
       "output_type": "display_data",
       "text": [
        "PROGRESS:      9   8.559e+00      132.75s"
       ]
      }
     ],
     "prompt_number": 50
    },
    {
     "cell_type": "code",
     "collapsed": false,
     "input": [
      "model = gl.boosted_trees_regression.create(training, target='units', features=features, max_iterations=100)"
     ],
     "language": "python",
     "metadata": {},
     "outputs": [
      {
       "html": [
        "<pre>PROGRESS: Boosted trees regression:</pre>"
       ],
       "metadata": {},
       "output_type": "display_data",
       "text": [
        "PROGRESS: Boosted trees regression:"
       ]
      },
      {
       "html": [
        "<pre>PROGRESS: --------------------------------------------------------</pre>"
       ],
       "metadata": {},
       "output_type": "display_data",
       "text": [
        "PROGRESS: --------------------------------------------------------"
       ]
      },
      {
       "html": [
        "<pre>PROGRESS: Number of examples          : 4617600</pre>"
       ],
       "metadata": {},
       "output_type": "display_data",
       "text": [
        "PROGRESS: Number of examples          : 4617600"
       ]
      },
      {
       "html": [
        "<pre>PROGRESS: Number of features          : 46</pre>"
       ],
       "metadata": {},
       "output_type": "display_data",
       "text": [
        "PROGRESS: Number of features          : 46"
       ]
      },
      {
       "html": [
        "<pre>PROGRESS: Number of unpacked features : 46</pre>"
       ],
       "metadata": {},
       "output_type": "display_data",
       "text": [
        "PROGRESS: Number of unpacked features : 46"
       ]
      },
      {
       "html": [
        "<pre>PROGRESS: Starting Boosted Trees</pre>"
       ],
       "metadata": {},
       "output_type": "display_data",
       "text": [
        "PROGRESS: Starting Boosted Trees"
       ]
      },
      {
       "html": [
        "<pre>PROGRESS: --------------------------------------------------------</pre>"
       ],
       "metadata": {},
       "output_type": "display_data",
       "text": [
        "PROGRESS: --------------------------------------------------------"
       ]
      },
      {
       "html": [
        "<pre>PROGRESS:   Iter        RMSE Elapsed time</pre>"
       ],
       "metadata": {},
       "output_type": "display_data",
       "text": [
        "PROGRESS:   Iter        RMSE Elapsed time"
       ]
      },
      {
       "html": [
        "<pre>PROGRESS:      0   9.305e+00       22.79s</pre>"
       ],
       "metadata": {},
       "output_type": "display_data",
       "text": [
        "PROGRESS:      0   9.305e+00       22.79s"
       ]
      },
      {
       "html": [
        "<pre>PROGRESS:      1   8.997e+00       33.77s</pre>"
       ],
       "metadata": {},
       "output_type": "display_data",
       "text": [
        "PROGRESS:      1   8.997e+00       33.77s"
       ]
      },
      {
       "html": [
        "<pre>PROGRESS:      2   8.825e+00       46.29s</pre>"
       ],
       "metadata": {},
       "output_type": "display_data",
       "text": [
        "PROGRESS:      2   8.825e+00       46.29s"
       ]
      },
      {
       "html": [
        "<pre>PROGRESS:      3   8.734e+00       58.25s</pre>"
       ],
       "metadata": {},
       "output_type": "display_data",
       "text": [
        "PROGRESS:      3   8.734e+00       58.25s"
       ]
      },
      {
       "html": [
        "<pre>PROGRESS:      4   8.678e+00       71.45s</pre>"
       ],
       "metadata": {},
       "output_type": "display_data",
       "text": [
        "PROGRESS:      4   8.678e+00       71.45s"
       ]
      },
      {
       "html": [
        "<pre>PROGRESS:      5   8.646e+00       85.19s</pre>"
       ],
       "metadata": {},
       "output_type": "display_data",
       "text": [
        "PROGRESS:      5   8.646e+00       85.19s"
       ]
      },
      {
       "html": [
        "<pre>PROGRESS:      6   8.620e+00       96.52s</pre>"
       ],
       "metadata": {},
       "output_type": "display_data",
       "text": [
        "PROGRESS:      6   8.620e+00       96.52s"
       ]
      },
      {
       "html": [
        "<pre>PROGRESS:      7   8.595e+00      109.55s</pre>"
       ],
       "metadata": {},
       "output_type": "display_data",
       "text": [
        "PROGRESS:      7   8.595e+00      109.55s"
       ]
      },
      {
       "html": [
        "<pre>PROGRESS:      8   8.580e+00      122.09s</pre>"
       ],
       "metadata": {},
       "output_type": "display_data",
       "text": [
        "PROGRESS:      8   8.580e+00      122.09s"
       ]
      },
      {
       "html": [
        "<pre>PROGRESS:      9   8.564e+00      132.97s</pre>"
       ],
       "metadata": {},
       "output_type": "display_data",
       "text": [
        "PROGRESS:      9   8.564e+00      132.97s"
       ]
      },
      {
       "html": [
        "<pre>PROGRESS:     10   8.548e+00      145.13s</pre>"
       ],
       "metadata": {},
       "output_type": "display_data",
       "text": [
        "PROGRESS:     10   8.548e+00      145.13s"
       ]
      },
      {
       "html": [
        "<pre>PROGRESS:     11   8.535e+00      156.41s</pre>"
       ],
       "metadata": {},
       "output_type": "display_data",
       "text": [
        "PROGRESS:     11   8.535e+00      156.41s"
       ]
      },
      {
       "html": [
        "<pre>PROGRESS:     12   8.528e+00      168.42s</pre>"
       ],
       "metadata": {},
       "output_type": "display_data",
       "text": [
        "PROGRESS:     12   8.528e+00      168.42s"
       ]
      },
      {
       "html": [
        "<pre>PROGRESS:     13   8.520e+00      179.76s</pre>"
       ],
       "metadata": {},
       "output_type": "display_data",
       "text": [
        "PROGRESS:     13   8.520e+00      179.76s"
       ]
      },
      {
       "html": [
        "<pre>PROGRESS:     14   8.514e+00      191.93s</pre>"
       ],
       "metadata": {},
       "output_type": "display_data",
       "text": [
        "PROGRESS:     14   8.514e+00      191.93s"
       ]
      },
      {
       "html": [
        "<pre>PROGRESS:     15   8.508e+00      204.70s</pre>"
       ],
       "metadata": {},
       "output_type": "display_data",
       "text": [
        "PROGRESS:     15   8.508e+00      204.70s"
       ]
      },
      {
       "html": [
        "<pre>PROGRESS:     16   8.501e+00      218.55s</pre>"
       ],
       "metadata": {},
       "output_type": "display_data",
       "text": [
        "PROGRESS:     16   8.501e+00      218.55s"
       ]
      },
      {
       "html": [
        "<pre>PROGRESS:     17   8.497e+00      232.81s</pre>"
       ],
       "metadata": {},
       "output_type": "display_data",
       "text": [
        "PROGRESS:     17   8.497e+00      232.81s"
       ]
      },
      {
       "html": [
        "<pre>PROGRESS:     18   8.486e+00      246.35s</pre>"
       ],
       "metadata": {},
       "output_type": "display_data",
       "text": [
        "PROGRESS:     18   8.486e+00      246.35s"
       ]
      },
      {
       "html": [
        "<pre>PROGRESS:     19   8.480e+00      259.32s</pre>"
       ],
       "metadata": {},
       "output_type": "display_data",
       "text": [
        "PROGRESS:     19   8.480e+00      259.32s"
       ]
      },
      {
       "html": [
        "<pre>PROGRESS:     20   8.477e+00      273.03s</pre>"
       ],
       "metadata": {},
       "output_type": "display_data",
       "text": [
        "PROGRESS:     20   8.477e+00      273.03s"
       ]
      },
      {
       "html": [
        "<pre>PROGRESS:     21   8.449e+00      287.95s</pre>"
       ],
       "metadata": {},
       "output_type": "display_data",
       "text": [
        "PROGRESS:     21   8.449e+00      287.95s"
       ]
      },
      {
       "html": [
        "<pre>PROGRESS:     22   8.445e+00      301.10s</pre>"
       ],
       "metadata": {},
       "output_type": "display_data",
       "text": [
        "PROGRESS:     22   8.445e+00      301.10s"
       ]
      },
      {
       "html": [
        "<pre>PROGRESS:     23   8.441e+00      314.17s</pre>"
       ],
       "metadata": {},
       "output_type": "display_data",
       "text": [
        "PROGRESS:     23   8.441e+00      314.17s"
       ]
      },
      {
       "html": [
        "<pre>PROGRESS:     24   8.435e+00      327.80s</pre>"
       ],
       "metadata": {},
       "output_type": "display_data",
       "text": [
        "PROGRESS:     24   8.435e+00      327.80s"
       ]
      },
      {
       "html": [
        "<pre>PROGRESS:     25   8.433e+00      343.70s</pre>"
       ],
       "metadata": {},
       "output_type": "display_data",
       "text": [
        "PROGRESS:     25   8.433e+00      343.70s"
       ]
      },
      {
       "html": [
        "<pre>PROGRESS:     26   8.420e+00      357.40s</pre>"
       ],
       "metadata": {},
       "output_type": "display_data",
       "text": [
        "PROGRESS:     26   8.420e+00      357.40s"
       ]
      },
      {
       "html": [
        "<pre>PROGRESS:     27   8.416e+00      372.23s</pre>"
       ],
       "metadata": {},
       "output_type": "display_data",
       "text": [
        "PROGRESS:     27   8.416e+00      372.23s"
       ]
      },
      {
       "html": [
        "<pre>PROGRESS:     28   8.413e+00      388.93s</pre>"
       ],
       "metadata": {},
       "output_type": "display_data",
       "text": [
        "PROGRESS:     28   8.413e+00      388.93s"
       ]
      },
      {
       "html": [
        "<pre>PROGRESS:     29   8.396e+00      404.39s</pre>"
       ],
       "metadata": {},
       "output_type": "display_data",
       "text": [
        "PROGRESS:     29   8.396e+00      404.39s"
       ]
      },
      {
       "html": [
        "<pre>PROGRESS:     30   8.394e+00      418.30s</pre>"
       ],
       "metadata": {},
       "output_type": "display_data",
       "text": [
        "PROGRESS:     30   8.394e+00      418.30s"
       ]
      },
      {
       "html": [
        "<pre>PROGRESS:     31   8.387e+00      432.92s</pre>"
       ],
       "metadata": {},
       "output_type": "display_data",
       "text": [
        "PROGRESS:     31   8.387e+00      432.92s"
       ]
      },
      {
       "html": [
        "<pre>PROGRESS:     32   8.376e+00      450.38s</pre>"
       ],
       "metadata": {},
       "output_type": "display_data",
       "text": [
        "PROGRESS:     32   8.376e+00      450.38s"
       ]
      },
      {
       "html": [
        "<pre>PROGRESS:     33   8.369e+00      469.84s</pre>"
       ],
       "metadata": {},
       "output_type": "display_data",
       "text": [
        "PROGRESS:     33   8.369e+00      469.84s"
       ]
      },
      {
       "html": [
        "<pre>PROGRESS:     34   8.365e+00      486.44s</pre>"
       ],
       "metadata": {},
       "output_type": "display_data",
       "text": [
        "PROGRESS:     34   8.365e+00      486.44s"
       ]
      },
      {
       "html": [
        "<pre>PROGRESS:     35   8.362e+00      506.83s</pre>"
       ],
       "metadata": {},
       "output_type": "display_data",
       "text": [
        "PROGRESS:     35   8.362e+00      506.83s"
       ]
      },
      {
       "html": [
        "<pre>PROGRESS:     36   8.360e+00      526.52s</pre>"
       ],
       "metadata": {},
       "output_type": "display_data",
       "text": [
        "PROGRESS:     36   8.360e+00      526.52s"
       ]
      },
      {
       "html": [
        "<pre>PROGRESS:     37   8.358e+00      546.41s</pre>"
       ],
       "metadata": {},
       "output_type": "display_data",
       "text": [
        "PROGRESS:     37   8.358e+00      546.41s"
       ]
      },
      {
       "html": [
        "<pre>PROGRESS:     38   8.352e+00      563.88s</pre>"
       ],
       "metadata": {},
       "output_type": "display_data",
       "text": [
        "PROGRESS:     38   8.352e+00      563.88s"
       ]
      },
      {
       "html": [
        "<pre>PROGRESS:     39   8.349e+00      580.75s</pre>"
       ],
       "metadata": {},
       "output_type": "display_data",
       "text": [
        "PROGRESS:     39   8.349e+00      580.75s"
       ]
      },
      {
       "html": [
        "<pre>PROGRESS:     40   8.344e+00      597.48s</pre>"
       ],
       "metadata": {},
       "output_type": "display_data",
       "text": [
        "PROGRESS:     40   8.344e+00      597.48s"
       ]
      },
      {
       "html": [
        "<pre>PROGRESS:     41   8.336e+00      612.78s</pre>"
       ],
       "metadata": {},
       "output_type": "display_data",
       "text": [
        "PROGRESS:     41   8.336e+00      612.78s"
       ]
      },
      {
       "html": [
        "<pre>PROGRESS:     42   8.332e+00      623.11s</pre>"
       ],
       "metadata": {},
       "output_type": "display_data",
       "text": [
        "PROGRESS:     42   8.332e+00      623.11s"
       ]
      },
      {
       "html": [
        "<pre>PROGRESS:     43   8.330e+00      634.24s</pre>"
       ],
       "metadata": {},
       "output_type": "display_data",
       "text": [
        "PROGRESS:     43   8.330e+00      634.24s"
       ]
      },
      {
       "html": [
        "<pre>PROGRESS:     44   8.318e+00      648.35s</pre>"
       ],
       "metadata": {},
       "output_type": "display_data",
       "text": [
        "PROGRESS:     44   8.318e+00      648.35s"
       ]
      },
      {
       "html": [
        "<pre>PROGRESS:     45   8.317e+00      665.15s</pre>"
       ],
       "metadata": {},
       "output_type": "display_data",
       "text": [
        "PROGRESS:     45   8.317e+00      665.15s"
       ]
      },
      {
       "html": [
        "<pre>PROGRESS:     46   8.317e+00      687.86s</pre>"
       ],
       "metadata": {},
       "output_type": "display_data",
       "text": [
        "PROGRESS:     46   8.317e+00      687.86s"
       ]
      },
      {
       "html": [
        "<pre>PROGRESS:     47   8.314e+00      709.28s</pre>"
       ],
       "metadata": {},
       "output_type": "display_data",
       "text": [
        "PROGRESS:     47   8.314e+00      709.28s"
       ]
      },
      {
       "html": [
        "<pre>PROGRESS:     48   8.309e+00      730.22s</pre>"
       ],
       "metadata": {},
       "output_type": "display_data",
       "text": [
        "PROGRESS:     48   8.309e+00      730.22s"
       ]
      },
      {
       "html": [
        "<pre>PROGRESS:     49   8.306e+00      750.02s</pre>"
       ],
       "metadata": {},
       "output_type": "display_data",
       "text": [
        "PROGRESS:     49   8.306e+00      750.02s"
       ]
      },
      {
       "html": [
        "<pre>PROGRESS:     50   8.302e+00      765.98s</pre>"
       ],
       "metadata": {},
       "output_type": "display_data",
       "text": [
        "PROGRESS:     50   8.302e+00      765.98s"
       ]
      },
      {
       "html": [
        "<pre>PROGRESS:     51   8.297e+00      781.21s</pre>"
       ],
       "metadata": {},
       "output_type": "display_data",
       "text": [
        "PROGRESS:     51   8.297e+00      781.21s"
       ]
      },
      {
       "html": [
        "<pre>PROGRESS:     52   8.295e+00      792.21s</pre>"
       ],
       "metadata": {},
       "output_type": "display_data",
       "text": [
        "PROGRESS:     52   8.295e+00      792.21s"
       ]
      },
      {
       "html": [
        "<pre>PROGRESS:     53   8.292e+00      804.32s</pre>"
       ],
       "metadata": {},
       "output_type": "display_data",
       "text": [
        "PROGRESS:     53   8.292e+00      804.32s"
       ]
      },
      {
       "html": [
        "<pre>PROGRESS:     54   8.288e+00      817.07s</pre>"
       ],
       "metadata": {},
       "output_type": "display_data",
       "text": [
        "PROGRESS:     54   8.288e+00      817.07s"
       ]
      },
      {
       "html": [
        "<pre>PROGRESS:     55   8.284e+00      831.00s</pre>"
       ],
       "metadata": {},
       "output_type": "display_data",
       "text": [
        "PROGRESS:     55   8.284e+00      831.00s"
       ]
      },
      {
       "html": [
        "<pre>PROGRESS:     56   8.268e+00      846.25s</pre>"
       ],
       "metadata": {},
       "output_type": "display_data",
       "text": [
        "PROGRESS:     56   8.268e+00      846.25s"
       ]
      },
      {
       "html": [
        "<pre>PROGRESS:     57   8.264e+00      863.67s</pre>"
       ],
       "metadata": {},
       "output_type": "display_data",
       "text": [
        "PROGRESS:     57   8.264e+00      863.67s"
       ]
      },
      {
       "html": [
        "<pre>PROGRESS:     58   8.262e+00      881.24s</pre>"
       ],
       "metadata": {},
       "output_type": "display_data",
       "text": [
        "PROGRESS:     58   8.262e+00      881.24s"
       ]
      },
      {
       "html": [
        "<pre>PROGRESS:     59   8.259e+00      900.58s</pre>"
       ],
       "metadata": {},
       "output_type": "display_data",
       "text": [
        "PROGRESS:     59   8.259e+00      900.58s"
       ]
      },
      {
       "html": [
        "<pre>PROGRESS:     60   8.258e+00      915.81s</pre>"
       ],
       "metadata": {},
       "output_type": "display_data",
       "text": [
        "PROGRESS:     60   8.258e+00      915.81s"
       ]
      },
      {
       "html": [
        "<pre>PROGRESS:     61   8.255e+00      931.10s</pre>"
       ],
       "metadata": {},
       "output_type": "display_data",
       "text": [
        "PROGRESS:     61   8.255e+00      931.10s"
       ]
      },
      {
       "html": [
        "<pre>PROGRESS:     62   8.252e+00      942.48s</pre>"
       ],
       "metadata": {},
       "output_type": "display_data",
       "text": [
        "PROGRESS:     62   8.252e+00      942.48s"
       ]
      },
      {
       "html": [
        "<pre>PROGRESS:     63   8.248e+00      952.68s</pre>"
       ],
       "metadata": {},
       "output_type": "display_data",
       "text": [
        "PROGRESS:     63   8.248e+00      952.68s"
       ]
      },
      {
       "html": [
        "<pre>PROGRESS:     64   8.244e+00      964.81s</pre>"
       ],
       "metadata": {},
       "output_type": "display_data",
       "text": [
        "PROGRESS:     64   8.244e+00      964.81s"
       ]
      },
      {
       "html": [
        "<pre>PROGRESS:     65   8.240e+00      975.74s</pre>"
       ],
       "metadata": {},
       "output_type": "display_data",
       "text": [
        "PROGRESS:     65   8.240e+00      975.74s"
       ]
      },
      {
       "html": [
        "<pre>PROGRESS:     66   8.238e+00      987.60s</pre>"
       ],
       "metadata": {},
       "output_type": "display_data",
       "text": [
        "PROGRESS:     66   8.238e+00      987.60s"
       ]
      },
      {
       "html": [
        "<pre>PROGRESS:     67   8.231e+00      998.81s</pre>"
       ],
       "metadata": {},
       "output_type": "display_data",
       "text": [
        "PROGRESS:     67   8.231e+00      998.81s"
       ]
      },
      {
       "html": [
        "<pre>PROGRESS:     68   8.229e+00     1010.94s</pre>"
       ],
       "metadata": {},
       "output_type": "display_data",
       "text": [
        "PROGRESS:     68   8.229e+00     1010.94s"
       ]
      },
      {
       "html": [
        "<pre>PROGRESS:     69   8.227e+00     1021.31s</pre>"
       ],
       "metadata": {},
       "output_type": "display_data",
       "text": [
        "PROGRESS:     69   8.227e+00     1021.31s"
       ]
      },
      {
       "html": [
        "<pre>PROGRESS:     70   8.222e+00     1031.99s</pre>"
       ],
       "metadata": {},
       "output_type": "display_data",
       "text": [
        "PROGRESS:     70   8.222e+00     1031.99s"
       ]
      },
      {
       "html": [
        "<pre>PROGRESS:     71   8.222e+00     1042.69s</pre>"
       ],
       "metadata": {},
       "output_type": "display_data",
       "text": [
        "PROGRESS:     71   8.222e+00     1042.69s"
       ]
      },
      {
       "html": [
        "<pre>PROGRESS:     72   8.217e+00     1054.87s</pre>"
       ],
       "metadata": {},
       "output_type": "display_data",
       "text": [
        "PROGRESS:     72   8.217e+00     1054.87s"
       ]
      },
      {
       "html": [
        "<pre>PROGRESS:     73   8.212e+00     1066.99s</pre>"
       ],
       "metadata": {},
       "output_type": "display_data",
       "text": [
        "PROGRESS:     73   8.212e+00     1066.99s"
       ]
      },
      {
       "html": [
        "<pre>PROGRESS:     74   8.208e+00     1083.25s</pre>"
       ],
       "metadata": {},
       "output_type": "display_data",
       "text": [
        "PROGRESS:     74   8.208e+00     1083.25s"
       ]
      },
      {
       "html": [
        "<pre>PROGRESS:     75   8.201e+00     1096.07s</pre>"
       ],
       "metadata": {},
       "output_type": "display_data",
       "text": [
        "PROGRESS:     75   8.201e+00     1096.07s"
       ]
      },
      {
       "html": [
        "<pre>PROGRESS:     76   8.186e+00     1111.97s</pre>"
       ],
       "metadata": {},
       "output_type": "display_data",
       "text": [
        "PROGRESS:     76   8.186e+00     1111.97s"
       ]
      },
      {
       "html": [
        "<pre>PROGRESS:     77   8.168e+00     1130.48s</pre>"
       ],
       "metadata": {},
       "output_type": "display_data",
       "text": [
        "PROGRESS:     77   8.168e+00     1130.48s"
       ]
      },
      {
       "html": [
        "<pre>PROGRESS:     78   8.164e+00     1148.39s</pre>"
       ],
       "metadata": {},
       "output_type": "display_data",
       "text": [
        "PROGRESS:     78   8.164e+00     1148.39s"
       ]
      },
      {
       "html": [
        "<pre>PROGRESS:     79   8.161e+00     1165.56s</pre>"
       ],
       "metadata": {},
       "output_type": "display_data",
       "text": [
        "PROGRESS:     79   8.161e+00     1165.56s"
       ]
      },
      {
       "html": [
        "<pre>PROGRESS:     80   8.150e+00     1185.01s</pre>"
       ],
       "metadata": {},
       "output_type": "display_data",
       "text": [
        "PROGRESS:     80   8.150e+00     1185.01s"
       ]
      },
      {
       "html": [
        "<pre>PROGRESS:     81   8.145e+00     1202.57s</pre>"
       ],
       "metadata": {},
       "output_type": "display_data",
       "text": [
        "PROGRESS:     81   8.145e+00     1202.57s"
       ]
      },
      {
       "html": [
        "<pre>PROGRESS:     82   8.144e+00     1217.62s</pre>"
       ],
       "metadata": {},
       "output_type": "display_data",
       "text": [
        "PROGRESS:     82   8.144e+00     1217.62s"
       ]
      },
      {
       "html": [
        "<pre>PROGRESS:     83   8.142e+00     1228.74s</pre>"
       ],
       "metadata": {},
       "output_type": "display_data",
       "text": [
        "PROGRESS:     83   8.142e+00     1228.74s"
       ]
      },
      {
       "html": [
        "<pre>PROGRESS:     84   8.142e+00     1243.17s</pre>"
       ],
       "metadata": {},
       "output_type": "display_data",
       "text": [
        "PROGRESS:     84   8.142e+00     1243.17s"
       ]
      },
      {
       "html": [
        "<pre>PROGRESS:     85   8.141e+00     1254.72s</pre>"
       ],
       "metadata": {},
       "output_type": "display_data",
       "text": [
        "PROGRESS:     85   8.141e+00     1254.72s"
       ]
      },
      {
       "html": [
        "<pre>PROGRESS:     86   8.138e+00     1267.51s</pre>"
       ],
       "metadata": {},
       "output_type": "display_data",
       "text": [
        "PROGRESS:     86   8.138e+00     1267.51s"
       ]
      },
      {
       "html": [
        "<pre>PROGRESS:     87   8.133e+00     1286.63s</pre>"
       ],
       "metadata": {},
       "output_type": "display_data",
       "text": [
        "PROGRESS:     87   8.133e+00     1286.63s"
       ]
      },
      {
       "html": [
        "<pre>PROGRESS:     88   8.128e+00     1303.28s</pre>"
       ],
       "metadata": {},
       "output_type": "display_data",
       "text": [
        "PROGRESS:     88   8.128e+00     1303.28s"
       ]
      },
      {
       "html": [
        "<pre>PROGRESS:     89   8.125e+00     1319.45s</pre>"
       ],
       "metadata": {},
       "output_type": "display_data",
       "text": [
        "PROGRESS:     89   8.125e+00     1319.45s"
       ]
      },
      {
       "html": [
        "<pre>PROGRESS:     90   8.123e+00     1337.80s</pre>"
       ],
       "metadata": {},
       "output_type": "display_data",
       "text": [
        "PROGRESS:     90   8.123e+00     1337.80s"
       ]
      },
      {
       "html": [
        "<pre>PROGRESS:     91   8.121e+00     1357.93s</pre>"
       ],
       "metadata": {},
       "output_type": "display_data",
       "text": [
        "PROGRESS:     91   8.121e+00     1357.93s"
       ]
      },
      {
       "html": [
        "<pre>PROGRESS:     92   8.120e+00     1378.46s</pre>"
       ],
       "metadata": {},
       "output_type": "display_data",
       "text": [
        "PROGRESS:     92   8.120e+00     1378.46s"
       ]
      },
      {
       "html": [
        "<pre>PROGRESS:     93   8.116e+00     1397.42s</pre>"
       ],
       "metadata": {},
       "output_type": "display_data",
       "text": [
        "PROGRESS:     93   8.116e+00     1397.42s"
       ]
      },
      {
       "html": [
        "<pre>PROGRESS:     94   8.112e+00     1410.35s</pre>"
       ],
       "metadata": {},
       "output_type": "display_data",
       "text": [
        "PROGRESS:     94   8.112e+00     1410.35s"
       ]
      },
      {
       "html": [
        "<pre>PROGRESS:     95   8.110e+00     1422.94s</pre>"
       ],
       "metadata": {},
       "output_type": "display_data",
       "text": [
        "PROGRESS:     95   8.110e+00     1422.94s"
       ]
      },
      {
       "html": [
        "<pre>PROGRESS:     96   8.106e+00     1436.76s</pre>"
       ],
       "metadata": {},
       "output_type": "display_data",
       "text": [
        "PROGRESS:     96   8.106e+00     1436.76s"
       ]
      },
      {
       "html": [
        "<pre>PROGRESS:     97   8.075e+00     1450.97s</pre>"
       ],
       "metadata": {},
       "output_type": "display_data",
       "text": [
        "PROGRESS:     97   8.075e+00     1450.97s"
       ]
      },
      {
       "html": [
        "<pre>PROGRESS:     98   8.073e+00     1464.78s</pre>"
       ],
       "metadata": {},
       "output_type": "display_data",
       "text": [
        "PROGRESS:     98   8.073e+00     1464.78s"
       ]
      },
      {
       "html": [
        "<pre>PROGRESS:     99   8.071e+00     1482.56s</pre>"
       ],
       "metadata": {},
       "output_type": "display_data",
       "text": [
        "PROGRESS:     99   8.071e+00     1482.56s"
       ]
      }
     ],
     "prompt_number": 56
    },
    {
     "cell_type": "code",
     "collapsed": false,
     "input": [
      "model = gl.boosted_trees_regression.create(training, target='units', features=features, max_iterations=100)\n",
      "print model.summary()"
     ],
     "language": "python",
     "metadata": {},
     "outputs": [
      {
       "html": [
        "<pre>PROGRESS: Boosted trees regression:</pre>"
       ],
       "metadata": {},
       "output_type": "display_data",
       "text": [
        "PROGRESS: Boosted trees regression:"
       ]
      },
      {
       "html": [
        "<pre>PROGRESS: --------------------------------------------------------</pre>"
       ],
       "metadata": {},
       "output_type": "display_data",
       "text": [
        "PROGRESS: --------------------------------------------------------"
       ]
      },
      {
       "html": [
        "<pre>PROGRESS: Number of examples          : 4617600</pre>"
       ],
       "metadata": {},
       "output_type": "display_data",
       "text": [
        "PROGRESS: Number of examples          : 4617600"
       ]
      },
      {
       "html": [
        "<pre>PROGRESS: Number of features          : 45</pre>"
       ],
       "metadata": {},
       "output_type": "display_data",
       "text": [
        "PROGRESS: Number of features          : 45"
       ]
      },
      {
       "html": [
        "<pre>PROGRESS: Number of unpacked features : 45</pre>"
       ],
       "metadata": {},
       "output_type": "display_data",
       "text": [
        "PROGRESS: Number of unpacked features : 45"
       ]
      },
      {
       "html": [
        "<pre>PROGRESS: Starting Boosted Trees</pre>"
       ],
       "metadata": {},
       "output_type": "display_data",
       "text": [
        "PROGRESS: Starting Boosted Trees"
       ]
      },
      {
       "html": [
        "<pre>PROGRESS: --------------------------------------------------------</pre>"
       ],
       "metadata": {},
       "output_type": "display_data",
       "text": [
        "PROGRESS: --------------------------------------------------------"
       ]
      },
      {
       "html": [
        "<pre>PROGRESS:   Iter        RMSE Elapsed time</pre>"
       ],
       "metadata": {},
       "output_type": "display_data",
       "text": [
        "PROGRESS:   Iter        RMSE Elapsed time"
       ]
      },
      {
       "html": [
        "<pre>PROGRESS:      0   9.302e+00       21.78s</pre>"
       ],
       "metadata": {},
       "output_type": "display_data",
       "text": [
        "PROGRESS:      0   9.302e+00       21.78s"
       ]
      },
      {
       "html": [
        "<pre>PROGRESS:      1   8.992e+00       34.04s</pre>"
       ],
       "metadata": {},
       "output_type": "display_data",
       "text": [
        "PROGRESS:      1   8.992e+00       34.04s"
       ]
      },
      {
       "html": [
        "<pre>PROGRESS:      2   8.819e+00       46.21s</pre>"
       ],
       "metadata": {},
       "output_type": "display_data",
       "text": [
        "PROGRESS:      2   8.819e+00       46.21s"
       ]
      },
      {
       "html": [
        "<pre>PROGRESS:      3   8.727e+00       57.59s</pre>"
       ],
       "metadata": {},
       "output_type": "display_data",
       "text": [
        "PROGRESS:      3   8.727e+00       57.59s"
       ]
      },
      {
       "html": [
        "<pre>PROGRESS:      4   8.680e+00       69.98s</pre>"
       ],
       "metadata": {},
       "output_type": "display_data",
       "text": [
        "PROGRESS:      4   8.680e+00       69.98s"
       ]
      },
      {
       "html": [
        "<pre>PROGRESS:      5   8.640e+00       84.88s</pre>"
       ],
       "metadata": {},
       "output_type": "display_data",
       "text": [
        "PROGRESS:      5   8.640e+00       84.88s"
       ]
      },
      {
       "html": [
        "<pre>PROGRESS:      6   8.616e+00       98.06s</pre>"
       ],
       "metadata": {},
       "output_type": "display_data",
       "text": [
        "PROGRESS:      6   8.616e+00       98.06s"
       ]
      },
      {
       "html": [
        "<pre>PROGRESS:      7   8.602e+00      110.74s</pre>"
       ],
       "metadata": {},
       "output_type": "display_data",
       "text": [
        "PROGRESS:      7   8.602e+00      110.74s"
       ]
      },
      {
       "html": [
        "<pre>PROGRESS:      8   8.587e+00      122.21s</pre>"
       ],
       "metadata": {},
       "output_type": "display_data",
       "text": [
        "PROGRESS:      8   8.587e+00      122.21s"
       ]
      },
      {
       "html": [
        "<pre>PROGRESS:      9   8.578e+00      136.12s</pre>"
       ],
       "metadata": {},
       "output_type": "display_data",
       "text": [
        "PROGRESS:      9   8.578e+00      136.12s"
       ]
      },
      {
       "html": [
        "<pre>PROGRESS:     10   8.564e+00      148.71s</pre>"
       ],
       "metadata": {},
       "output_type": "display_data",
       "text": [
        "PROGRESS:     10   8.564e+00      148.71s"
       ]
      },
      {
       "html": [
        "<pre>PROGRESS:     11   8.556e+00      161.30s</pre>"
       ],
       "metadata": {},
       "output_type": "display_data",
       "text": [
        "PROGRESS:     11   8.556e+00      161.30s"
       ]
      },
      {
       "html": [
        "<pre>PROGRESS:     12   8.552e+00      174.72s</pre>"
       ],
       "metadata": {},
       "output_type": "display_data",
       "text": [
        "PROGRESS:     12   8.552e+00      174.72s"
       ]
      },
      {
       "html": [
        "<pre>PROGRESS:     13   8.516e+00      188.41s</pre>"
       ],
       "metadata": {},
       "output_type": "display_data",
       "text": [
        "PROGRESS:     13   8.516e+00      188.41s"
       ]
      },
      {
       "html": [
        "<pre>PROGRESS:     14   8.506e+00      198.59s</pre>"
       ],
       "metadata": {},
       "output_type": "display_data",
       "text": [
        "PROGRESS:     14   8.506e+00      198.59s"
       ]
      },
      {
       "html": [
        "<pre>PROGRESS:     15   8.500e+00      210.61s</pre>"
       ],
       "metadata": {},
       "output_type": "display_data",
       "text": [
        "PROGRESS:     15   8.500e+00      210.61s"
       ]
      },
      {
       "html": [
        "<pre>PROGRESS:     16   8.484e+00      221.76s</pre>"
       ],
       "metadata": {},
       "output_type": "display_data",
       "text": [
        "PROGRESS:     16   8.484e+00      221.76s"
       ]
      },
      {
       "html": [
        "<pre>PROGRESS:     17   8.480e+00      234.19s</pre>"
       ],
       "metadata": {},
       "output_type": "display_data",
       "text": [
        "PROGRESS:     17   8.480e+00      234.19s"
       ]
      },
      {
       "html": [
        "<pre>PROGRESS:     18   8.471e+00      244.35s</pre>"
       ],
       "metadata": {},
       "output_type": "display_data",
       "text": [
        "PROGRESS:     18   8.471e+00      244.35s"
       ]
      },
      {
       "html": [
        "<pre>PROGRESS:     19   8.468e+00      256.70s</pre>"
       ],
       "metadata": {},
       "output_type": "display_data",
       "text": [
        "PROGRESS:     19   8.468e+00      256.70s"
       ]
      },
      {
       "html": [
        "<pre>PROGRESS:     20   8.409e+00      268.98s</pre>"
       ],
       "metadata": {},
       "output_type": "display_data",
       "text": [
        "PROGRESS:     20   8.409e+00      268.98s"
       ]
      },
      {
       "html": [
        "<pre>PROGRESS:     21   8.394e+00      280.46s</pre>"
       ],
       "metadata": {},
       "output_type": "display_data",
       "text": [
        "PROGRESS:     21   8.394e+00      280.46s"
       ]
      },
      {
       "html": [
        "<pre>PROGRESS:     22   8.389e+00      293.28s</pre>"
       ],
       "metadata": {},
       "output_type": "display_data",
       "text": [
        "PROGRESS:     22   8.389e+00      293.28s"
       ]
      },
      {
       "html": [
        "<pre>PROGRESS:     23   8.385e+00      305.93s</pre>"
       ],
       "metadata": {},
       "output_type": "display_data",
       "text": [
        "PROGRESS:     23   8.385e+00      305.93s"
       ]
      },
      {
       "html": [
        "<pre>PROGRESS:     24   8.381e+00      318.86s</pre>"
       ],
       "metadata": {},
       "output_type": "display_data",
       "text": [
        "PROGRESS:     24   8.381e+00      318.86s"
       ]
      },
      {
       "html": [
        "<pre>PROGRESS:     25   8.375e+00      330.12s</pre>"
       ],
       "metadata": {},
       "output_type": "display_data",
       "text": [
        "PROGRESS:     25   8.375e+00      330.12s"
       ]
      },
      {
       "html": [
        "<pre>PROGRESS:     26   8.371e+00      342.34s</pre>"
       ],
       "metadata": {},
       "output_type": "display_data",
       "text": [
        "PROGRESS:     26   8.371e+00      342.34s"
       ]
      },
      {
       "html": [
        "<pre>PROGRESS:     27   8.368e+00      355.01s</pre>"
       ],
       "metadata": {},
       "output_type": "display_data",
       "text": [
        "PROGRESS:     27   8.368e+00      355.01s"
       ]
      },
      {
       "html": [
        "<pre>PROGRESS:     28   8.367e+00      367.30s</pre>"
       ],
       "metadata": {},
       "output_type": "display_data",
       "text": [
        "PROGRESS:     28   8.367e+00      367.30s"
       ]
      },
      {
       "html": [
        "<pre>PROGRESS:     29   8.359e+00      378.71s</pre>"
       ],
       "metadata": {},
       "output_type": "display_data",
       "text": [
        "PROGRESS:     29   8.359e+00      378.71s"
       ]
      },
      {
       "html": [
        "<pre>PROGRESS:     30   8.356e+00      390.20s</pre>"
       ],
       "metadata": {},
       "output_type": "display_data",
       "text": [
        "PROGRESS:     30   8.356e+00      390.20s"
       ]
      },
      {
       "html": [
        "<pre>PROGRESS:     31   8.351e+00      404.10s</pre>"
       ],
       "metadata": {},
       "output_type": "display_data",
       "text": [
        "PROGRESS:     31   8.351e+00      404.10s"
       ]
      },
      {
       "html": [
        "<pre>PROGRESS:     32   8.345e+00      417.21s</pre>"
       ],
       "metadata": {},
       "output_type": "display_data",
       "text": [
        "PROGRESS:     32   8.345e+00      417.21s"
       ]
      },
      {
       "html": [
        "<pre>PROGRESS:     33   8.340e+00      429.86s</pre>"
       ],
       "metadata": {},
       "output_type": "display_data",
       "text": [
        "PROGRESS:     33   8.340e+00      429.86s"
       ]
      },
      {
       "html": [
        "<pre>PROGRESS:     34   8.329e+00      441.54s</pre>"
       ],
       "metadata": {},
       "output_type": "display_data",
       "text": [
        "PROGRESS:     34   8.329e+00      441.54s"
       ]
      },
      {
       "html": [
        "<pre>PROGRESS:     35   8.325e+00      454.59s</pre>"
       ],
       "metadata": {},
       "output_type": "display_data",
       "text": [
        "PROGRESS:     35   8.325e+00      454.59s"
       ]
      },
      {
       "html": [
        "<pre>PROGRESS:     36   8.314e+00      467.67s</pre>"
       ],
       "metadata": {},
       "output_type": "display_data",
       "text": [
        "PROGRESS:     36   8.314e+00      467.67s"
       ]
      },
      {
       "html": [
        "<pre>PROGRESS:     37   8.309e+00      480.97s</pre>"
       ],
       "metadata": {},
       "output_type": "display_data",
       "text": [
        "PROGRESS:     37   8.309e+00      480.97s"
       ]
      },
      {
       "html": [
        "<pre>PROGRESS:     38   8.307e+00      493.22s</pre>"
       ],
       "metadata": {},
       "output_type": "display_data",
       "text": [
        "PROGRESS:     38   8.307e+00      493.22s"
       ]
      },
      {
       "html": [
        "<pre>PROGRESS:     39   8.297e+00      504.46s</pre>"
       ],
       "metadata": {},
       "output_type": "display_data",
       "text": [
        "PROGRESS:     39   8.297e+00      504.46s"
       ]
      },
      {
       "html": [
        "<pre>PROGRESS:     40   8.292e+00      517.35s</pre>"
       ],
       "metadata": {},
       "output_type": "display_data",
       "text": [
        "PROGRESS:     40   8.292e+00      517.35s"
       ]
      },
      {
       "html": [
        "<pre>PROGRESS:     41   8.289e+00      529.85s</pre>"
       ],
       "metadata": {},
       "output_type": "display_data",
       "text": [
        "PROGRESS:     41   8.289e+00      529.85s"
       ]
      },
      {
       "html": [
        "<pre>PROGRESS:     42   8.288e+00      541.34s</pre>"
       ],
       "metadata": {},
       "output_type": "display_data",
       "text": [
        "PROGRESS:     42   8.288e+00      541.34s"
       ]
      },
      {
       "html": [
        "<pre>PROGRESS:     43   8.286e+00      553.01s</pre>"
       ],
       "metadata": {},
       "output_type": "display_data",
       "text": [
        "PROGRESS:     43   8.286e+00      553.01s"
       ]
      },
      {
       "html": [
        "<pre>PROGRESS:     44   8.284e+00      565.15s</pre>"
       ],
       "metadata": {},
       "output_type": "display_data",
       "text": [
        "PROGRESS:     44   8.284e+00      565.15s"
       ]
      },
      {
       "html": [
        "<pre>PROGRESS:     45   8.283e+00      576.36s</pre>"
       ],
       "metadata": {},
       "output_type": "display_data",
       "text": [
        "PROGRESS:     45   8.283e+00      576.36s"
       ]
      },
      {
       "html": [
        "<pre>PROGRESS:     46   8.278e+00      587.87s</pre>"
       ],
       "metadata": {},
       "output_type": "display_data",
       "text": [
        "PROGRESS:     46   8.278e+00      587.87s"
       ]
      },
      {
       "html": [
        "<pre>PROGRESS:     47   8.274e+00      599.99s</pre>"
       ],
       "metadata": {},
       "output_type": "display_data",
       "text": [
        "PROGRESS:     47   8.274e+00      599.99s"
       ]
      },
      {
       "html": [
        "<pre>PROGRESS:     48   8.266e+00      610.88s</pre>"
       ],
       "metadata": {},
       "output_type": "display_data",
       "text": [
        "PROGRESS:     48   8.266e+00      610.88s"
       ]
      },
      {
       "html": [
        "<pre>PROGRESS:     49   8.263e+00      623.22s</pre>"
       ],
       "metadata": {},
       "output_type": "display_data",
       "text": [
        "PROGRESS:     49   8.263e+00      623.22s"
       ]
      },
      {
       "html": [
        "<pre>PROGRESS:     50   8.257e+00      635.02s</pre>"
       ],
       "metadata": {},
       "output_type": "display_data",
       "text": [
        "PROGRESS:     50   8.257e+00      635.02s"
       ]
      },
      {
       "html": [
        "<pre>PROGRESS:     51   8.254e+00      647.52s</pre>"
       ],
       "metadata": {},
       "output_type": "display_data",
       "text": [
        "PROGRESS:     51   8.254e+00      647.52s"
       ]
      },
      {
       "html": [
        "<pre>PROGRESS:     52   8.239e+00      658.01s</pre>"
       ],
       "metadata": {},
       "output_type": "display_data",
       "text": [
        "PROGRESS:     52   8.239e+00      658.01s"
       ]
      },
      {
       "html": [
        "<pre>PROGRESS:     53   8.234e+00      670.29s</pre>"
       ],
       "metadata": {},
       "output_type": "display_data",
       "text": [
        "PROGRESS:     53   8.234e+00      670.29s"
       ]
      },
      {
       "html": [
        "<pre>PROGRESS:     54   8.231e+00      682.26s</pre>"
       ],
       "metadata": {},
       "output_type": "display_data",
       "text": [
        "PROGRESS:     54   8.231e+00      682.26s"
       ]
      },
      {
       "html": [
        "<pre>PROGRESS:     55   8.229e+00      693.37s</pre>"
       ],
       "metadata": {},
       "output_type": "display_data",
       "text": [
        "PROGRESS:     55   8.229e+00      693.37s"
       ]
      },
      {
       "html": [
        "<pre>PROGRESS:     56   8.225e+00      703.84s</pre>"
       ],
       "metadata": {},
       "output_type": "display_data",
       "text": [
        "PROGRESS:     56   8.225e+00      703.84s"
       ]
      },
      {
       "html": [
        "<pre>PROGRESS:     57   8.225e+00      715.88s</pre>"
       ],
       "metadata": {},
       "output_type": "display_data",
       "text": [
        "PROGRESS:     57   8.225e+00      715.88s"
       ]
      },
      {
       "html": [
        "<pre>PROGRESS:     58   8.218e+00      728.04s</pre>"
       ],
       "metadata": {},
       "output_type": "display_data",
       "text": [
        "PROGRESS:     58   8.218e+00      728.04s"
       ]
      },
      {
       "html": [
        "<pre>PROGRESS:     59   8.213e+00      738.87s</pre>"
       ],
       "metadata": {},
       "output_type": "display_data",
       "text": [
        "PROGRESS:     59   8.213e+00      738.87s"
       ]
      },
      {
       "html": [
        "<pre>PROGRESS:     60   8.204e+00      752.43s</pre>"
       ],
       "metadata": {},
       "output_type": "display_data",
       "text": [
        "PROGRESS:     60   8.204e+00      752.43s"
       ]
      },
      {
       "html": [
        "<pre>PROGRESS:     61   8.202e+00      764.91s</pre>"
       ],
       "metadata": {},
       "output_type": "display_data",
       "text": [
        "PROGRESS:     61   8.202e+00      764.91s"
       ]
      },
      {
       "html": [
        "<pre>PROGRESS:     62   8.200e+00      777.03s</pre>"
       ],
       "metadata": {},
       "output_type": "display_data",
       "text": [
        "PROGRESS:     62   8.200e+00      777.03s"
       ]
      },
      {
       "html": [
        "<pre>PROGRESS:     63   8.192e+00      789.51s</pre>"
       ],
       "metadata": {},
       "output_type": "display_data",
       "text": [
        "PROGRESS:     63   8.192e+00      789.51s"
       ]
      },
      {
       "html": [
        "<pre>PROGRESS:     64   8.181e+00      801.87s</pre>"
       ],
       "metadata": {},
       "output_type": "display_data",
       "text": [
        "PROGRESS:     64   8.181e+00      801.87s"
       ]
      },
      {
       "html": [
        "<pre>PROGRESS:     65   8.176e+00      814.21s</pre>"
       ],
       "metadata": {},
       "output_type": "display_data",
       "text": [
        "PROGRESS:     65   8.176e+00      814.21s"
       ]
      },
      {
       "html": [
        "<pre>PROGRESS:     66   8.174e+00      825.15s</pre>"
       ],
       "metadata": {},
       "output_type": "display_data",
       "text": [
        "PROGRESS:     66   8.174e+00      825.15s"
       ]
      },
      {
       "html": [
        "<pre>PROGRESS:     67   8.166e+00      837.13s</pre>"
       ],
       "metadata": {},
       "output_type": "display_data",
       "text": [
        "PROGRESS:     67   8.166e+00      837.13s"
       ]
      },
      {
       "html": [
        "<pre>PROGRESS:     68   8.161e+00      849.63s</pre>"
       ],
       "metadata": {},
       "output_type": "display_data",
       "text": [
        "PROGRESS:     68   8.161e+00      849.63s"
       ]
      },
      {
       "html": [
        "<pre>PROGRESS:     69   8.157e+00      861.49s</pre>"
       ],
       "metadata": {},
       "output_type": "display_data",
       "text": [
        "PROGRESS:     69   8.157e+00      861.49s"
       ]
      },
      {
       "html": [
        "<pre>PROGRESS:     70   8.150e+00      873.42s</pre>"
       ],
       "metadata": {},
       "output_type": "display_data",
       "text": [
        "PROGRESS:     70   8.150e+00      873.42s"
       ]
      },
      {
       "html": [
        "<pre>PROGRESS:     71   8.148e+00      885.39s</pre>"
       ],
       "metadata": {},
       "output_type": "display_data",
       "text": [
        "PROGRESS:     71   8.148e+00      885.39s"
       ]
      },
      {
       "html": [
        "<pre>PROGRESS:     72   8.147e+00      897.76s</pre>"
       ],
       "metadata": {},
       "output_type": "display_data",
       "text": [
        "PROGRESS:     72   8.147e+00      897.76s"
       ]
      },
      {
       "html": [
        "<pre>PROGRESS:     73   8.147e+00      910.51s</pre>"
       ],
       "metadata": {},
       "output_type": "display_data",
       "text": [
        "PROGRESS:     73   8.147e+00      910.51s"
       ]
      },
      {
       "html": [
        "<pre>PROGRESS:     74   8.145e+00      922.68s</pre>"
       ],
       "metadata": {},
       "output_type": "display_data",
       "text": [
        "PROGRESS:     74   8.145e+00      922.68s"
       ]
      },
      {
       "html": [
        "<pre>PROGRESS:     75   8.143e+00      934.21s</pre>"
       ],
       "metadata": {},
       "output_type": "display_data",
       "text": [
        "PROGRESS:     75   8.143e+00      934.21s"
       ]
      },
      {
       "html": [
        "<pre>PROGRESS:     76   8.142e+00      947.09s</pre>"
       ],
       "metadata": {},
       "output_type": "display_data",
       "text": [
        "PROGRESS:     76   8.142e+00      947.09s"
       ]
      },
      {
       "html": [
        "<pre>PROGRESS:     77   8.138e+00      959.71s</pre>"
       ],
       "metadata": {},
       "output_type": "display_data",
       "text": [
        "PROGRESS:     77   8.138e+00      959.71s"
       ]
      },
      {
       "html": [
        "<pre>PROGRESS:     78   8.135e+00      971.47s</pre>"
       ],
       "metadata": {},
       "output_type": "display_data",
       "text": [
        "PROGRESS:     78   8.135e+00      971.47s"
       ]
      },
      {
       "html": [
        "<pre>PROGRESS:     79   8.133e+00      984.23s</pre>"
       ],
       "metadata": {},
       "output_type": "display_data",
       "text": [
        "PROGRESS:     79   8.133e+00      984.23s"
       ]
      },
      {
       "html": [
        "<pre>PROGRESS:     80   8.131e+00      997.23s</pre>"
       ],
       "metadata": {},
       "output_type": "display_data",
       "text": [
        "PROGRESS:     80   8.131e+00      997.23s"
       ]
      },
      {
       "html": [
        "<pre>PROGRESS:     81   8.130e+00     1010.36s</pre>"
       ],
       "metadata": {},
       "output_type": "display_data",
       "text": [
        "PROGRESS:     81   8.130e+00     1010.36s"
       ]
      },
      {
       "html": [
        "<pre>PROGRESS:     82   8.128e+00     1022.80s</pre>"
       ],
       "metadata": {},
       "output_type": "display_data",
       "text": [
        "PROGRESS:     82   8.128e+00     1022.80s"
       ]
      },
      {
       "html": [
        "<pre>PROGRESS:     83   8.127e+00     1034.23s</pre>"
       ],
       "metadata": {},
       "output_type": "display_data",
       "text": [
        "PROGRESS:     83   8.127e+00     1034.23s"
       ]
      },
      {
       "html": [
        "<pre>PROGRESS:     84   8.126e+00     1046.34s</pre>"
       ],
       "metadata": {},
       "output_type": "display_data",
       "text": [
        "PROGRESS:     84   8.126e+00     1046.34s"
       ]
      },
      {
       "html": [
        "<pre>PROGRESS:     85   8.125e+00     1058.32s</pre>"
       ],
       "metadata": {},
       "output_type": "display_data",
       "text": [
        "PROGRESS:     85   8.125e+00     1058.32s"
       ]
      },
      {
       "html": [
        "<pre>PROGRESS:     86   8.123e+00     1070.30s</pre>"
       ],
       "metadata": {},
       "output_type": "display_data",
       "text": [
        "PROGRESS:     86   8.123e+00     1070.30s"
       ]
      },
      {
       "html": [
        "<pre>PROGRESS:     87   8.118e+00     1081.41s</pre>"
       ],
       "metadata": {},
       "output_type": "display_data",
       "text": [
        "PROGRESS:     87   8.118e+00     1081.41s"
       ]
      },
      {
       "html": [
        "<pre>PROGRESS:     88   8.117e+00     1092.51s</pre>"
       ],
       "metadata": {},
       "output_type": "display_data",
       "text": [
        "PROGRESS:     88   8.117e+00     1092.51s"
       ]
      },
      {
       "html": [
        "<pre>PROGRESS:     89   8.115e+00     1103.92s</pre>"
       ],
       "metadata": {},
       "output_type": "display_data",
       "text": [
        "PROGRESS:     89   8.115e+00     1103.92s"
       ]
      },
      {
       "html": [
        "<pre>PROGRESS:     90   8.114e+00     1115.66s</pre>"
       ],
       "metadata": {},
       "output_type": "display_data",
       "text": [
        "PROGRESS:     90   8.114e+00     1115.66s"
       ]
      },
      {
       "html": [
        "<pre>PROGRESS:     91   8.099e+00     1127.33s</pre>"
       ],
       "metadata": {},
       "output_type": "display_data",
       "text": [
        "PROGRESS:     91   8.099e+00     1127.33s"
       ]
      },
      {
       "html": [
        "<pre>PROGRESS:     92   8.096e+00     1139.25s</pre>"
       ],
       "metadata": {},
       "output_type": "display_data",
       "text": [
        "PROGRESS:     92   8.096e+00     1139.25s"
       ]
      },
      {
       "html": [
        "<pre>PROGRESS:     93   8.094e+00     1149.74s</pre>"
       ],
       "metadata": {},
       "output_type": "display_data",
       "text": [
        "PROGRESS:     93   8.094e+00     1149.74s"
       ]
      },
      {
       "html": [
        "<pre>PROGRESS:     94   8.091e+00     1162.00s</pre>"
       ],
       "metadata": {},
       "output_type": "display_data",
       "text": [
        "PROGRESS:     94   8.091e+00     1162.00s"
       ]
      },
      {
       "html": [
        "<pre>PROGRESS:     95   8.090e+00     1173.85s</pre>"
       ],
       "metadata": {},
       "output_type": "display_data",
       "text": [
        "PROGRESS:     95   8.090e+00     1173.85s"
       ]
      },
      {
       "html": [
        "<pre>PROGRESS:     96   8.087e+00     1185.25s</pre>"
       ],
       "metadata": {},
       "output_type": "display_data",
       "text": [
        "PROGRESS:     96   8.087e+00     1185.25s"
       ]
      },
      {
       "html": [
        "<pre>PROGRESS:     97   8.073e+00     1197.34s</pre>"
       ],
       "metadata": {},
       "output_type": "display_data",
       "text": [
        "PROGRESS:     97   8.073e+00     1197.34s"
       ]
      },
      {
       "html": [
        "<pre>PROGRESS:     98   8.069e+00     1209.18s</pre>"
       ],
       "metadata": {},
       "output_type": "display_data",
       "text": [
        "PROGRESS:     98   8.069e+00     1209.18s"
       ]
      },
      {
       "html": [
        "<pre>PROGRESS:     99   8.066e+00     1220.98s</pre>"
       ],
       "metadata": {},
       "output_type": "display_data",
       "text": [
        "PROGRESS:     99   8.066e+00     1220.98s"
       ]
      },
      {
       "output_type": "stream",
       "stream": "stdout",
       "text": [
        "\n",
        "                    Model summary                       \n",
        "--------------------------------------------------------\n",
        "Class                         : BoostedTreesRegression\n",
        "\n",
        "Number of examples            : 4617600\n",
        "Number of feature columns     : 45\n",
        "Number of unpacked features   : 45\n",
        "\n",
        "Number of trees               : 100\n",
        "Max tree depth                : 6\n",
        "Train RMSE                    : 8.0664\n",
        "Validation RMSE               : None\n",
        "Training time (sec)           : 1224.6736\n",
        "\n",
        "None\n"
       ]
      }
     ],
     "prompt_number": 71
    },
    {
     "cell_type": "code",
     "collapsed": false,
     "input": [
      "prediction = model.predict(testing)"
     ],
     "language": "python",
     "metadata": {},
     "outputs": [],
     "prompt_number": 72
    },
    {
     "cell_type": "code",
     "collapsed": false,
     "input": [
      "submission = pd.DataFrame()"
     ],
     "language": "python",
     "metadata": {},
     "outputs": [],
     "prompt_number": 73
    },
    {
     "cell_type": "code",
     "collapsed": false,
     "input": [
      "submission[\"id\"] = testing[[\"store_nbr\", \"item_nbr\", \"date\"]].apply(merge_data)"
     ],
     "language": "python",
     "metadata": {},
     "outputs": [],
     "prompt_number": 74
    },
    {
     "cell_type": "code",
     "collapsed": false,
     "input": [
      "submission[\"units\"] = prediction"
     ],
     "language": "python",
     "metadata": {},
     "outputs": [],
     "prompt_number": 31
    },
    {
     "cell_type": "code",
     "collapsed": false,
     "input": [
      "import pandas as pd\n",
      "result = submission"
     ],
     "language": "python",
     "metadata": {},
     "outputs": [],
     "prompt_number": 32
    },
    {
     "cell_type": "code",
     "collapsed": false,
     "input": [
      "result[\"units\"][result[\"units\"] < 0] = 0\n",
      "result[\"units\"] = result[\"units\"].apply(round).astype(int)\n",
      "result.to_csv(os.path.join(\"predictions\", \"Graphlab_100_gl300.csv\"), index=False)"
     ],
     "language": "python",
     "metadata": {},
     "outputs": [],
     "prompt_number": 34
    },
    {
     "cell_type": "code",
     "collapsed": false,
     "input": [],
     "language": "python",
     "metadata": {},
     "outputs": []
    }
   ],
   "metadata": {}
  }
 ]
}