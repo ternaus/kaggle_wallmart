{
 "cells": [
  {
   "cell_type": "code",
   "execution_count": 1,
   "metadata": {
    "collapsed": false
   },
   "outputs": [],
   "source": [
    "#import libraries\n",
    "import numpy as np\n",
    "import pandas as pd\n",
    "import os"
   ]
  },
  {
   "cell_type": "code",
   "execution_count": 2,
   "metadata": {
    "collapsed": false
   },
   "outputs": [],
   "source": [
    "#read weather dataframe\n",
    "weather = pd.read_csv(os.path.join(\"data\", \"weather.csv\"), na_values=[\"M\", \"-\", \"*\"])"
   ]
  },
  {
   "cell_type": "code",
   "execution_count": 3,
   "metadata": {
    "collapsed": false
   },
   "outputs": [
    {
     "name": "stdout",
     "output_type": "stream",
     "text": [
      "tmax\n",
      "tmin\n",
      "tavg\n",
      "depart\n",
      "dewpoint\n",
      "wetbulb\n",
      "heat\n",
      "cool\n",
      "sunrise\n",
      "sunset\n",
      "snowfall\n",
      "preciptotal\n",
      "stnpressure\n",
      "sealevel\n",
      "resultspeed\n",
      "resultdir\n",
      "avgspeed\n"
     ]
    }
   ],
   "source": [
    "for column in weather.columns:\n",
    "    if sum(weather[column].isnull()) > 0:\n",
    "        print column"
   ]
  },
  {
   "cell_type": "code",
   "execution_count": 4,
   "metadata": {
    "collapsed": false
   },
   "outputs": [],
   "source": [
    "#Fill T values for snowfall with 0.01, meaning something is falling down but not that much\n",
    "def change_snowfall(x):\n",
    "    if x == \"  T\":\n",
    "        return 0.01    \n",
    "    else:\n",
    "        return float(x)\n",
    "    \n",
    "weather[\"snowfall\"] = weather[\"snowfall\"].map(change_snowfall)"
   ]
  },
  {
   "cell_type": "code",
   "execution_count": 5,
   "metadata": {
    "collapsed": false
   },
   "outputs": [],
   "source": [
    "def change_preciptotal(x):\n",
    "    if x == \"  T\":\n",
    "        return 0.01   \n",
    "    else:\n",
    "        return float(x)\n",
    "    \n",
    "weather[\"preciptotal\"] = weather[\"preciptotal\"].map(change_preciptotal)"
   ]
  },
  {
   "cell_type": "code",
   "execution_count": 6,
   "metadata": {
    "collapsed": false
   },
   "outputs": [],
   "source": [
    "#separate codesum column into separate binary columns\n",
    "codesum_columns = set(' '.join(set(weather[\"codesum\"])).strip().split())\n",
    "codesum = pd.DataFrame(index=weather.index, columns=codesum_columns)"
   ]
  },
  {
   "cell_type": "code",
   "execution_count": 7,
   "metadata": {
    "collapsed": false
   },
   "outputs": [],
   "source": [
    "for column in codesum.columns:\n",
    "    for i in range(len(weather.index)):\n",
    "        if column in weather[\"codesum\"][i]:\n",
    "            codesum[column][i] = 1"
   ]
  },
  {
   "cell_type": "code",
   "execution_count": 8,
   "metadata": {
    "collapsed": false
   },
   "outputs": [],
   "source": [
    "#drop initial codesum column\n",
    "weather = weather.drop(\"codesum\", 1)"
   ]
  },
  {
   "cell_type": "code",
   "execution_count": 9,
   "metadata": {
    "collapsed": false
   },
   "outputs": [],
   "source": [
    "weather = weather.join(codesum.fillna(0))"
   ]
  },
  {
   "cell_type": "code",
   "execution_count": 10,
   "metadata": {
    "collapsed": false
   },
   "outputs": [
    {
     "data": {
      "text/html": [
       "<div style=\"max-height:1000px;max-width:1500px;overflow:auto;\">\n",
       "<table border=\"1\" class=\"dataframe\">\n",
       "  <thead>\n",
       "    <tr style=\"text-align: right;\">\n",
       "      <th></th>\n",
       "      <th>station_nbr</th>\n",
       "      <th>date</th>\n",
       "      <th>tmax</th>\n",
       "      <th>tmin</th>\n",
       "      <th>tavg</th>\n",
       "      <th>depart</th>\n",
       "      <th>dewpoint</th>\n",
       "      <th>wetbulb</th>\n",
       "      <th>heat</th>\n",
       "      <th>cool</th>\n",
       "      <th>...</th>\n",
       "      <th>PRFG</th>\n",
       "      <th>FG+</th>\n",
       "      <th>TSRA</th>\n",
       "      <th>FZFG</th>\n",
       "      <th>BLDU</th>\n",
       "      <th>MIFG</th>\n",
       "      <th>SQ</th>\n",
       "      <th>BLSN</th>\n",
       "      <th>SN</th>\n",
       "      <th>SG</th>\n",
       "    </tr>\n",
       "  </thead>\n",
       "  <tbody>\n",
       "    <tr>\n",
       "      <th>0</th>\n",
       "      <td>1</td>\n",
       "      <td>2012-01-01</td>\n",
       "      <td>52</td>\n",
       "      <td>31</td>\n",
       "      <td>42</td>\n",
       "      <td>NaN</td>\n",
       "      <td>36</td>\n",
       "      <td>40</td>\n",
       "      <td>23</td>\n",
       "      <td>0</td>\n",
       "      <td>...</td>\n",
       "      <td>0</td>\n",
       "      <td>0</td>\n",
       "      <td>0</td>\n",
       "      <td>1</td>\n",
       "      <td>0</td>\n",
       "      <td>0</td>\n",
       "      <td>0</td>\n",
       "      <td>0</td>\n",
       "      <td>0</td>\n",
       "      <td>0</td>\n",
       "    </tr>\n",
       "    <tr>\n",
       "      <th>1</th>\n",
       "      <td>2</td>\n",
       "      <td>2012-01-01</td>\n",
       "      <td>48</td>\n",
       "      <td>33</td>\n",
       "      <td>41</td>\n",
       "      <td>16</td>\n",
       "      <td>37</td>\n",
       "      <td>39</td>\n",
       "      <td>24</td>\n",
       "      <td>0</td>\n",
       "      <td>...</td>\n",
       "      <td>0</td>\n",
       "      <td>0</td>\n",
       "      <td>0</td>\n",
       "      <td>0</td>\n",
       "      <td>0</td>\n",
       "      <td>0</td>\n",
       "      <td>0</td>\n",
       "      <td>0</td>\n",
       "      <td>0</td>\n",
       "      <td>0</td>\n",
       "    </tr>\n",
       "    <tr>\n",
       "      <th>2</th>\n",
       "      <td>3</td>\n",
       "      <td>2012-01-01</td>\n",
       "      <td>55</td>\n",
       "      <td>34</td>\n",
       "      <td>45</td>\n",
       "      <td>9</td>\n",
       "      <td>24</td>\n",
       "      <td>36</td>\n",
       "      <td>20</td>\n",
       "      <td>0</td>\n",
       "      <td>...</td>\n",
       "      <td>0</td>\n",
       "      <td>0</td>\n",
       "      <td>0</td>\n",
       "      <td>0</td>\n",
       "      <td>0</td>\n",
       "      <td>0</td>\n",
       "      <td>0</td>\n",
       "      <td>0</td>\n",
       "      <td>0</td>\n",
       "      <td>0</td>\n",
       "    </tr>\n",
       "    <tr>\n",
       "      <th>3</th>\n",
       "      <td>4</td>\n",
       "      <td>2012-01-01</td>\n",
       "      <td>63</td>\n",
       "      <td>47</td>\n",
       "      <td>55</td>\n",
       "      <td>4</td>\n",
       "      <td>28</td>\n",
       "      <td>43</td>\n",
       "      <td>10</td>\n",
       "      <td>0</td>\n",
       "      <td>...</td>\n",
       "      <td>0</td>\n",
       "      <td>0</td>\n",
       "      <td>0</td>\n",
       "      <td>0</td>\n",
       "      <td>0</td>\n",
       "      <td>0</td>\n",
       "      <td>0</td>\n",
       "      <td>0</td>\n",
       "      <td>0</td>\n",
       "      <td>0</td>\n",
       "    </tr>\n",
       "    <tr>\n",
       "      <th>4</th>\n",
       "      <td>6</td>\n",
       "      <td>2012-01-01</td>\n",
       "      <td>63</td>\n",
       "      <td>34</td>\n",
       "      <td>49</td>\n",
       "      <td>0</td>\n",
       "      <td>31</td>\n",
       "      <td>43</td>\n",
       "      <td>16</td>\n",
       "      <td>0</td>\n",
       "      <td>...</td>\n",
       "      <td>0</td>\n",
       "      <td>0</td>\n",
       "      <td>0</td>\n",
       "      <td>0</td>\n",
       "      <td>0</td>\n",
       "      <td>0</td>\n",
       "      <td>0</td>\n",
       "      <td>0</td>\n",
       "      <td>0</td>\n",
       "      <td>0</td>\n",
       "    </tr>\n",
       "  </tbody>\n",
       "</table>\n",
       "<p>5 rows × 47 columns</p>\n",
       "</div>"
      ],
      "text/plain": [
       "   station_nbr        date  tmax  tmin  tavg  depart  dewpoint  wetbulb  heat  \\\n",
       "0            1  2012-01-01    52    31    42     NaN        36       40    23   \n",
       "1            2  2012-01-01    48    33    41      16        37       39    24   \n",
       "2            3  2012-01-01    55    34    45       9        24       36    20   \n",
       "3            4  2012-01-01    63    47    55       4        28       43    10   \n",
       "4            6  2012-01-01    63    34    49       0        31       43    16   \n",
       "\n",
       "   cool ...  PRFG  FG+  TSRA  FZFG  BLDU  MIFG  SQ  BLSN  SN  SG  \n",
       "0     0 ...     0    0     0     1     0     0   0     0   0   0  \n",
       "1     0 ...     0    0     0     0     0     0   0     0   0   0  \n",
       "2     0 ...     0    0     0     0     0     0   0     0   0   0  \n",
       "3     0 ...     0    0     0     0     0     0   0     0   0   0  \n",
       "4     0 ...     0    0     0     0     0     0   0     0   0   0  \n",
       "\n",
       "[5 rows x 47 columns]"
      ]
     },
     "execution_count": 10,
     "metadata": {},
     "output_type": "execute_result"
    }
   ],
   "source": [
    "weather.head()"
   ]
  },
  {
   "cell_type": "code",
   "execution_count": 11,
   "metadata": {
    "collapsed": false
   },
   "outputs": [],
   "source": [
    "def diff_dates_2015(date_x):\n",
    "  date_format = \"%m/%d/%Y\"\n",
    "  x = datetime.strptime(date_x, date_format)\n",
    "  y = datetime.strptime('01/01/2015', date_format)\n",
    "  delta = y - x\n",
    "  return delta.days"
   ]
  },
  {
   "cell_type": "markdown",
   "metadata": {},
   "source": [
    "I am adding column about number of days since beginning of the corresponding year"
   ]
  },
  {
   "cell_type": "code",
   "execution_count": 12,
   "metadata": {
    "collapsed": false
   },
   "outputs": [],
   "source": [
    "from datetime import datetime\n",
    "def get_days(date_x):\n",
    "  date_format = \"%Y-%m-%d\"\n",
    "  x = datetime.strptime(date_x, date_format)\n",
    "  y = datetime.strptime('{year}-01-01'.format(year=x.year), date_format)\n",
    "  delta = x - y\n",
    "  return delta.days"
   ]
  },
  {
   "cell_type": "code",
   "execution_count": 13,
   "metadata": {
    "collapsed": false
   },
   "outputs": [],
   "source": [
    "weather['days'] = weather['date'].map(get_days)"
   ]
  },
  {
   "cell_type": "code",
   "execution_count": 14,
   "metadata": {
    "collapsed": false
   },
   "outputs": [],
   "source": [
    "def in_minutes(x):        \n",
    "    if np.isnan(x):        \n",
    "        return np.nan    \n",
    "    else:\n",
    "        temp = int(x)\n",
    "        if (str(temp)[-2:]) == '60':\n",
    "            temp -= 1        \n",
    "        b = datetime.strptime(str(temp), \"%H%M\")\n",
    "        a = datetime.strptime('0000', \"%H%M\")                    \n",
    "        return (b - a).total_seconds() / 60"
   ]
  },
  {
   "cell_type": "code",
   "execution_count": 15,
   "metadata": {
    "collapsed": false
   },
   "outputs": [],
   "source": [
    "weather[\"sunrise\"] = weather['sunrise'].apply(in_minutes)"
   ]
  },
  {
   "cell_type": "code",
   "execution_count": 16,
   "metadata": {
    "collapsed": true
   },
   "outputs": [],
   "source": [
    "weather[\"sunset\"] = weather['sunset'].apply(in_minutes)"
   ]
  },
  {
   "cell_type": "code",
   "execution_count": 17,
   "metadata": {
    "collapsed": false
   },
   "outputs": [
    {
     "name": "stdout",
     "output_type": "stream",
     "text": [
      "<class 'pandas.core.frame.DataFrame'>\n",
      "Int64Index: 20517 entries, 0 to 20516\n",
      "Data columns (total 48 columns):\n",
      "station_nbr    20517 non-null int64\n",
      "date           20517 non-null object\n",
      "tmax           19611 non-null float64\n",
      "tmin           19609 non-null float64\n",
      "tavg           19048 non-null float64\n",
      "depart         9006 non-null float64\n",
      "dewpoint       19851 non-null float64\n",
      "wetbulb        19265 non-null float64\n",
      "heat           19048 non-null float64\n",
      "cool           19048 non-null float64\n",
      "sunrise        10861 non-null float64\n",
      "sunset         10861 non-null float64\n",
      "snowfall       13293 non-null float64\n",
      "preciptotal    19657 non-null float64\n",
      "stnpressure    19588 non-null float64\n",
      "sealevel       18793 non-null float64\n",
      "resultspeed    19928 non-null float64\n",
      "resultdir      19928 non-null float64\n",
      "avgspeed       19642 non-null float64\n",
      "HZ             20517 non-null int64\n",
      "FU             20517 non-null int64\n",
      "UP             20517 non-null int64\n",
      "TSSN           20517 non-null int64\n",
      "VCTS           20517 non-null int64\n",
      "DZ             20517 non-null int64\n",
      "BR             20517 non-null int64\n",
      "FG             20517 non-null int64\n",
      "BCFG           20517 non-null int64\n",
      "DU             20517 non-null int64\n",
      "FZRA           20517 non-null int64\n",
      "TS             20517 non-null int64\n",
      "RA             20517 non-null int64\n",
      "PL             20517 non-null int64\n",
      "GS             20517 non-null int64\n",
      "GR             20517 non-null int64\n",
      "FZDZ           20517 non-null int64\n",
      "VCFG           20517 non-null int64\n",
      "PRFG           20517 non-null int64\n",
      "FG+            20517 non-null int64\n",
      "TSRA           20517 non-null int64\n",
      "FZFG           20517 non-null int64\n",
      "BLDU           20517 non-null int64\n",
      "MIFG           20517 non-null int64\n",
      "SQ             20517 non-null int64\n",
      "BLSN           20517 non-null int64\n",
      "SN             20517 non-null int64\n",
      "SG             20517 non-null int64\n",
      "days           20517 non-null int64\n",
      "dtypes: float64(17), int64(30), object(1)\n",
      "memory usage: 7.7+ MB\n"
     ]
    }
   ],
   "source": [
    "weather.info()"
   ]
  },
  {
   "cell_type": "code",
   "execution_count": 18,
   "metadata": {
    "collapsed": false
   },
   "outputs": [],
   "source": [
    "#save to file\n",
    "weather.to_csv(os.path.join(\"data\", \"weather_modified_4.csv\"), index=False)"
   ]
  },
  {
   "cell_type": "code",
   "execution_count": null,
   "metadata": {
    "collapsed": false
   },
   "outputs": [],
   "source": []
  }
 ],
 "metadata": {
  "kernelspec": {
   "display_name": "Python 2",
   "language": "python",
   "name": "python2"
  },
  "language_info": {
   "codemirror_mode": {
    "name": "ipython",
    "version": 2
   },
   "file_extension": ".py",
   "mimetype": "text/x-python",
   "name": "python",
   "nbconvert_exporter": "python",
   "pygments_lexer": "ipython2",
   "version": "2.7.9"
  }
 },
 "nbformat": 4,
 "nbformat_minor": 0
}
