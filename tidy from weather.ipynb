{
 "metadata": {
  "name": "",
  "signature": "sha256:e449fe4bd029a554c9126d7cb8a9fb2255322b4c3a7885325e8d8ac69fc1c1df"
 },
 "nbformat": 3,
 "nbformat_minor": 0,
 "worksheets": [
  {
   "cells": [
    {
     "cell_type": "code",
     "collapsed": false,
     "input": [
      "#import libraries\n",
      "import numpy as np\n",
      "import pandas as pd\n",
      "import os"
     ],
     "language": "python",
     "metadata": {},
     "outputs": [],
     "prompt_number": 1
    },
    {
     "cell_type": "code",
     "collapsed": false,
     "input": [
      "#read weather dataframe\n",
      "weather = pd.read_csv(os.path.join(\"data\", \"weather.csv\"), na_values=[\"M\", \"-\", \"*\"])"
     ],
     "language": "python",
     "metadata": {},
     "outputs": [],
     "prompt_number": 2
    },
    {
     "cell_type": "code",
     "collapsed": false,
     "input": [
      "#Fill T values for snowfall with 0.01, meaning something is falling down but not that much\n",
      "def change_snowfall(x):\n",
      "    if x == \"  T\":\n",
      "        return 0.01    \n",
      "    else:\n",
      "        return float(x)\n",
      "    \n",
      "weather[\"snowfall\"] = weather[\"snowfall\"].map(change_snowfall)"
     ],
     "language": "python",
     "metadata": {},
     "outputs": [],
     "prompt_number": 3
    },
    {
     "cell_type": "code",
     "collapsed": false,
     "input": [
      "def change_preciptotal(x):\n",
      "    if x == \"  T\":\n",
      "        return 0.001    \n",
      "    else:\n",
      "        return float(x)\n",
      "    \n",
      "weather[\"preciptotal\"] = weather[\"preciptotal\"].map(change_preciptotal)"
     ],
     "language": "python",
     "metadata": {},
     "outputs": [],
     "prompt_number": 4
    },
    {
     "cell_type": "code",
     "collapsed": false,
     "input": [
      "#separate codesum column into separate binary columns\n",
      "codesum_columns = set(' '.join(set(weather[\"codesum\"])).strip().split())\n",
      "codesum = pd.DataFrame(index=weather.index, columns=codesum_columns)"
     ],
     "language": "python",
     "metadata": {},
     "outputs": [],
     "prompt_number": 5
    },
    {
     "cell_type": "code",
     "collapsed": false,
     "input": [
      "for column in codesum.columns:\n",
      "    for i in range(len(weather.index)):\n",
      "        if column in weather[\"codesum\"][i]:\n",
      "            codesum[column][i] = 1"
     ],
     "language": "python",
     "metadata": {},
     "outputs": [],
     "prompt_number": 6
    },
    {
     "cell_type": "code",
     "collapsed": false,
     "input": [
      "#drop initial codesum column\n",
      "weather = weather.drop(\"codesum\", 1)"
     ],
     "language": "python",
     "metadata": {},
     "outputs": [],
     "prompt_number": 7
    },
    {
     "cell_type": "code",
     "collapsed": false,
     "input": [
      "weather = weather.join(codesum.fillna(0))"
     ],
     "language": "python",
     "metadata": {},
     "outputs": [],
     "prompt_number": 8
    },
    {
     "cell_type": "code",
     "collapsed": false,
     "input": [
      "#create column for month\n",
      "def get_month(x):\n",
      "    return int(x.split(\"-\")[1])"
     ],
     "language": "python",
     "metadata": {},
     "outputs": [],
     "prompt_number": 9
    },
    {
     "cell_type": "code",
     "collapsed": false,
     "input": [
      "weather[\"month\"] = weather[\"date\"].apply(get_month)"
     ],
     "language": "python",
     "metadata": {},
     "outputs": [],
     "prompt_number": 10
    },
    {
     "cell_type": "code",
     "collapsed": false,
     "input": [
      "#create column for a day\n",
      "def get_day(x):\n",
      "    return int(x.split(\"-\")[2])"
     ],
     "language": "python",
     "metadata": {},
     "outputs": [],
     "prompt_number": 11
    },
    {
     "cell_type": "code",
     "collapsed": false,
     "input": [
      "weather[\"day\"] = weather[\"date\"].apply(get_day)"
     ],
     "language": "python",
     "metadata": {},
     "outputs": [],
     "prompt_number": 12
    },
    {
     "cell_type": "code",
     "collapsed": false,
     "input": [
      "#create column about length of the day in minutes\n",
      "import datetime"
     ],
     "language": "python",
     "metadata": {},
     "outputs": [],
     "prompt_number": 13
    },
    {
     "cell_type": "code",
     "collapsed": false,
     "input": [
      "def day_length(x):    \n",
      "    sunset = x[\"sunset\"]\n",
      "    sunrise = x[\"sunrise\"]    \n",
      "    \n",
      "    if np.isnan(sunset) or np.isnan(sunrise):        \n",
      "        return np.nan\n",
      "    else:\n",
      "        if (str(int(sunset))[-2:]) == '60':\n",
      "            sunset -= 1\n",
      "        if (str(int(sunrise))[-2:]) == '60':\n",
      "            sunrise -= 1               \n",
      "        b = datetime.datetime.strptime(str(int(sunset)), \"%H%M\")\n",
      "        a = datetime.datetime.strptime(str(int(sunrise)), \"%H%M\")                    \n",
      "        return (b - a).total_seconds() / 60"
     ],
     "language": "python",
     "metadata": {},
     "outputs": [],
     "prompt_number": 14
    },
    {
     "cell_type": "code",
     "collapsed": false,
     "input": [
      "weather[\"day_length\"] = weather.apply(day_length, axis=1)"
     ],
     "language": "python",
     "metadata": {},
     "outputs": [],
     "prompt_number": 15
    },
    {
     "cell_type": "code",
     "collapsed": false,
     "input": [
      "#drop sunset, sunrise\n",
      "weather = weather.drop([\"sunset\", \"sunrise\"], 1)"
     ],
     "language": "python",
     "metadata": {},
     "outputs": [],
     "prompt_number": 16
    },
    {
     "cell_type": "code",
     "collapsed": false,
     "input": [
      "#save to file\n",
      "weather.to_csv(os.path.join(\"data\", \"weather_modified.csv\"), index=False)"
     ],
     "language": "python",
     "metadata": {},
     "outputs": [],
     "prompt_number": 17
    },
    {
     "cell_type": "code",
     "collapsed": false,
     "input": [],
     "language": "python",
     "metadata": {},
     "outputs": []
    }
   ],
   "metadata": {}
  }
 ]
}