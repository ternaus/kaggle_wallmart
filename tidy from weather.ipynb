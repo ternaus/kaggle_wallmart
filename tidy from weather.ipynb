{
 "metadata": {
  "name": "",
  "signature": "sha256:1bc3bb3381bc4d73f6e77f47dcd65e13d724a4c98d0355cff00b05bfc10058c1"
 },
 "nbformat": 3,
 "nbformat_minor": 0,
 "worksheets": [
  {
   "cells": [
    {
     "cell_type": "code",
     "collapsed": false,
     "input": [
      "#import libraries\n",
      "import numpy as np\n",
      "import pandas as pd\n",
      "import os"
     ],
     "language": "python",
     "metadata": {},
     "outputs": [],
     "prompt_number": 4
    },
    {
     "cell_type": "code",
     "collapsed": false,
     "input": [
      "#read weather dataframe\n",
      "weather = pd.read_csv(os.path.join(\"data\", \"weather.csv\"), na_values=[\"M\", \"-\", \"*\"])"
     ],
     "language": "python",
     "metadata": {},
     "outputs": [],
     "prompt_number": 5
    },
    {
     "cell_type": "code",
     "collapsed": false,
     "input": [
      "for column in weather.columns:\n",
      "    if sum(weather[column].isnull()) > 0:\n",
      "        print column"
     ],
     "language": "python",
     "metadata": {},
     "outputs": [
      {
       "output_type": "stream",
       "stream": "stdout",
       "text": [
        "tmax\n",
        "tmin"
       ]
      },
      {
       "output_type": "stream",
       "stream": "stdout",
       "text": [
        "\n",
        "tavg"
       ]
      },
      {
       "output_type": "stream",
       "stream": "stdout",
       "text": [
        "\n",
        "depart"
       ]
      },
      {
       "output_type": "stream",
       "stream": "stdout",
       "text": [
        "\n",
        "dewpoint"
       ]
      },
      {
       "output_type": "stream",
       "stream": "stdout",
       "text": [
        "\n",
        "wetbulb"
       ]
      },
      {
       "output_type": "stream",
       "stream": "stdout",
       "text": [
        "\n",
        "heat"
       ]
      },
      {
       "output_type": "stream",
       "stream": "stdout",
       "text": [
        "\n",
        "cool"
       ]
      },
      {
       "output_type": "stream",
       "stream": "stdout",
       "text": [
        "\n",
        "sunrise"
       ]
      },
      {
       "output_type": "stream",
       "stream": "stdout",
       "text": [
        "\n",
        "sunset"
       ]
      },
      {
       "output_type": "stream",
       "stream": "stdout",
       "text": [
        "\n",
        "snowfall"
       ]
      },
      {
       "output_type": "stream",
       "stream": "stdout",
       "text": [
        "\n",
        "preciptotal"
       ]
      },
      {
       "output_type": "stream",
       "stream": "stdout",
       "text": [
        "\n",
        "stnpressure"
       ]
      },
      {
       "output_type": "stream",
       "stream": "stdout",
       "text": [
        "\n",
        "sealevel"
       ]
      },
      {
       "output_type": "stream",
       "stream": "stdout",
       "text": [
        "\n",
        "resultspeed"
       ]
      },
      {
       "output_type": "stream",
       "stream": "stdout",
       "text": [
        "\n",
        "resultdir"
       ]
      },
      {
       "output_type": "stream",
       "stream": "stdout",
       "text": [
        "\n",
        "avgspeed"
       ]
      },
      {
       "output_type": "stream",
       "stream": "stdout",
       "text": [
        "\n"
       ]
      }
     ],
     "prompt_number": 6
    },
    {
     "cell_type": "code",
     "collapsed": false,
     "input": [
      "#Fill T values for snowfall with 0.01, meaning something is falling down but not that much\n",
      "def change_snowfall(x):\n",
      "    if x == \"  T\":\n",
      "        return 0.01    \n",
      "    else:\n",
      "        return float(x)\n",
      "    \n",
      "weather[\"snowfall\"] = weather[\"snowfall\"].map(change_snowfall)"
     ],
     "language": "python",
     "metadata": {},
     "outputs": [],
     "prompt_number": 7
    },
    {
     "cell_type": "code",
     "collapsed": false,
     "input": [
      "def change_preciptotal(x):\n",
      "    if x == \"  T\":\n",
      "        return 0.001    \n",
      "    else:\n",
      "        return float(x)\n",
      "    \n",
      "weather[\"preciptotal\"] = weather[\"preciptotal\"].map(change_preciptotal)"
     ],
     "language": "python",
     "metadata": {},
     "outputs": [],
     "prompt_number": 8
    },
    {
     "cell_type": "code",
     "collapsed": false,
     "input": [
      "#separate codesum column into separate binary columns\n",
      "codesum_columns = set(' '.join(set(weather[\"codesum\"])).strip().split())\n",
      "codesum = pd.DataFrame(index=weather.index, columns=codesum_columns)"
     ],
     "language": "python",
     "metadata": {},
     "outputs": [],
     "prompt_number": 9
    },
    {
     "cell_type": "code",
     "collapsed": false,
     "input": [
      "for column in codesum.columns:\n",
      "    for i in range(len(weather.index)):\n",
      "        if column in weather[\"codesum\"][i]:\n",
      "            codesum[column][i] = 1"
     ],
     "language": "python",
     "metadata": {},
     "outputs": [],
     "prompt_number": 10
    },
    {
     "cell_type": "code",
     "collapsed": false,
     "input": [
      "#drop initial codesum column\n",
      "weather = weather.drop(\"codesum\", 1)"
     ],
     "language": "python",
     "metadata": {},
     "outputs": [],
     "prompt_number": 11
    },
    {
     "cell_type": "code",
     "collapsed": false,
     "input": [
      "weather = weather.join(codesum.fillna(0))"
     ],
     "language": "python",
     "metadata": {},
     "outputs": [],
     "prompt_number": 12
    },
    {
     "cell_type": "code",
     "collapsed": false,
     "input": [
      "weather.head()"
     ],
     "language": "python",
     "metadata": {},
     "outputs": [
      {
       "html": [
        "<div style=\"max-height:1000px;max-width:1500px;overflow:auto;\">\n",
        "<table border=\"1\" class=\"dataframe\">\n",
        "  <thead>\n",
        "    <tr style=\"text-align: right;\">\n",
        "      <th></th>\n",
        "      <th>station_nbr</th>\n",
        "      <th>date</th>\n",
        "      <th>tmax</th>\n",
        "      <th>tmin</th>\n",
        "      <th>tavg</th>\n",
        "      <th>depart</th>\n",
        "      <th>dewpoint</th>\n",
        "      <th>wetbulb</th>\n",
        "      <th>heat</th>\n",
        "      <th>cool</th>\n",
        "      <th>...</th>\n",
        "      <th>PRFG</th>\n",
        "      <th>FG+</th>\n",
        "      <th>TSRA</th>\n",
        "      <th>FZFG</th>\n",
        "      <th>BLDU</th>\n",
        "      <th>MIFG</th>\n",
        "      <th>SQ</th>\n",
        "      <th>BLSN</th>\n",
        "      <th>SN</th>\n",
        "      <th>SG</th>\n",
        "    </tr>\n",
        "  </thead>\n",
        "  <tbody>\n",
        "    <tr>\n",
        "      <th>0</th>\n",
        "      <td> 1</td>\n",
        "      <td> 2012-01-01</td>\n",
        "      <td> 52</td>\n",
        "      <td> 31</td>\n",
        "      <td> 42</td>\n",
        "      <td>NaN</td>\n",
        "      <td> 36</td>\n",
        "      <td> 40</td>\n",
        "      <td> 23</td>\n",
        "      <td> 0</td>\n",
        "      <td>...</td>\n",
        "      <td> 0</td>\n",
        "      <td> 0</td>\n",
        "      <td> 0</td>\n",
        "      <td> 1</td>\n",
        "      <td> 0</td>\n",
        "      <td> 0</td>\n",
        "      <td> 0</td>\n",
        "      <td> 0</td>\n",
        "      <td> 0</td>\n",
        "      <td> 0</td>\n",
        "    </tr>\n",
        "    <tr>\n",
        "      <th>1</th>\n",
        "      <td> 2</td>\n",
        "      <td> 2012-01-01</td>\n",
        "      <td> 48</td>\n",
        "      <td> 33</td>\n",
        "      <td> 41</td>\n",
        "      <td> 16</td>\n",
        "      <td> 37</td>\n",
        "      <td> 39</td>\n",
        "      <td> 24</td>\n",
        "      <td> 0</td>\n",
        "      <td>...</td>\n",
        "      <td> 0</td>\n",
        "      <td> 0</td>\n",
        "      <td> 0</td>\n",
        "      <td> 0</td>\n",
        "      <td> 0</td>\n",
        "      <td> 0</td>\n",
        "      <td> 0</td>\n",
        "      <td> 0</td>\n",
        "      <td> 0</td>\n",
        "      <td> 0</td>\n",
        "    </tr>\n",
        "    <tr>\n",
        "      <th>2</th>\n",
        "      <td> 3</td>\n",
        "      <td> 2012-01-01</td>\n",
        "      <td> 55</td>\n",
        "      <td> 34</td>\n",
        "      <td> 45</td>\n",
        "      <td>  9</td>\n",
        "      <td> 24</td>\n",
        "      <td> 36</td>\n",
        "      <td> 20</td>\n",
        "      <td> 0</td>\n",
        "      <td>...</td>\n",
        "      <td> 0</td>\n",
        "      <td> 0</td>\n",
        "      <td> 0</td>\n",
        "      <td> 0</td>\n",
        "      <td> 0</td>\n",
        "      <td> 0</td>\n",
        "      <td> 0</td>\n",
        "      <td> 0</td>\n",
        "      <td> 0</td>\n",
        "      <td> 0</td>\n",
        "    </tr>\n",
        "    <tr>\n",
        "      <th>3</th>\n",
        "      <td> 4</td>\n",
        "      <td> 2012-01-01</td>\n",
        "      <td> 63</td>\n",
        "      <td> 47</td>\n",
        "      <td> 55</td>\n",
        "      <td>  4</td>\n",
        "      <td> 28</td>\n",
        "      <td> 43</td>\n",
        "      <td> 10</td>\n",
        "      <td> 0</td>\n",
        "      <td>...</td>\n",
        "      <td> 0</td>\n",
        "      <td> 0</td>\n",
        "      <td> 0</td>\n",
        "      <td> 0</td>\n",
        "      <td> 0</td>\n",
        "      <td> 0</td>\n",
        "      <td> 0</td>\n",
        "      <td> 0</td>\n",
        "      <td> 0</td>\n",
        "      <td> 0</td>\n",
        "    </tr>\n",
        "    <tr>\n",
        "      <th>4</th>\n",
        "      <td> 6</td>\n",
        "      <td> 2012-01-01</td>\n",
        "      <td> 63</td>\n",
        "      <td> 34</td>\n",
        "      <td> 49</td>\n",
        "      <td>  0</td>\n",
        "      <td> 31</td>\n",
        "      <td> 43</td>\n",
        "      <td> 16</td>\n",
        "      <td> 0</td>\n",
        "      <td>...</td>\n",
        "      <td> 0</td>\n",
        "      <td> 0</td>\n",
        "      <td> 0</td>\n",
        "      <td> 0</td>\n",
        "      <td> 0</td>\n",
        "      <td> 0</td>\n",
        "      <td> 0</td>\n",
        "      <td> 0</td>\n",
        "      <td> 0</td>\n",
        "      <td> 0</td>\n",
        "    </tr>\n",
        "  </tbody>\n",
        "</table>\n",
        "<p>5 rows \u00d7 47 columns</p>\n",
        "</div>"
       ],
       "metadata": {},
       "output_type": "pyout",
       "prompt_number": 13,
       "text": [
        "   station_nbr        date  tmax  tmin  tavg  depart  dewpoint  wetbulb  heat  \\\n",
        "0            1  2012-01-01    52    31    42     NaN        36       40    23   \n",
        "1            2  2012-01-01    48    33    41      16        37       39    24   \n",
        "2            3  2012-01-01    55    34    45       9        24       36    20   \n",
        "3            4  2012-01-01    63    47    55       4        28       43    10   \n",
        "4            6  2012-01-01    63    34    49       0        31       43    16   \n",
        "\n",
        "   cool  ...   PRFG  FG+  TSRA  FZFG  BLDU  MIFG  SQ  BLSN  SN  SG  \n",
        "0     0  ...      0    0     0     1     0     0   0     0   0   0  \n",
        "1     0  ...      0    0     0     0     0     0   0     0   0   0  \n",
        "2     0  ...      0    0     0     0     0     0   0     0   0   0  \n",
        "3     0  ...      0    0     0     0     0     0   0     0   0   0  \n",
        "4     0  ...      0    0     0     0     0     0   0     0   0   0  \n",
        "\n",
        "[5 rows x 47 columns]"
       ]
      }
     ],
     "prompt_number": 13
    },
    {
     "cell_type": "code",
     "collapsed": false,
     "input": [
      "def diff_dates_2015(date_x):\n",
      "  date_format = \"%m/%d/%Y\"\n",
      "  x = datetime.strptime(date_x, date_format)\n",
      "  y = datetime.strptime('01/01/2015', date_format)\n",
      "  delta = y - x\n",
      "  return delta.days"
     ],
     "language": "python",
     "metadata": {},
     "outputs": []
    },
    {
     "cell_type": "code",
     "collapsed": false,
     "input": [
      "#create column for month\n",
      "def get_month(x):\n",
      "    return int(x.split(\"-\")[1])"
     ],
     "language": "python",
     "metadata": {},
     "outputs": [],
     "prompt_number": 14
    },
    {
     "cell_type": "code",
     "collapsed": false,
     "input": [
      "weather[\"month\"] = weather[\"date\"].apply(get_month)"
     ],
     "language": "python",
     "metadata": {},
     "outputs": [],
     "prompt_number": 15
    },
    {
     "cell_type": "code",
     "collapsed": false,
     "input": [
      "#create column for a day\n",
      "def get_day(x):\n",
      "    return int(x.split(\"-\")[2])"
     ],
     "language": "python",
     "metadata": {},
     "outputs": [],
     "prompt_number": 16
    },
    {
     "cell_type": "code",
     "collapsed": false,
     "input": [
      "weather[\"day\"] = weather[\"date\"].apply(get_day)"
     ],
     "language": "python",
     "metadata": {},
     "outputs": [],
     "prompt_number": 17
    },
    {
     "cell_type": "code",
     "collapsed": false,
     "input": [
      "#create column about length of the day in minutes\n",
      "import datetime"
     ],
     "language": "python",
     "metadata": {},
     "outputs": [],
     "prompt_number": 18
    },
    {
     "cell_type": "code",
     "collapsed": false,
     "input": [
      "def day_length(x):    \n",
      "    sunset = x[\"sunset\"]\n",
      "    sunrise = x[\"sunrise\"]    \n",
      "    \n",
      "    if np.isnan(sunset) or np.isnan(sunrise):        \n",
      "        return np.nan\n",
      "    else:\n",
      "        if (str(int(sunset))[-2:]) == '60':\n",
      "            sunset -= 1\n",
      "        if (str(int(sunrise))[-2:]) == '60':\n",
      "            sunrise -= 1               \n",
      "        b = datetime.datetime.strptime(str(int(sunset)), \"%H%M\")\n",
      "        a = datetime.datetime.strptime(str(int(sunrise)), \"%H%M\")                    \n",
      "        return (b - a).total_seconds() / 60"
     ],
     "language": "python",
     "metadata": {},
     "outputs": [],
     "prompt_number": 22
    },
    {
     "cell_type": "code",
     "collapsed": false,
     "input": [
      "weather[\"day_length\"] = weather.apply(day_length, axis=1)"
     ],
     "language": "python",
     "metadata": {},
     "outputs": [],
     "prompt_number": 23
    },
    {
     "cell_type": "code",
     "collapsed": false,
     "input": [
      "def get_hour(x):\n",
      "    if np.isnan(x):\n",
      "        return np.nan\n",
      "    else:\n",
      "        if (str(int(x))[-2:]) == '60':\n",
      "            x -= 1\n",
      "        \n",
      "        b = datetime.datetime.strptime(str(int(x)), \"%H%M\")        \n",
      "        return b.hour"
     ],
     "language": "python",
     "metadata": {},
     "outputs": [],
     "prompt_number": 24
    },
    {
     "cell_type": "code",
     "collapsed": false,
     "input": [
      "def get_minute(x):\n",
      "    if np.isnan(x):\n",
      "        return np.nan\n",
      "    else:\n",
      "        if (str(int(x))[-2:]) == '60':\n",
      "            x -= 1\n",
      "        \n",
      "        b = datetime.datetime.strptime(str(int(x)), \"%H%M\")        \n",
      "        return b.minute"
     ],
     "language": "python",
     "metadata": {},
     "outputs": [],
     "prompt_number": 25
    },
    {
     "cell_type": "code",
     "collapsed": false,
     "input": [
      "weather[\"sunset_hour\"] = weather[\"sunset\"].apply(get_hour)"
     ],
     "language": "python",
     "metadata": {},
     "outputs": [],
     "prompt_number": 26
    },
    {
     "cell_type": "code",
     "collapsed": false,
     "input": [
      "weather[\"sunset_minute\"] = weather[\"sunset\"].apply(get_minute)"
     ],
     "language": "python",
     "metadata": {},
     "outputs": [],
     "prompt_number": 27
    },
    {
     "cell_type": "code",
     "collapsed": false,
     "input": [
      "weather[\"sunrise_hour\"] = weather[\"sunrise\"].apply(get_hour)"
     ],
     "language": "python",
     "metadata": {},
     "outputs": [],
     "prompt_number": 28
    },
    {
     "cell_type": "code",
     "collapsed": false,
     "input": [
      "weather[\"sunrise_minute\"] = weather[\"sunrise\"].apply(get_minute)"
     ],
     "language": "python",
     "metadata": {},
     "outputs": [],
     "prompt_number": 29
    },
    {
     "cell_type": "code",
     "collapsed": false,
     "input": [
      "weather = weather.drop([\"sunset\", \"sunrise\"], 1)"
     ],
     "language": "python",
     "metadata": {},
     "outputs": [],
     "prompt_number": 30
    },
    {
     "cell_type": "code",
     "collapsed": false,
     "input": [
      "weather.info()"
     ],
     "language": "python",
     "metadata": {},
     "outputs": [
      {
       "output_type": "stream",
       "stream": "stdout",
       "text": [
        "<class 'pandas.core.frame.DataFrame'>\n",
        "Int64Index: 20517 entries, 0 to 20516\n",
        "Data columns (total 52 columns):\n",
        "station_nbr       20517 non-null int64\n",
        "date              20517 non-null object\n",
        "tmax              19611 non-null float64\n",
        "tmin              19609 non-null float64\n",
        "tavg              19048 non-null float64\n",
        "depart            9006 non-null float64\n",
        "dewpoint          19851 non-null float64\n",
        "wetbulb           19265 non-null float64\n",
        "heat              19048 non-null float64\n",
        "cool              19048 non-null float64\n",
        "snowfall          13293 non-null float64\n",
        "preciptotal       19657 non-null float64\n",
        "stnpressure       19588 non-null float64\n",
        "sealevel          18793 non-null float64\n",
        "resultspeed       19928 non-null float64\n",
        "resultdir         19928 non-null float64\n",
        "avgspeed          19642 non-null float64\n",
        "HZ                20517 non-null int64\n",
        "FU                20517 non-null int64\n",
        "UP                20517 non-null int64\n",
        "TSSN              20517 non-null int64\n",
        "VCTS              20517 non-null int64\n",
        "DZ                20517 non-null int64\n",
        "BR                20517 non-null int64\n",
        "FG                20517 non-null int64\n",
        "BCFG              20517 non-null int64\n",
        "DU                20517 non-null int64\n",
        "FZRA              20517 non-null int64\n",
        "TS                20517 non-null int64\n",
        "RA                20517 non-null int64\n",
        "PL                20517 non-null int64\n",
        "GS                20517 non-null int64\n",
        "GR                20517 non-null int64\n",
        "FZDZ              20517 non-null int64\n",
        "VCFG              20517 non-null int64\n",
        "PRFG              20517 non-null int64\n",
        "FG+               20517 non-null int64\n",
        "TSRA              20517 non-null int64\n",
        "FZFG              20517 non-null int64\n",
        "BLDU              20517 non-null int64\n",
        "MIFG              20517 non-null int64\n",
        "SQ                20517 non-null int64\n",
        "BLSN              20517 non-null int64\n",
        "SN                20517 non-null int64\n",
        "SG                20517 non-null int64\n",
        "month             20517 non-null int64\n",
        "day               20517 non-null int64\n",
        "day_length        10861 non-null float64\n",
        "sunset_hour       10861 non-null float64\n",
        "sunset_minute     10861 non-null float64\n",
        "sunrise_hour      10861 non-null float64\n",
        "sunrise_minute    10861 non-null float64\n",
        "dtypes: float64(20), int64(31), object(1)"
       ]
      }
     ],
     "prompt_number": 31
    },
    {
     "cell_type": "code",
     "collapsed": false,
     "input": [
      "#save to file\n",
      "weather.to_csv(os.path.join(\"data\", \"weather_modified_2.csv\"), index=False)"
     ],
     "language": "python",
     "metadata": {},
     "outputs": [],
     "prompt_number": 32
    },
    {
     "cell_type": "code",
     "collapsed": false,
     "input": [],
     "language": "python",
     "metadata": {},
     "outputs": []
    }
   ],
   "metadata": {}
  }
 ]
}